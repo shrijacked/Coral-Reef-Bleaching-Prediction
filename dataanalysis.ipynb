{
 "cells": [
  {
   "cell_type": "code",
   "execution_count": null,
   "metadata": {},
   "outputs": [],
   "source": [
    "import pandas as pd\n",
    "import glob"
   ]
  },
  {
   "cell_type": "code",
   "execution_count": null,
   "metadata": {},
   "outputs": [],
   "source": [
    "\n",
    "\n",
    "# Configuration (Modify these as needed)\n",
    "INPUT_FOLDER = 'mlprdata/*.txt'  # Path to your text files\n",
    "OUTPUT_EXCEL = 'combined_data.xlsx'       # Output Excel filename\n",
    "DELIMITER = ','                           # Delimiter used in your text files (e.g., ',', '\\t', ';')\n",
    "\n",
    "# List to hold data from all files\n",
    "all_data = []\n",
    "\n",
    "# Read each .txt file\n",
    "for file_path in glob.glob(INPUT_FOLDER):\n",
    "    file_name = file_path.split('/')[-1]  # Extract filename\n",
    "    # Read the file into a DataFrame (no headers assumed)\n",
    "    df = pd.read_csv(file_path, delimiter=DELIMITER, header=None)\n",
    "    # Add a column for the source file\n",
    "    df.insert(0, 'Source File', file_name)\n",
    "    all_data.append(df)\n",
    "\n",
    "# Combine all DataFrames\n",
    "combined_df = pd.concat(all_data, ignore_index=True)\n",
    "\n",
    "# Write to Excel\n",
    "with pd.ExcelWriter(OUTPUT_EXCEL) as writer:\n",
    "    combined_df.to_excel(writer, index=False, header=False)\n",
    "\n",
    "print(f\"All text files have been combined into {OUTPUT_EXCEL}!\")"
   ]
  },
  {
   "cell_type": "code",
   "execution_count": null,
   "metadata": {},
   "outputs": [],
   "source": []
  }
 ],
 "metadata": {
  "kernelspec": {
   "display_name": "base",
   "language": "python",
   "name": "python3"
  },
  "language_info": {
   "name": "python",
   "version": "3.11.4"
  }
 },
 "nbformat": 4,
 "nbformat_minor": 2
}
