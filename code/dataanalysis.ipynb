{
 "cells": [
  {
   "cell_type": "code",
   "execution_count": null,
   "metadata": {},
   "outputs": [],
   "source": [
    "import pandas as pd\n",
    "import glob"
   ]
  },
  {
   "cell_type": "code",
   "execution_count": null,
   "metadata": {},
   "outputs": [],
   "source": [
    "# Configuration\n",
    "INPUT_FOLDER = 'mlprdata/*.txt'  # Path to your text files\n",
    "OUTPUT_CSV = 'combined_data.csv'               # Output CSV filename\n",
    "\n",
    "all_data = []\n",
    "\n",
    "# Read each .txt file\n",
    "for file_path in glob.glob(INPUT_FOLDER):\n",
    "    file_name = file_path.split('/')[-1]  # Extract filename\n",
    "    # Read whitespace-delimited data with headers\n",
    "    df = pd.read_csv(file_path, delim_whitespace=True)\n",
    "    # Add source file column\n",
    "    df.insert(0, 'Source File', file_name)\n",
    "    all_data.append(df)\n",
    "\n",
    "# Combine all DataFrames\n",
    "combined_df = pd.concat(all_data, ignore_index=True)\n",
    "\n",
    "# Save to CSV\n",
    "combined_df.to_csv(OUTPUT_CSV, index=False)\n",
    "\n",
    "print(f\"All files combined into {OUTPUT_CSV}!\")"
   ]
  },
  {
   "cell_type": "code",
   "execution_count": null,
   "metadata": {},
   "outputs": [],
   "source": []
  }
 ],
 "metadata": {
  "kernelspec": {
   "display_name": "base",
   "language": "python",
   "name": "python3"
  },
  "language_info": {
   "name": "python",
   "version": "3.11.4"
  }
 },
 "nbformat": 4,
 "nbformat_minor": 2
}
