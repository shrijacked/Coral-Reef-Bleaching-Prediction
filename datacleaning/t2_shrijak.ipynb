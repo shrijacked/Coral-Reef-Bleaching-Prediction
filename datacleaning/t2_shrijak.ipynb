{
 "cells": [
  {
   "cell_type": "code",
   "execution_count": 2,
   "metadata": {},
   "outputs": [],
   "source": [
    "import pandas as pd\n",
    "import glob\n",
    "import os\n",
    "from sklearn.preprocessing import MultiLabelBinarizer"
   ]
  },
  {
   "cell_type": "code",
   "execution_count": 3,
   "metadata": {},
   "outputs": [
    {
     "name": "stdout",
     "output_type": "stream",
     "text": [
      "Success! Combined 4 files into:\n",
      "/Users/owlxshri/desktop/coral reef/mlpr-project/p1_shrijak/combined_coral_data.csv\n"
     ]
    }
   ],
   "source": [
    "# Configuration\n",
    "folder_path = '/Users/owlxshri/desktop/coral reef/mlpr-project/p1_shrijak'\n",
    "output_csv = os.path.join(folder_path, 'combined_coral_data.csv')  # Output in same folder\n",
    "\n",
    "# Get all .txt files in the directory\n",
    "txt_files = glob.glob(os.path.join(folder_path, '*.txt'))\n",
    "\n",
    "# List to hold all data\n",
    "all_data = []\n",
    "\n",
    "# Process each file\n",
    "for file_path in txt_files:\n",
    "    # Extract filename\n",
    "    file_name = os.path.basename(file_path)\n",
    "    \n",
    "    # Read the whitespace-delimited file\n",
    "    df = pd.read_csv(file_path, delim_whitespace=True)\n",
    "    \n",
    "    # Add source file column\n",
    "    df.insert(0, 'Source_File', file_name)\n",
    "    \n",
    "    all_data.append(df)\n",
    "\n",
    "# Combine all data\n",
    "combined_df = pd.concat(all_data, ignore_index=True)\n",
    "\n",
    "# Save to CSV\n",
    "combined_df.to_csv(output_csv, index=False)\n",
    "\n",
    "print(f\"Success! Combined {len(txt_files)} files into:\\n{output_csv}\")"
   ]
  },
  {
   "cell_type": "code",
   "execution_count": 4,
   "metadata": {},
   "outputs": [
    {
     "name": "stdout",
     "output_type": "stream",
     "text": [
      "One-hot encoded file saved to: /Users/owlxshri/desktop/coral reef/mlpr-project/statisticalinf/finaldata_onehot.csv\n"
     ]
    }
   ],
   "source": [
    "file_path = \"/Users/owlxshri/desktop/coral reef/mlpr-project/statisticalinf/finaldata.csv\"\n",
    "df = pd.read_csv(file_path)\n",
    "\n",
    "df['Genera'] = df['Genera'].apply(lambda x: x.split(', '))\n",
    "\n",
    "mlb = MultiLabelBinarizer()\n",
    "one_hot = pd.DataFrame(mlb.fit_transform(df['Genera']), columns=mlb.classes_)\n",
    "\n",
    "df = pd.concat([df.drop(columns=['Genera']), one_hot], axis=1)\n",
    "\n",
    "output_path = \"/Users/owlxshri/desktop/coral reef/mlpr-project/statisticalinf/finaldata_onehot.csv\"\n",
    "df.to_csv(output_path, index=False)\n",
    "\n",
    "print(f\"One-hot encoded file saved to: {output_path}\")\n"
   ]
  },
  {
   "cell_type": "code",
   "execution_count": null,
   "metadata": {},
   "outputs": [
    {
     "name": "stdout",
     "output_type": "stream",
     "text": [
      "One-hot encoded file (without pCO2) saved to: /Users/owlxshri/desktop/coral reef/mlpr-project/statisticalinf/finaldata_onehotafterdrop.csv\n"
     ]
    }
   ],
   "source": [
    "\n",
    "file_path = \"/Users/owlxshri/desktop/coral reef/mlpr-project/statisticalinf/finaldata.csv\"\n",
    "df = pd.read_csv(file_path)\n",
    "\n",
    "df['Genera'] = df['Genera'].apply(lambda x: x.split(', '))\n",
    "\n",
    "\n",
    "mlb = MultiLabelBinarizer()\n",
    "one_hot = pd.DataFrame(mlb.fit_transform(df['Genera']), columns=mlb.classes_)\n",
    "\n",
    "\n",
    "df = pd.concat([df.drop(columns=['Genera']), one_hot], axis=1)\n",
    "\n",
    "\n",
    "df.drop(columns=['pCO2'], inplace=True, errors='ignore')  \n",
    "\n",
    "\n",
    "output_path = \"/Users/owlxshri/desktop/coral reef/mlpr-project/statisticalinf/finaldata_onehotafterdrop.csv\"\n",
    "df.to_csv(output_path, index=False)\n",
    "\n",
    "print(f\"One-hot encoded file (without pCO2) saved to: {output_path}\")\n"
   ]
  },
  {
   "cell_type": "code",
   "execution_count": 5,
   "metadata": {},
   "outputs": [
    {
     "name": "stdout",
     "output_type": "stream",
     "text": [
      "Complete one-hot encoded file saved to: /Users/owlxshri/desktop/coral reef/mlpr-project/statisticalinf/finaldata_onehotafterdropreefname.csv\n"
     ]
    }
   ],
   "source": [
    "import pandas as pd\n",
    "from sklearn.preprocessing import MultiLabelBinarizer\n",
    "\n",
    "\n",
    "file_path = \"/Users/owlxshri/desktop/coral reef/mlpr-project/statisticalinf/finaldata_onehotafterdrop.csv\"\n",
    "df = pd.read_csv(file_path)\n",
    "\n",
    "reef_dummies = pd.get_dummies(df['Reef Name'], prefix='Reef')\n",
    "\n",
    "df = pd.concat([df.drop(columns=['Reef Name']), reef_dummies], axis=1)\n",
    "\n",
    "\n",
    "output_path = \"/Users/owlxshri/desktop/coral reef/mlpr-project/statisticalinf/finaldata_onehotafterdropreefname.csv\"\n",
    "df.to_csv(output_path, index=False)\n",
    "\n",
    "print(f\"Complete one-hot encoded file saved to: {output_path}\")"
   ]
  },
  {
   "cell_type": "code",
   "execution_count": null,
   "metadata": {},
   "outputs": [],
   "source": []
  }
 ],
 "metadata": {
  "kernelspec": {
   "display_name": "base",
   "language": "python",
   "name": "python3"
  },
  "language_info": {
   "codemirror_mode": {
    "name": "ipython",
    "version": 3
   },
   "file_extension": ".py",
   "mimetype": "text/x-python",
   "name": "python",
   "nbconvert_exporter": "python",
   "pygments_lexer": "ipython3",
   "version": "3.11.4"
  }
 },
 "nbformat": 4,
 "nbformat_minor": 2
}
