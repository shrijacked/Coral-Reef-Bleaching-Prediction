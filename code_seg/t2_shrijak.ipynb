{
 "cells": [
  {
   "cell_type": "code",
   "execution_count": 1,
   "metadata": {},
   "outputs": [],
   "source": [
    "import pandas as pd\n",
    "import glob\n",
    "import os"
   ]
  },
  {
   "cell_type": "code",
   "execution_count": 3,
   "metadata": {},
   "outputs": [
    {
     "name": "stdout",
     "output_type": "stream",
     "text": [
      "Success! Combined 4 files into:\n",
      "/Users/owlxshri/desktop/coral reef/mlpr-project/p1_shrijak/combined_coral_data.csv\n"
     ]
    }
   ],
   "source": [
    "# Configuration\n",
    "folder_path = '/Users/owlxshri/desktop/coral reef/mlpr-project/p1_shrijak'\n",
    "output_csv = os.path.join(folder_path, 'combined_coral_data.csv')  # Output in same folder\n",
    "\n",
    "# Get all .txt files in the directory\n",
    "txt_files = glob.glob(os.path.join(folder_path, '*.txt'))\n",
    "\n",
    "# List to hold all data\n",
    "all_data = []\n",
    "\n",
    "# Process each file\n",
    "for file_path in txt_files:\n",
    "    # Extract filename\n",
    "    file_name = os.path.basename(file_path)\n",
    "    \n",
    "    # Read the whitespace-delimited file\n",
    "    df = pd.read_csv(file_path, delim_whitespace=True)\n",
    "    \n",
    "    # Add source file column\n",
    "    df.insert(0, 'Source_File', file_name)\n",
    "    \n",
    "    all_data.append(df)\n",
    "\n",
    "# Combine all data\n",
    "combined_df = pd.concat(all_data, ignore_index=True)\n",
    "\n",
    "# Save to CSV\n",
    "combined_df.to_csv(output_csv, index=False)\n",
    "\n",
    "print(f\"Success! Combined {len(txt_files)} files into:\\n{output_csv}\")"
   ]
  },
  {
   "cell_type": "code",
   "execution_count": null,
   "metadata": {},
   "outputs": [],
   "source": []
  }
 ],
 "metadata": {
  "kernelspec": {
   "display_name": "base",
   "language": "python",
   "name": "python3"
  },
  "language_info": {
   "codemirror_mode": {
    "name": "ipython",
    "version": 3
   },
   "file_extension": ".py",
   "mimetype": "text/x-python",
   "name": "python",
   "nbconvert_exporter": "python",
   "pygments_lexer": "ipython3",
   "version": "3.11.4"
  }
 },
 "nbformat": 4,
 "nbformat_minor": 2
}
