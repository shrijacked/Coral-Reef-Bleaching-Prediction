{
 "cells": [
  {
   "cell_type": "code",
   "execution_count": null,
   "metadata": {},
   "outputs": [
    {
     "name": "stdout",
     "output_type": "stream",
     "text": [
      "saved\n"
     ]
    }
   ],
   "source": [
    "import requests\n",
    "from datetime import datetime, timedelta\n",
    "import pandas as pd\n",
    "\n",
    "url = \"https://sealevel.jpl.nasa.gov/api/v1/chartable_values/?category=254&per_page=-1&order=x+asc\"\n",
    "response = requests.get(url)\n",
    "data = response.json()\n",
    "\n",
    "def ytod(decimal_year):\n",
    "    year = int(float(decimal_year))\n",
    "    rem = float(decimal_year) - year\n",
    "    base = datetime(year, 1, 1)\n",
    "    days_in_year = 366 if (datetime(year + 1, 1, 1) - base).days == 366 else 365\n",
    "    result = base + timedelta(days=rem * days_in_year)\n",
    "    return result.strftime('%d'), result.strftime('%B'), result.strftime('%Y')  \n",
    "\n",
    "df_raw = pd.DataFrame([{\"Decimal Year\": item[\"x\"], \"Value\": item[\"y\"]} for item in data[\"items\"]])\n",
    "\n",
    "processed_records = []\n",
    "for item in data[\"items\"]:\n",
    "    day, month, year = ytod(item[\"x\"])\n",
    "    processed_records.append({\"Day\": day, \"Month\": month, \"Year\": year, \"Value\": item[\"y\"]})\n",
    "\n",
    "df_processed = pd.DataFrame(processed_records)\n",
    "\n",
    "df_raw.to_csv(\"iod_raw.csv\", index=False)\n",
    "df_processed.to_csv(\"iod_conv.csv\", index=False)\n",
    "\n",
    "print(\"saved\")\n"
   ]
  },
  {
   "cell_type": "code",
   "execution_count": null,
   "metadata": {},
   "outputs": [
    {
     "name": "stdout",
     "output_type": "stream",
     "text": [
      "saved\n"
     ]
    }
   ],
   "source": [
    "import requests\n",
    "from datetime import datetime, timedelta\n",
    "import pandas as pd\n",
    "\n",
    "url = \"https://sealevel.jpl.nasa.gov/api/v1/chartable_values/?category=252&per_page=-1&order=x+asc\"\n",
    "response = requests.get(url)\n",
    "data = response.json()\n",
    "\n",
    "def ytod(decimal_year):\n",
    "    year = int(float(decimal_year))\n",
    "    rem = float(decimal_year) - year\n",
    "    base = datetime(year, 1, 1)\n",
    "    days_in_year = 366 if (datetime(year + 1, 1, 1) - base).days == 366 else 365\n",
    "    result = base + timedelta(days=rem * days_in_year)\n",
    "    return result.strftime('%d'), result.strftime('%B'), result.strftime('%Y') \n",
    "\n",
    "df_raw = pd.DataFrame([{\"Decimal Year\": item[\"x\"], \"Value\": item[\"y\"]} for item in data[\"items\"]])\n",
    "\n",
    "processed_records = []\n",
    "for item in data[\"items\"]:\n",
    "    day, month, year = ytod(item[\"x\"])\n",
    "    processed_records.append({\"Day\": day, \"Month\": month, \"Year\": year, \"Value\": item[\"y\"]})\n",
    "\n",
    "df_processed = pd.DataFrame(processed_records)\n",
    "\n",
    "df_raw.to_csv(\"enso_raw.csv\", index=False)\n",
    "df_processed.to_csv(\"enso_conv.csv\", index=False)\n",
    "\n",
    "print(\"saved\")\n"
   ]
  }
 ],
 "metadata": {
  "kernelspec": {
   "display_name": ".venv",
   "language": "python",
   "name": "python3"
  },
  "language_info": {
   "codemirror_mode": {
    "name": "ipython",
    "version": 3
   },
   "file_extension": ".py",
   "mimetype": "text/x-python",
   "name": "python",
   "nbconvert_exporter": "python",
   "pygments_lexer": "ipython3",
   "version": "3.13.0"
  }
 },
 "nbformat": 4,
 "nbformat_minor": 2
}
