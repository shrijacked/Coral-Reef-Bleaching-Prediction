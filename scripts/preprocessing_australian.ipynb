{
 "cells": [
  {
   "cell_type": "code",
   "execution_count": 1,
   "metadata": {},
   "outputs": [
    {
     "name": "stderr",
     "output_type": "stream",
     "text": [
      "/var/folders/rh/12qqnf0d5871pn0c7924tqwc0000gn/T/ipykernel_96025/3085817251.py:28: FutureWarning: The 'delim_whitespace' keyword in pd.read_csv is deprecated and will be removed in a future version. Use ``sep='\\s+'`` instead\n",
      "  df = pd.read_csv(\n",
      "/var/folders/rh/12qqnf0d5871pn0c7924tqwc0000gn/T/ipykernel_96025/3085817251.py:28: FutureWarning: The 'delim_whitespace' keyword in pd.read_csv is deprecated and will be removed in a future version. Use ``sep='\\s+'`` instead\n",
      "  df = pd.read_csv(\n",
      "/var/folders/rh/12qqnf0d5871pn0c7924tqwc0000gn/T/ipykernel_96025/3085817251.py:28: FutureWarning: The 'delim_whitespace' keyword in pd.read_csv is deprecated and will be removed in a future version. Use ``sep='\\s+'`` instead\n",
      "  df = pd.read_csv(\n"
     ]
    },
    {
     "name": "stdout",
     "output_type": "stream",
     "text": [
      "Cleaned data saved to north_western_aus.csv\n",
      "Cleaned data saved to christmas_island.csv\n",
      "Cleaned data saved to pulu_keeling.csv\n"
     ]
    },
    {
     "name": "stderr",
     "output_type": "stream",
     "text": [
      "/var/folders/rh/12qqnf0d5871pn0c7924tqwc0000gn/T/ipykernel_96025/3085817251.py:28: FutureWarning: The 'delim_whitespace' keyword in pd.read_csv is deprecated and will be removed in a future version. Use ``sep='\\s+'`` instead\n",
      "  df = pd.read_csv(\n",
      "/var/folders/rh/12qqnf0d5871pn0c7924tqwc0000gn/T/ipykernel_96025/3085817251.py:28: FutureWarning: The 'delim_whitespace' keyword in pd.read_csv is deprecated and will be removed in a future version. Use ``sep='\\s+'`` instead\n",
      "  df = pd.read_csv(\n"
     ]
    },
    {
     "name": "stdout",
     "output_type": "stream",
     "text": [
      "Cleaned data saved to houtman_abrolhos.csv\n",
      "Cleaned data saved to rowley_shoals.csv\n",
      "Cleaned data saved to ningaloo.csv\n",
      "Cleaned data saved to scott_ashmore.csv\n"
     ]
    },
    {
     "name": "stderr",
     "output_type": "stream",
     "text": [
      "/var/folders/rh/12qqnf0d5871pn0c7924tqwc0000gn/T/ipykernel_96025/3085817251.py:28: FutureWarning: The 'delim_whitespace' keyword in pd.read_csv is deprecated and will be removed in a future version. Use ``sep='\\s+'`` instead\n",
      "  df = pd.read_csv(\n",
      "/var/folders/rh/12qqnf0d5871pn0c7924tqwc0000gn/T/ipykernel_96025/3085817251.py:28: FutureWarning: The 'delim_whitespace' keyword in pd.read_csv is deprecated and will be removed in a future version. Use ``sep='\\s+'`` instead\n",
      "  df = pd.read_csv(\n"
     ]
    }
   ],
   "source": [
    "import os\n",
    "import pandas as pd\n",
    "\n",
    "\n",
    "header_line = \"YYYY MM DD SST_MIN SST_MAX SST@90th_HS SSTA@90th_HS 90th_HS>0 DHW_from_90th_HS>1 BAA_7day_max\"\n",
    "\n",
    "# Process all .txt files in the current directory\n",
    "for filename in os.listdir('.'):\n",
    "    if filename.endswith('.txt'):\n",
    "        input_file = filename\n",
    "        output_file = filename.rsplit('.', 1)[0] + '.csv'\n",
    "        \n",
    "        # Read all lines to find the header\n",
    "        with open(input_file, 'r') as f:\n",
    "            lines = f.readlines()\n",
    "        \n",
    "        header_idx = None\n",
    "        for i, line in enumerate(lines):\n",
    "            if line.strip() == header_line:\n",
    "                header_idx = i\n",
    "                break\n",
    "        \n",
    "        if header_idx is None:\n",
    "            print(f\"Header row not found in {input_file}. Skipping.\")\n",
    "            continue\n",
    "        \n",
    "        # Read the data into a DataFrame, skipping lines before the header\n",
    "        df = pd.read_csv(\n",
    "            input_file,\n",
    "            delim_whitespace=True,\n",
    "            skiprows=header_idx,\n",
    "            engine='python'\n",
    "        )\n",
    "        \n",
    "        # Save to CSV\n",
    "        df.to_csv(output_file, index=False)\n",
    "        print(f\"Cleaned data saved to {output_file}\")"
   ]
  },
  {
   "cell_type": "code",
   "execution_count": 2,
   "metadata": {},
   "outputs": [
    {
     "name": "stdout",
     "output_type": "stream",
     "text": [
      "Moved rowley_shoals.csv to cleaned/\n",
      "Moved ningaloo.csv to cleaned/\n",
      "Moved scott_ashmore.csv to cleaned/\n",
      "Moved north_western_aus.csv to cleaned/\n",
      "Moved pulu_keeling.csv to cleaned/\n",
      "Moved christmas_island.csv to cleaned/\n",
      "Moved houtman_abrolhos.csv to cleaned/\n",
      "All CSV files have been moved to the 'cleaned' folder.\n"
     ]
    }
   ],
   "source": [
    "import os\n",
    "import shutil\n",
    "\n",
    "target_folder = 'cleaned'\n",
    "\n",
    "os.makedirs(target_folder, exist_ok=True)\n",
    "\n",
    "for filename in os.listdir('.'):\n",
    "    if filename.endswith('.csv'):\n",
    "        shutil.move(filename, os.path.join(target_folder, filename))\n",
    "        print(f\"Moved {filename} to {target_folder}/\")\n",
    "\n",
    "print(\"All CSV files have been moved to the 'cleaned' folder.\")"
   ]
  },
  {
   "cell_type": "code",
   "execution_count": null,
   "metadata": {},
   "outputs": [],
   "source": []
  }
 ],
 "metadata": {
  "kernelspec": {
   "display_name": "venv",
   "language": "python",
   "name": "python3"
  },
  "language_info": {
   "codemirror_mode": {
    "name": "ipython",
    "version": 3
   },
   "file_extension": ".py",
   "mimetype": "text/x-python",
   "name": "python",
   "nbconvert_exporter": "python",
   "pygments_lexer": "ipython3",
   "version": "3.13.2"
  }
 },
 "nbformat": 4,
 "nbformat_minor": 2
}
