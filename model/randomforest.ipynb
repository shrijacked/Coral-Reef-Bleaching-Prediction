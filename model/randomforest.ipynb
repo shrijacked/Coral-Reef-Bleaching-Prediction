{
  "cells": [
    {
      "cell_type": "code",
      "execution_count": 2,
      "metadata": {
        "colab": {
          "base_uri": "https://localhost:8080/"
        },
        "id": "IMn7TuUH6DVO",
        "outputId": "fbf1fdf7-187c-47ae-fff7-b50420de1a7e"
      },
      "outputs": [
        {
          "name": "stdout",
          "output_type": "stream",
          "text": [
            "Fitting 5 folds for each of 20 candidates, totalling 100 fits\n",
            "Fitting 5 folds for each of 20 candidates, totalling 100 fits\n"
          ]
        },
        {
          "name": "stderr",
          "output_type": "stream",
          "text": [
            "/usr/local/lib/python3.11/dist-packages/xgboost/core.py:158: UserWarning: [18:32:33] WARNING: /workspace/src/learner.cc:740: \n",
            "Parameters: { \"use_label_encoder\" } are not used.\n",
            "\n",
            "  warnings.warn(smsg, UserWarning)\n"
          ]
        },
        {
          "name": "stdout",
          "output_type": "stream",
          "text": [
            "\n",
            "RandomForest Test Report:\n",
            "              precision    recall  f1-score   support\n",
            "\n",
            "         0.0      0.973     0.956     0.965       229\n",
            "         1.0      0.333     0.455     0.385        11\n",
            "\n",
            "    accuracy                          0.933       240\n",
            "   macro avg      0.653     0.705     0.675       240\n",
            "weighted avg      0.944     0.933     0.938       240\n",
            "\n",
            "\n",
            "XGBoost Test Report:\n",
            "              precision    recall  f1-score   support\n",
            "\n",
            "         0.0      0.978     0.991     0.985       229\n",
            "         1.0      0.750     0.545     0.632        11\n",
            "\n",
            "    accuracy                          0.971       240\n",
            "   macro avg      0.864     0.768     0.808       240\n",
            "weighted avg      0.968     0.971     0.969       240\n",
            "\n"
          ]
        }
      ],
      "source": [
        "import pandas as pd\n",
        "from sklearn.model_selection import train_test_split, RandomizedSearchCV\n",
        "from sklearn.pipeline import Pipeline\n",
        "from sklearn.impute import SimpleImputer\n",
        "from sklearn.ensemble import RandomForestClassifier\n",
        "import xgboost as xgb\n",
        "from sklearn.metrics import classification_report, make_scorer, f1_score\n",
        "import numpy as np\n",
        "\n",
        "# 1. Load DS A\n",
        "df = pd.read_csv('fd.csv')\n",
        "\n",
        "# 2. Define features and target\n",
        "X = df.drop(columns=['Bleaching'])\n",
        "y = df['Bleaching']\n",
        "\n",
        "# 3. Train/test split\n",
        "X_train, X_test, y_train, y_test = train_test_split(\n",
        "    X, y, test_size=0.2, stratify=y, random_state=42\n",
        ")\n",
        "\n",
        "# 4. Compute scale_pos_weight for XGBoost\n",
        "pos = (y_train == 1).sum()\n",
        "neg = (y_train == 0).sum()\n",
        "scale_pos_weight = neg / pos\n",
        "\n",
        "# 5. Common preprocessing: impute missing values\n",
        "imputer = SimpleImputer(strategy='median')\n",
        "\n",
        "# 6. Random Forest pipeline & hyperparameter tuning\n",
        "rf_pipe = Pipeline([\n",
        "    ('impute', imputer),\n",
        "    ('clf', RandomForestClassifier(\n",
        "        class_weight='balanced', random_state=42, n_jobs=-1\n",
        "    ))\n",
        "])\n",
        "rf_param = {\n",
        "    'clf__n_estimators': [100, 200, 500],\n",
        "    'clf__max_depth': [None, 10, 20, 30],\n",
        "    'clf__min_samples_split': [2, 5, 10],\n",
        "    'clf__min_samples_leaf': [1, 2, 4],\n",
        "    'clf__max_features': ['sqrt', 'log2']\n",
        "}\n",
        "rf_search = RandomizedSearchCV(\n",
        "    rf_pipe, rf_param,\n",
        "    n_iter=20, cv=5,\n",
        "    scoring=make_scorer(f1_score, pos_label=1),\n",
        "    refit=True,\n",
        "    random_state=42, n_jobs=-1, verbose=1\n",
        ")\n",
        "rf_search.fit(X_train, y_train)\n",
        "best_rf = rf_search.best_estimator_\n",
        "\n",
        "# 7. XGBoost pipeline & hyperparameter tuning\n",
        "xgb_pipe = Pipeline([\n",
        "    ('impute', imputer),\n",
        "    ('clf', xgb.XGBClassifier(\n",
        "        use_label_encoder=False,\n",
        "        eval_metric='logloss',\n",
        "        random_state=42,\n",
        "        scale_pos_weight=scale_pos_weight,\n",
        "        n_jobs=-1\n",
        "    ))\n",
        "])\n",
        "xgb_param = {\n",
        "    'clf__n_estimators': [100, 200, 500],\n",
        "    'clf__max_depth': [3, 6, 9],\n",
        "    'clf__learning_rate': [0.01, 0.1, 0.2],\n",
        "    'clf__subsample': [0.6, 0.8, 1.0],\n",
        "    'clf__colsample_bytree': [0.6, 0.8, 1.0]\n",
        "}\n",
        "xgb_search = RandomizedSearchCV(\n",
        "    xgb_pipe, xgb_param,\n",
        "    n_iter=20, cv=5,\n",
        "    scoring=make_scorer(f1_score, pos_label=1),\n",
        "    refit=True,\n",
        "    random_state=42, n_jobs=-1, verbose=1\n",
        ")\n",
        "xgb_search.fit(X_train, y_train)\n",
        "best_xgb = xgb_search.best_estimator_\n",
        "\n",
        "# 8. Evaluate on test set\n",
        "for name, model in [('RandomForest', best_rf), ('XGBoost', best_xgb)]:\n",
        "    y_pred = model.predict(X_test)\n",
        "    print(f\"\\n{name} Test Report:\")\n",
        "    print(classification_report(y_test, y_pred, digits=3))\n"
      ]
    },
    {
      "cell_type": "code",
      "execution_count": 3,
      "metadata": {
        "colab": {
          "base_uri": "https://localhost:8080/",
          "height": 927
        },
        "id": "ZZ3tjRz57izp",
        "outputId": "f23411ad-445e-4cc8-eccb-87def91956fe"
      },
      "outputs": [
        {
          "data": {
            "image/png": "[encoded data removed]",
            "text/plain": [
              "<Figure size 640x480 with 1 Axes>"
            ]
          },
          "metadata": {},
          "output_type": "display_data"
        },
        {
          "data": {
            "image/png": "[encoded data removed]",
            "text/plain": [
              "<Figure size 640x480 with 1 Axes>"
            ]
          },
          "metadata": {},
          "output_type": "display_data"
        }
      ],
      "source": [
        "import matplotlib.pyplot as plt\n",
        "from sklearn.metrics import (\n",
        "    roc_curve, auc,\n",
        "    precision_recall_curve, average_precision_score\n",
        ")\n",
        "\n",
        "# 1. Get positive‐class probabilities\n",
        "rf_probs  = best_rf.predict_proba(X_test)[:, 1]\n",
        "xgb_probs = best_xgb.predict_proba(X_test)[:, 1]\n",
        "\n",
        "# --- ROC Curve ---\n",
        "rf_fpr, rf_tpr, _   = roc_curve(y_test, rf_probs)\n",
        "xgb_fpr, xgb_tpr, _ = roc_curve(y_test, xgb_probs)\n",
        "rf_auc  = auc(rf_fpr, rf_tpr)\n",
        "xgb_auc = auc(xgb_fpr, xgb_tpr)\n",
        "\n",
        "plt.figure()\n",
        "plt.plot(rf_fpr, rf_tpr, label=f'RandomForest (AUC={rf_auc:.3f})')\n",
        "plt.plot(xgb_fpr, xgb_tpr, label=f'XGBoost (AUC={xgb_auc:.3f})')\n",
        "plt.plot([0,1],[0,1], '--')\n",
        "plt.xlabel('False Positive Rate')\n",
        "plt.ylabel('True Positive Rate')\n",
        "plt.title('ROC Curve')\n",
        "plt.legend()\n",
        "plt.show()\n",
        "\n",
        "# --- Precision–Recall Curve ---\n",
        "rf_prec, rf_rec, _   = precision_recall_curve(y_test, rf_probs)\n",
        "xgb_prec, xgb_rec, _ = precision_recall_curve(y_test, xgb_probs)\n",
        "rf_ap  = average_precision_score(y_test, rf_probs)\n",
        "xgb_ap = average_precision_score(y_test, xgb_probs)\n",
        "\n",
        "plt.figure()\n",
        "plt.plot(rf_rec, rf_prec, label=f'RandomForest (AP={rf_ap:.3f})')\n",
        "plt.plot(xgb_rec, xgb_prec, label=f'XGBoost (AP={xgb_ap:.3f})')\n",
        "plt.xlabel('Recall')\n",
        "plt.ylabel('Precision')\n",
        "plt.title('Precision–Recall Curve')\n",
        "plt.legend()\n",
        "plt.show()\n"
      ]
    },
    {
      "cell_type": "code",
      "execution_count": 6,
      "metadata": {
        "colab": {
          "base_uri": "https://localhost:8080/",
          "height": 1000,
          "referenced_widgets": [
            "3d45189cf62f45dfbd699bd3815d86b6",
            "48621263c88b419aa08e7e40baf0cd8e",
            "0b68303c6dbb4d5e85e0d3faea3f234e",
            "a463a1fbc84240d798197d3c449bca76",
            "8a0e156a6ed741dfbfff17126b82d5c3",
            "6c437d06d53c4df888f420d43011a73c",
            "4f3aebd6a6bc4959914c90d0b72ea9fc",
            "137bb34522674eaa8525c561486fa723",
            "ab1a25c65c1d48538145cbbd95aace8d",
            "6491749ae7d843798885c8ed20983f44",
            "8d1bc83e5d6e45deadd07bc1d8d2981d",
            "6bd874a458854e7fa99bdee769c5d337",
            "d2523d4d1cb54e4da5aacf61c9b4151f",
            "bc0ae4e0d3d84facb8327bd66885cef5",
            "fe394afe16634ecf9b9053bf77c92cc3",
            "51966d4d795f47ec8e973860a9bc8a1f",
            "bb6ac0d23d3845688d7699fef27e51d7",
            "dd22312ca68c4cee8e46c35c55608ca7",
            "7ef6d1b892b547aab7eab77008e334f1",
            "e861837fd8f9433086f183ed6c511233",
            "6500bf17d8614cb49960e55a76022dea",
            "ccbd9b50c8994c51b69e8b1d086b7d0b"
          ]
        },
        "id": "9SXBsJVFBlx5",
        "outputId": "5ecfc341-222e-4b6a-81a2-7681d6b14fa8"
      },
      "outputs": [
        {
          "name": "stderr",
          "output_type": "stream",
          "text": [
            "[I 2025-05-13 19:02:25,375] A new study created in memory with name: no-name-0e5c3563-2782-4006-9ad2-bfd7ce94ba7b\n"
          ]
        },
        {
          "data": {
            "application/vnd.jupyter.widget-view+json": {
              "model_id": "3d45189cf62f45dfbd699bd3815d86b6",
              "version_major": 2,
              "version_minor": 0
            },
            "text/plain": [
              "  0%|          | 0/50 [00:00<?, ?it/s]"
            ]
          },
          "metadata": {},
          "output_type": "display_data"
        },
        {
          "name": "stdout",
          "output_type": "stream",
          "text": [
            "[I 2025-05-13 19:02:46,919] Trial 0 finished with value: 0.5294314381270903 and parameters: {'n_estimators': 885, 'max_depth': 12, 'min_samples_split': 14, 'min_samples_leaf': 8, 'max_features': 'log2'}. Best is trial 0 with value: 0.5294314381270903.\n",
            "[I 2025-05-13 19:02:50,487] Trial 1 finished with value: 0.5511705685618729 and parameters: {'n_estimators': 349, 'max_depth': 40, 'min_samples_split': 20, 'min_samples_leaf': 7, 'max_features': 'sqrt'}. Best is trial 1 with value: 0.5511705685618729.\n",
            "[I 2025-05-13 19:02:54,939] Trial 2 finished with value: 0.5257254901960785 and parameters: {'n_estimators': 461, 'max_depth': 36, 'min_samples_split': 11, 'min_samples_leaf': 9, 'max_features': 'log2'}. Best is trial 1 with value: 0.5511705685618729.\n",
            "[I 2025-05-13 19:03:02,463] Trial 3 finished with value: 0.5569218500797447 and parameters: {'n_estimators': 760, 'max_depth': 7, 'min_samples_split': 19, 'min_samples_leaf': 1, 'max_features': 'sqrt'}. Best is trial 3 with value: 0.5569218500797447.\n",
            "[I 2025-05-13 19:03:11,840] Trial 4 finished with value: 0.5599999999999999 and parameters: {'n_estimators': 919, 'max_depth': 30, 'min_samples_split': 8, 'min_samples_leaf': 6, 'max_features': 'log2'}. Best is trial 4 with value: 0.5599999999999999.\n",
            "[I 2025-05-13 19:03:15,943] Trial 5 finished with value: 0.5472727272727272 and parameters: {'n_estimators': 425, 'max_depth': 47, 'min_samples_split': 9, 'min_samples_leaf': 7, 'max_features': 'log2'}. Best is trial 4 with value: 0.5599999999999999.\n",
            "[I 2025-05-13 19:03:22,922] Trial 6 finished with value: 0.5432223840232994 and parameters: {'n_estimators': 715, 'max_depth': 47, 'min_samples_split': 13, 'min_samples_leaf': 9, 'max_features': 'sqrt'}. Best is trial 4 with value: 0.5599999999999999.\n",
            "[I 2025-05-13 19:03:29,562] Trial 7 finished with value: 0.5471861471861471 and parameters: {'n_estimators': 691, 'max_depth': 35, 'min_samples_split': 2, 'min_samples_leaf': 5, 'max_features': 'sqrt'}. Best is trial 4 with value: 0.5599999999999999.\n",
            "[I 2025-05-13 19:03:31,876] Trial 8 finished with value: 0.5796969696969697 and parameters: {'n_estimators': 227, 'max_depth': 34, 'min_samples_split': 11, 'min_samples_leaf': 1, 'max_features': 'sqrt'}. Best is trial 8 with value: 0.5796969696969697.\n",
            "[I 2025-05-13 19:03:36,779] Trial 9 finished with value: 0.5409982174688057 and parameters: {'n_estimators': 482, 'max_depth': 46, 'min_samples_split': 9, 'min_samples_leaf': 7, 'max_features': 'log2'}. Best is trial 8 with value: 0.5796969696969697.\n",
            "[I 2025-05-13 19:03:38,031] Trial 10 finished with value: 0.5316666666666666 and parameters: {'n_estimators': 113, 'max_depth': 20, 'min_samples_split': 4, 'min_samples_leaf': 1, 'max_features': 'sqrt'}. Best is trial 8 with value: 0.5796969696969697.\n",
            "[I 2025-05-13 19:03:48,162] Trial 11 finished with value: 0.6011499336576736 and parameters: {'n_estimators': 990, 'max_depth': 27, 'min_samples_split': 6, 'min_samples_leaf': 4, 'max_features': 'log2'}. Best is trial 11 with value: 0.6011499336576736.\n",
            "[I 2025-05-13 19:03:50,451] Trial 12 finished with value: 0.5752115583075336 and parameters: {'n_estimators': 213, 'max_depth': 23, 'min_samples_split': 5, 'min_samples_leaf': 3, 'max_features': 'log2'}. Best is trial 11 with value: 0.6011499336576736.\n",
            "[I 2025-05-13 19:04:00,751] Trial 13 finished with value: 0.5684057971014493 and parameters: {'n_estimators': 998, 'max_depth': 27, 'min_samples_split': 16, 'min_samples_leaf': 3, 'max_features': 'sqrt'}. Best is trial 11 with value: 0.6011499336576736.\n",
            "[I 2025-05-13 19:04:03,511] Trial 14 finished with value: 0.5590350877192982 and parameters: {'n_estimators': 280, 'max_depth': 19, 'min_samples_split': 6, 'min_samples_leaf': 3, 'max_features': 'sqrt'}. Best is trial 11 with value: 0.6011499336576736.\n",
            "[I 2025-05-13 19:04:10,067] Trial 15 finished with value: 0.5855486542443064 and parameters: {'n_estimators': 628, 'max_depth': 30, 'min_samples_split': 12, 'min_samples_leaf': 4, 'max_features': 'log2'}. Best is trial 11 with value: 0.6011499336576736.\n",
            "[I 2025-05-13 19:04:15,908] Trial 16 finished with value: 0.5470667776159768 and parameters: {'n_estimators': 601, 'max_depth': 26, 'min_samples_split': 16, 'min_samples_leaf': 4, 'max_features': 'log2'}. Best is trial 11 with value: 0.6011499336576736.\n",
            "[I 2025-05-13 19:04:24,592] Trial 17 finished with value: 0.5869355206197311 and parameters: {'n_estimators': 836, 'max_depth': 15, 'min_samples_split': 7, 'min_samples_leaf': 5, 'max_features': 'log2'}. Best is trial 11 with value: 0.6011499336576736.\n",
            "[I 2025-05-13 19:04:33,427] Trial 18 finished with value: 0.5869355206197311 and parameters: {'n_estimators': 828, 'max_depth': 14, 'min_samples_split': 6, 'min_samples_leaf': 5, 'max_features': 'log2'}. Best is trial 11 with value: 0.6011499336576736.\n",
            "[I 2025-05-13 19:04:43,084] Trial 19 finished with value: 0.509037037037037 and parameters: {'n_estimators': 970, 'max_depth': 5, 'min_samples_split': 2, 'min_samples_leaf': 10, 'max_features': 'log2'}. Best is trial 11 with value: 0.6011499336576736.\n",
            "[I 2025-05-13 19:04:50,950] Trial 20 finished with value: 0.5590118577075098 and parameters: {'n_estimators': 823, 'max_depth': 16, 'min_samples_split': 8, 'min_samples_leaf': 6, 'max_features': 'log2'}. Best is trial 11 with value: 0.6011499336576736.\n",
            "[I 2025-05-13 19:04:58,953] Trial 21 finished with value: 0.5869355206197311 and parameters: {'n_estimators': 823, 'max_depth': 11, 'min_samples_split': 6, 'min_samples_leaf': 5, 'max_features': 'log2'}. Best is trial 11 with value: 0.6011499336576736.\n",
            "[I 2025-05-13 19:05:07,411] Trial 22 finished with value: 0.6011499336576736 and parameters: {'n_estimators': 858, 'max_depth': 14, 'min_samples_split': 4, 'min_samples_leaf': 4, 'max_features': 'log2'}. Best is trial 11 with value: 0.6011499336576736.\n",
            "[I 2025-05-13 19:05:16,144] Trial 23 finished with value: 0.6011499336576736 and parameters: {'n_estimators': 917, 'max_depth': 18, 'min_samples_split': 4, 'min_samples_leaf': 4, 'max_features': 'log2'}. Best is trial 11 with value: 0.6011499336576736.\n",
            "[I 2025-05-13 19:05:25,649] Trial 24 finished with value: 0.5297435897435898 and parameters: {'n_estimators': 927, 'max_depth': 22, 'min_samples_split': 4, 'min_samples_leaf': 2, 'max_features': 'log2'}. Best is trial 11 with value: 0.6011499336576736.\n",
            "[I 2025-05-13 19:05:35,530] Trial 25 finished with value: 0.6011499336576736 and parameters: {'n_estimators': 1000, 'max_depth': 9, 'min_samples_split': 3, 'min_samples_leaf': 4, 'max_features': 'log2'}. Best is trial 11 with value: 0.6011499336576736.\n",
            "[I 2025-05-13 19:05:43,092] Trial 26 finished with value: 0.5528205128205129 and parameters: {'n_estimators': 757, 'max_depth': 18, 'min_samples_split': 4, 'min_samples_leaf': 2, 'max_features': 'log2'}. Best is trial 11 with value: 0.6011499336576736.\n",
            "[I 2025-05-13 19:05:51,935] Trial 27 finished with value: 0.6011499336576736 and parameters: {'n_estimators': 900, 'max_depth': 23, 'min_samples_split': 3, 'min_samples_leaf': 4, 'max_features': 'log2'}. Best is trial 11 with value: 0.6011499336576736.\n",
            "[I 2025-05-13 19:05:58,445] Trial 28 finished with value: 0.5726984126984127 and parameters: {'n_estimators': 658, 'max_depth': 25, 'min_samples_split': 5, 'min_samples_leaf': 2, 'max_features': 'log2'}. Best is trial 11 with value: 0.6011499336576736.\n",
            "[I 2025-05-13 19:06:07,771] Trial 29 finished with value: 0.6011499336576736 and parameters: {'n_estimators': 898, 'max_depth': 12, 'min_samples_split': 10, 'min_samples_leaf': 3, 'max_features': 'log2'}. Best is trial 11 with value: 0.6011499336576736.\n",
            "[I 2025-05-13 19:06:13,456] Trial 30 finished with value: 0.553939393939394 and parameters: {'n_estimators': 569, 'max_depth': 29, 'min_samples_split': 7, 'min_samples_leaf': 6, 'max_features': 'log2'}. Best is trial 11 with value: 0.6011499336576736.\n",
            "[I 2025-05-13 19:06:23,215] Trial 31 finished with value: 0.6011499336576736 and parameters: {'n_estimators': 991, 'max_depth': 11, 'min_samples_split': 2, 'min_samples_leaf': 4, 'max_features': 'log2'}. Best is trial 11 with value: 0.6011499336576736.\n",
            "[I 2025-05-13 19:06:32,357] Trial 32 finished with value: 0.6011499336576736 and parameters: {'n_estimators': 950, 'max_depth': 8, 'min_samples_split': 3, 'min_samples_leaf': 4, 'max_features': 'log2'}. Best is trial 11 with value: 0.6011499336576736.\n",
            "[I 2025-05-13 19:06:41,116] Trial 33 finished with value: 0.5782418613378366 and parameters: {'n_estimators': 878, 'max_depth': 10, 'min_samples_split': 5, 'min_samples_leaf': 3, 'max_features': 'log2'}. Best is trial 11 with value: 0.6011499336576736.\n",
            "[I 2025-05-13 19:06:48,627] Trial 34 finished with value: 0.6011499336576736 and parameters: {'n_estimators': 763, 'max_depth': 15, 'min_samples_split': 3, 'min_samples_leaf': 4, 'max_features': 'log2'}. Best is trial 11 with value: 0.6011499336576736.\n",
            "[I 2025-05-13 19:06:57,066] Trial 35 finished with value: 0.5808749145591251 and parameters: {'n_estimators': 879, 'max_depth': 39, 'min_samples_split': 4, 'min_samples_leaf': 5, 'max_features': 'log2'}. Best is trial 11 with value: 0.6011499336576736.\n",
            "[I 2025-05-13 19:07:06,165] Trial 36 finished with value: 0.5490118577075098 and parameters: {'n_estimators': 944, 'max_depth': 8, 'min_samples_split': 3, 'min_samples_leaf': 7, 'max_features': 'log2'}. Best is trial 11 with value: 0.6011499336576736.\n",
            "[I 2025-05-13 19:07:14,562] Trial 37 finished with value: 0.5590118577075099 and parameters: {'n_estimators': 853, 'max_depth': 19, 'min_samples_split': 7, 'min_samples_leaf': 6, 'max_features': 'log2'}. Best is trial 11 with value: 0.6011499336576736.\n",
            "[I 2025-05-13 19:07:21,905] Trial 38 finished with value: 0.5756785243741765 and parameters: {'n_estimators': 773, 'max_depth': 5, 'min_samples_split': 5, 'min_samples_leaf': 2, 'max_features': 'log2'}. Best is trial 11 with value: 0.6011499336576736.\n",
            "[I 2025-05-13 19:07:32,274] Trial 39 finished with value: 0.6106737431814832 and parameters: {'n_estimators': 997, 'max_depth': 13, 'min_samples_split': 8, 'min_samples_leaf': 3, 'max_features': 'log2'}. Best is trial 39 with value: 0.6106737431814832.\n",
            "[I 2025-05-13 19:07:41,942] Trial 40 finished with value: 0.5877149321266968 and parameters: {'n_estimators': 937, 'max_depth': 32, 'min_samples_split': 8, 'min_samples_leaf': 3, 'max_features': 'sqrt'}. Best is trial 39 with value: 0.6106737431814832.\n",
            "[I 2025-05-13 19:07:51,702] Trial 41 finished with value: 0.5732513100934152 and parameters: {'n_estimators': 983, 'max_depth': 13, 'min_samples_split': 10, 'min_samples_leaf': 4, 'max_features': 'log2'}. Best is trial 39 with value: 0.6106737431814832.\n",
            "[I 2025-05-13 19:08:01,070] Trial 42 finished with value: 0.5808749145591251 and parameters: {'n_estimators': 943, 'max_depth': 17, 'min_samples_split': 6, 'min_samples_leaf': 5, 'max_features': 'log2'}. Best is trial 39 with value: 0.6106737431814832.\n",
            "[I 2025-05-13 19:08:11,111] Trial 43 finished with value: 0.605545538053278 and parameters: {'n_estimators': 989, 'max_depth': 9, 'min_samples_split': 8, 'min_samples_leaf': 3, 'max_features': 'log2'}. Best is trial 39 with value: 0.6106737431814832.\n",
            "[I 2025-05-13 19:08:19,771] Trial 44 finished with value: 0.5678306059265812 and parameters: {'n_estimators': 896, 'max_depth': 21, 'min_samples_split': 9, 'min_samples_leaf': 2, 'max_features': 'log2'}. Best is trial 39 with value: 0.6106737431814832.\n",
            "[I 2025-05-13 19:08:27,420] Trial 45 finished with value: 0.6011499336576736 and parameters: {'n_estimators': 788, 'max_depth': 13, 'min_samples_split': 10, 'min_samples_leaf': 3, 'max_features': 'log2'}. Best is trial 39 with value: 0.6106737431814832.\n",
            "[I 2025-05-13 19:08:35,952] Trial 46 finished with value: 0.5870653907496013 and parameters: {'n_estimators': 863, 'max_depth': 7, 'min_samples_split': 8, 'min_samples_leaf': 1, 'max_features': 'sqrt'}. Best is trial 39 with value: 0.6106737431814832.\n",
            "[I 2025-05-13 19:08:44,751] Trial 47 finished with value: 0.5480177717019822 and parameters: {'n_estimators': 919, 'max_depth': 17, 'min_samples_split': 7, 'min_samples_leaf': 3, 'max_features': 'log2'}. Best is trial 39 with value: 0.6106737431814832.\n",
            "[I 2025-05-13 19:08:51,842] Trial 48 finished with value: 0.5995837419636046 and parameters: {'n_estimators': 692, 'max_depth': 44, 'min_samples_split': 14, 'min_samples_leaf': 3, 'max_features': 'log2'}. Best is trial 39 with value: 0.6106737431814832.\n"
          ]
        },
        {
          "name": "stderr",
          "output_type": "stream",
          "text": [
            "[I 2025-05-13 19:08:57,076] A new study created in memory with name: no-name-b1b32870-8472-4b14-9bce-f85f0d3a0b04\n"
          ]
        },
        {
          "name": "stdout",
          "output_type": "stream",
          "text": [
            "[I 2025-05-13 19:08:57,070] Trial 49 finished with value: 0.571077694235589 and parameters: {'n_estimators': 476, 'max_depth': 24, 'min_samples_split': 9, 'min_samples_leaf': 4, 'max_features': 'sqrt'}. Best is trial 39 with value: 0.6106737431814832.\n"
          ]
        },
        {
          "data": {
            "application/vnd.jupyter.widget-view+json": {
              "model_id": "6bd874a458854e7fa99bdee769c5d337",
              "version_major": 2,
              "version_minor": 0
            },
            "text/plain": [
              "  0%|          | 0/50 [00:00<?, ?it/s]"
            ]
          },
          "metadata": {},
          "output_type": "display_data"
        },
        {
          "name": "stderr",
          "output_type": "stream",
          "text": [
            "<ipython-input-6-f34f0a0dda05>:52: FutureWarning: suggest_loguniform has been deprecated in v3.0.0. This feature will be removed in v6.0.0. See https://github.com/optuna/optuna/releases/tag/v3.0.0. Use suggest_float(..., log=True) instead.\n",
            "  'learning_rate': trial.suggest_loguniform('learning_rate', 1e-3, 1e-1),\n",
            "<ipython-input-6-f34f0a0dda05>:53: FutureWarning: suggest_uniform has been deprecated in v3.0.0. This feature will be removed in v6.0.0. See https://github.com/optuna/optuna/releases/tag/v3.0.0. Use suggest_float instead.\n",
            "  'subsample': trial.suggest_uniform('subsample', 0.5, 1.0),\n",
            "<ipython-input-6-f34f0a0dda05>:54: FutureWarning: suggest_uniform has been deprecated in v3.0.0. This feature will be removed in v6.0.0. See https://github.com/optuna/optuna/releases/tag/v3.0.0. Use suggest_float instead.\n",
            "  'colsample_bytree': trial.suggest_uniform('colsample_bytree', 0.5, 1.0),\n",
            "/usr/local/lib/python3.11/dist-packages/xgboost/core.py:158: UserWarning: [19:08:57] WARNING: /workspace/src/learner.cc:740: \n",
            "Parameters: { \"use_label_encoder\" } are not used.\n",
            "\n",
            "  warnings.warn(smsg, UserWarning)\n",
            "/usr/local/lib/python3.11/dist-packages/xgboost/core.py:158: UserWarning: [19:08:57] WARNING: /workspace/src/learner.cc:740: \n",
            "Parameters: { \"use_label_encoder\" } are not used.\n",
            "\n",
            "  warnings.warn(smsg, UserWarning)\n",
            "/usr/local/lib/python3.11/dist-packages/xgboost/core.py:158: UserWarning: [19:08:57] WARNING: /workspace/src/learner.cc:740: \n",
            "Parameters: { \"use_label_encoder\" } are not used.\n",
            "\n",
            "  warnings.warn(smsg, UserWarning)\n",
            "/usr/local/lib/python3.11/dist-packages/xgboost/core.py:158: UserWarning: [19:08:58] WARNING: /workspace/src/learner.cc:740: \n",
            "Parameters: { \"use_label_encoder\" } are not used.\n",
            "\n",
            "  warnings.warn(smsg, UserWarning)\n",
            "/usr/local/lib/python3.11/dist-packages/xgboost/core.py:158: UserWarning: [19:08:58] WARNING: /workspace/src/learner.cc:740: \n",
            "Parameters: { \"use_label_encoder\" } are not used.\n",
            "\n",
            "  warnings.warn(smsg, UserWarning)\n"
          ]
        },
        {
          "name": "stdout",
          "output_type": "stream",
          "text": [
            "[I 2025-05-13 19:08:59,175] Trial 0 finished with value: 0.547407680039259 and parameters: {'n_estimators': 522, 'max_depth': 15, 'learning_rate': 0.006237229596249219, 'subsample': 0.7178099625793072, 'colsample_bytree': 0.5981457062108331}. Best is trial 0 with value: 0.547407680039259.\n"
          ]
        },
        {
          "name": "stderr",
          "output_type": "stream",
          "text": [
            "<ipython-input-6-f34f0a0dda05>:52: FutureWarning: suggest_loguniform has been deprecated in v3.0.0. This feature will be removed in v6.0.0. See https://github.com/optuna/optuna/releases/tag/v3.0.0. Use suggest_float(..., log=True) instead.\n",
            "  'learning_rate': trial.suggest_loguniform('learning_rate', 1e-3, 1e-1),\n",
            "<ipython-input-6-f34f0a0dda05>:53: FutureWarning: suggest_uniform has been deprecated in v3.0.0. This feature will be removed in v6.0.0. See https://github.com/optuna/optuna/releases/tag/v3.0.0. Use suggest_float instead.\n",
            "  'subsample': trial.suggest_uniform('subsample', 0.5, 1.0),\n",
            "<ipython-input-6-f34f0a0dda05>:54: FutureWarning: suggest_uniform has been deprecated in v3.0.0. This feature will be removed in v6.0.0. See https://github.com/optuna/optuna/releases/tag/v3.0.0. Use suggest_float instead.\n",
            "  'colsample_bytree': trial.suggest_uniform('colsample_bytree', 0.5, 1.0),\n",
            "/usr/local/lib/python3.11/dist-packages/xgboost/core.py:158: UserWarning: [19:08:59] WARNING: /workspace/src/learner.cc:740: \n",
            "Parameters: { \"use_label_encoder\" } are not used.\n",
            "\n",
            "  warnings.warn(smsg, UserWarning)\n",
            "/usr/local/lib/python3.11/dist-packages/xgboost/core.py:158: UserWarning: [19:08:59] WARNING: /workspace/src/learner.cc:740: \n",
            "Parameters: { \"use_label_encoder\" } are not used.\n",
            "\n",
            "  warnings.warn(smsg, UserWarning)\n",
            "/usr/local/lib/python3.11/dist-packages/xgboost/core.py:158: UserWarning: [19:09:00] WARNING: /workspace/src/learner.cc:740: \n",
            "Parameters: { \"use_label_encoder\" } are not used.\n",
            "\n",
            "  warnings.warn(smsg, UserWarning)\n",
            "/usr/local/lib/python3.11/dist-packages/xgboost/core.py:158: UserWarning: [19:09:00] WARNING: /workspace/src/learner.cc:740: \n",
            "Parameters: { \"use_label_encoder\" } are not used.\n",
            "\n",
            "  warnings.warn(smsg, UserWarning)\n",
            "/usr/local/lib/python3.11/dist-packages/xgboost/core.py:158: UserWarning: [19:09:00] WARNING: /workspace/src/learner.cc:740: \n",
            "Parameters: { \"use_label_encoder\" } are not used.\n",
            "\n",
            "  warnings.warn(smsg, UserWarning)\n"
          ]
        },
        {
          "name": "stdout",
          "output_type": "stream",
          "text": [
            "[I 2025-05-13 19:09:01,182] Trial 1 finished with value: 0.6057971014492753 and parameters: {'n_estimators': 762, 'max_depth': 7, 'learning_rate': 0.029537135357040712, 'subsample': 0.6235214179281837, 'colsample_bytree': 0.9183565764904623}. Best is trial 1 with value: 0.6057971014492753.\n"
          ]
        },
        {
          "name": "stderr",
          "output_type": "stream",
          "text": [
            "<ipython-input-6-f34f0a0dda05>:52: FutureWarning: suggest_loguniform has been deprecated in v3.0.0. This feature will be removed in v6.0.0. See https://github.com/optuna/optuna/releases/tag/v3.0.0. Use suggest_float(..., log=True) instead.\n",
            "  'learning_rate': trial.suggest_loguniform('learning_rate', 1e-3, 1e-1),\n",
            "<ipython-input-6-f34f0a0dda05>:53: FutureWarning: suggest_uniform has been deprecated in v3.0.0. This feature will be removed in v6.0.0. See https://github.com/optuna/optuna/releases/tag/v3.0.0. Use suggest_float instead.\n",
            "  'subsample': trial.suggest_uniform('subsample', 0.5, 1.0),\n",
            "<ipython-input-6-f34f0a0dda05>:54: FutureWarning: suggest_uniform has been deprecated in v3.0.0. This feature will be removed in v6.0.0. See https://github.com/optuna/optuna/releases/tag/v3.0.0. Use suggest_float instead.\n",
            "  'colsample_bytree': trial.suggest_uniform('colsample_bytree', 0.5, 1.0),\n",
            "/usr/local/lib/python3.11/dist-packages/xgboost/core.py:158: UserWarning: [19:09:01] WARNING: /workspace/src/learner.cc:740: \n",
            "Parameters: { \"use_label_encoder\" } are not used.\n",
            "\n",
            "  warnings.warn(smsg, UserWarning)\n",
            "/usr/local/lib/python3.11/dist-packages/xgboost/core.py:158: UserWarning: [19:09:01] WARNING: /workspace/src/learner.cc:740: \n",
            "Parameters: { \"use_label_encoder\" } are not used.\n",
            "\n",
            "  warnings.warn(smsg, UserWarning)\n",
            "/usr/local/lib/python3.11/dist-packages/xgboost/core.py:158: UserWarning: [19:09:02] WARNING: /workspace/src/learner.cc:740: \n",
            "Parameters: { \"use_label_encoder\" } are not used.\n",
            "\n",
            "  warnings.warn(smsg, UserWarning)\n",
            "/usr/local/lib/python3.11/dist-packages/xgboost/core.py:158: UserWarning: [19:09:02] WARNING: /workspace/src/learner.cc:740: \n",
            "Parameters: { \"use_label_encoder\" } are not used.\n",
            "\n",
            "  warnings.warn(smsg, UserWarning)\n",
            "/usr/local/lib/python3.11/dist-packages/xgboost/core.py:158: UserWarning: [19:09:02] WARNING: /workspace/src/learner.cc:740: \n",
            "Parameters: { \"use_label_encoder\" } are not used.\n",
            "\n",
            "  warnings.warn(smsg, UserWarning)\n"
          ]
        },
        {
          "name": "stdout",
          "output_type": "stream",
          "text": [
            "[I 2025-05-13 19:09:03,215] Trial 2 finished with value: 0.520127408823061 and parameters: {'n_estimators': 532, 'max_depth': 10, 'learning_rate': 0.0020587489500367823, 'subsample': 0.6820630481472978, 'colsample_bytree': 0.5917050353493407}. Best is trial 1 with value: 0.6057971014492753.\n"
          ]
        },
        {
          "name": "stderr",
          "output_type": "stream",
          "text": [
            "<ipython-input-6-f34f0a0dda05>:52: FutureWarning: suggest_loguniform has been deprecated in v3.0.0. This feature will be removed in v6.0.0. See https://github.com/optuna/optuna/releases/tag/v3.0.0. Use suggest_float(..., log=True) instead.\n",
            "  'learning_rate': trial.suggest_loguniform('learning_rate', 1e-3, 1e-1),\n",
            "<ipython-input-6-f34f0a0dda05>:53: FutureWarning: suggest_uniform has been deprecated in v3.0.0. This feature will be removed in v6.0.0. See https://github.com/optuna/optuna/releases/tag/v3.0.0. Use suggest_float instead.\n",
            "  'subsample': trial.suggest_uniform('subsample', 0.5, 1.0),\n",
            "<ipython-input-6-f34f0a0dda05>:54: FutureWarning: suggest_uniform has been deprecated in v3.0.0. This feature will be removed in v6.0.0. See https://github.com/optuna/optuna/releases/tag/v3.0.0. Use suggest_float instead.\n",
            "  'colsample_bytree': trial.suggest_uniform('colsample_bytree', 0.5, 1.0),\n",
            "/usr/local/lib/python3.11/dist-packages/xgboost/core.py:158: UserWarning: [19:09:03] WARNING: /workspace/src/learner.cc:740: \n",
            "Parameters: { \"use_label_encoder\" } are not used.\n",
            "\n",
            "  warnings.warn(smsg, UserWarning)\n",
            "/usr/local/lib/python3.11/dist-packages/xgboost/core.py:158: UserWarning: [19:09:03] WARNING: /workspace/src/learner.cc:740: \n",
            "Parameters: { \"use_label_encoder\" } are not used.\n",
            "\n",
            "  warnings.warn(smsg, UserWarning)\n",
            "/usr/local/lib/python3.11/dist-packages/xgboost/core.py:158: UserWarning: [19:09:03] WARNING: /workspace/src/learner.cc:740: \n",
            "Parameters: { \"use_label_encoder\" } are not used.\n",
            "\n",
            "  warnings.warn(smsg, UserWarning)\n",
            "/usr/local/lib/python3.11/dist-packages/xgboost/core.py:158: UserWarning: [19:09:03] WARNING: /workspace/src/learner.cc:740: \n",
            "Parameters: { \"use_label_encoder\" } are not used.\n",
            "\n",
            "  warnings.warn(smsg, UserWarning)\n",
            "/usr/local/lib/python3.11/dist-packages/xgboost/core.py:158: UserWarning: [19:09:03] WARNING: /workspace/src/learner.cc:740: \n",
            "Parameters: { \"use_label_encoder\" } are not used.\n",
            "\n",
            "  warnings.warn(smsg, UserWarning)\n",
            "<ipython-input-6-f34f0a0dda05>:52: FutureWarning: suggest_loguniform has been deprecated in v3.0.0. This feature will be removed in v6.0.0. See https://github.com/optuna/optuna/releases/tag/v3.0.0. Use suggest_float(..., log=True) instead.\n",
            "  'learning_rate': trial.suggest_loguniform('learning_rate', 1e-3, 1e-1),\n",
            "<ipython-input-6-f34f0a0dda05>:53: FutureWarning: suggest_uniform has been deprecated in v3.0.0. This feature will be removed in v6.0.0. See https://github.com/optuna/optuna/releases/tag/v3.0.0. Use suggest_float instead.\n",
            "  'subsample': trial.suggest_uniform('subsample', 0.5, 1.0),\n",
            "<ipython-input-6-f34f0a0dda05>:54: FutureWarning: suggest_uniform has been deprecated in v3.0.0. This feature will be removed in v6.0.0. See https://github.com/optuna/optuna/releases/tag/v3.0.0. Use suggest_float instead.\n",
            "  'colsample_bytree': trial.suggest_uniform('colsample_bytree', 0.5, 1.0),\n",
            "/usr/local/lib/python3.11/dist-packages/xgboost/core.py:158: UserWarning: [19:09:03] WARNING: /workspace/src/learner.cc:740: \n",
            "Parameters: { \"use_label_encoder\" } are not used.\n",
            "\n",
            "  warnings.warn(smsg, UserWarning)\n"
          ]
        },
        {
          "name": "stdout",
          "output_type": "stream",
          "text": [
            "[I 2025-05-13 19:09:03,790] Trial 3 finished with value: 0.4921321437183506 and parameters: {'n_estimators': 244, 'max_depth': 3, 'learning_rate': 0.003417900610767065, 'subsample': 0.9073837103905107, 'colsample_bytree': 0.7028029954641591}. Best is trial 1 with value: 0.6057971014492753.\n"
          ]
        },
        {
          "name": "stderr",
          "output_type": "stream",
          "text": [
            "/usr/local/lib/python3.11/dist-packages/xgboost/core.py:158: UserWarning: [19:09:04] WARNING: /workspace/src/learner.cc:740: \n",
            "Parameters: { \"use_label_encoder\" } are not used.\n",
            "\n",
            "  warnings.warn(smsg, UserWarning)\n",
            "/usr/local/lib/python3.11/dist-packages/xgboost/core.py:158: UserWarning: [19:09:04] WARNING: /workspace/src/learner.cc:740: \n",
            "Parameters: { \"use_label_encoder\" } are not used.\n",
            "\n",
            "  warnings.warn(smsg, UserWarning)\n",
            "/usr/local/lib/python3.11/dist-packages/xgboost/core.py:158: UserWarning: [19:09:04] WARNING: /workspace/src/learner.cc:740: \n",
            "Parameters: { \"use_label_encoder\" } are not used.\n",
            "\n",
            "  warnings.warn(smsg, UserWarning)\n",
            "/usr/local/lib/python3.11/dist-packages/xgboost/core.py:158: UserWarning: [19:09:05] WARNING: /workspace/src/learner.cc:740: \n",
            "Parameters: { \"use_label_encoder\" } are not used.\n",
            "\n",
            "  warnings.warn(smsg, UserWarning)\n"
          ]
        },
        {
          "name": "stdout",
          "output_type": "stream",
          "text": [
            "[I 2025-05-13 19:09:05,328] Trial 4 finished with value: 0.5807717823971694 and parameters: {'n_estimators': 537, 'max_depth': 12, 'learning_rate': 0.016372523207773094, 'subsample': 0.5164220633925238, 'colsample_bytree': 0.5402133861661588}. Best is trial 1 with value: 0.6057971014492753.\n"
          ]
        },
        {
          "name": "stderr",
          "output_type": "stream",
          "text": [
            "<ipython-input-6-f34f0a0dda05>:52: FutureWarning: suggest_loguniform has been deprecated in v3.0.0. This feature will be removed in v6.0.0. See https://github.com/optuna/optuna/releases/tag/v3.0.0. Use suggest_float(..., log=True) instead.\n",
            "  'learning_rate': trial.suggest_loguniform('learning_rate', 1e-3, 1e-1),\n",
            "<ipython-input-6-f34f0a0dda05>:53: FutureWarning: suggest_uniform has been deprecated in v3.0.0. This feature will be removed in v6.0.0. See https://github.com/optuna/optuna/releases/tag/v3.0.0. Use suggest_float instead.\n",
            "  'subsample': trial.suggest_uniform('subsample', 0.5, 1.0),\n",
            "<ipython-input-6-f34f0a0dda05>:54: FutureWarning: suggest_uniform has been deprecated in v3.0.0. This feature will be removed in v6.0.0. See https://github.com/optuna/optuna/releases/tag/v3.0.0. Use suggest_float instead.\n",
            "  'colsample_bytree': trial.suggest_uniform('colsample_bytree', 0.5, 1.0),\n",
            "/usr/local/lib/python3.11/dist-packages/xgboost/core.py:158: UserWarning: [19:09:05] WARNING: /workspace/src/learner.cc:740: \n",
            "Parameters: { \"use_label_encoder\" } are not used.\n",
            "\n",
            "  warnings.warn(smsg, UserWarning)\n",
            "/usr/local/lib/python3.11/dist-packages/xgboost/core.py:158: UserWarning: [19:09:05] WARNING: /workspace/src/learner.cc:740: \n",
            "Parameters: { \"use_label_encoder\" } are not used.\n",
            "\n",
            "  warnings.warn(smsg, UserWarning)\n",
            "/usr/local/lib/python3.11/dist-packages/xgboost/core.py:158: UserWarning: [19:09:06] WARNING: /workspace/src/learner.cc:740: \n",
            "Parameters: { \"use_label_encoder\" } are not used.\n",
            "\n",
            "  warnings.warn(smsg, UserWarning)\n",
            "/usr/local/lib/python3.11/dist-packages/xgboost/core.py:158: UserWarning: [19:09:06] WARNING: /workspace/src/learner.cc:740: \n",
            "Parameters: { \"use_label_encoder\" } are not used.\n",
            "\n",
            "  warnings.warn(smsg, UserWarning)\n",
            "/usr/local/lib/python3.11/dist-packages/xgboost/core.py:158: UserWarning: [19:09:07] WARNING: /workspace/src/learner.cc:740: \n",
            "Parameters: { \"use_label_encoder\" } are not used.\n",
            "\n",
            "  warnings.warn(smsg, UserWarning)\n"
          ]
        },
        {
          "name": "stdout",
          "output_type": "stream",
          "text": [
            "[I 2025-05-13 19:09:08,308] Trial 5 finished with value: 0.585 and parameters: {'n_estimators': 658, 'max_depth': 11, 'learning_rate': 0.0239940095210523, 'subsample': 0.63018678567283, 'colsample_bytree': 0.7404981423390917}. Best is trial 1 with value: 0.6057971014492753.\n"
          ]
        },
        {
          "name": "stderr",
          "output_type": "stream",
          "text": [
            "<ipython-input-6-f34f0a0dda05>:52: FutureWarning: suggest_loguniform has been deprecated in v3.0.0. This feature will be removed in v6.0.0. See https://github.com/optuna/optuna/releases/tag/v3.0.0. Use suggest_float(..., log=True) instead.\n",
            "  'learning_rate': trial.suggest_loguniform('learning_rate', 1e-3, 1e-1),\n",
            "<ipython-input-6-f34f0a0dda05>:53: FutureWarning: suggest_uniform has been deprecated in v3.0.0. This feature will be removed in v6.0.0. See https://github.com/optuna/optuna/releases/tag/v3.0.0. Use suggest_float instead.\n",
            "  'subsample': trial.suggest_uniform('subsample', 0.5, 1.0),\n",
            "<ipython-input-6-f34f0a0dda05>:54: FutureWarning: suggest_uniform has been deprecated in v3.0.0. This feature will be removed in v6.0.0. See https://github.com/optuna/optuna/releases/tag/v3.0.0. Use suggest_float instead.\n",
            "  'colsample_bytree': trial.suggest_uniform('colsample_bytree', 0.5, 1.0),\n",
            "/usr/local/lib/python3.11/dist-packages/xgboost/core.py:158: UserWarning: [19:09:08] WARNING: /workspace/src/learner.cc:740: \n",
            "Parameters: { \"use_label_encoder\" } are not used.\n",
            "\n",
            "  warnings.warn(smsg, UserWarning)\n",
            "/usr/local/lib/python3.11/dist-packages/xgboost/core.py:158: UserWarning: [19:09:08] WARNING: /workspace/src/learner.cc:740: \n",
            "Parameters: { \"use_label_encoder\" } are not used.\n",
            "\n",
            "  warnings.warn(smsg, UserWarning)\n",
            "/usr/local/lib/python3.11/dist-packages/xgboost/core.py:158: UserWarning: [19:09:08] WARNING: /workspace/src/learner.cc:740: \n",
            "Parameters: { \"use_label_encoder\" } are not used.\n",
            "\n",
            "  warnings.warn(smsg, UserWarning)\n",
            "/usr/local/lib/python3.11/dist-packages/xgboost/core.py:158: UserWarning: [19:09:09] WARNING: /workspace/src/learner.cc:740: \n",
            "Parameters: { \"use_label_encoder\" } are not used.\n",
            "\n",
            "  warnings.warn(smsg, UserWarning)\n",
            "/usr/local/lib/python3.11/dist-packages/xgboost/core.py:158: UserWarning: [19:09:09] WARNING: /workspace/src/learner.cc:740: \n",
            "Parameters: { \"use_label_encoder\" } are not used.\n",
            "\n",
            "  warnings.warn(smsg, UserWarning)\n"
          ]
        },
        {
          "name": "stdout",
          "output_type": "stream",
          "text": [
            "[I 2025-05-13 19:09:09,573] Trial 6 finished with value: 0.5128571428571428 and parameters: {'n_estimators': 270, 'max_depth': 15, 'learning_rate': 0.003300675466183882, 'subsample': 0.7806867979874059, 'colsample_bytree': 0.6705479062435962}. Best is trial 1 with value: 0.6057971014492753.\n"
          ]
        },
        {
          "name": "stderr",
          "output_type": "stream",
          "text": [
            "<ipython-input-6-f34f0a0dda05>:52: FutureWarning: suggest_loguniform has been deprecated in v3.0.0. This feature will be removed in v6.0.0. See https://github.com/optuna/optuna/releases/tag/v3.0.0. Use suggest_float(..., log=True) instead.\n",
            "  'learning_rate': trial.suggest_loguniform('learning_rate', 1e-3, 1e-1),\n",
            "<ipython-input-6-f34f0a0dda05>:53: FutureWarning: suggest_uniform has been deprecated in v3.0.0. This feature will be removed in v6.0.0. See https://github.com/optuna/optuna/releases/tag/v3.0.0. Use suggest_float instead.\n",
            "  'subsample': trial.suggest_uniform('subsample', 0.5, 1.0),\n",
            "<ipython-input-6-f34f0a0dda05>:54: FutureWarning: suggest_uniform has been deprecated in v3.0.0. This feature will be removed in v6.0.0. See https://github.com/optuna/optuna/releases/tag/v3.0.0. Use suggest_float instead.\n",
            "  'colsample_bytree': trial.suggest_uniform('colsample_bytree', 0.5, 1.0),\n",
            "/usr/local/lib/python3.11/dist-packages/xgboost/core.py:158: UserWarning: [19:09:09] WARNING: /workspace/src/learner.cc:740: \n",
            "Parameters: { \"use_label_encoder\" } are not used.\n",
            "\n",
            "  warnings.warn(smsg, UserWarning)\n",
            "/usr/local/lib/python3.11/dist-packages/xgboost/core.py:158: UserWarning: [19:09:10] WARNING: /workspace/src/learner.cc:740: \n",
            "Parameters: { \"use_label_encoder\" } are not used.\n",
            "\n",
            "  warnings.warn(smsg, UserWarning)\n",
            "/usr/local/lib/python3.11/dist-packages/xgboost/core.py:158: UserWarning: [19:09:11] WARNING: /workspace/src/learner.cc:740: \n",
            "Parameters: { \"use_label_encoder\" } are not used.\n",
            "\n",
            "  warnings.warn(smsg, UserWarning)\n",
            "/usr/local/lib/python3.11/dist-packages/xgboost/core.py:158: UserWarning: [19:09:13] WARNING: /workspace/src/learner.cc:740: \n",
            "Parameters: { \"use_label_encoder\" } are not used.\n",
            "\n",
            "  warnings.warn(smsg, UserWarning)\n",
            "/usr/local/lib/python3.11/dist-packages/xgboost/core.py:158: UserWarning: [19:09:14] WARNING: /workspace/src/learner.cc:740: \n",
            "Parameters: { \"use_label_encoder\" } are not used.\n",
            "\n",
            "  warnings.warn(smsg, UserWarning)\n"
          ]
        },
        {
          "name": "stdout",
          "output_type": "stream",
          "text": [
            "[I 2025-05-13 19:09:15,605] Trial 7 finished with value: 0.5499137336093858 and parameters: {'n_estimators': 908, 'max_depth': 7, 'learning_rate': 0.0030822136283205643, 'subsample': 0.948811356566204, 'colsample_bytree': 0.9954745693753734}. Best is trial 1 with value: 0.6057971014492753.\n"
          ]
        },
        {
          "name": "stderr",
          "output_type": "stream",
          "text": [
            "<ipython-input-6-f34f0a0dda05>:52: FutureWarning: suggest_loguniform has been deprecated in v3.0.0. This feature will be removed in v6.0.0. See https://github.com/optuna/optuna/releases/tag/v3.0.0. Use suggest_float(..., log=True) instead.\n",
            "  'learning_rate': trial.suggest_loguniform('learning_rate', 1e-3, 1e-1),\n",
            "<ipython-input-6-f34f0a0dda05>:53: FutureWarning: suggest_uniform has been deprecated in v3.0.0. This feature will be removed in v6.0.0. See https://github.com/optuna/optuna/releases/tag/v3.0.0. Use suggest_float instead.\n",
            "  'subsample': trial.suggest_uniform('subsample', 0.5, 1.0),\n",
            "<ipython-input-6-f34f0a0dda05>:54: FutureWarning: suggest_uniform has been deprecated in v3.0.0. This feature will be removed in v6.0.0. See https://github.com/optuna/optuna/releases/tag/v3.0.0. Use suggest_float instead.\n",
            "  'colsample_bytree': trial.suggest_uniform('colsample_bytree', 0.5, 1.0),\n",
            "/usr/local/lib/python3.11/dist-packages/xgboost/core.py:158: UserWarning: [19:09:15] WARNING: /workspace/src/learner.cc:740: \n",
            "Parameters: { \"use_label_encoder\" } are not used.\n",
            "\n",
            "  warnings.warn(smsg, UserWarning)\n",
            "/usr/local/lib/python3.11/dist-packages/xgboost/core.py:158: UserWarning: [19:09:15] WARNING: /workspace/src/learner.cc:740: \n",
            "Parameters: { \"use_label_encoder\" } are not used.\n",
            "\n",
            "  warnings.warn(smsg, UserWarning)\n",
            "/usr/local/lib/python3.11/dist-packages/xgboost/core.py:158: UserWarning: [19:09:16] WARNING: /workspace/src/learner.cc:740: \n",
            "Parameters: { \"use_label_encoder\" } are not used.\n",
            "\n",
            "  warnings.warn(smsg, UserWarning)\n",
            "/usr/local/lib/python3.11/dist-packages/xgboost/core.py:158: UserWarning: [19:09:16] WARNING: /workspace/src/learner.cc:740: \n",
            "Parameters: { \"use_label_encoder\" } are not used.\n",
            "\n",
            "  warnings.warn(smsg, UserWarning)\n",
            "/usr/local/lib/python3.11/dist-packages/xgboost/core.py:158: UserWarning: [19:09:16] WARNING: /workspace/src/learner.cc:740: \n",
            "Parameters: { \"use_label_encoder\" } are not used.\n",
            "\n",
            "  warnings.warn(smsg, UserWarning)\n"
          ]
        },
        {
          "name": "stdout",
          "output_type": "stream",
          "text": [
            "[I 2025-05-13 19:09:16,817] Trial 8 finished with value: 0.4992857142857142 and parameters: {'n_estimators': 278, 'max_depth': 6, 'learning_rate': 0.0013335733589139888, 'subsample': 0.8629562840907214, 'colsample_bytree': 0.8116656270948464}. Best is trial 1 with value: 0.6057971014492753.\n"
          ]
        },
        {
          "name": "stderr",
          "output_type": "stream",
          "text": [
            "<ipython-input-6-f34f0a0dda05>:52: FutureWarning: suggest_loguniform has been deprecated in v3.0.0. This feature will be removed in v6.0.0. See https://github.com/optuna/optuna/releases/tag/v3.0.0. Use suggest_float(..., log=True) instead.\n",
            "  'learning_rate': trial.suggest_loguniform('learning_rate', 1e-3, 1e-1),\n",
            "<ipython-input-6-f34f0a0dda05>:53: FutureWarning: suggest_uniform has been deprecated in v3.0.0. This feature will be removed in v6.0.0. See https://github.com/optuna/optuna/releases/tag/v3.0.0. Use suggest_float instead.\n",
            "  'subsample': trial.suggest_uniform('subsample', 0.5, 1.0),\n",
            "<ipython-input-6-f34f0a0dda05>:54: FutureWarning: suggest_uniform has been deprecated in v3.0.0. This feature will be removed in v6.0.0. See https://github.com/optuna/optuna/releases/tag/v3.0.0. Use suggest_float instead.\n",
            "  'colsample_bytree': trial.suggest_uniform('colsample_bytree', 0.5, 1.0),\n",
            "/usr/local/lib/python3.11/dist-packages/xgboost/core.py:158: UserWarning: [19:09:16] WARNING: /workspace/src/learner.cc:740: \n",
            "Parameters: { \"use_label_encoder\" } are not used.\n",
            "\n",
            "  warnings.warn(smsg, UserWarning)\n",
            "/usr/local/lib/python3.11/dist-packages/xgboost/core.py:158: UserWarning: [19:09:17] WARNING: /workspace/src/learner.cc:740: \n",
            "Parameters: { \"use_label_encoder\" } are not used.\n",
            "\n",
            "  warnings.warn(smsg, UserWarning)\n",
            "/usr/local/lib/python3.11/dist-packages/xgboost/core.py:158: UserWarning: [19:09:17] WARNING: /workspace/src/learner.cc:740: \n",
            "Parameters: { \"use_label_encoder\" } are not used.\n",
            "\n",
            "  warnings.warn(smsg, UserWarning)\n",
            "/usr/local/lib/python3.11/dist-packages/xgboost/core.py:158: UserWarning: [19:09:18] WARNING: /workspace/src/learner.cc:740: \n",
            "Parameters: { \"use_label_encoder\" } are not used.\n",
            "\n",
            "  warnings.warn(smsg, UserWarning)\n",
            "/usr/local/lib/python3.11/dist-packages/xgboost/core.py:158: UserWarning: [19:09:19] WARNING: /workspace/src/learner.cc:740: \n",
            "Parameters: { \"use_label_encoder\" } are not used.\n",
            "\n",
            "  warnings.warn(smsg, UserWarning)\n"
          ]
        },
        {
          "name": "stdout",
          "output_type": "stream",
          "text": [
            "[I 2025-05-13 19:09:20,106] Trial 9 finished with value: 0.5783333333333334 and parameters: {'n_estimators': 957, 'max_depth': 9, 'learning_rate': 0.024849479379828277, 'subsample': 0.7394681070449873, 'colsample_bytree': 0.6152229257156534}. Best is trial 1 with value: 0.6057971014492753.\n"
          ]
        },
        {
          "name": "stderr",
          "output_type": "stream",
          "text": [
            "<ipython-input-6-f34f0a0dda05>:52: FutureWarning: suggest_loguniform has been deprecated in v3.0.0. This feature will be removed in v6.0.0. See https://github.com/optuna/optuna/releases/tag/v3.0.0. Use suggest_float(..., log=True) instead.\n",
            "  'learning_rate': trial.suggest_loguniform('learning_rate', 1e-3, 1e-1),\n",
            "<ipython-input-6-f34f0a0dda05>:53: FutureWarning: suggest_uniform has been deprecated in v3.0.0. This feature will be removed in v6.0.0. See https://github.com/optuna/optuna/releases/tag/v3.0.0. Use suggest_float instead.\n",
            "  'subsample': trial.suggest_uniform('subsample', 0.5, 1.0),\n",
            "<ipython-input-6-f34f0a0dda05>:54: FutureWarning: suggest_uniform has been deprecated in v3.0.0. This feature will be removed in v6.0.0. See https://github.com/optuna/optuna/releases/tag/v3.0.0. Use suggest_float instead.\n",
            "  'colsample_bytree': trial.suggest_uniform('colsample_bytree', 0.5, 1.0),\n",
            "/usr/local/lib/python3.11/dist-packages/xgboost/core.py:158: UserWarning: [19:09:20] WARNING: /workspace/src/learner.cc:740: \n",
            "Parameters: { \"use_label_encoder\" } are not used.\n",
            "\n",
            "  warnings.warn(smsg, UserWarning)\n",
            "/usr/local/lib/python3.11/dist-packages/xgboost/core.py:158: UserWarning: [19:09:20] WARNING: /workspace/src/learner.cc:740: \n",
            "Parameters: { \"use_label_encoder\" } are not used.\n",
            "\n",
            "  warnings.warn(smsg, UserWarning)\n",
            "/usr/local/lib/python3.11/dist-packages/xgboost/core.py:158: UserWarning: [19:09:20] WARNING: /workspace/src/learner.cc:740: \n",
            "Parameters: { \"use_label_encoder\" } are not used.\n",
            "\n",
            "  warnings.warn(smsg, UserWarning)\n",
            "/usr/local/lib/python3.11/dist-packages/xgboost/core.py:158: UserWarning: [19:09:20] WARNING: /workspace/src/learner.cc:740: \n",
            "Parameters: { \"use_label_encoder\" } are not used.\n",
            "\n",
            "  warnings.warn(smsg, UserWarning)\n",
            "/usr/local/lib/python3.11/dist-packages/xgboost/core.py:158: UserWarning: [19:09:21] WARNING: /workspace/src/learner.cc:740: \n",
            "Parameters: { \"use_label_encoder\" } are not used.\n",
            "\n",
            "  warnings.warn(smsg, UserWarning)\n"
          ]
        },
        {
          "name": "stdout",
          "output_type": "stream",
          "text": [
            "[I 2025-05-13 19:09:21,335] Trial 10 finished with value: 0.5999999999999999 and parameters: {'n_estimators': 745, 'max_depth': 3, 'learning_rate': 0.08556716622871224, 'subsample': 0.525758010968806, 'colsample_bytree': 0.9079300208747454}. Best is trial 1 with value: 0.6057971014492753.\n"
          ]
        },
        {
          "name": "stderr",
          "output_type": "stream",
          "text": [
            "<ipython-input-6-f34f0a0dda05>:52: FutureWarning: suggest_loguniform has been deprecated in v3.0.0. This feature will be removed in v6.0.0. See https://github.com/optuna/optuna/releases/tag/v3.0.0. Use suggest_float(..., log=True) instead.\n",
            "  'learning_rate': trial.suggest_loguniform('learning_rate', 1e-3, 1e-1),\n",
            "<ipython-input-6-f34f0a0dda05>:53: FutureWarning: suggest_uniform has been deprecated in v3.0.0. This feature will be removed in v6.0.0. See https://github.com/optuna/optuna/releases/tag/v3.0.0. Use suggest_float instead.\n",
            "  'subsample': trial.suggest_uniform('subsample', 0.5, 1.0),\n",
            "<ipython-input-6-f34f0a0dda05>:54: FutureWarning: suggest_uniform has been deprecated in v3.0.0. This feature will be removed in v6.0.0. See https://github.com/optuna/optuna/releases/tag/v3.0.0. Use suggest_float instead.\n",
            "  'colsample_bytree': trial.suggest_uniform('colsample_bytree', 0.5, 1.0),\n",
            "/usr/local/lib/python3.11/dist-packages/xgboost/core.py:158: UserWarning: [19:09:21] WARNING: /workspace/src/learner.cc:740: \n",
            "Parameters: { \"use_label_encoder\" } are not used.\n",
            "\n",
            "  warnings.warn(smsg, UserWarning)\n",
            "/usr/local/lib/python3.11/dist-packages/xgboost/core.py:158: UserWarning: [19:09:21] WARNING: /workspace/src/learner.cc:740: \n",
            "Parameters: { \"use_label_encoder\" } are not used.\n",
            "\n",
            "  warnings.warn(smsg, UserWarning)\n",
            "/usr/local/lib/python3.11/dist-packages/xgboost/core.py:158: UserWarning: [19:09:21] WARNING: /workspace/src/learner.cc:740: \n",
            "Parameters: { \"use_label_encoder\" } are not used.\n",
            "\n",
            "  warnings.warn(smsg, UserWarning)\n",
            "/usr/local/lib/python3.11/dist-packages/xgboost/core.py:158: UserWarning: [19:09:22] WARNING: /workspace/src/learner.cc:740: \n",
            "Parameters: { \"use_label_encoder\" } are not used.\n",
            "\n",
            "  warnings.warn(smsg, UserWarning)\n",
            "/usr/local/lib/python3.11/dist-packages/xgboost/core.py:158: UserWarning: [19:09:22] WARNING: /workspace/src/learner.cc:740: \n",
            "Parameters: { \"use_label_encoder\" } are not used.\n",
            "\n",
            "  warnings.warn(smsg, UserWarning)\n"
          ]
        },
        {
          "name": "stdout",
          "output_type": "stream",
          "text": [
            "[I 2025-05-13 19:09:22,623] Trial 11 finished with value: 0.6297319385420072 and parameters: {'n_estimators': 768, 'max_depth': 3, 'learning_rate': 0.07734789678493574, 'subsample': 0.503957056013666, 'colsample_bytree': 0.9082644976631444}. Best is trial 11 with value: 0.6297319385420072.\n"
          ]
        },
        {
          "name": "stderr",
          "output_type": "stream",
          "text": [
            "<ipython-input-6-f34f0a0dda05>:52: FutureWarning: suggest_loguniform has been deprecated in v3.0.0. This feature will be removed in v6.0.0. See https://github.com/optuna/optuna/releases/tag/v3.0.0. Use suggest_float(..., log=True) instead.\n",
            "  'learning_rate': trial.suggest_loguniform('learning_rate', 1e-3, 1e-1),\n",
            "<ipython-input-6-f34f0a0dda05>:53: FutureWarning: suggest_uniform has been deprecated in v3.0.0. This feature will be removed in v6.0.0. See https://github.com/optuna/optuna/releases/tag/v3.0.0. Use suggest_float instead.\n",
            "  'subsample': trial.suggest_uniform('subsample', 0.5, 1.0),\n",
            "<ipython-input-6-f34f0a0dda05>:54: FutureWarning: suggest_uniform has been deprecated in v3.0.0. This feature will be removed in v6.0.0. See https://github.com/optuna/optuna/releases/tag/v3.0.0. Use suggest_float instead.\n",
            "  'colsample_bytree': trial.suggest_uniform('colsample_bytree', 0.5, 1.0),\n",
            "/usr/local/lib/python3.11/dist-packages/xgboost/core.py:158: UserWarning: [19:09:22] WARNING: /workspace/src/learner.cc:740: \n",
            "Parameters: { \"use_label_encoder\" } are not used.\n",
            "\n",
            "  warnings.warn(smsg, UserWarning)\n",
            "/usr/local/lib/python3.11/dist-packages/xgboost/core.py:158: UserWarning: [19:09:22] WARNING: /workspace/src/learner.cc:740: \n",
            "Parameters: { \"use_label_encoder\" } are not used.\n",
            "\n",
            "  warnings.warn(smsg, UserWarning)\n",
            "/usr/local/lib/python3.11/dist-packages/xgboost/core.py:158: UserWarning: [19:09:23] WARNING: /workspace/src/learner.cc:740: \n",
            "Parameters: { \"use_label_encoder\" } are not used.\n",
            "\n",
            "  warnings.warn(smsg, UserWarning)\n",
            "/usr/local/lib/python3.11/dist-packages/xgboost/core.py:158: UserWarning: [19:09:23] WARNING: /workspace/src/learner.cc:740: \n",
            "Parameters: { \"use_label_encoder\" } are not used.\n",
            "\n",
            "  warnings.warn(smsg, UserWarning)\n",
            "/usr/local/lib/python3.11/dist-packages/xgboost/core.py:158: UserWarning: [19:09:23] WARNING: /workspace/src/learner.cc:740: \n",
            "Parameters: { \"use_label_encoder\" } are not used.\n",
            "\n",
            "  warnings.warn(smsg, UserWarning)\n"
          ]
        },
        {
          "name": "stdout",
          "output_type": "stream",
          "text": [
            "[I 2025-05-13 19:09:23,958] Trial 12 finished with value: 0.6464102564102564 and parameters: {'n_estimators': 778, 'max_depth': 6, 'learning_rate': 0.08590662844488633, 'subsample': 0.5814216034998445, 'colsample_bytree': 0.8514653290725457}. Best is trial 12 with value: 0.6464102564102564.\n"
          ]
        },
        {
          "name": "stderr",
          "output_type": "stream",
          "text": [
            "<ipython-input-6-f34f0a0dda05>:52: FutureWarning: suggest_loguniform has been deprecated in v3.0.0. This feature will be removed in v6.0.0. See https://github.com/optuna/optuna/releases/tag/v3.0.0. Use suggest_float(..., log=True) instead.\n",
            "  'learning_rate': trial.suggest_loguniform('learning_rate', 1e-3, 1e-1),\n",
            "<ipython-input-6-f34f0a0dda05>:53: FutureWarning: suggest_uniform has been deprecated in v3.0.0. This feature will be removed in v6.0.0. See https://github.com/optuna/optuna/releases/tag/v3.0.0. Use suggest_float instead.\n",
            "  'subsample': trial.suggest_uniform('subsample', 0.5, 1.0),\n",
            "<ipython-input-6-f34f0a0dda05>:54: FutureWarning: suggest_uniform has been deprecated in v3.0.0. This feature will be removed in v6.0.0. See https://github.com/optuna/optuna/releases/tag/v3.0.0. Use suggest_float instead.\n",
            "  'colsample_bytree': trial.suggest_uniform('colsample_bytree', 0.5, 1.0),\n",
            "/usr/local/lib/python3.11/dist-packages/xgboost/core.py:158: UserWarning: [19:09:23] WARNING: /workspace/src/learner.cc:740: \n",
            "Parameters: { \"use_label_encoder\" } are not used.\n",
            "\n",
            "  warnings.warn(smsg, UserWarning)\n",
            "/usr/local/lib/python3.11/dist-packages/xgboost/core.py:158: UserWarning: [19:09:24] WARNING: /workspace/src/learner.cc:740: \n",
            "Parameters: { \"use_label_encoder\" } are not used.\n",
            "\n",
            "  warnings.warn(smsg, UserWarning)\n",
            "/usr/local/lib/python3.11/dist-packages/xgboost/core.py:158: UserWarning: [19:09:24] WARNING: /workspace/src/learner.cc:740: \n",
            "Parameters: { \"use_label_encoder\" } are not used.\n",
            "\n",
            "  warnings.warn(smsg, UserWarning)\n",
            "/usr/local/lib/python3.11/dist-packages/xgboost/core.py:158: UserWarning: [19:09:24] WARNING: /workspace/src/learner.cc:740: \n",
            "Parameters: { \"use_label_encoder\" } are not used.\n",
            "\n",
            "  warnings.warn(smsg, UserWarning)\n",
            "/usr/local/lib/python3.11/dist-packages/xgboost/core.py:158: UserWarning: [19:09:25] WARNING: /workspace/src/learner.cc:740: \n",
            "Parameters: { \"use_label_encoder\" } are not used.\n",
            "\n",
            "  warnings.warn(smsg, UserWarning)\n"
          ]
        },
        {
          "name": "stdout",
          "output_type": "stream",
          "text": [
            "[I 2025-05-13 19:09:25,305] Trial 13 finished with value: 0.6397435897435897 and parameters: {'n_estimators': 833, 'max_depth': 5, 'learning_rate': 0.09712085565861722, 'subsample': 0.5616696374693959, 'colsample_bytree': 0.8313758651119927}. Best is trial 12 with value: 0.6464102564102564.\n"
          ]
        },
        {
          "name": "stderr",
          "output_type": "stream",
          "text": [
            "<ipython-input-6-f34f0a0dda05>:52: FutureWarning: suggest_loguniform has been deprecated in v3.0.0. This feature will be removed in v6.0.0. See https://github.com/optuna/optuna/releases/tag/v3.0.0. Use suggest_float(..., log=True) instead.\n",
            "  'learning_rate': trial.suggest_loguniform('learning_rate', 1e-3, 1e-1),\n",
            "<ipython-input-6-f34f0a0dda05>:53: FutureWarning: suggest_uniform has been deprecated in v3.0.0. This feature will be removed in v6.0.0. See https://github.com/optuna/optuna/releases/tag/v3.0.0. Use suggest_float instead.\n",
            "  'subsample': trial.suggest_uniform('subsample', 0.5, 1.0),\n",
            "<ipython-input-6-f34f0a0dda05>:54: FutureWarning: suggest_uniform has been deprecated in v3.0.0. This feature will be removed in v6.0.0. See https://github.com/optuna/optuna/releases/tag/v3.0.0. Use suggest_float instead.\n",
            "  'colsample_bytree': trial.suggest_uniform('colsample_bytree', 0.5, 1.0),\n",
            "/usr/local/lib/python3.11/dist-packages/xgboost/core.py:158: UserWarning: [19:09:25] WARNING: /workspace/src/learner.cc:740: \n",
            "Parameters: { \"use_label_encoder\" } are not used.\n",
            "\n",
            "  warnings.warn(smsg, UserWarning)\n",
            "/usr/local/lib/python3.11/dist-packages/xgboost/core.py:158: UserWarning: [19:09:25] WARNING: /workspace/src/learner.cc:740: \n",
            "Parameters: { \"use_label_encoder\" } are not used.\n",
            "\n",
            "  warnings.warn(smsg, UserWarning)\n",
            "/usr/local/lib/python3.11/dist-packages/xgboost/core.py:158: UserWarning: [19:09:26] WARNING: /workspace/src/learner.cc:740: \n",
            "Parameters: { \"use_label_encoder\" } are not used.\n",
            "\n",
            "  warnings.warn(smsg, UserWarning)\n",
            "/usr/local/lib/python3.11/dist-packages/xgboost/core.py:158: UserWarning: [19:09:26] WARNING: /workspace/src/learner.cc:740: \n",
            "Parameters: { \"use_label_encoder\" } are not used.\n",
            "\n",
            "  warnings.warn(smsg, UserWarning)\n",
            "/usr/local/lib/python3.11/dist-packages/xgboost/core.py:158: UserWarning: [19:09:26] WARNING: /workspace/src/learner.cc:740: \n",
            "Parameters: { \"use_label_encoder\" } are not used.\n",
            "\n",
            "  warnings.warn(smsg, UserWarning)\n"
          ]
        },
        {
          "name": "stdout",
          "output_type": "stream",
          "text": [
            "[I 2025-05-13 19:09:27,023] Trial 14 finished with value: 0.6178742310321257 and parameters: {'n_estimators': 887, 'max_depth': 5, 'learning_rate': 0.05114761456732895, 'subsample': 0.5860647618397057, 'colsample_bytree': 0.8313689814728626}. Best is trial 12 with value: 0.6464102564102564.\n"
          ]
        },
        {
          "name": "stderr",
          "output_type": "stream",
          "text": [
            "<ipython-input-6-f34f0a0dda05>:52: FutureWarning: suggest_loguniform has been deprecated in v3.0.0. This feature will be removed in v6.0.0. See https://github.com/optuna/optuna/releases/tag/v3.0.0. Use suggest_float(..., log=True) instead.\n",
            "  'learning_rate': trial.suggest_loguniform('learning_rate', 1e-3, 1e-1),\n",
            "<ipython-input-6-f34f0a0dda05>:53: FutureWarning: suggest_uniform has been deprecated in v3.0.0. This feature will be removed in v6.0.0. See https://github.com/optuna/optuna/releases/tag/v3.0.0. Use suggest_float instead.\n",
            "  'subsample': trial.suggest_uniform('subsample', 0.5, 1.0),\n",
            "<ipython-input-6-f34f0a0dda05>:54: FutureWarning: suggest_uniform has been deprecated in v3.0.0. This feature will be removed in v6.0.0. See https://github.com/optuna/optuna/releases/tag/v3.0.0. Use suggest_float instead.\n",
            "  'colsample_bytree': trial.suggest_uniform('colsample_bytree', 0.5, 1.0),\n",
            "/usr/local/lib/python3.11/dist-packages/xgboost/core.py:158: UserWarning: [19:09:27] WARNING: /workspace/src/learner.cc:740: \n",
            "Parameters: { \"use_label_encoder\" } are not used.\n",
            "\n",
            "  warnings.warn(smsg, UserWarning)\n",
            "/usr/local/lib/python3.11/dist-packages/xgboost/core.py:158: UserWarning: [19:09:27] WARNING: /workspace/src/learner.cc:740: \n",
            "Parameters: { \"use_label_encoder\" } are not used.\n",
            "\n",
            "  warnings.warn(smsg, UserWarning)\n",
            "/usr/local/lib/python3.11/dist-packages/xgboost/core.py:158: UserWarning: [19:09:27] WARNING: /workspace/src/learner.cc:740: \n",
            "Parameters: { \"use_label_encoder\" } are not used.\n",
            "\n",
            "  warnings.warn(smsg, UserWarning)\n",
            "/usr/local/lib/python3.11/dist-packages/xgboost/core.py:158: UserWarning: [19:09:27] WARNING: /workspace/src/learner.cc:740: \n",
            "Parameters: { \"use_label_encoder\" } are not used.\n",
            "\n",
            "  warnings.warn(smsg, UserWarning)\n",
            "/usr/local/lib/python3.11/dist-packages/xgboost/core.py:158: UserWarning: [19:09:28] WARNING: /workspace/src/learner.cc:740: \n",
            "Parameters: { \"use_label_encoder\" } are not used.\n",
            "\n",
            "  warnings.warn(smsg, UserWarning)\n",
            "<ipython-input-6-f34f0a0dda05>:52: FutureWarning: suggest_loguniform has been deprecated in v3.0.0. This feature will be removed in v6.0.0. See https://github.com/optuna/optuna/releases/tag/v3.0.0. Use suggest_float(..., log=True) instead.\n",
            "  'learning_rate': trial.suggest_loguniform('learning_rate', 1e-3, 1e-1),\n",
            "<ipython-input-6-f34f0a0dda05>:53: FutureWarning: suggest_uniform has been deprecated in v3.0.0. This feature will be removed in v6.0.0. See https://github.com/optuna/optuna/releases/tag/v3.0.0. Use suggest_float instead.\n",
            "  'subsample': trial.suggest_uniform('subsample', 0.5, 1.0),\n",
            "<ipython-input-6-f34f0a0dda05>:54: FutureWarning: suggest_uniform has been deprecated in v3.0.0. This feature will be removed in v6.0.0. See https://github.com/optuna/optuna/releases/tag/v3.0.0. Use suggest_float instead.\n",
            "  'colsample_bytree': trial.suggest_uniform('colsample_bytree', 0.5, 1.0),\n"
          ]
        },
        {
          "name": "stdout",
          "output_type": "stream",
          "text": [
            "[I 2025-05-13 19:09:28,209] Trial 15 finished with value: 0.5853634085213032 and parameters: {'n_estimators': 412, 'max_depth': 5, 'learning_rate': 0.045924901747684106, 'subsample': 0.584263695356704, 'colsample_bytree': 0.83202130181686}. Best is trial 12 with value: 0.6464102564102564.\n"
          ]
        },
        {
          "name": "stderr",
          "output_type": "stream",
          "text": [
            "/usr/local/lib/python3.11/dist-packages/xgboost/core.py:158: UserWarning: [19:09:28] WARNING: /workspace/src/learner.cc:740: \n",
            "Parameters: { \"use_label_encoder\" } are not used.\n",
            "\n",
            "  warnings.warn(smsg, UserWarning)\n",
            "/usr/local/lib/python3.11/dist-packages/xgboost/core.py:158: UserWarning: [19:09:28] WARNING: /workspace/src/learner.cc:740: \n",
            "Parameters: { \"use_label_encoder\" } are not used.\n",
            "\n",
            "  warnings.warn(smsg, UserWarning)\n",
            "/usr/local/lib/python3.11/dist-packages/xgboost/core.py:158: UserWarning: [19:09:30] WARNING: /workspace/src/learner.cc:740: \n",
            "Parameters: { \"use_label_encoder\" } are not used.\n",
            "\n",
            "  warnings.warn(smsg, UserWarning)\n",
            "/usr/local/lib/python3.11/dist-packages/xgboost/core.py:158: UserWarning: [19:09:31] WARNING: /workspace/src/learner.cc:740: \n",
            "Parameters: { \"use_label_encoder\" } are not used.\n",
            "\n",
            "  warnings.warn(smsg, UserWarning)\n",
            "/usr/local/lib/python3.11/dist-packages/xgboost/core.py:158: UserWarning: [19:09:32] WARNING: /workspace/src/learner.cc:740: \n",
            "Parameters: { \"use_label_encoder\" } are not used.\n",
            "\n",
            "  warnings.warn(smsg, UserWarning)\n"
          ]
        },
        {
          "name": "stdout",
          "output_type": "stream",
          "text": [
            "[I 2025-05-13 19:09:32,935] Trial 16 finished with value: 0.5929824561403508 and parameters: {'n_estimators': 999, 'max_depth': 8, 'learning_rate': 0.010468538589608485, 'subsample': 0.7973023555568137, 'colsample_bytree': 0.7724718283182304}. Best is trial 12 with value: 0.6464102564102564.\n"
          ]
        },
        {
          "name": "stderr",
          "output_type": "stream",
          "text": [
            "<ipython-input-6-f34f0a0dda05>:52: FutureWarning: suggest_loguniform has been deprecated in v3.0.0. This feature will be removed in v6.0.0. See https://github.com/optuna/optuna/releases/tag/v3.0.0. Use suggest_float(..., log=True) instead.\n",
            "  'learning_rate': trial.suggest_loguniform('learning_rate', 1e-3, 1e-1),\n",
            "<ipython-input-6-f34f0a0dda05>:53: FutureWarning: suggest_uniform has been deprecated in v3.0.0. This feature will be removed in v6.0.0. See https://github.com/optuna/optuna/releases/tag/v3.0.0. Use suggest_float instead.\n",
            "  'subsample': trial.suggest_uniform('subsample', 0.5, 1.0),\n",
            "<ipython-input-6-f34f0a0dda05>:54: FutureWarning: suggest_uniform has been deprecated in v3.0.0. This feature will be removed in v6.0.0. See https://github.com/optuna/optuna/releases/tag/v3.0.0. Use suggest_float instead.\n",
            "  'colsample_bytree': trial.suggest_uniform('colsample_bytree', 0.5, 1.0),\n",
            "/usr/local/lib/python3.11/dist-packages/xgboost/core.py:158: UserWarning: [19:09:32] WARNING: /workspace/src/learner.cc:740: \n",
            "Parameters: { \"use_label_encoder\" } are not used.\n",
            "\n",
            "  warnings.warn(smsg, UserWarning)\n",
            "/usr/local/lib/python3.11/dist-packages/xgboost/core.py:158: UserWarning: [19:09:33] WARNING: /workspace/src/learner.cc:740: \n",
            "Parameters: { \"use_label_encoder\" } are not used.\n",
            "\n",
            "  warnings.warn(smsg, UserWarning)\n",
            "/usr/local/lib/python3.11/dist-packages/xgboost/core.py:158: UserWarning: [19:09:33] WARNING: /workspace/src/learner.cc:740: \n",
            "Parameters: { \"use_label_encoder\" } are not used.\n",
            "\n",
            "  warnings.warn(smsg, UserWarning)\n",
            "/usr/local/lib/python3.11/dist-packages/xgboost/core.py:158: UserWarning: [19:09:33] WARNING: /workspace/src/learner.cc:740: \n",
            "Parameters: { \"use_label_encoder\" } are not used.\n",
            "\n",
            "  warnings.warn(smsg, UserWarning)\n",
            "/usr/local/lib/python3.11/dist-packages/xgboost/core.py:158: UserWarning: [19:09:34] WARNING: /workspace/src/learner.cc:740: \n",
            "Parameters: { \"use_label_encoder\" } are not used.\n",
            "\n",
            "  warnings.warn(smsg, UserWarning)\n"
          ]
        },
        {
          "name": "stdout",
          "output_type": "stream",
          "text": [
            "[I 2025-05-13 19:09:34,557] Trial 17 finished with value: 0.6317494824016563 and parameters: {'n_estimators': 657, 'max_depth': 5, 'learning_rate': 0.04223859657974118, 'subsample': 0.6555088175387352, 'colsample_bytree': 0.9655709306437723}. Best is trial 12 with value: 0.6464102564102564.\n"
          ]
        },
        {
          "name": "stderr",
          "output_type": "stream",
          "text": [
            "<ipython-input-6-f34f0a0dda05>:52: FutureWarning: suggest_loguniform has been deprecated in v3.0.0. This feature will be removed in v6.0.0. See https://github.com/optuna/optuna/releases/tag/v3.0.0. Use suggest_float(..., log=True) instead.\n",
            "  'learning_rate': trial.suggest_loguniform('learning_rate', 1e-3, 1e-1),\n",
            "<ipython-input-6-f34f0a0dda05>:53: FutureWarning: suggest_uniform has been deprecated in v3.0.0. This feature will be removed in v6.0.0. See https://github.com/optuna/optuna/releases/tag/v3.0.0. Use suggest_float instead.\n",
            "  'subsample': trial.suggest_uniform('subsample', 0.5, 1.0),\n",
            "<ipython-input-6-f34f0a0dda05>:54: FutureWarning: suggest_uniform has been deprecated in v3.0.0. This feature will be removed in v6.0.0. See https://github.com/optuna/optuna/releases/tag/v3.0.0. Use suggest_float instead.\n",
            "  'colsample_bytree': trial.suggest_uniform('colsample_bytree', 0.5, 1.0),\n",
            "/usr/local/lib/python3.11/dist-packages/xgboost/core.py:158: UserWarning: [19:09:34] WARNING: /workspace/src/learner.cc:740: \n",
            "Parameters: { \"use_label_encoder\" } are not used.\n",
            "\n",
            "  warnings.warn(smsg, UserWarning)\n",
            "/usr/local/lib/python3.11/dist-packages/xgboost/core.py:158: UserWarning: [19:09:34] WARNING: /workspace/src/learner.cc:740: \n",
            "Parameters: { \"use_label_encoder\" } are not used.\n",
            "\n",
            "  warnings.warn(smsg, UserWarning)\n",
            "/usr/local/lib/python3.11/dist-packages/xgboost/core.py:158: UserWarning: [19:09:35] WARNING: /workspace/src/learner.cc:740: \n",
            "Parameters: { \"use_label_encoder\" } are not used.\n",
            "\n",
            "  warnings.warn(smsg, UserWarning)\n",
            "/usr/local/lib/python3.11/dist-packages/xgboost/core.py:158: UserWarning: [19:09:35] WARNING: /workspace/src/learner.cc:740: \n",
            "Parameters: { \"use_label_encoder\" } are not used.\n",
            "\n",
            "  warnings.warn(smsg, UserWarning)\n",
            "/usr/local/lib/python3.11/dist-packages/xgboost/core.py:158: UserWarning: [19:09:35] WARNING: /workspace/src/learner.cc:740: \n",
            "Parameters: { \"use_label_encoder\" } are not used.\n",
            "\n",
            "  warnings.warn(smsg, UserWarning)\n"
          ]
        },
        {
          "name": "stdout",
          "output_type": "stream",
          "text": [
            "[I 2025-05-13 19:09:36,027] Trial 18 finished with value: 0.6073751686909581 and parameters: {'n_estimators': 832, 'max_depth': 6, 'learning_rate': 0.09316273098858002, 'subsample': 0.5646123826969752, 'colsample_bytree': 0.8693512648934816}. Best is trial 12 with value: 0.6464102564102564.\n"
          ]
        },
        {
          "name": "stderr",
          "output_type": "stream",
          "text": [
            "<ipython-input-6-f34f0a0dda05>:52: FutureWarning: suggest_loguniform has been deprecated in v3.0.0. This feature will be removed in v6.0.0. See https://github.com/optuna/optuna/releases/tag/v3.0.0. Use suggest_float(..., log=True) instead.\n",
            "  'learning_rate': trial.suggest_loguniform('learning_rate', 1e-3, 1e-1),\n",
            "<ipython-input-6-f34f0a0dda05>:53: FutureWarning: suggest_uniform has been deprecated in v3.0.0. This feature will be removed in v6.0.0. See https://github.com/optuna/optuna/releases/tag/v3.0.0. Use suggest_float instead.\n",
            "  'subsample': trial.suggest_uniform('subsample', 0.5, 1.0),\n",
            "<ipython-input-6-f34f0a0dda05>:54: FutureWarning: suggest_uniform has been deprecated in v3.0.0. This feature will be removed in v6.0.0. See https://github.com/optuna/optuna/releases/tag/v3.0.0. Use suggest_float instead.\n",
            "  'colsample_bytree': trial.suggest_uniform('colsample_bytree', 0.5, 1.0),\n",
            "/usr/local/lib/python3.11/dist-packages/xgboost/core.py:158: UserWarning: [19:09:36] WARNING: /workspace/src/learner.cc:740: \n",
            "Parameters: { \"use_label_encoder\" } are not used.\n",
            "\n",
            "  warnings.warn(smsg, UserWarning)\n",
            "/usr/local/lib/python3.11/dist-packages/xgboost/core.py:158: UserWarning: [19:09:36] WARNING: /workspace/src/learner.cc:740: \n",
            "Parameters: { \"use_label_encoder\" } are not used.\n",
            "\n",
            "  warnings.warn(smsg, UserWarning)\n",
            "/usr/local/lib/python3.11/dist-packages/xgboost/core.py:158: UserWarning: [19:09:36] WARNING: /workspace/src/learner.cc:740: \n",
            "Parameters: { \"use_label_encoder\" } are not used.\n",
            "\n",
            "  warnings.warn(smsg, UserWarning)\n",
            "/usr/local/lib/python3.11/dist-packages/xgboost/core.py:158: UserWarning: [19:09:36] WARNING: /workspace/src/learner.cc:740: \n",
            "Parameters: { \"use_label_encoder\" } are not used.\n",
            "\n",
            "  warnings.warn(smsg, UserWarning)\n",
            "/usr/local/lib/python3.11/dist-packages/xgboost/core.py:158: UserWarning: [19:09:36] WARNING: /workspace/src/learner.cc:740: \n",
            "Parameters: { \"use_label_encoder\" } are not used.\n",
            "\n",
            "  warnings.warn(smsg, UserWarning)\n",
            "<ipython-input-6-f34f0a0dda05>:52: FutureWarning: suggest_loguniform has been deprecated in v3.0.0. This feature will be removed in v6.0.0. See https://github.com/optuna/optuna/releases/tag/v3.0.0. Use suggest_float(..., log=True) instead.\n",
            "  'learning_rate': trial.suggest_loguniform('learning_rate', 1e-3, 1e-1),\n",
            "<ipython-input-6-f34f0a0dda05>:53: FutureWarning: suggest_uniform has been deprecated in v3.0.0. This feature will be removed in v6.0.0. See https://github.com/optuna/optuna/releases/tag/v3.0.0. Use suggest_float instead.\n",
            "  'subsample': trial.suggest_uniform('subsample', 0.5, 1.0),\n",
            "<ipython-input-6-f34f0a0dda05>:54: FutureWarning: suggest_uniform has been deprecated in v3.0.0. This feature will be removed in v6.0.0. See https://github.com/optuna/optuna/releases/tag/v3.0.0. Use suggest_float instead.\n",
            "  'colsample_bytree': trial.suggest_uniform('colsample_bytree', 0.5, 1.0),\n",
            "/usr/local/lib/python3.11/dist-packages/xgboost/core.py:158: UserWarning: [19:09:36] WARNING: /workspace/src/learner.cc:740: \n",
            "Parameters: { \"use_label_encoder\" } are not used.\n",
            "\n",
            "  warnings.warn(smsg, UserWarning)\n"
          ]
        },
        {
          "name": "stdout",
          "output_type": "stream",
          "text": [
            "[I 2025-05-13 19:09:36,647] Trial 19 finished with value: 0.5210207336523125 and parameters: {'n_estimators': 115, 'max_depth': 13, 'learning_rate': 0.01358446603655354, 'subsample': 0.6915749114829279, 'colsample_bytree': 0.7715879782270174}. Best is trial 12 with value: 0.6464102564102564.\n"
          ]
        },
        {
          "name": "stderr",
          "output_type": "stream",
          "text": [
            "/usr/local/lib/python3.11/dist-packages/xgboost/core.py:158: UserWarning: [19:09:37] WARNING: /workspace/src/learner.cc:740: \n",
            "Parameters: { \"use_label_encoder\" } are not used.\n",
            "\n",
            "  warnings.warn(smsg, UserWarning)\n",
            "/usr/local/lib/python3.11/dist-packages/xgboost/core.py:158: UserWarning: [19:09:37] WARNING: /workspace/src/learner.cc:740: \n",
            "Parameters: { \"use_label_encoder\" } are not used.\n",
            "\n",
            "  warnings.warn(smsg, UserWarning)\n",
            "/usr/local/lib/python3.11/dist-packages/xgboost/core.py:158: UserWarning: [19:09:38] WARNING: /workspace/src/learner.cc:740: \n",
            "Parameters: { \"use_label_encoder\" } are not used.\n",
            "\n",
            "  warnings.warn(smsg, UserWarning)\n",
            "/usr/local/lib/python3.11/dist-packages/xgboost/core.py:158: UserWarning: [19:09:38] WARNING: /workspace/src/learner.cc:740: \n",
            "Parameters: { \"use_label_encoder\" } are not used.\n",
            "\n",
            "  warnings.warn(smsg, UserWarning)\n"
          ]
        },
        {
          "name": "stdout",
          "output_type": "stream",
          "text": [
            "[I 2025-05-13 19:09:39,281] Trial 20 finished with value: 0.5528822055137844 and parameters: {'n_estimators': 655, 'max_depth': 9, 'learning_rate': 0.00653605306766875, 'subsample': 0.5526150741350686, 'colsample_bytree': 0.866321091355436}. Best is trial 12 with value: 0.6464102564102564.\n"
          ]
        },
        {
          "name": "stderr",
          "output_type": "stream",
          "text": [
            "<ipython-input-6-f34f0a0dda05>:52: FutureWarning: suggest_loguniform has been deprecated in v3.0.0. This feature will be removed in v6.0.0. See https://github.com/optuna/optuna/releases/tag/v3.0.0. Use suggest_float(..., log=True) instead.\n",
            "  'learning_rate': trial.suggest_loguniform('learning_rate', 1e-3, 1e-1),\n",
            "<ipython-input-6-f34f0a0dda05>:53: FutureWarning: suggest_uniform has been deprecated in v3.0.0. This feature will be removed in v6.0.0. See https://github.com/optuna/optuna/releases/tag/v3.0.0. Use suggest_float instead.\n",
            "  'subsample': trial.suggest_uniform('subsample', 0.5, 1.0),\n",
            "<ipython-input-6-f34f0a0dda05>:54: FutureWarning: suggest_uniform has been deprecated in v3.0.0. This feature will be removed in v6.0.0. See https://github.com/optuna/optuna/releases/tag/v3.0.0. Use suggest_float instead.\n",
            "  'colsample_bytree': trial.suggest_uniform('colsample_bytree', 0.5, 1.0),\n",
            "/usr/local/lib/python3.11/dist-packages/xgboost/core.py:158: UserWarning: [19:09:39] WARNING: /workspace/src/learner.cc:740: \n",
            "Parameters: { \"use_label_encoder\" } are not used.\n",
            "\n",
            "  warnings.warn(smsg, UserWarning)\n",
            "/usr/local/lib/python3.11/dist-packages/xgboost/core.py:158: UserWarning: [19:09:39] WARNING: /workspace/src/learner.cc:740: \n",
            "Parameters: { \"use_label_encoder\" } are not used.\n",
            "\n",
            "  warnings.warn(smsg, UserWarning)\n",
            "/usr/local/lib/python3.11/dist-packages/xgboost/core.py:158: UserWarning: [19:09:39] WARNING: /workspace/src/learner.cc:740: \n",
            "Parameters: { \"use_label_encoder\" } are not used.\n",
            "\n",
            "  warnings.warn(smsg, UserWarning)\n",
            "/usr/local/lib/python3.11/dist-packages/xgboost/core.py:158: UserWarning: [19:09:40] WARNING: /workspace/src/learner.cc:740: \n",
            "Parameters: { \"use_label_encoder\" } are not used.\n",
            "\n",
            "  warnings.warn(smsg, UserWarning)\n",
            "/usr/local/lib/python3.11/dist-packages/xgboost/core.py:158: UserWarning: [19:09:40] WARNING: /workspace/src/learner.cc:740: \n",
            "Parameters: { \"use_label_encoder\" } are not used.\n",
            "\n",
            "  warnings.warn(smsg, UserWarning)\n"
          ]
        },
        {
          "name": "stdout",
          "output_type": "stream",
          "text": [
            "[I 2025-05-13 19:09:40,864] Trial 21 finished with value: 0.6317494824016563 and parameters: {'n_estimators': 668, 'max_depth': 5, 'learning_rate': 0.04773392277712308, 'subsample': 0.6423385186739118, 'colsample_bytree': 0.9903943960332859}. Best is trial 12 with value: 0.6464102564102564.\n"
          ]
        },
        {
          "name": "stderr",
          "output_type": "stream",
          "text": [
            "<ipython-input-6-f34f0a0dda05>:52: FutureWarning: suggest_loguniform has been deprecated in v3.0.0. This feature will be removed in v6.0.0. See https://github.com/optuna/optuna/releases/tag/v3.0.0. Use suggest_float(..., log=True) instead.\n",
            "  'learning_rate': trial.suggest_loguniform('learning_rate', 1e-3, 1e-1),\n",
            "<ipython-input-6-f34f0a0dda05>:53: FutureWarning: suggest_uniform has been deprecated in v3.0.0. This feature will be removed in v6.0.0. See https://github.com/optuna/optuna/releases/tag/v3.0.0. Use suggest_float instead.\n",
            "  'subsample': trial.suggest_uniform('subsample', 0.5, 1.0),\n",
            "<ipython-input-6-f34f0a0dda05>:54: FutureWarning: suggest_uniform has been deprecated in v3.0.0. This feature will be removed in v6.0.0. See https://github.com/optuna/optuna/releases/tag/v3.0.0. Use suggest_float instead.\n",
            "  'colsample_bytree': trial.suggest_uniform('colsample_bytree', 0.5, 1.0),\n",
            "/usr/local/lib/python3.11/dist-packages/xgboost/core.py:158: UserWarning: [19:09:40] WARNING: /workspace/src/learner.cc:740: \n",
            "Parameters: { \"use_label_encoder\" } are not used.\n",
            "\n",
            "  warnings.warn(smsg, UserWarning)\n",
            "/usr/local/lib/python3.11/dist-packages/xgboost/core.py:158: UserWarning: [19:09:42] WARNING: /workspace/src/learner.cc:740: \n",
            "Parameters: { \"use_label_encoder\" } are not used.\n",
            "\n",
            "  warnings.warn(smsg, UserWarning)\n",
            "/usr/local/lib/python3.11/dist-packages/xgboost/core.py:158: UserWarning: [19:09:42] WARNING: /workspace/src/learner.cc:740: \n",
            "Parameters: { \"use_label_encoder\" } are not used.\n",
            "\n",
            "  warnings.warn(smsg, UserWarning)\n",
            "/usr/local/lib/python3.11/dist-packages/xgboost/core.py:158: UserWarning: [19:09:42] WARNING: /workspace/src/learner.cc:740: \n",
            "Parameters: { \"use_label_encoder\" } are not used.\n",
            "\n",
            "  warnings.warn(smsg, UserWarning)\n",
            "/usr/local/lib/python3.11/dist-packages/xgboost/core.py:158: UserWarning: [19:09:43] WARNING: /workspace/src/learner.cc:740: \n",
            "Parameters: { \"use_label_encoder\" } are not used.\n",
            "\n",
            "  warnings.warn(smsg, UserWarning)\n"
          ]
        },
        {
          "name": "stdout",
          "output_type": "stream",
          "text": [
            "[I 2025-05-13 19:09:43,486] Trial 22 finished with value: 0.6443893825472773 and parameters: {'n_estimators': 822, 'max_depth': 4, 'learning_rate': 0.06377149738806386, 'subsample': 0.6404158777119413, 'colsample_bytree': 0.9595763803183478}. Best is trial 12 with value: 0.6464102564102564.\n"
          ]
        },
        {
          "name": "stderr",
          "output_type": "stream",
          "text": [
            "<ipython-input-6-f34f0a0dda05>:52: FutureWarning: suggest_loguniform has been deprecated in v3.0.0. This feature will be removed in v6.0.0. See https://github.com/optuna/optuna/releases/tag/v3.0.0. Use suggest_float(..., log=True) instead.\n",
            "  'learning_rate': trial.suggest_loguniform('learning_rate', 1e-3, 1e-1),\n",
            "<ipython-input-6-f34f0a0dda05>:53: FutureWarning: suggest_uniform has been deprecated in v3.0.0. This feature will be removed in v6.0.0. See https://github.com/optuna/optuna/releases/tag/v3.0.0. Use suggest_float instead.\n",
            "  'subsample': trial.suggest_uniform('subsample', 0.5, 1.0),\n",
            "<ipython-input-6-f34f0a0dda05>:54: FutureWarning: suggest_uniform has been deprecated in v3.0.0. This feature will be removed in v6.0.0. See https://github.com/optuna/optuna/releases/tag/v3.0.0. Use suggest_float instead.\n",
            "  'colsample_bytree': trial.suggest_uniform('colsample_bytree', 0.5, 1.0),\n",
            "/usr/local/lib/python3.11/dist-packages/xgboost/core.py:158: UserWarning: [19:09:43] WARNING: /workspace/src/learner.cc:740: \n",
            "Parameters: { \"use_label_encoder\" } are not used.\n",
            "\n",
            "  warnings.warn(smsg, UserWarning)\n",
            "/usr/local/lib/python3.11/dist-packages/xgboost/core.py:158: UserWarning: [19:09:43] WARNING: /workspace/src/learner.cc:740: \n",
            "Parameters: { \"use_label_encoder\" } are not used.\n",
            "\n",
            "  warnings.warn(smsg, UserWarning)\n",
            "/usr/local/lib/python3.11/dist-packages/xgboost/core.py:158: UserWarning: [19:09:44] WARNING: /workspace/src/learner.cc:740: \n",
            "Parameters: { \"use_label_encoder\" } are not used.\n",
            "\n",
            "  warnings.warn(smsg, UserWarning)\n",
            "/usr/local/lib/python3.11/dist-packages/xgboost/core.py:158: UserWarning: [19:09:44] WARNING: /workspace/src/learner.cc:740: \n",
            "Parameters: { \"use_label_encoder\" } are not used.\n",
            "\n",
            "  warnings.warn(smsg, UserWarning)\n",
            "/usr/local/lib/python3.11/dist-packages/xgboost/core.py:158: UserWarning: [19:09:44] WARNING: /workspace/src/learner.cc:740: \n",
            "Parameters: { \"use_label_encoder\" } are not used.\n",
            "\n",
            "  warnings.warn(smsg, UserWarning)\n"
          ]
        },
        {
          "name": "stdout",
          "output_type": "stream",
          "text": [
            "[I 2025-05-13 19:09:45,025] Trial 23 finished with value: 0.6172727272727272 and parameters: {'n_estimators': 859, 'max_depth': 4, 'learning_rate': 0.06480402389547188, 'subsample': 0.6113374630008653, 'colsample_bytree': 0.9348384091327064}. Best is trial 12 with value: 0.6464102564102564.\n"
          ]
        },
        {
          "name": "stderr",
          "output_type": "stream",
          "text": [
            "<ipython-input-6-f34f0a0dda05>:52: FutureWarning: suggest_loguniform has been deprecated in v3.0.0. This feature will be removed in v6.0.0. See https://github.com/optuna/optuna/releases/tag/v3.0.0. Use suggest_float(..., log=True) instead.\n",
            "  'learning_rate': trial.suggest_loguniform('learning_rate', 1e-3, 1e-1),\n",
            "<ipython-input-6-f34f0a0dda05>:53: FutureWarning: suggest_uniform has been deprecated in v3.0.0. This feature will be removed in v6.0.0. See https://github.com/optuna/optuna/releases/tag/v3.0.0. Use suggest_float instead.\n",
            "  'subsample': trial.suggest_uniform('subsample', 0.5, 1.0),\n",
            "<ipython-input-6-f34f0a0dda05>:54: FutureWarning: suggest_uniform has been deprecated in v3.0.0. This feature will be removed in v6.0.0. See https://github.com/optuna/optuna/releases/tag/v3.0.0. Use suggest_float instead.\n",
            "  'colsample_bytree': trial.suggest_uniform('colsample_bytree', 0.5, 1.0),\n",
            "/usr/local/lib/python3.11/dist-packages/xgboost/core.py:158: UserWarning: [19:09:45] WARNING: /workspace/src/learner.cc:740: \n",
            "Parameters: { \"use_label_encoder\" } are not used.\n",
            "\n",
            "  warnings.warn(smsg, UserWarning)\n",
            "/usr/local/lib/python3.11/dist-packages/xgboost/core.py:158: UserWarning: [19:09:45] WARNING: /workspace/src/learner.cc:740: \n",
            "Parameters: { \"use_label_encoder\" } are not used.\n",
            "\n",
            "  warnings.warn(smsg, UserWarning)\n",
            "/usr/local/lib/python3.11/dist-packages/xgboost/core.py:158: UserWarning: [19:09:45] WARNING: /workspace/src/learner.cc:740: \n",
            "Parameters: { \"use_label_encoder\" } are not used.\n",
            "\n",
            "  warnings.warn(smsg, UserWarning)\n",
            "/usr/local/lib/python3.11/dist-packages/xgboost/core.py:158: UserWarning: [19:09:45] WARNING: /workspace/src/learner.cc:740: \n",
            "Parameters: { \"use_label_encoder\" } are not used.\n",
            "\n",
            "  warnings.warn(smsg, UserWarning)\n",
            "/usr/local/lib/python3.11/dist-packages/xgboost/core.py:158: UserWarning: [19:09:46] WARNING: /workspace/src/learner.cc:740: \n",
            "Parameters: { \"use_label_encoder\" } are not used.\n",
            "\n",
            "  warnings.warn(smsg, UserWarning)\n"
          ]
        },
        {
          "name": "stdout",
          "output_type": "stream",
          "text": [
            "[I 2025-05-13 19:09:46,381] Trial 24 finished with value: 0.6415261209378856 and parameters: {'n_estimators': 788, 'max_depth': 7, 'learning_rate': 0.09915616904423184, 'subsample': 0.5511361765220333, 'colsample_bytree': 0.8725534658123546}. Best is trial 12 with value: 0.6464102564102564.\n"
          ]
        },
        {
          "name": "stderr",
          "output_type": "stream",
          "text": [
            "<ipython-input-6-f34f0a0dda05>:52: FutureWarning: suggest_loguniform has been deprecated in v3.0.0. This feature will be removed in v6.0.0. See https://github.com/optuna/optuna/releases/tag/v3.0.0. Use suggest_float(..., log=True) instead.\n",
            "  'learning_rate': trial.suggest_loguniform('learning_rate', 1e-3, 1e-1),\n",
            "<ipython-input-6-f34f0a0dda05>:53: FutureWarning: suggest_uniform has been deprecated in v3.0.0. This feature will be removed in v6.0.0. See https://github.com/optuna/optuna/releases/tag/v3.0.0. Use suggest_float instead.\n",
            "  'subsample': trial.suggest_uniform('subsample', 0.5, 1.0),\n",
            "<ipython-input-6-f34f0a0dda05>:54: FutureWarning: suggest_uniform has been deprecated in v3.0.0. This feature will be removed in v6.0.0. See https://github.com/optuna/optuna/releases/tag/v3.0.0. Use suggest_float instead.\n",
            "  'colsample_bytree': trial.suggest_uniform('colsample_bytree', 0.5, 1.0),\n",
            "/usr/local/lib/python3.11/dist-packages/xgboost/core.py:158: UserWarning: [19:09:46] WARNING: /workspace/src/learner.cc:740: \n",
            "Parameters: { \"use_label_encoder\" } are not used.\n",
            "\n",
            "  warnings.warn(smsg, UserWarning)\n",
            "/usr/local/lib/python3.11/dist-packages/xgboost/core.py:158: UserWarning: [19:09:46] WARNING: /workspace/src/learner.cc:740: \n",
            "Parameters: { \"use_label_encoder\" } are not used.\n",
            "\n",
            "  warnings.warn(smsg, UserWarning)\n",
            "/usr/local/lib/python3.11/dist-packages/xgboost/core.py:158: UserWarning: [19:09:47] WARNING: /workspace/src/learner.cc:740: \n",
            "Parameters: { \"use_label_encoder\" } are not used.\n",
            "\n",
            "  warnings.warn(smsg, UserWarning)\n",
            "/usr/local/lib/python3.11/dist-packages/xgboost/core.py:158: UserWarning: [19:09:47] WARNING: /workspace/src/learner.cc:740: \n",
            "Parameters: { \"use_label_encoder\" } are not used.\n",
            "\n",
            "  warnings.warn(smsg, UserWarning)\n",
            "/usr/local/lib/python3.11/dist-packages/xgboost/core.py:158: UserWarning: [19:09:47] WARNING: /workspace/src/learner.cc:740: \n",
            "Parameters: { \"use_label_encoder\" } are not used.\n",
            "\n",
            "  warnings.warn(smsg, UserWarning)\n"
          ]
        },
        {
          "name": "stdout",
          "output_type": "stream",
          "text": [
            "[I 2025-05-13 19:09:48,233] Trial 25 finished with value: 0.6006015037593985 and parameters: {'n_estimators': 729, 'max_depth': 7, 'learning_rate': 0.034166216598149335, 'subsample': 0.6816710508612356, 'colsample_bytree': 0.8844728050212332}. Best is trial 12 with value: 0.6464102564102564.\n"
          ]
        },
        {
          "name": "stderr",
          "output_type": "stream",
          "text": [
            "<ipython-input-6-f34f0a0dda05>:52: FutureWarning: suggest_loguniform has been deprecated in v3.0.0. This feature will be removed in v6.0.0. See https://github.com/optuna/optuna/releases/tag/v3.0.0. Use suggest_float(..., log=True) instead.\n",
            "  'learning_rate': trial.suggest_loguniform('learning_rate', 1e-3, 1e-1),\n",
            "<ipython-input-6-f34f0a0dda05>:53: FutureWarning: suggest_uniform has been deprecated in v3.0.0. This feature will be removed in v6.0.0. See https://github.com/optuna/optuna/releases/tag/v3.0.0. Use suggest_float instead.\n",
            "  'subsample': trial.suggest_uniform('subsample', 0.5, 1.0),\n",
            "<ipython-input-6-f34f0a0dda05>:54: FutureWarning: suggest_uniform has been deprecated in v3.0.0. This feature will be removed in v6.0.0. See https://github.com/optuna/optuna/releases/tag/v3.0.0. Use suggest_float instead.\n",
            "  'colsample_bytree': trial.suggest_uniform('colsample_bytree', 0.5, 1.0),\n",
            "/usr/local/lib/python3.11/dist-packages/xgboost/core.py:158: UserWarning: [19:09:48] WARNING: /workspace/src/learner.cc:740: \n",
            "Parameters: { \"use_label_encoder\" } are not used.\n",
            "\n",
            "  warnings.warn(smsg, UserWarning)\n",
            "/usr/local/lib/python3.11/dist-packages/xgboost/core.py:158: UserWarning: [19:09:48] WARNING: /workspace/src/learner.cc:740: \n",
            "Parameters: { \"use_label_encoder\" } are not used.\n",
            "\n",
            "  warnings.warn(smsg, UserWarning)\n",
            "/usr/local/lib/python3.11/dist-packages/xgboost/core.py:158: UserWarning: [19:09:48] WARNING: /workspace/src/learner.cc:740: \n",
            "Parameters: { \"use_label_encoder\" } are not used.\n",
            "\n",
            "  warnings.warn(smsg, UserWarning)\n",
            "/usr/local/lib/python3.11/dist-packages/xgboost/core.py:158: UserWarning: [19:09:49] WARNING: /workspace/src/learner.cc:740: \n",
            "Parameters: { \"use_label_encoder\" } are not used.\n",
            "\n",
            "  warnings.warn(smsg, UserWarning)\n",
            "/usr/local/lib/python3.11/dist-packages/xgboost/core.py:158: UserWarning: [19:09:49] WARNING: /workspace/src/learner.cc:740: \n",
            "Parameters: { \"use_label_encoder\" } are not used.\n",
            "\n",
            "  warnings.warn(smsg, UserWarning)\n"
          ]
        },
        {
          "name": "stdout",
          "output_type": "stream",
          "text": [
            "[I 2025-05-13 19:09:49,587] Trial 26 finished with value: 0.5707142857142856 and parameters: {'n_estimators': 586, 'max_depth': 8, 'learning_rate': 0.06264829027863995, 'subsample': 0.5990106770879938, 'colsample_bytree': 0.9450905898908901}. Best is trial 12 with value: 0.6464102564102564.\n"
          ]
        },
        {
          "name": "stderr",
          "output_type": "stream",
          "text": [
            "<ipython-input-6-f34f0a0dda05>:52: FutureWarning: suggest_loguniform has been deprecated in v3.0.0. This feature will be removed in v6.0.0. See https://github.com/optuna/optuna/releases/tag/v3.0.0. Use suggest_float(..., log=True) instead.\n",
            "  'learning_rate': trial.suggest_loguniform('learning_rate', 1e-3, 1e-1),\n",
            "<ipython-input-6-f34f0a0dda05>:53: FutureWarning: suggest_uniform has been deprecated in v3.0.0. This feature will be removed in v6.0.0. See https://github.com/optuna/optuna/releases/tag/v3.0.0. Use suggest_float instead.\n",
            "  'subsample': trial.suggest_uniform('subsample', 0.5, 1.0),\n",
            "<ipython-input-6-f34f0a0dda05>:54: FutureWarning: suggest_uniform has been deprecated in v3.0.0. This feature will be removed in v6.0.0. See https://github.com/optuna/optuna/releases/tag/v3.0.0. Use suggest_float instead.\n",
            "  'colsample_bytree': trial.suggest_uniform('colsample_bytree', 0.5, 1.0),\n",
            "/usr/local/lib/python3.11/dist-packages/xgboost/core.py:158: UserWarning: [19:09:49] WARNING: /workspace/src/learner.cc:740: \n",
            "Parameters: { \"use_label_encoder\" } are not used.\n",
            "\n",
            "  warnings.warn(smsg, UserWarning)\n",
            "/usr/local/lib/python3.11/dist-packages/xgboost/core.py:158: UserWarning: [19:09:49] WARNING: /workspace/src/learner.cc:740: \n",
            "Parameters: { \"use_label_encoder\" } are not used.\n",
            "\n",
            "  warnings.warn(smsg, UserWarning)\n",
            "/usr/local/lib/python3.11/dist-packages/xgboost/core.py:158: UserWarning: [19:09:50] WARNING: /workspace/src/learner.cc:740: \n",
            "Parameters: { \"use_label_encoder\" } are not used.\n",
            "\n",
            "  warnings.warn(smsg, UserWarning)\n",
            "/usr/local/lib/python3.11/dist-packages/xgboost/core.py:158: UserWarning: [19:09:50] WARNING: /workspace/src/learner.cc:740: \n",
            "Parameters: { \"use_label_encoder\" } are not used.\n",
            "\n",
            "  warnings.warn(smsg, UserWarning)\n",
            "/usr/local/lib/python3.11/dist-packages/xgboost/core.py:158: UserWarning: [19:09:50] WARNING: /workspace/src/learner.cc:740: \n",
            "Parameters: { \"use_label_encoder\" } are not used.\n",
            "\n",
            "  warnings.warn(smsg, UserWarning)\n"
          ]
        },
        {
          "name": "stdout",
          "output_type": "stream",
          "text": [
            "[I 2025-05-13 19:09:50,903] Trial 27 finished with value: 0.5228995840760546 and parameters: {'n_estimators': 452, 'max_depth': 4, 'learning_rate': 0.019552343691412528, 'subsample': 0.5366212371965574, 'colsample_bytree': 0.9663489067862837}. Best is trial 12 with value: 0.6464102564102564.\n"
          ]
        },
        {
          "name": "stderr",
          "output_type": "stream",
          "text": [
            "<ipython-input-6-f34f0a0dda05>:52: FutureWarning: suggest_loguniform has been deprecated in v3.0.0. This feature will be removed in v6.0.0. See https://github.com/optuna/optuna/releases/tag/v3.0.0. Use suggest_float(..., log=True) instead.\n",
            "  'learning_rate': trial.suggest_loguniform('learning_rate', 1e-3, 1e-1),\n",
            "<ipython-input-6-f34f0a0dda05>:53: FutureWarning: suggest_uniform has been deprecated in v3.0.0. This feature will be removed in v6.0.0. See https://github.com/optuna/optuna/releases/tag/v3.0.0. Use suggest_float instead.\n",
            "  'subsample': trial.suggest_uniform('subsample', 0.5, 1.0),\n",
            "<ipython-input-6-f34f0a0dda05>:54: FutureWarning: suggest_uniform has been deprecated in v3.0.0. This feature will be removed in v6.0.0. See https://github.com/optuna/optuna/releases/tag/v3.0.0. Use suggest_float instead.\n",
            "  'colsample_bytree': trial.suggest_uniform('colsample_bytree', 0.5, 1.0),\n",
            "/usr/local/lib/python3.11/dist-packages/xgboost/core.py:158: UserWarning: [19:09:50] WARNING: /workspace/src/learner.cc:740: \n",
            "Parameters: { \"use_label_encoder\" } are not used.\n",
            "\n",
            "  warnings.warn(smsg, UserWarning)\n",
            "/usr/local/lib/python3.11/dist-packages/xgboost/core.py:158: UserWarning: [19:09:51] WARNING: /workspace/src/learner.cc:740: \n",
            "Parameters: { \"use_label_encoder\" } are not used.\n",
            "\n",
            "  warnings.warn(smsg, UserWarning)\n",
            "/usr/local/lib/python3.11/dist-packages/xgboost/core.py:158: UserWarning: [19:09:51] WARNING: /workspace/src/learner.cc:740: \n",
            "Parameters: { \"use_label_encoder\" } are not used.\n",
            "\n",
            "  warnings.warn(smsg, UserWarning)\n",
            "/usr/local/lib/python3.11/dist-packages/xgboost/core.py:158: UserWarning: [19:09:51] WARNING: /workspace/src/learner.cc:740: \n",
            "Parameters: { \"use_label_encoder\" } are not used.\n",
            "\n",
            "  warnings.warn(smsg, UserWarning)\n",
            "/usr/local/lib/python3.11/dist-packages/xgboost/core.py:158: UserWarning: [19:09:52] WARNING: /workspace/src/learner.cc:740: \n",
            "Parameters: { \"use_label_encoder\" } are not used.\n",
            "\n",
            "  warnings.warn(smsg, UserWarning)\n"
          ]
        },
        {
          "name": "stdout",
          "output_type": "stream",
          "text": [
            "[I 2025-05-13 19:09:53,556] Trial 28 finished with value: 0.6443893825472773 and parameters: {'n_estimators': 794, 'max_depth': 6, 'learning_rate': 0.058947951977399715, 'subsample': 0.8044317671503473, 'colsample_bytree': 0.7974525416124282}. Best is trial 12 with value: 0.6464102564102564.\n"
          ]
        },
        {
          "name": "stderr",
          "output_type": "stream",
          "text": [
            "<ipython-input-6-f34f0a0dda05>:52: FutureWarning: suggest_loguniform has been deprecated in v3.0.0. This feature will be removed in v6.0.0. See https://github.com/optuna/optuna/releases/tag/v3.0.0. Use suggest_float(..., log=True) instead.\n",
            "  'learning_rate': trial.suggest_loguniform('learning_rate', 1e-3, 1e-1),\n",
            "<ipython-input-6-f34f0a0dda05>:53: FutureWarning: suggest_uniform has been deprecated in v3.0.0. This feature will be removed in v6.0.0. See https://github.com/optuna/optuna/releases/tag/v3.0.0. Use suggest_float instead.\n",
            "  'subsample': trial.suggest_uniform('subsample', 0.5, 1.0),\n",
            "<ipython-input-6-f34f0a0dda05>:54: FutureWarning: suggest_uniform has been deprecated in v3.0.0. This feature will be removed in v6.0.0. See https://github.com/optuna/optuna/releases/tag/v3.0.0. Use suggest_float instead.\n",
            "  'colsample_bytree': trial.suggest_uniform('colsample_bytree', 0.5, 1.0),\n",
            "/usr/local/lib/python3.11/dist-packages/xgboost/core.py:158: UserWarning: [19:09:53] WARNING: /workspace/src/learner.cc:740: \n",
            "Parameters: { \"use_label_encoder\" } are not used.\n",
            "\n",
            "  warnings.warn(smsg, UserWarning)\n",
            "/usr/local/lib/python3.11/dist-packages/xgboost/core.py:158: UserWarning: [19:09:53] WARNING: /workspace/src/learner.cc:740: \n",
            "Parameters: { \"use_label_encoder\" } are not used.\n",
            "\n",
            "  warnings.warn(smsg, UserWarning)\n",
            "/usr/local/lib/python3.11/dist-packages/xgboost/core.py:158: UserWarning: [19:09:54] WARNING: /workspace/src/learner.cc:740: \n",
            "Parameters: { \"use_label_encoder\" } are not used.\n",
            "\n",
            "  warnings.warn(smsg, UserWarning)\n",
            "/usr/local/lib/python3.11/dist-packages/xgboost/core.py:158: UserWarning: [19:09:54] WARNING: /workspace/src/learner.cc:740: \n",
            "Parameters: { \"use_label_encoder\" } are not used.\n",
            "\n",
            "  warnings.warn(smsg, UserWarning)\n",
            "/usr/local/lib/python3.11/dist-packages/xgboost/core.py:158: UserWarning: [19:09:55] WARNING: /workspace/src/learner.cc:740: \n",
            "Parameters: { \"use_label_encoder\" } are not used.\n",
            "\n",
            "  warnings.warn(smsg, UserWarning)\n"
          ]
        },
        {
          "name": "stdout",
          "output_type": "stream",
          "text": [
            "[I 2025-05-13 19:09:55,417] Trial 29 finished with value: 0.6309523809523809 and parameters: {'n_estimators': 944, 'max_depth': 4, 'learning_rate': 0.03656477432481073, 'subsample': 0.819252399621238, 'colsample_bytree': 0.7939658237024346}. Best is trial 12 with value: 0.6464102564102564.\n"
          ]
        },
        {
          "name": "stderr",
          "output_type": "stream",
          "text": [
            "<ipython-input-6-f34f0a0dda05>:52: FutureWarning: suggest_loguniform has been deprecated in v3.0.0. This feature will be removed in v6.0.0. See https://github.com/optuna/optuna/releases/tag/v3.0.0. Use suggest_float(..., log=True) instead.\n",
            "  'learning_rate': trial.suggest_loguniform('learning_rate', 1e-3, 1e-1),\n",
            "<ipython-input-6-f34f0a0dda05>:53: FutureWarning: suggest_uniform has been deprecated in v3.0.0. This feature will be removed in v6.0.0. See https://github.com/optuna/optuna/releases/tag/v3.0.0. Use suggest_float instead.\n",
            "  'subsample': trial.suggest_uniform('subsample', 0.5, 1.0),\n",
            "<ipython-input-6-f34f0a0dda05>:54: FutureWarning: suggest_uniform has been deprecated in v3.0.0. This feature will be removed in v6.0.0. See https://github.com/optuna/optuna/releases/tag/v3.0.0. Use suggest_float instead.\n",
            "  'colsample_bytree': trial.suggest_uniform('colsample_bytree', 0.5, 1.0),\n",
            "/usr/local/lib/python3.11/dist-packages/xgboost/core.py:158: UserWarning: [19:09:55] WARNING: /workspace/src/learner.cc:740: \n",
            "Parameters: { \"use_label_encoder\" } are not used.\n",
            "\n",
            "  warnings.warn(smsg, UserWarning)\n",
            "/usr/local/lib/python3.11/dist-packages/xgboost/core.py:158: UserWarning: [19:09:55] WARNING: /workspace/src/learner.cc:740: \n",
            "Parameters: { \"use_label_encoder\" } are not used.\n",
            "\n",
            "  warnings.warn(smsg, UserWarning)\n",
            "/usr/local/lib/python3.11/dist-packages/xgboost/core.py:158: UserWarning: [19:09:55] WARNING: /workspace/src/learner.cc:740: \n",
            "Parameters: { \"use_label_encoder\" } are not used.\n",
            "\n",
            "  warnings.warn(smsg, UserWarning)\n",
            "/usr/local/lib/python3.11/dist-packages/xgboost/core.py:158: UserWarning: [19:09:56] WARNING: /workspace/src/learner.cc:740: \n",
            "Parameters: { \"use_label_encoder\" } are not used.\n",
            "\n",
            "  warnings.warn(smsg, UserWarning)\n",
            "/usr/local/lib/python3.11/dist-packages/xgboost/core.py:158: UserWarning: [19:09:56] WARNING: /workspace/src/learner.cc:740: \n",
            "Parameters: { \"use_label_encoder\" } are not used.\n",
            "\n",
            "  warnings.warn(smsg, UserWarning)\n"
          ]
        },
        {
          "name": "stdout",
          "output_type": "stream",
          "text": [
            "[I 2025-05-13 19:09:56,686] Trial 30 finished with value: 0.6192857142857142 and parameters: {'n_estimators': 590, 'max_depth': 6, 'learning_rate': 0.060456111249146224, 'subsample': 0.7345987677379133, 'colsample_bytree': 0.7344236060686326}. Best is trial 12 with value: 0.6464102564102564.\n"
          ]
        },
        {
          "name": "stderr",
          "output_type": "stream",
          "text": [
            "<ipython-input-6-f34f0a0dda05>:52: FutureWarning: suggest_loguniform has been deprecated in v3.0.0. This feature will be removed in v6.0.0. See https://github.com/optuna/optuna/releases/tag/v3.0.0. Use suggest_float(..., log=True) instead.\n",
            "  'learning_rate': trial.suggest_loguniform('learning_rate', 1e-3, 1e-1),\n",
            "<ipython-input-6-f34f0a0dda05>:53: FutureWarning: suggest_uniform has been deprecated in v3.0.0. This feature will be removed in v6.0.0. See https://github.com/optuna/optuna/releases/tag/v3.0.0. Use suggest_float instead.\n",
            "  'subsample': trial.suggest_uniform('subsample', 0.5, 1.0),\n",
            "<ipython-input-6-f34f0a0dda05>:54: FutureWarning: suggest_uniform has been deprecated in v3.0.0. This feature will be removed in v6.0.0. See https://github.com/optuna/optuna/releases/tag/v3.0.0. Use suggest_float instead.\n",
            "  'colsample_bytree': trial.suggest_uniform('colsample_bytree', 0.5, 1.0),\n",
            "/usr/local/lib/python3.11/dist-packages/xgboost/core.py:158: UserWarning: [19:09:56] WARNING: /workspace/src/learner.cc:740: \n",
            "Parameters: { \"use_label_encoder\" } are not used.\n",
            "\n",
            "  warnings.warn(smsg, UserWarning)\n",
            "/usr/local/lib/python3.11/dist-packages/xgboost/core.py:158: UserWarning: [19:09:57] WARNING: /workspace/src/learner.cc:740: \n",
            "Parameters: { \"use_label_encoder\" } are not used.\n",
            "\n",
            "  warnings.warn(smsg, UserWarning)\n",
            "/usr/local/lib/python3.11/dist-packages/xgboost/core.py:158: UserWarning: [19:09:57] WARNING: /workspace/src/learner.cc:740: \n",
            "Parameters: { \"use_label_encoder\" } are not used.\n",
            "\n",
            "  warnings.warn(smsg, UserWarning)\n",
            "/usr/local/lib/python3.11/dist-packages/xgboost/core.py:158: UserWarning: [19:09:57] WARNING: /workspace/src/learner.cc:740: \n",
            "Parameters: { \"use_label_encoder\" } are not used.\n",
            "\n",
            "  warnings.warn(smsg, UserWarning)\n",
            "/usr/local/lib/python3.11/dist-packages/xgboost/core.py:158: UserWarning: [19:09:57] WARNING: /workspace/src/learner.cc:740: \n",
            "Parameters: { \"use_label_encoder\" } are not used.\n",
            "\n",
            "  warnings.warn(smsg, UserWarning)\n"
          ]
        },
        {
          "name": "stdout",
          "output_type": "stream",
          "text": [
            "[I 2025-05-13 19:09:58,179] Trial 31 finished with value: 0.6262075643654591 and parameters: {'n_estimators': 799, 'max_depth': 8, 'learning_rate': 0.06970380990996225, 'subsample': 0.8414275884004313, 'colsample_bytree': 0.8520321446376161}. Best is trial 12 with value: 0.6464102564102564.\n"
          ]
        },
        {
          "name": "stderr",
          "output_type": "stream",
          "text": [
            "<ipython-input-6-f34f0a0dda05>:52: FutureWarning: suggest_loguniform has been deprecated in v3.0.0. This feature will be removed in v6.0.0. See https://github.com/optuna/optuna/releases/tag/v3.0.0. Use suggest_float(..., log=True) instead.\n",
            "  'learning_rate': trial.suggest_loguniform('learning_rate', 1e-3, 1e-1),\n",
            "<ipython-input-6-f34f0a0dda05>:53: FutureWarning: suggest_uniform has been deprecated in v3.0.0. This feature will be removed in v6.0.0. See https://github.com/optuna/optuna/releases/tag/v3.0.0. Use suggest_float instead.\n",
            "  'subsample': trial.suggest_uniform('subsample', 0.5, 1.0),\n",
            "<ipython-input-6-f34f0a0dda05>:54: FutureWarning: suggest_uniform has been deprecated in v3.0.0. This feature will be removed in v6.0.0. See https://github.com/optuna/optuna/releases/tag/v3.0.0. Use suggest_float instead.\n",
            "  'colsample_bytree': trial.suggest_uniform('colsample_bytree', 0.5, 1.0),\n",
            "/usr/local/lib/python3.11/dist-packages/xgboost/core.py:158: UserWarning: [19:09:58] WARNING: /workspace/src/learner.cc:740: \n",
            "Parameters: { \"use_label_encoder\" } are not used.\n",
            "\n",
            "  warnings.warn(smsg, UserWarning)\n",
            "/usr/local/lib/python3.11/dist-packages/xgboost/core.py:158: UserWarning: [19:09:58] WARNING: /workspace/src/learner.cc:740: \n",
            "Parameters: { \"use_label_encoder\" } are not used.\n",
            "\n",
            "  warnings.warn(smsg, UserWarning)\n",
            "/usr/local/lib/python3.11/dist-packages/xgboost/core.py:158: UserWarning: [19:09:58] WARNING: /workspace/src/learner.cc:740: \n",
            "Parameters: { \"use_label_encoder\" } are not used.\n",
            "\n",
            "  warnings.warn(smsg, UserWarning)\n",
            "/usr/local/lib/python3.11/dist-packages/xgboost/core.py:158: UserWarning: [19:09:58] WARNING: /workspace/src/learner.cc:740: \n",
            "Parameters: { \"use_label_encoder\" } are not used.\n",
            "\n",
            "  warnings.warn(smsg, UserWarning)\n",
            "/usr/local/lib/python3.11/dist-packages/xgboost/core.py:158: UserWarning: [19:09:59] WARNING: /workspace/src/learner.cc:740: \n",
            "Parameters: { \"use_label_encoder\" } are not used.\n",
            "\n",
            "  warnings.warn(smsg, UserWarning)\n"
          ]
        },
        {
          "name": "stdout",
          "output_type": "stream",
          "text": [
            "[I 2025-05-13 19:09:59,466] Trial 32 finished with value: 0.5853634085213033 and parameters: {'n_estimators': 724, 'max_depth': 7, 'learning_rate': 0.09182700552751505, 'subsample': 0.7684803658489564, 'colsample_bytree': 0.8854685286380732}. Best is trial 12 with value: 0.6464102564102564.\n"
          ]
        },
        {
          "name": "stderr",
          "output_type": "stream",
          "text": [
            "<ipython-input-6-f34f0a0dda05>:52: FutureWarning: suggest_loguniform has been deprecated in v3.0.0. This feature will be removed in v6.0.0. See https://github.com/optuna/optuna/releases/tag/v3.0.0. Use suggest_float(..., log=True) instead.\n",
            "  'learning_rate': trial.suggest_loguniform('learning_rate', 1e-3, 1e-1),\n",
            "<ipython-input-6-f34f0a0dda05>:53: FutureWarning: suggest_uniform has been deprecated in v3.0.0. This feature will be removed in v6.0.0. See https://github.com/optuna/optuna/releases/tag/v3.0.0. Use suggest_float instead.\n",
            "  'subsample': trial.suggest_uniform('subsample', 0.5, 1.0),\n",
            "<ipython-input-6-f34f0a0dda05>:54: FutureWarning: suggest_uniform has been deprecated in v3.0.0. This feature will be removed in v6.0.0. See https://github.com/optuna/optuna/releases/tag/v3.0.0. Use suggest_float instead.\n",
            "  'colsample_bytree': trial.suggest_uniform('colsample_bytree', 0.5, 1.0),\n",
            "/usr/local/lib/python3.11/dist-packages/xgboost/core.py:158: UserWarning: [19:09:59] WARNING: /workspace/src/learner.cc:740: \n",
            "Parameters: { \"use_label_encoder\" } are not used.\n",
            "\n",
            "  warnings.warn(smsg, UserWarning)\n",
            "/usr/local/lib/python3.11/dist-packages/xgboost/core.py:158: UserWarning: [19:09:59] WARNING: /workspace/src/learner.cc:740: \n",
            "Parameters: { \"use_label_encoder\" } are not used.\n",
            "\n",
            "  warnings.warn(smsg, UserWarning)\n",
            "/usr/local/lib/python3.11/dist-packages/xgboost/core.py:158: UserWarning: [19:10:00] WARNING: /workspace/src/learner.cc:740: \n",
            "Parameters: { \"use_label_encoder\" } are not used.\n",
            "\n",
            "  warnings.warn(smsg, UserWarning)\n",
            "/usr/local/lib/python3.11/dist-packages/xgboost/core.py:158: UserWarning: [19:10:00] WARNING: /workspace/src/learner.cc:740: \n",
            "Parameters: { \"use_label_encoder\" } are not used.\n",
            "\n",
            "  warnings.warn(smsg, UserWarning)\n",
            "/usr/local/lib/python3.11/dist-packages/xgboost/core.py:158: UserWarning: [19:10:01] WARNING: /workspace/src/learner.cc:740: \n",
            "Parameters: { \"use_label_encoder\" } are not used.\n",
            "\n",
            "  warnings.warn(smsg, UserWarning)\n"
          ]
        },
        {
          "name": "stdout",
          "output_type": "stream",
          "text": [
            "[I 2025-05-13 19:10:01,555] Trial 33 finished with value: 0.6185994397759104 and parameters: {'n_estimators': 787, 'max_depth': 6, 'learning_rate': 0.02788829342573329, 'subsample': 0.996022216891224, 'colsample_bytree': 0.7944442056141015}. Best is trial 12 with value: 0.6464102564102564.\n"
          ]
        },
        {
          "name": "stderr",
          "output_type": "stream",
          "text": [
            "<ipython-input-6-f34f0a0dda05>:52: FutureWarning: suggest_loguniform has been deprecated in v3.0.0. This feature will be removed in v6.0.0. See https://github.com/optuna/optuna/releases/tag/v3.0.0. Use suggest_float(..., log=True) instead.\n",
            "  'learning_rate': trial.suggest_loguniform('learning_rate', 1e-3, 1e-1),\n",
            "<ipython-input-6-f34f0a0dda05>:53: FutureWarning: suggest_uniform has been deprecated in v3.0.0. This feature will be removed in v6.0.0. See https://github.com/optuna/optuna/releases/tag/v3.0.0. Use suggest_float instead.\n",
            "  'subsample': trial.suggest_uniform('subsample', 0.5, 1.0),\n",
            "<ipython-input-6-f34f0a0dda05>:54: FutureWarning: suggest_uniform has been deprecated in v3.0.0. This feature will be removed in v6.0.0. See https://github.com/optuna/optuna/releases/tag/v3.0.0. Use suggest_float instead.\n",
            "  'colsample_bytree': trial.suggest_uniform('colsample_bytree', 0.5, 1.0),\n",
            "/usr/local/lib/python3.11/dist-packages/xgboost/core.py:158: UserWarning: [19:10:01] WARNING: /workspace/src/learner.cc:740: \n",
            "Parameters: { \"use_label_encoder\" } are not used.\n",
            "\n",
            "  warnings.warn(smsg, UserWarning)\n",
            "/usr/local/lib/python3.11/dist-packages/xgboost/core.py:158: UserWarning: [19:10:01] WARNING: /workspace/src/learner.cc:740: \n",
            "Parameters: { \"use_label_encoder\" } are not used.\n",
            "\n",
            "  warnings.warn(smsg, UserWarning)\n",
            "/usr/local/lib/python3.11/dist-packages/xgboost/core.py:158: UserWarning: [19:10:02] WARNING: /workspace/src/learner.cc:740: \n",
            "Parameters: { \"use_label_encoder\" } are not used.\n",
            "\n",
            "  warnings.warn(smsg, UserWarning)\n",
            "/usr/local/lib/python3.11/dist-packages/xgboost/core.py:158: UserWarning: [19:10:02] WARNING: /workspace/src/learner.cc:740: \n",
            "Parameters: { \"use_label_encoder\" } are not used.\n",
            "\n",
            "  warnings.warn(smsg, UserWarning)\n",
            "/usr/local/lib/python3.11/dist-packages/xgboost/core.py:158: UserWarning: [19:10:02] WARNING: /workspace/src/learner.cc:740: \n",
            "Parameters: { \"use_label_encoder\" } are not used.\n",
            "\n",
            "  warnings.warn(smsg, UserWarning)\n"
          ]
        },
        {
          "name": "stdout",
          "output_type": "stream",
          "text": [
            "[I 2025-05-13 19:10:02,969] Trial 34 finished with value: 0.6126190476190476 and parameters: {'n_estimators': 709, 'max_depth': 4, 'learning_rate': 0.056740832071077545, 'subsample': 0.6695681815221157, 'colsample_bytree': 0.9084239315454549}. Best is trial 12 with value: 0.6464102564102564.\n"
          ]
        },
        {
          "name": "stderr",
          "output_type": "stream",
          "text": [
            "<ipython-input-6-f34f0a0dda05>:52: FutureWarning: suggest_loguniform has been deprecated in v3.0.0. This feature will be removed in v6.0.0. See https://github.com/optuna/optuna/releases/tag/v3.0.0. Use suggest_float(..., log=True) instead.\n",
            "  'learning_rate': trial.suggest_loguniform('learning_rate', 1e-3, 1e-1),\n",
            "<ipython-input-6-f34f0a0dda05>:53: FutureWarning: suggest_uniform has been deprecated in v3.0.0. This feature will be removed in v6.0.0. See https://github.com/optuna/optuna/releases/tag/v3.0.0. Use suggest_float instead.\n",
            "  'subsample': trial.suggest_uniform('subsample', 0.5, 1.0),\n",
            "<ipython-input-6-f34f0a0dda05>:54: FutureWarning: suggest_uniform has been deprecated in v3.0.0. This feature will be removed in v6.0.0. See https://github.com/optuna/optuna/releases/tag/v3.0.0. Use suggest_float instead.\n",
            "  'colsample_bytree': trial.suggest_uniform('colsample_bytree', 0.5, 1.0),\n",
            "/usr/local/lib/python3.11/dist-packages/xgboost/core.py:158: UserWarning: [19:10:03] WARNING: /workspace/src/learner.cc:740: \n",
            "Parameters: { \"use_label_encoder\" } are not used.\n",
            "\n",
            "  warnings.warn(smsg, UserWarning)\n",
            "/usr/local/lib/python3.11/dist-packages/xgboost/core.py:158: UserWarning: [19:10:03] WARNING: /workspace/src/learner.cc:740: \n",
            "Parameters: { \"use_label_encoder\" } are not used.\n",
            "\n",
            "  warnings.warn(smsg, UserWarning)\n",
            "/usr/local/lib/python3.11/dist-packages/xgboost/core.py:158: UserWarning: [19:10:03] WARNING: /workspace/src/learner.cc:740: \n",
            "Parameters: { \"use_label_encoder\" } are not used.\n",
            "\n",
            "  warnings.warn(smsg, UserWarning)\n",
            "/usr/local/lib/python3.11/dist-packages/xgboost/core.py:158: UserWarning: [19:10:04] WARNING: /workspace/src/learner.cc:740: \n",
            "Parameters: { \"use_label_encoder\" } are not used.\n",
            "\n",
            "  warnings.warn(smsg, UserWarning)\n",
            "/usr/local/lib/python3.11/dist-packages/xgboost/core.py:158: UserWarning: [19:10:05] WARNING: /workspace/src/learner.cc:740: \n",
            "Parameters: { \"use_label_encoder\" } are not used.\n",
            "\n",
            "  warnings.warn(smsg, UserWarning)\n"
          ]
        },
        {
          "name": "stdout",
          "output_type": "stream",
          "text": [
            "[I 2025-05-13 19:10:05,530] Trial 35 finished with value: 0.5096796478375426 and parameters: {'n_estimators': 895, 'max_depth': 6, 'learning_rate': 0.09980508423620964, 'subsample': 0.7153402328025045, 'colsample_bytree': 0.7032337123056218}. Best is trial 12 with value: 0.6464102564102564.\n"
          ]
        },
        {
          "name": "stderr",
          "output_type": "stream",
          "text": [
            "<ipython-input-6-f34f0a0dda05>:52: FutureWarning: suggest_loguniform has been deprecated in v3.0.0. This feature will be removed in v6.0.0. See https://github.com/optuna/optuna/releases/tag/v3.0.0. Use suggest_float(..., log=True) instead.\n",
            "  'learning_rate': trial.suggest_loguniform('learning_rate', 1e-3, 1e-1),\n",
            "<ipython-input-6-f34f0a0dda05>:53: FutureWarning: suggest_uniform has been deprecated in v3.0.0. This feature will be removed in v6.0.0. See https://github.com/optuna/optuna/releases/tag/v3.0.0. Use suggest_float instead.\n",
            "  'subsample': trial.suggest_uniform('subsample', 0.5, 1.0),\n",
            "<ipython-input-6-f34f0a0dda05>:54: FutureWarning: suggest_uniform has been deprecated in v3.0.0. This feature will be removed in v6.0.0. See https://github.com/optuna/optuna/releases/tag/v3.0.0. Use suggest_float instead.\n",
            "  'colsample_bytree': trial.suggest_uniform('colsample_bytree', 0.5, 1.0),\n",
            "/usr/local/lib/python3.11/dist-packages/xgboost/core.py:158: UserWarning: [19:10:05] WARNING: /workspace/src/learner.cc:740: \n",
            "Parameters: { \"use_label_encoder\" } are not used.\n",
            "\n",
            "  warnings.warn(smsg, UserWarning)\n",
            "/usr/local/lib/python3.11/dist-packages/xgboost/core.py:158: UserWarning: [19:10:06] WARNING: /workspace/src/learner.cc:740: \n",
            "Parameters: { \"use_label_encoder\" } are not used.\n",
            "\n",
            "  warnings.warn(smsg, UserWarning)\n",
            "/usr/local/lib/python3.11/dist-packages/xgboost/core.py:158: UserWarning: [19:10:06] WARNING: /workspace/src/learner.cc:740: \n",
            "Parameters: { \"use_label_encoder\" } are not used.\n",
            "\n",
            "  warnings.warn(smsg, UserWarning)\n",
            "/usr/local/lib/python3.11/dist-packages/xgboost/core.py:158: UserWarning: [19:10:06] WARNING: /workspace/src/learner.cc:740: \n",
            "Parameters: { \"use_label_encoder\" } are not used.\n",
            "\n",
            "  warnings.warn(smsg, UserWarning)\n",
            "/usr/local/lib/python3.11/dist-packages/xgboost/core.py:158: UserWarning: [19:10:07] WARNING: /workspace/src/learner.cc:740: \n",
            "Parameters: { \"use_label_encoder\" } are not used.\n",
            "\n",
            "  warnings.warn(smsg, UserWarning)\n"
          ]
        },
        {
          "name": "stdout",
          "output_type": "stream",
          "text": [
            "[I 2025-05-13 19:10:07,750] Trial 36 finished with value: 0.6142857142857142 and parameters: {'n_estimators': 811, 'max_depth': 10, 'learning_rate': 0.03537826271104602, 'subsample': 0.8710043963627997, 'colsample_bytree': 0.941431260560289}. Best is trial 12 with value: 0.6464102564102564.\n"
          ]
        },
        {
          "name": "stderr",
          "output_type": "stream",
          "text": [
            "<ipython-input-6-f34f0a0dda05>:52: FutureWarning: suggest_loguniform has been deprecated in v3.0.0. This feature will be removed in v6.0.0. See https://github.com/optuna/optuna/releases/tag/v3.0.0. Use suggest_float(..., log=True) instead.\n",
            "  'learning_rate': trial.suggest_loguniform('learning_rate', 1e-3, 1e-1),\n",
            "<ipython-input-6-f34f0a0dda05>:53: FutureWarning: suggest_uniform has been deprecated in v3.0.0. This feature will be removed in v6.0.0. See https://github.com/optuna/optuna/releases/tag/v3.0.0. Use suggest_float instead.\n",
            "  'subsample': trial.suggest_uniform('subsample', 0.5, 1.0),\n",
            "<ipython-input-6-f34f0a0dda05>:54: FutureWarning: suggest_uniform has been deprecated in v3.0.0. This feature will be removed in v6.0.0. See https://github.com/optuna/optuna/releases/tag/v3.0.0. Use suggest_float instead.\n",
            "  'colsample_bytree': trial.suggest_uniform('colsample_bytree', 0.5, 1.0),\n",
            "/usr/local/lib/python3.11/dist-packages/xgboost/core.py:158: UserWarning: [19:10:07] WARNING: /workspace/src/learner.cc:740: \n",
            "Parameters: { \"use_label_encoder\" } are not used.\n",
            "\n",
            "  warnings.warn(smsg, UserWarning)\n",
            "/usr/local/lib/python3.11/dist-packages/xgboost/core.py:158: UserWarning: [19:10:08] WARNING: /workspace/src/learner.cc:740: \n",
            "Parameters: { \"use_label_encoder\" } are not used.\n",
            "\n",
            "  warnings.warn(smsg, UserWarning)\n",
            "/usr/local/lib/python3.11/dist-packages/xgboost/core.py:158: UserWarning: [19:10:08] WARNING: /workspace/src/learner.cc:740: \n",
            "Parameters: { \"use_label_encoder\" } are not used.\n",
            "\n",
            "  warnings.warn(smsg, UserWarning)\n",
            "/usr/local/lib/python3.11/dist-packages/xgboost/core.py:158: UserWarning: [19:10:08] WARNING: /workspace/src/learner.cc:740: \n",
            "Parameters: { \"use_label_encoder\" } are not used.\n",
            "\n",
            "  warnings.warn(smsg, UserWarning)\n",
            "/usr/local/lib/python3.11/dist-packages/xgboost/core.py:158: UserWarning: [19:10:08] WARNING: /workspace/src/learner.cc:740: \n",
            "Parameters: { \"use_label_encoder\" } are not used.\n",
            "\n",
            "  warnings.warn(smsg, UserWarning)\n"
          ]
        },
        {
          "name": "stdout",
          "output_type": "stream",
          "text": [
            "[I 2025-05-13 19:10:08,808] Trial 37 finished with value: 0.6057017543859649 and parameters: {'n_estimators': 480, 'max_depth': 8, 'learning_rate': 0.07117361804855236, 'subsample': 0.6257396876731547, 'colsample_bytree': 0.5181912418293388}. Best is trial 12 with value: 0.6464102564102564.\n"
          ]
        },
        {
          "name": "stderr",
          "output_type": "stream",
          "text": [
            "<ipython-input-6-f34f0a0dda05>:52: FutureWarning: suggest_loguniform has been deprecated in v3.0.0. This feature will be removed in v6.0.0. See https://github.com/optuna/optuna/releases/tag/v3.0.0. Use suggest_float(..., log=True) instead.\n",
            "  'learning_rate': trial.suggest_loguniform('learning_rate', 1e-3, 1e-1),\n",
            "<ipython-input-6-f34f0a0dda05>:53: FutureWarning: suggest_uniform has been deprecated in v3.0.0. This feature will be removed in v6.0.0. See https://github.com/optuna/optuna/releases/tag/v3.0.0. Use suggest_float instead.\n",
            "  'subsample': trial.suggest_uniform('subsample', 0.5, 1.0),\n",
            "<ipython-input-6-f34f0a0dda05>:54: FutureWarning: suggest_uniform has been deprecated in v3.0.0. This feature will be removed in v6.0.0. See https://github.com/optuna/optuna/releases/tag/v3.0.0. Use suggest_float instead.\n",
            "  'colsample_bytree': trial.suggest_uniform('colsample_bytree', 0.5, 1.0),\n",
            "/usr/local/lib/python3.11/dist-packages/xgboost/core.py:158: UserWarning: [19:10:08] WARNING: /workspace/src/learner.cc:740: \n",
            "Parameters: { \"use_label_encoder\" } are not used.\n",
            "\n",
            "  warnings.warn(smsg, UserWarning)\n",
            "/usr/local/lib/python3.11/dist-packages/xgboost/core.py:158: UserWarning: [19:10:09] WARNING: /workspace/src/learner.cc:740: \n",
            "Parameters: { \"use_label_encoder\" } are not used.\n",
            "\n",
            "  warnings.warn(smsg, UserWarning)\n",
            "/usr/local/lib/python3.11/dist-packages/xgboost/core.py:158: UserWarning: [19:10:10] WARNING: /workspace/src/learner.cc:740: \n",
            "Parameters: { \"use_label_encoder\" } are not used.\n",
            "\n",
            "  warnings.warn(smsg, UserWarning)\n",
            "/usr/local/lib/python3.11/dist-packages/xgboost/core.py:158: UserWarning: [19:10:10] WARNING: /workspace/src/learner.cc:740: \n",
            "Parameters: { \"use_label_encoder\" } are not used.\n",
            "\n",
            "  warnings.warn(smsg, UserWarning)\n",
            "/usr/local/lib/python3.11/dist-packages/xgboost/core.py:158: UserWarning: [19:10:11] WARNING: /workspace/src/learner.cc:740: \n",
            "Parameters: { \"use_label_encoder\" } are not used.\n",
            "\n",
            "  warnings.warn(smsg, UserWarning)\n"
          ]
        },
        {
          "name": "stdout",
          "output_type": "stream",
          "text": [
            "[I 2025-05-13 19:10:11,639] Trial 38 finished with value: 0.5079365079365079 and parameters: {'n_estimators': 597, 'max_depth': 9, 'learning_rate': 0.006538914016208022, 'subsample': 0.7004651817829008, 'colsample_bytree': 0.8518664015977008}. Best is trial 12 with value: 0.6464102564102564.\n"
          ]
        },
        {
          "name": "stderr",
          "output_type": "stream",
          "text": [
            "<ipython-input-6-f34f0a0dda05>:52: FutureWarning: suggest_loguniform has been deprecated in v3.0.0. This feature will be removed in v6.0.0. See https://github.com/optuna/optuna/releases/tag/v3.0.0. Use suggest_float(..., log=True) instead.\n",
            "  'learning_rate': trial.suggest_loguniform('learning_rate', 1e-3, 1e-1),\n",
            "<ipython-input-6-f34f0a0dda05>:53: FutureWarning: suggest_uniform has been deprecated in v3.0.0. This feature will be removed in v6.0.0. See https://github.com/optuna/optuna/releases/tag/v3.0.0. Use suggest_float instead.\n",
            "  'subsample': trial.suggest_uniform('subsample', 0.5, 1.0),\n",
            "<ipython-input-6-f34f0a0dda05>:54: FutureWarning: suggest_uniform has been deprecated in v3.0.0. This feature will be removed in v6.0.0. See https://github.com/optuna/optuna/releases/tag/v3.0.0. Use suggest_float instead.\n",
            "  'colsample_bytree': trial.suggest_uniform('colsample_bytree', 0.5, 1.0),\n",
            "/usr/local/lib/python3.11/dist-packages/xgboost/core.py:158: UserWarning: [19:10:11] WARNING: /workspace/src/learner.cc:740: \n",
            "Parameters: { \"use_label_encoder\" } are not used.\n",
            "\n",
            "  warnings.warn(smsg, UserWarning)\n",
            "/usr/local/lib/python3.11/dist-packages/xgboost/core.py:158: UserWarning: [19:10:12] WARNING: /workspace/src/learner.cc:740: \n",
            "Parameters: { \"use_label_encoder\" } are not used.\n",
            "\n",
            "  warnings.warn(smsg, UserWarning)\n",
            "/usr/local/lib/python3.11/dist-packages/xgboost/core.py:158: UserWarning: [19:10:12] WARNING: /workspace/src/learner.cc:740: \n",
            "Parameters: { \"use_label_encoder\" } are not used.\n",
            "\n",
            "  warnings.warn(smsg, UserWarning)\n",
            "/usr/local/lib/python3.11/dist-packages/xgboost/core.py:158: UserWarning: [19:10:12] WARNING: /workspace/src/learner.cc:740: \n",
            "Parameters: { \"use_label_encoder\" } are not used.\n",
            "\n",
            "  warnings.warn(smsg, UserWarning)\n",
            "/usr/local/lib/python3.11/dist-packages/xgboost/core.py:158: UserWarning: [19:10:13] WARNING: /workspace/src/learner.cc:740: \n",
            "Parameters: { \"use_label_encoder\" } are not used.\n",
            "\n",
            "  warnings.warn(smsg, UserWarning)\n"
          ]
        },
        {
          "name": "stdout",
          "output_type": "stream",
          "text": [
            "[I 2025-05-13 19:10:13,682] Trial 39 finished with value: 0.6304761904761904 and parameters: {'n_estimators': 946, 'max_depth': 7, 'learning_rate': 0.04290041517821887, 'subsample': 0.9161288464920904, 'colsample_bytree': 0.6665346476134466}. Best is trial 12 with value: 0.6464102564102564.\n"
          ]
        },
        {
          "name": "stderr",
          "output_type": "stream",
          "text": [
            "<ipython-input-6-f34f0a0dda05>:52: FutureWarning: suggest_loguniform has been deprecated in v3.0.0. This feature will be removed in v6.0.0. See https://github.com/optuna/optuna/releases/tag/v3.0.0. Use suggest_float(..., log=True) instead.\n",
            "  'learning_rate': trial.suggest_loguniform('learning_rate', 1e-3, 1e-1),\n",
            "<ipython-input-6-f34f0a0dda05>:53: FutureWarning: suggest_uniform has been deprecated in v3.0.0. This feature will be removed in v6.0.0. See https://github.com/optuna/optuna/releases/tag/v3.0.0. Use suggest_float instead.\n",
            "  'subsample': trial.suggest_uniform('subsample', 0.5, 1.0),\n",
            "<ipython-input-6-f34f0a0dda05>:54: FutureWarning: suggest_uniform has been deprecated in v3.0.0. This feature will be removed in v6.0.0. See https://github.com/optuna/optuna/releases/tag/v3.0.0. Use suggest_float instead.\n",
            "  'colsample_bytree': trial.suggest_uniform('colsample_bytree', 0.5, 1.0),\n",
            "/usr/local/lib/python3.11/dist-packages/xgboost/core.py:158: UserWarning: [19:10:13] WARNING: /workspace/src/learner.cc:740: \n",
            "Parameters: { \"use_label_encoder\" } are not used.\n",
            "\n",
            "  warnings.warn(smsg, UserWarning)\n",
            "/usr/local/lib/python3.11/dist-packages/xgboost/core.py:158: UserWarning: [19:10:14] WARNING: /workspace/src/learner.cc:740: \n",
            "Parameters: { \"use_label_encoder\" } are not used.\n",
            "\n",
            "  warnings.warn(smsg, UserWarning)\n",
            "/usr/local/lib/python3.11/dist-packages/xgboost/core.py:158: UserWarning: [19:10:14] WARNING: /workspace/src/learner.cc:740: \n",
            "Parameters: { \"use_label_encoder\" } are not used.\n",
            "\n",
            "  warnings.warn(smsg, UserWarning)\n",
            "/usr/local/lib/python3.11/dist-packages/xgboost/core.py:158: UserWarning: [19:10:14] WARNING: /workspace/src/learner.cc:740: \n",
            "Parameters: { \"use_label_encoder\" } are not used.\n",
            "\n",
            "  warnings.warn(smsg, UserWarning)\n",
            "/usr/local/lib/python3.11/dist-packages/xgboost/core.py:158: UserWarning: [19:10:16] WARNING: /workspace/src/learner.cc:740: \n",
            "Parameters: { \"use_label_encoder\" } are not used.\n",
            "\n",
            "  warnings.warn(smsg, UserWarning)\n"
          ]
        },
        {
          "name": "stdout",
          "output_type": "stream",
          "text": [
            "[I 2025-05-13 19:10:16,728] Trial 40 finished with value: 0.5565804002760524 and parameters: {'n_estimators': 848, 'max_depth': 3, 'learning_rate': 0.019659438127912217, 'subsample': 0.5020920359262312, 'colsample_bytree': 0.7644038914341014}. Best is trial 12 with value: 0.6464102564102564.\n"
          ]
        },
        {
          "name": "stderr",
          "output_type": "stream",
          "text": [
            "<ipython-input-6-f34f0a0dda05>:52: FutureWarning: suggest_loguniform has been deprecated in v3.0.0. This feature will be removed in v6.0.0. See https://github.com/optuna/optuna/releases/tag/v3.0.0. Use suggest_float(..., log=True) instead.\n",
            "  'learning_rate': trial.suggest_loguniform('learning_rate', 1e-3, 1e-1),\n",
            "<ipython-input-6-f34f0a0dda05>:53: FutureWarning: suggest_uniform has been deprecated in v3.0.0. This feature will be removed in v6.0.0. See https://github.com/optuna/optuna/releases/tag/v3.0.0. Use suggest_float instead.\n",
            "  'subsample': trial.suggest_uniform('subsample', 0.5, 1.0),\n",
            "<ipython-input-6-f34f0a0dda05>:54: FutureWarning: suggest_uniform has been deprecated in v3.0.0. This feature will be removed in v6.0.0. See https://github.com/optuna/optuna/releases/tag/v3.0.0. Use suggest_float instead.\n",
            "  'colsample_bytree': trial.suggest_uniform('colsample_bytree', 0.5, 1.0),\n",
            "/usr/local/lib/python3.11/dist-packages/xgboost/core.py:158: UserWarning: [19:10:16] WARNING: /workspace/src/learner.cc:740: \n",
            "Parameters: { \"use_label_encoder\" } are not used.\n",
            "\n",
            "  warnings.warn(smsg, UserWarning)\n",
            "/usr/local/lib/python3.11/dist-packages/xgboost/core.py:158: UserWarning: [19:10:17] WARNING: /workspace/src/learner.cc:740: \n",
            "Parameters: { \"use_label_encoder\" } are not used.\n",
            "\n",
            "  warnings.warn(smsg, UserWarning)\n",
            "/usr/local/lib/python3.11/dist-packages/xgboost/core.py:158: UserWarning: [19:10:17] WARNING: /workspace/src/learner.cc:740: \n",
            "Parameters: { \"use_label_encoder\" } are not used.\n",
            "\n",
            "  warnings.warn(smsg, UserWarning)\n",
            "/usr/local/lib/python3.11/dist-packages/xgboost/core.py:158: UserWarning: [19:10:17] WARNING: /workspace/src/learner.cc:740: \n",
            "Parameters: { \"use_label_encoder\" } are not used.\n",
            "\n",
            "  warnings.warn(smsg, UserWarning)\n",
            "/usr/local/lib/python3.11/dist-packages/xgboost/core.py:158: UserWarning: [19:10:17] WARNING: /workspace/src/learner.cc:740: \n",
            "Parameters: { \"use_label_encoder\" } are not used.\n",
            "\n",
            "  warnings.warn(smsg, UserWarning)\n"
          ]
        },
        {
          "name": "stdout",
          "output_type": "stream",
          "text": [
            "[I 2025-05-13 19:10:18,077] Trial 41 finished with value: 0.6214102564102564 and parameters: {'n_estimators': 858, 'max_depth': 5, 'learning_rate': 0.09987023794066943, 'subsample': 0.5593612887666345, 'colsample_bytree': 0.8335614455237792}. Best is trial 12 with value: 0.6464102564102564.\n"
          ]
        },
        {
          "name": "stderr",
          "output_type": "stream",
          "text": [
            "<ipython-input-6-f34f0a0dda05>:52: FutureWarning: suggest_loguniform has been deprecated in v3.0.0. This feature will be removed in v6.0.0. See https://github.com/optuna/optuna/releases/tag/v3.0.0. Use suggest_float(..., log=True) instead.\n",
            "  'learning_rate': trial.suggest_loguniform('learning_rate', 1e-3, 1e-1),\n",
            "<ipython-input-6-f34f0a0dda05>:53: FutureWarning: suggest_uniform has been deprecated in v3.0.0. This feature will be removed in v6.0.0. See https://github.com/optuna/optuna/releases/tag/v3.0.0. Use suggest_float instead.\n",
            "  'subsample': trial.suggest_uniform('subsample', 0.5, 1.0),\n",
            "<ipython-input-6-f34f0a0dda05>:54: FutureWarning: suggest_uniform has been deprecated in v3.0.0. This feature will be removed in v6.0.0. See https://github.com/optuna/optuna/releases/tag/v3.0.0. Use suggest_float instead.\n",
            "  'colsample_bytree': trial.suggest_uniform('colsample_bytree', 0.5, 1.0),\n",
            "/usr/local/lib/python3.11/dist-packages/xgboost/core.py:158: UserWarning: [19:10:18] WARNING: /workspace/src/learner.cc:740: \n",
            "Parameters: { \"use_label_encoder\" } are not used.\n",
            "\n",
            "  warnings.warn(smsg, UserWarning)\n",
            "/usr/local/lib/python3.11/dist-packages/xgboost/core.py:158: UserWarning: [19:10:18] WARNING: /workspace/src/learner.cc:740: \n",
            "Parameters: { \"use_label_encoder\" } are not used.\n",
            "\n",
            "  warnings.warn(smsg, UserWarning)\n",
            "/usr/local/lib/python3.11/dist-packages/xgboost/core.py:158: UserWarning: [19:10:18] WARNING: /workspace/src/learner.cc:740: \n",
            "Parameters: { \"use_label_encoder\" } are not used.\n",
            "\n",
            "  warnings.warn(smsg, UserWarning)\n",
            "/usr/local/lib/python3.11/dist-packages/xgboost/core.py:158: UserWarning: [19:10:18] WARNING: /workspace/src/learner.cc:740: \n",
            "Parameters: { \"use_label_encoder\" } are not used.\n",
            "\n",
            "  warnings.warn(smsg, UserWarning)\n",
            "/usr/local/lib/python3.11/dist-packages/xgboost/core.py:158: UserWarning: [19:10:19] WARNING: /workspace/src/learner.cc:740: \n",
            "Parameters: { \"use_label_encoder\" } are not used.\n",
            "\n",
            "  warnings.warn(smsg, UserWarning)\n"
          ]
        },
        {
          "name": "stdout",
          "output_type": "stream",
          "text": [
            "[I 2025-05-13 19:10:19,437] Trial 42 finished with value: 0.6203496503496504 and parameters: {'n_estimators': 777, 'max_depth': 6, 'learning_rate': 0.07643294079913639, 'subsample': 0.5780144612717155, 'colsample_bytree': 0.7234220135282337}. Best is trial 12 with value: 0.6464102564102564.\n"
          ]
        },
        {
          "name": "stderr",
          "output_type": "stream",
          "text": [
            "<ipython-input-6-f34f0a0dda05>:52: FutureWarning: suggest_loguniform has been deprecated in v3.0.0. This feature will be removed in v6.0.0. See https://github.com/optuna/optuna/releases/tag/v3.0.0. Use suggest_float(..., log=True) instead.\n",
            "  'learning_rate': trial.suggest_loguniform('learning_rate', 1e-3, 1e-1),\n",
            "<ipython-input-6-f34f0a0dda05>:53: FutureWarning: suggest_uniform has been deprecated in v3.0.0. This feature will be removed in v6.0.0. See https://github.com/optuna/optuna/releases/tag/v3.0.0. Use suggest_float instead.\n",
            "  'subsample': trial.suggest_uniform('subsample', 0.5, 1.0),\n",
            "<ipython-input-6-f34f0a0dda05>:54: FutureWarning: suggest_uniform has been deprecated in v3.0.0. This feature will be removed in v6.0.0. See https://github.com/optuna/optuna/releases/tag/v3.0.0. Use suggest_float instead.\n",
            "  'colsample_bytree': trial.suggest_uniform('colsample_bytree', 0.5, 1.0),\n",
            "/usr/local/lib/python3.11/dist-packages/xgboost/core.py:158: UserWarning: [19:10:19] WARNING: /workspace/src/learner.cc:740: \n",
            "Parameters: { \"use_label_encoder\" } are not used.\n",
            "\n",
            "  warnings.warn(smsg, UserWarning)\n",
            "/usr/local/lib/python3.11/dist-packages/xgboost/core.py:158: UserWarning: [19:10:19] WARNING: /workspace/src/learner.cc:740: \n",
            "Parameters: { \"use_label_encoder\" } are not used.\n",
            "\n",
            "  warnings.warn(smsg, UserWarning)\n",
            "/usr/local/lib/python3.11/dist-packages/xgboost/core.py:158: UserWarning: [19:10:20] WARNING: /workspace/src/learner.cc:740: \n",
            "Parameters: { \"use_label_encoder\" } are not used.\n",
            "\n",
            "  warnings.warn(smsg, UserWarning)\n",
            "/usr/local/lib/python3.11/dist-packages/xgboost/core.py:158: UserWarning: [19:10:20] WARNING: /workspace/src/learner.cc:740: \n",
            "Parameters: { \"use_label_encoder\" } are not used.\n",
            "\n",
            "  warnings.warn(smsg, UserWarning)\n",
            "/usr/local/lib/python3.11/dist-packages/xgboost/core.py:158: UserWarning: [19:10:20] WARNING: /workspace/src/learner.cc:740: \n",
            "Parameters: { \"use_label_encoder\" } are not used.\n",
            "\n",
            "  warnings.warn(smsg, UserWarning)\n"
          ]
        },
        {
          "name": "stdout",
          "output_type": "stream",
          "text": [
            "[I 2025-05-13 19:10:20,870] Trial 43 finished with value: 0.6154462242562928 and parameters: {'n_estimators': 684, 'max_depth': 4, 'learning_rate': 0.05345784483680994, 'subsample': 0.5375185186267518, 'colsample_bytree': 0.8192024320849715}. Best is trial 12 with value: 0.6464102564102564.\n"
          ]
        },
        {
          "name": "stderr",
          "output_type": "stream",
          "text": [
            "<ipython-input-6-f34f0a0dda05>:52: FutureWarning: suggest_loguniform has been deprecated in v3.0.0. This feature will be removed in v6.0.0. See https://github.com/optuna/optuna/releases/tag/v3.0.0. Use suggest_float(..., log=True) instead.\n",
            "  'learning_rate': trial.suggest_loguniform('learning_rate', 1e-3, 1e-1),\n",
            "<ipython-input-6-f34f0a0dda05>:53: FutureWarning: suggest_uniform has been deprecated in v3.0.0. This feature will be removed in v6.0.0. See https://github.com/optuna/optuna/releases/tag/v3.0.0. Use suggest_float instead.\n",
            "  'subsample': trial.suggest_uniform('subsample', 0.5, 1.0),\n",
            "<ipython-input-6-f34f0a0dda05>:54: FutureWarning: suggest_uniform has been deprecated in v3.0.0. This feature will be removed in v6.0.0. See https://github.com/optuna/optuna/releases/tag/v3.0.0. Use suggest_float instead.\n",
            "  'colsample_bytree': trial.suggest_uniform('colsample_bytree', 0.5, 1.0),\n",
            "/usr/local/lib/python3.11/dist-packages/xgboost/core.py:158: UserWarning: [19:10:20] WARNING: /workspace/src/learner.cc:740: \n",
            "Parameters: { \"use_label_encoder\" } are not used.\n",
            "\n",
            "  warnings.warn(smsg, UserWarning)\n",
            "/usr/local/lib/python3.11/dist-packages/xgboost/core.py:158: UserWarning: [19:10:21] WARNING: /workspace/src/learner.cc:740: \n",
            "Parameters: { \"use_label_encoder\" } are not used.\n",
            "\n",
            "  warnings.warn(smsg, UserWarning)\n",
            "/usr/local/lib/python3.11/dist-packages/xgboost/core.py:158: UserWarning: [19:10:21] WARNING: /workspace/src/learner.cc:740: \n",
            "Parameters: { \"use_label_encoder\" } are not used.\n",
            "\n",
            "  warnings.warn(smsg, UserWarning)\n",
            "/usr/local/lib/python3.11/dist-packages/xgboost/core.py:158: UserWarning: [19:10:21] WARNING: /workspace/src/learner.cc:740: \n",
            "Parameters: { \"use_label_encoder\" } are not used.\n",
            "\n",
            "  warnings.warn(smsg, UserWarning)\n",
            "/usr/local/lib/python3.11/dist-packages/xgboost/core.py:158: UserWarning: [19:10:22] WARNING: /workspace/src/learner.cc:740: \n",
            "Parameters: { \"use_label_encoder\" } are not used.\n",
            "\n",
            "  warnings.warn(smsg, UserWarning)\n"
          ]
        },
        {
          "name": "stdout",
          "output_type": "stream",
          "text": [
            "[I 2025-05-13 19:10:22,438] Trial 44 finished with value: 0.643073593073593 and parameters: {'n_estimators': 913, 'max_depth': 5, 'learning_rate': 0.07793115396014455, 'subsample': 0.6167277275704811, 'colsample_bytree': 0.8889417335130013}. Best is trial 12 with value: 0.6464102564102564.\n"
          ]
        },
        {
          "name": "stderr",
          "output_type": "stream",
          "text": [
            "<ipython-input-6-f34f0a0dda05>:52: FutureWarning: suggest_loguniform has been deprecated in v3.0.0. This feature will be removed in v6.0.0. See https://github.com/optuna/optuna/releases/tag/v3.0.0. Use suggest_float(..., log=True) instead.\n",
            "  'learning_rate': trial.suggest_loguniform('learning_rate', 1e-3, 1e-1),\n",
            "<ipython-input-6-f34f0a0dda05>:53: FutureWarning: suggest_uniform has been deprecated in v3.0.0. This feature will be removed in v6.0.0. See https://github.com/optuna/optuna/releases/tag/v3.0.0. Use suggest_float instead.\n",
            "  'subsample': trial.suggest_uniform('subsample', 0.5, 1.0),\n",
            "<ipython-input-6-f34f0a0dda05>:54: FutureWarning: suggest_uniform has been deprecated in v3.0.0. This feature will be removed in v6.0.0. See https://github.com/optuna/optuna/releases/tag/v3.0.0. Use suggest_float instead.\n",
            "  'colsample_bytree': trial.suggest_uniform('colsample_bytree', 0.5, 1.0),\n",
            "/usr/local/lib/python3.11/dist-packages/xgboost/core.py:158: UserWarning: [19:10:22] WARNING: /workspace/src/learner.cc:740: \n",
            "Parameters: { \"use_label_encoder\" } are not used.\n",
            "\n",
            "  warnings.warn(smsg, UserWarning)\n",
            "/usr/local/lib/python3.11/dist-packages/xgboost/core.py:158: UserWarning: [19:10:23] WARNING: /workspace/src/learner.cc:740: \n",
            "Parameters: { \"use_label_encoder\" } are not used.\n",
            "\n",
            "  warnings.warn(smsg, UserWarning)\n",
            "/usr/local/lib/python3.11/dist-packages/xgboost/core.py:158: UserWarning: [19:10:24] WARNING: /workspace/src/learner.cc:740: \n",
            "Parameters: { \"use_label_encoder\" } are not used.\n",
            "\n",
            "  warnings.warn(smsg, UserWarning)\n",
            "/usr/local/lib/python3.11/dist-packages/xgboost/core.py:158: UserWarning: [19:10:25] WARNING: /workspace/src/learner.cc:740: \n",
            "Parameters: { \"use_label_encoder\" } are not used.\n",
            "\n",
            "  warnings.warn(smsg, UserWarning)\n",
            "/usr/local/lib/python3.11/dist-packages/xgboost/core.py:158: UserWarning: [19:10:25] WARNING: /workspace/src/learner.cc:740: \n",
            "Parameters: { \"use_label_encoder\" } are not used.\n",
            "\n",
            "  warnings.warn(smsg, UserWarning)\n"
          ]
        },
        {
          "name": "stdout",
          "output_type": "stream",
          "text": [
            "[I 2025-05-13 19:10:27,812] Trial 45 finished with value: 0.5109774436090226 and parameters: {'n_estimators': 986, 'max_depth': 14, 'learning_rate': 0.0022998685104375456, 'subsample': 0.6101437256323632, 'colsample_bytree': 0.889626433323528}. Best is trial 12 with value: 0.6464102564102564.\n"
          ]
        },
        {
          "name": "stderr",
          "output_type": "stream",
          "text": [
            "<ipython-input-6-f34f0a0dda05>:52: FutureWarning: suggest_loguniform has been deprecated in v3.0.0. This feature will be removed in v6.0.0. See https://github.com/optuna/optuna/releases/tag/v3.0.0. Use suggest_float(..., log=True) instead.\n",
            "  'learning_rate': trial.suggest_loguniform('learning_rate', 1e-3, 1e-1),\n",
            "<ipython-input-6-f34f0a0dda05>:53: FutureWarning: suggest_uniform has been deprecated in v3.0.0. This feature will be removed in v6.0.0. See https://github.com/optuna/optuna/releases/tag/v3.0.0. Use suggest_float instead.\n",
            "  'subsample': trial.suggest_uniform('subsample', 0.5, 1.0),\n",
            "<ipython-input-6-f34f0a0dda05>:54: FutureWarning: suggest_uniform has been deprecated in v3.0.0. This feature will be removed in v6.0.0. See https://github.com/optuna/optuna/releases/tag/v3.0.0. Use suggest_float instead.\n",
            "  'colsample_bytree': trial.suggest_uniform('colsample_bytree', 0.5, 1.0),\n",
            "/usr/local/lib/python3.11/dist-packages/xgboost/core.py:158: UserWarning: [19:10:27] WARNING: /workspace/src/learner.cc:740: \n",
            "Parameters: { \"use_label_encoder\" } are not used.\n",
            "\n",
            "  warnings.warn(smsg, UserWarning)\n",
            "/usr/local/lib/python3.11/dist-packages/xgboost/core.py:158: UserWarning: [19:10:28] WARNING: /workspace/src/learner.cc:740: \n",
            "Parameters: { \"use_label_encoder\" } are not used.\n",
            "\n",
            "  warnings.warn(smsg, UserWarning)\n",
            "/usr/local/lib/python3.11/dist-packages/xgboost/core.py:158: UserWarning: [19:10:28] WARNING: /workspace/src/learner.cc:740: \n",
            "Parameters: { \"use_label_encoder\" } are not used.\n",
            "\n",
            "  warnings.warn(smsg, UserWarning)\n",
            "/usr/local/lib/python3.11/dist-packages/xgboost/core.py:158: UserWarning: [19:10:28] WARNING: /workspace/src/learner.cc:740: \n",
            "Parameters: { \"use_label_encoder\" } are not used.\n",
            "\n",
            "  warnings.warn(smsg, UserWarning)\n",
            "/usr/local/lib/python3.11/dist-packages/xgboost/core.py:158: UserWarning: [19:10:29] WARNING: /workspace/src/learner.cc:740: \n",
            "Parameters: { \"use_label_encoder\" } are not used.\n",
            "\n",
            "  warnings.warn(smsg, UserWarning)\n"
          ]
        },
        {
          "name": "stdout",
          "output_type": "stream",
          "text": [
            "[I 2025-05-13 19:10:29,431] Trial 46 finished with value: 0.6049999999999999 and parameters: {'n_estimators': 918, 'max_depth': 7, 'learning_rate': 0.07660488376690362, 'subsample': 0.648940255511419, 'colsample_bytree': 0.923743035956436}. Best is trial 12 with value: 0.6464102564102564.\n"
          ]
        },
        {
          "name": "stderr",
          "output_type": "stream",
          "text": [
            "<ipython-input-6-f34f0a0dda05>:52: FutureWarning: suggest_loguniform has been deprecated in v3.0.0. This feature will be removed in v6.0.0. See https://github.com/optuna/optuna/releases/tag/v3.0.0. Use suggest_float(..., log=True) instead.\n",
            "  'learning_rate': trial.suggest_loguniform('learning_rate', 1e-3, 1e-1),\n",
            "<ipython-input-6-f34f0a0dda05>:53: FutureWarning: suggest_uniform has been deprecated in v3.0.0. This feature will be removed in v6.0.0. See https://github.com/optuna/optuna/releases/tag/v3.0.0. Use suggest_float instead.\n",
            "  'subsample': trial.suggest_uniform('subsample', 0.5, 1.0),\n",
            "<ipython-input-6-f34f0a0dda05>:54: FutureWarning: suggest_uniform has been deprecated in v3.0.0. This feature will be removed in v6.0.0. See https://github.com/optuna/optuna/releases/tag/v3.0.0. Use suggest_float instead.\n",
            "  'colsample_bytree': trial.suggest_uniform('colsample_bytree', 0.5, 1.0),\n",
            "/usr/local/lib/python3.11/dist-packages/xgboost/core.py:158: UserWarning: [19:10:29] WARNING: /workspace/src/learner.cc:740: \n",
            "Parameters: { \"use_label_encoder\" } are not used.\n",
            "\n",
            "  warnings.warn(smsg, UserWarning)\n",
            "/usr/local/lib/python3.11/dist-packages/xgboost/core.py:158: UserWarning: [19:10:29] WARNING: /workspace/src/learner.cc:740: \n",
            "Parameters: { \"use_label_encoder\" } are not used.\n",
            "\n",
            "  warnings.warn(smsg, UserWarning)\n",
            "/usr/local/lib/python3.11/dist-packages/xgboost/core.py:158: UserWarning: [19:10:29] WARNING: /workspace/src/learner.cc:740: \n",
            "Parameters: { \"use_label_encoder\" } are not used.\n",
            "\n",
            "  warnings.warn(smsg, UserWarning)\n",
            "/usr/local/lib/python3.11/dist-packages/xgboost/core.py:158: UserWarning: [19:10:30] WARNING: /workspace/src/learner.cc:740: \n",
            "Parameters: { \"use_label_encoder\" } are not used.\n",
            "\n",
            "  warnings.warn(smsg, UserWarning)\n",
            "/usr/local/lib/python3.11/dist-packages/xgboost/core.py:158: UserWarning: [19:10:30] WARNING: /workspace/src/learner.cc:740: \n",
            "Parameters: { \"use_label_encoder\" } are not used.\n",
            "\n",
            "  warnings.warn(smsg, UserWarning)\n"
          ]
        },
        {
          "name": "stdout",
          "output_type": "stream",
          "text": [
            "[I 2025-05-13 19:10:30,737] Trial 47 finished with value: 0.6316666666666666 and parameters: {'n_estimators': 752, 'max_depth': 3, 'learning_rate': 0.0782989076844053, 'subsample': 0.7579340677523608, 'colsample_bytree': 0.9732762395733994}. Best is trial 12 with value: 0.6464102564102564.\n"
          ]
        },
        {
          "name": "stderr",
          "output_type": "stream",
          "text": [
            "<ipython-input-6-f34f0a0dda05>:52: FutureWarning: suggest_loguniform has been deprecated in v3.0.0. This feature will be removed in v6.0.0. See https://github.com/optuna/optuna/releases/tag/v3.0.0. Use suggest_float(..., log=True) instead.\n",
            "  'learning_rate': trial.suggest_loguniform('learning_rate', 1e-3, 1e-1),\n",
            "<ipython-input-6-f34f0a0dda05>:53: FutureWarning: suggest_uniform has been deprecated in v3.0.0. This feature will be removed in v6.0.0. See https://github.com/optuna/optuna/releases/tag/v3.0.0. Use suggest_float instead.\n",
            "  'subsample': trial.suggest_uniform('subsample', 0.5, 1.0),\n",
            "<ipython-input-6-f34f0a0dda05>:54: FutureWarning: suggest_uniform has been deprecated in v3.0.0. This feature will be removed in v6.0.0. See https://github.com/optuna/optuna/releases/tag/v3.0.0. Use suggest_float instead.\n",
            "  'colsample_bytree': trial.suggest_uniform('colsample_bytree', 0.5, 1.0),\n",
            "/usr/local/lib/python3.11/dist-packages/xgboost/core.py:158: UserWarning: [19:10:30] WARNING: /workspace/src/learner.cc:740: \n",
            "Parameters: { \"use_label_encoder\" } are not used.\n",
            "\n",
            "  warnings.warn(smsg, UserWarning)\n",
            "/usr/local/lib/python3.11/dist-packages/xgboost/core.py:158: UserWarning: [19:10:31] WARNING: /workspace/src/learner.cc:740: \n",
            "Parameters: { \"use_label_encoder\" } are not used.\n",
            "\n",
            "  warnings.warn(smsg, UserWarning)\n",
            "/usr/local/lib/python3.11/dist-packages/xgboost/core.py:158: UserWarning: [19:10:32] WARNING: /workspace/src/learner.cc:740: \n",
            "Parameters: { \"use_label_encoder\" } are not used.\n",
            "\n",
            "  warnings.warn(smsg, UserWarning)\n",
            "/usr/local/lib/python3.11/dist-packages/xgboost/core.py:158: UserWarning: [19:10:32] WARNING: /workspace/src/learner.cc:740: \n",
            "Parameters: { \"use_label_encoder\" } are not used.\n",
            "\n",
            "  warnings.warn(smsg, UserWarning)\n",
            "/usr/local/lib/python3.11/dist-packages/xgboost/core.py:158: UserWarning: [19:10:33] WARNING: /workspace/src/learner.cc:740: \n",
            "Parameters: { \"use_label_encoder\" } are not used.\n",
            "\n",
            "  warnings.warn(smsg, UserWarning)\n"
          ]
        },
        {
          "name": "stdout",
          "output_type": "stream",
          "text": [
            "[I 2025-05-13 19:10:34,296] Trial 48 finished with value: 0.5313227513227512 and parameters: {'n_estimators': 888, 'max_depth': 6, 'learning_rate': 0.0010878469123612032, 'subsample': 0.7955488661696822, 'colsample_bytree': 0.7920064857789181}. Best is trial 12 with value: 0.6464102564102564.\n"
          ]
        },
        {
          "name": "stderr",
          "output_type": "stream",
          "text": [
            "<ipython-input-6-f34f0a0dda05>:52: FutureWarning: suggest_loguniform has been deprecated in v3.0.0. This feature will be removed in v6.0.0. See https://github.com/optuna/optuna/releases/tag/v3.0.0. Use suggest_float(..., log=True) instead.\n",
            "  'learning_rate': trial.suggest_loguniform('learning_rate', 1e-3, 1e-1),\n",
            "<ipython-input-6-f34f0a0dda05>:53: FutureWarning: suggest_uniform has been deprecated in v3.0.0. This feature will be removed in v6.0.0. See https://github.com/optuna/optuna/releases/tag/v3.0.0. Use suggest_float instead.\n",
            "  'subsample': trial.suggest_uniform('subsample', 0.5, 1.0),\n",
            "<ipython-input-6-f34f0a0dda05>:54: FutureWarning: suggest_uniform has been deprecated in v3.0.0. This feature will be removed in v6.0.0. See https://github.com/optuna/optuna/releases/tag/v3.0.0. Use suggest_float instead.\n",
            "  'colsample_bytree': trial.suggest_uniform('colsample_bytree', 0.5, 1.0),\n",
            "/usr/local/lib/python3.11/dist-packages/xgboost/core.py:158: UserWarning: [19:10:34] WARNING: /workspace/src/learner.cc:740: \n",
            "Parameters: { \"use_label_encoder\" } are not used.\n",
            "\n",
            "  warnings.warn(smsg, UserWarning)\n",
            "/usr/local/lib/python3.11/dist-packages/xgboost/core.py:158: UserWarning: [19:10:34] WARNING: /workspace/src/learner.cc:740: \n",
            "Parameters: { \"use_label_encoder\" } are not used.\n",
            "\n",
            "  warnings.warn(smsg, UserWarning)\n",
            "/usr/local/lib/python3.11/dist-packages/xgboost/core.py:158: UserWarning: [19:10:34] WARNING: /workspace/src/learner.cc:740: \n",
            "Parameters: { \"use_label_encoder\" } are not used.\n",
            "\n",
            "  warnings.warn(smsg, UserWarning)\n",
            "/usr/local/lib/python3.11/dist-packages/xgboost/core.py:158: UserWarning: [19:10:34] WARNING: /workspace/src/learner.cc:740: \n",
            "Parameters: { \"use_label_encoder\" } are not used.\n",
            "\n",
            "  warnings.warn(smsg, UserWarning)\n",
            "/usr/local/lib/python3.11/dist-packages/xgboost/core.py:158: UserWarning: [19:10:35] WARNING: /workspace/src/learner.cc:740: \n",
            "Parameters: { \"use_label_encoder\" } are not used.\n",
            "\n",
            "  warnings.warn(smsg, UserWarning)\n"
          ]
        },
        {
          "name": "stdout",
          "output_type": "stream",
          "text": [
            "[I 2025-05-13 19:10:35,390] Trial 49 finished with value: 0.5547237076648841 and parameters: {'n_estimators': 345, 'max_depth': 5, 'learning_rate': 0.03216670182539319, 'subsample': 0.5961831962875125, 'colsample_bytree': 0.8600031725812072}. Best is trial 12 with value: 0.6464102564102564.\n",
            "Random Forest Test Report:\n",
            "              precision    recall  f1-score   support\n",
            "\n",
            "         0.0      0.962     0.996     0.979       229\n",
            "         1.0      0.667     0.182     0.286        11\n",
            "\n",
            "    accuracy                          0.958       240\n",
            "   macro avg      0.814     0.589     0.632       240\n",
            "weighted avg      0.948     0.958     0.947       240\n",
            "\n",
            "\n",
            "XGBoost Test Report:\n",
            "              precision    recall  f1-score   support\n",
            "\n",
            "         0.0      0.974     1.000     0.987       229\n",
            "         1.0      1.000     0.455     0.625        11\n",
            "\n",
            "    accuracy                          0.975       240\n",
            "   macro avg      0.987     0.727     0.806       240\n",
            "weighted avg      0.976     0.975     0.970       240\n",
            "\n",
            "Best RF params: {'n_estimators': 997, 'max_depth': 13, 'min_samples_split': 8, 'min_samples_leaf': 3, 'max_features': 'log2'}\n",
            "Best XGB params: {'n_estimators': 778, 'max_depth': 6, 'learning_rate': 0.08590662844488633, 'subsample': 0.5814216034998445, 'colsample_bytree': 0.8514653290725457}\n"
          ]
        }
      ],
      "source": [
        "import optuna\n",
        "import pandas as pd\n",
        "import numpy as np\n",
        "\n",
        "from sklearn.model_selection import train_test_split, cross_val_score\n",
        "from sklearn.impute import SimpleImputer\n",
        "from sklearn.metrics import make_scorer, f1_score, classification_report\n",
        "from sklearn.ensemble import RandomForestClassifier\n",
        "import xgboost as xgb\n",
        "\n",
        "# 1. Load DS A\n",
        "df = pd.read_csv('fd.csv')\n",
        "X = df.drop(columns=['Bleaching'])\n",
        "y = df['Bleaching']\n",
        "\n",
        "# 2. Train/test split\n",
        "X_train, X_test, y_train, y_test = train_test_split(\n",
        "    X, y, test_size=0.2, stratify=y, random_state=42\n",
        ")\n",
        "\n",
        "# 3. Impute missing values\n",
        "imputer = SimpleImputer(strategy='median')\n",
        "X_train_imp = imputer.fit_transform(X_train)\n",
        "X_test_imp  = imputer.transform(X_test)\n",
        "\n",
        "# 4. Define F1 scorer\n",
        "f1_scorer = make_scorer(f1_score, pos_label=1)\n",
        "\n",
        "# 5. RF objective for Optuna\n",
        "def rf_objective(trial):\n",
        "    params = {\n",
        "        'n_estimators': trial.suggest_int('n_estimators', 100, 1000),\n",
        "        'max_depth': trial.suggest_int('max_depth', 5, 50),\n",
        "        'min_samples_split': trial.suggest_int('min_samples_split', 2, 20),\n",
        "        'min_samples_leaf': trial.suggest_int('min_samples_leaf', 1, 10),\n",
        "        'max_features': trial.suggest_categorical('max_features', ['sqrt', 'log2']),\n",
        "        'class_weight': 'balanced'\n",
        "    }\n",
        "    model = RandomForestClassifier(**params, random_state=42, n_jobs=-1)\n",
        "    scores = cross_val_score(model, X_train_imp, y_train, cv=5, scoring=f1_scorer)\n",
        "    return scores.mean()\n",
        "\n",
        "# 6. XGB objective for Optuna\n",
        "neg = (y_train == 0).sum()\n",
        "pos = (y_train == 1).sum()\n",
        "scale_pos_weight = neg / pos\n",
        "\n",
        "def xgb_objective(trial):\n",
        "    params = {\n",
        "        'n_estimators': trial.suggest_int('n_estimators', 100, 1000),\n",
        "        'max_depth': trial.suggest_int('max_depth', 3, 15),\n",
        "        'learning_rate': trial.suggest_loguniform('learning_rate', 1e-3, 1e-1),\n",
        "        'subsample': trial.suggest_uniform('subsample', 0.5, 1.0),\n",
        "        'colsample_bytree': trial.suggest_uniform('colsample_bytree', 0.5, 1.0),\n",
        "        'scale_pos_weight': scale_pos_weight,\n",
        "        'use_label_encoder': False,\n",
        "        'eval_metric': 'logloss'\n",
        "    }\n",
        "    model = xgb.XGBClassifier(**params, random_state=42, n_jobs=-1)\n",
        "    scores = cross_val_score(model, X_train_imp, y_train, cv=5, scoring=f1_scorer)\n",
        "    return scores.mean()\n",
        "\n",
        "# 7. Run Optuna studies\n",
        "rf_study = optuna.create_study(direction='maximize')\n",
        "rf_study.optimize(rf_objective, n_trials=50, show_progress_bar=True)\n",
        "\n",
        "xgb_study = optuna.create_study(direction='maximize')\n",
        "xgb_study.optimize(xgb_objective, n_trials=50, show_progress_bar=True)\n",
        "\n",
        "# 8. Train final models with best params\n",
        "best_rf = RandomForestClassifier(**rf_study.best_params, random_state=42, n_jobs=-1)\n",
        "best_rf.fit(X_train_imp, y_train)\n",
        "\n",
        "best_xgb = xgb.XGBClassifier(**xgb_study.best_params, random_state=42, n_jobs=-1)\n",
        "best_xgb.fit(X_train_imp, y_train)\n",
        "\n",
        "# 9. Evaluate on test set\n",
        "y_pred_rf  = best_rf.predict(X_test_imp)\n",
        "y_pred_xgb = best_xgb.predict(X_test_imp)\n",
        "\n",
        "print(\"Random Forest Test Report:\")\n",
        "print(classification_report(y_test, y_pred_rf, digits=3))\n",
        "\n",
        "print(\"\\nXGBoost Test Report:\")\n",
        "print(classification_report(y_test, y_pred_xgb, digits=3))\n",
        "\n",
        "# 10. Best hyperparameters\n",
        "print(\"Best RF params:\", rf_study.best_params)\n",
        "print(\"Best XGB params:\", xgb_study.best_params)"
      ]
    },
    {
      "cell_type": "code",
      "execution_count": 7,
      "metadata": {
        "colab": {
          "base_uri": "https://localhost:8080/"
        },
        "id": "TuI9GVsMERaQ",
        "outputId": "3ef2c6b1-4031-4aa3-d568-40644f5b9156"
      },
      "outputs": [
        {
          "name": "stdout",
          "output_type": "stream",
          "text": [
            "Fitting 5 folds for each of 30 candidates, totalling 150 fits\n",
            "Best RF params: {'clf__n_estimators': 500, 'clf__min_samples_leaf': 1, 'clf__max_depth': 10, 'clf__class_weight': {0: 1, 1: 10}}\n",
            "Fitting 5 folds for each of 30 candidates, totalling 150 fits\n"
          ]
        },
        {
          "name": "stderr",
          "output_type": "stream",
          "text": [
            "/usr/local/lib/python3.11/dist-packages/xgboost/core.py:158: UserWarning: [19:16:16] WARNING: /workspace/src/learner.cc:740: \n",
            "Parameters: { \"use_label_encoder\" } are not used.\n",
            "\n",
            "  warnings.warn(smsg, UserWarning)\n"
          ]
        },
        {
          "name": "stdout",
          "output_type": "stream",
          "text": [
            "Best XGB params: {'clf__subsample': 1.0, 'clf__scale_pos_weight': np.float64(21.325581395348838), 'clf__n_estimators': 500, 'clf__max_depth': 6, 'clf__learning_rate': 0.2}\n"
          ]
        },
        {
          "name": "stderr",
          "output_type": "stream",
          "text": [
            "/usr/local/lib/python3.11/dist-packages/xgboost/core.py:158: UserWarning: [19:16:17] WARNING: /workspace/src/learner.cc:740: \n",
            "Parameters: { \"use_label_encoder\" } are not used.\n",
            "\n",
            "  warnings.warn(smsg, UserWarning)\n",
            "/usr/local/lib/python3.11/dist-packages/sklearn/utils/validation.py:2739: UserWarning: X does not have valid feature names, but SimpleImputer was fitted with feature names\n",
            "  warnings.warn(\n",
            "/usr/local/lib/python3.11/dist-packages/sklearn/utils/validation.py:2739: UserWarning: X does not have valid feature names, but SimpleImputer was fitted with feature names\n",
            "  warnings.warn(\n",
            "/usr/local/lib/python3.11/dist-packages/sklearn/utils/validation.py:2739: UserWarning: X does not have valid feature names, but SimpleImputer was fitted with feature names\n",
            "  warnings.warn(\n"
          ]
        },
        {
          "name": "stdout",
          "output_type": "stream",
          "text": [
            "RF threshold=0.598, val-F2=0.686\n",
            "XGB threshold=0.528, val-F2=0.700\n",
            "\n",
            "RandomForest @ thresh=0.598\n",
            "              precision    recall  f1-score   support\n",
            "\n",
            "         0.0      0.973     0.948     0.960       229\n",
            "         1.0      0.294     0.455     0.357        11\n",
            "\n",
            "    accuracy                          0.925       240\n",
            "   macro avg      0.634     0.701     0.659       240\n",
            "weighted avg      0.942     0.925     0.933       240\n",
            "\n",
            "\n",
            "XGBoost @ thresh=0.528\n",
            "              precision    recall  f1-score   support\n",
            "\n",
            "         0.0      0.978     0.961     0.969       229\n",
            "         1.0      0.400     0.545     0.462        11\n",
            "\n",
            "    accuracy                          0.942       240\n",
            "   macro avg      0.689     0.753     0.715       240\n",
            "weighted avg      0.951     0.942     0.946       240\n",
            "\n"
          ]
        },
        {
          "name": "stderr",
          "output_type": "stream",
          "text": [
            "/usr/local/lib/python3.11/dist-packages/sklearn/utils/validation.py:2739: UserWarning: X does not have valid feature names, but SimpleImputer was fitted with feature names\n",
            "  warnings.warn(\n"
          ]
        }
      ],
      "source": [
        "import pandas as pd\n",
        "import numpy as np\n",
        "\n",
        "from sklearn.model_selection import train_test_split, RandomizedSearchCV\n",
        "from sklearn.impute import SimpleImputer\n",
        "from sklearn.metrics import make_scorer, fbeta_score, precision_recall_curve, classification_report\n",
        "from imblearn.over_sampling import SMOTE\n",
        "from imblearn.pipeline import Pipeline\n",
        "\n",
        "from sklearn.ensemble import RandomForestClassifier\n",
        "import xgboost as xgb\n",
        "\n",
        "# 1. Load DS A\n",
        "df = pd.read_csv('fd.csv')\n",
        "X = df.drop(columns='Bleaching')\n",
        "y = df['Bleaching']\n",
        "\n",
        "# 2. Train/test split\n",
        "X_tr, X_te, y_tr, y_te = train_test_split(\n",
        "    X, y, test_size=0.2, stratify=y, random_state=42\n",
        ")\n",
        "\n",
        "# 3. Build imputing + SMOTE pipeline step\n",
        "imputer = SimpleImputer(strategy='median')\n",
        "smote   = SMOTE(sampling_strategy='minority', random_state=42)\n",
        "\n",
        "# 4. Define an F2 scorer (β=2)\n",
        "f2_scorer = make_scorer(fbeta_score, beta=2, pos_label=1)\n",
        "\n",
        "# 5a. RandomForest pipeline + param grid (including class_weight variants)\n",
        "rf_pipe = Pipeline([\n",
        "    ('impute', imputer),\n",
        "    ('smote',  smote),\n",
        "    ('clf',    RandomForestClassifier(random_state=42, n_jobs=-1))\n",
        "])\n",
        "rf_param = {\n",
        "    # algorithm hyperparams\n",
        "    'clf__n_estimators':   [100,200,500],\n",
        "    'clf__max_depth':      [None,10,20,30],\n",
        "    'clf__min_samples_leaf':[1,2,4],\n",
        "    # try different ways to weight the positives\n",
        "    'clf__class_weight':   [None, 'balanced', {0:1,1:5}, {0:1,1:10}]\n",
        "}\n",
        "\n",
        "rf_search = RandomizedSearchCV(\n",
        "    rf_pipe, rf_param,\n",
        "    n_iter=30, cv=5,\n",
        "    scoring=f2_scorer,\n",
        "    refit=True,\n",
        "    random_state=42, n_jobs=-1, verbose=1\n",
        ")\n",
        "rf_search.fit(X_tr, y_tr)\n",
        "best_rf = rf_search.best_estimator_\n",
        "print(\"Best RF params:\", rf_search.best_params_)\n",
        "\n",
        "# 5b. XGBoost pipeline + param grid (incl. scale_pos_weight)\n",
        "# compute neg/pos ratio once\n",
        "neg, pos = (y_tr==0).sum(), (y_tr==1).sum()\n",
        "scale_pw = neg/pos\n",
        "\n",
        "xgb_pipe = Pipeline([\n",
        "    ('impute', imputer),\n",
        "    ('smote',  smote),\n",
        "    ('clf',    xgb.XGBClassifier(\n",
        "        use_label_encoder=False,\n",
        "        eval_metric='logloss',\n",
        "        random_state=42,\n",
        "        n_jobs=-1\n",
        "    ))\n",
        "])\n",
        "xgb_param = {\n",
        "    'clf__n_estimators':   [100,200,500],\n",
        "    'clf__max_depth':      [3,6,9],\n",
        "    'clf__learning_rate':  [0.01,0.1,0.2],\n",
        "    'clf__subsample':      [0.6,0.8,1.0],\n",
        "    'clf__scale_pos_weight':[scale_pw, scale_pw*2, scale_pw*5]\n",
        "}\n",
        "\n",
        "xgb_search = RandomizedSearchCV(\n",
        "    xgb_pipe, xgb_param,\n",
        "    n_iter=30, cv=5,\n",
        "    scoring=f2_scorer,\n",
        "    refit=True,\n",
        "    random_state=42, n_jobs=-1, verbose=1\n",
        ")\n",
        "xgb_search.fit(X_tr, y_tr)\n",
        "best_xgb = xgb_search.best_estimator_\n",
        "print(\"Best XGB params:\", xgb_search.best_params_)\n",
        "\n",
        "# 6. Threshold-tuning helper to maximize F2 on a small val split\n",
        "def choose_thresh(model, X_val, y_val, beta=2):\n",
        "    probs = model.predict_proba(X_val)[:,1]\n",
        "    p, r, t = precision_recall_curve(y_val, probs)\n",
        "    beta2 = beta**2\n",
        "    f2 = (1+beta2)*(p*r)/(beta2*p + r + 1e-8)\n",
        "    idx = np.nanargmax(f2)\n",
        "    return t[idx], f2[idx]\n",
        "\n",
        "# 7. Split off a val set for threshold tuning\n",
        "X_tr2, X_val, y_tr2, y_val = train_test_split(\n",
        "    X_tr, y_tr, stratify=y_tr, test_size=0.2, random_state=42\n",
        ")\n",
        "\n",
        "# Refit best pipelines on X_tr2\n",
        "best_rf.fit(X_tr2, y_tr2)\n",
        "best_xgb.fit(X_tr2, y_tr2)\n",
        "\n",
        "# Find thresholds that maximize F2 on the val set\n",
        "rf_thresh, rf_f2 = choose_thresh(best_rf, best_rf.named_steps['impute'].transform(X_val), y_val, beta=2)\n",
        "xgb_thresh, xgb_f2 = choose_thresh(best_xgb, best_xgb.named_steps['impute'].transform(X_val), y_val, beta=2)\n",
        "\n",
        "print(f\"RF threshold={rf_thresh:.3f}, val-F2={rf_f2:.3f}\")\n",
        "print(f\"XGB threshold={xgb_thresh:.3f}, val-F2={xgb_f2:.3f}\")\n",
        "\n",
        "# 8. Final evaluation on the hold-out test set\n",
        "X_te_imp = best_rf.named_steps['impute'].transform(X_te)\n",
        "\n",
        "for name, (pipe, thresh) in [\n",
        "    ('RandomForest',(best_rf, rf_thresh)),\n",
        "    ('XGBoost',     (best_xgb, xgb_thresh))\n",
        "]:\n",
        "    probs = pipe.predict_proba(X_te_imp)[:,1]\n",
        "    preds = (probs >= thresh).astype(int)\n",
        "    print(f\"\\n{name} @ thresh={thresh:.3f}\")\n",
        "    print(classification_report(y_te, preds, digits=3))\n"
      ]
    },
    {
      "cell_type": "code",
      "execution_count": 8,
      "metadata": {
        "colab": {
          "base_uri": "https://localhost:8080/"
        },
        "id": "UGeIBqmLFtkP",
        "outputId": "7908b95f-75a6-4068-90dc-cf5829110b52"
      },
      "outputs": [
        {
          "name": "stdout",
          "output_type": "stream",
          "text": [
            "Fitting 5 folds for each of 30 candidates, totalling 150 fits\n",
            "Best RF params: {'clf__n_estimators': 500, 'clf__min_samples_leaf': 4, 'clf__max_depth': 20, 'clf__class_weight': {0: 1, 1: 20}}\n",
            "Fitting 5 folds for each of 30 candidates, totalling 150 fits\n"
          ]
        },
        {
          "name": "stderr",
          "output_type": "stream",
          "text": [
            "/usr/local/lib/python3.11/dist-packages/xgboost/core.py:158: UserWarning: [19:24:29] WARNING: /workspace/src/learner.cc:740: \n",
            "Parameters: { \"use_label_encoder\" } are not used.\n",
            "\n",
            "  warnings.warn(smsg, UserWarning)\n"
          ]
        },
        {
          "name": "stdout",
          "output_type": "stream",
          "text": [
            "Best XGB params: {'clf__subsample': 0.9, 'clf__scale_pos_weight': np.float64(21.325581395348838), 'clf__n_estimators': 200, 'clf__max_depth': 4, 'clf__learning_rate': 0.05}\n"
          ]
        },
        {
          "name": "stderr",
          "output_type": "stream",
          "text": [
            "/usr/local/lib/python3.11/dist-packages/xgboost/core.py:158: UserWarning: [19:24:30] WARNING: /workspace/src/learner.cc:740: \n",
            "Parameters: { \"use_label_encoder\" } are not used.\n",
            "\n",
            "  warnings.warn(smsg, UserWarning)\n",
            "/usr/local/lib/python3.11/dist-packages/sklearn/utils/validation.py:2739: UserWarning: X does not have valid feature names, but SimpleImputer was fitted with feature names\n",
            "  warnings.warn(\n",
            "/usr/local/lib/python3.11/dist-packages/sklearn/utils/validation.py:2739: UserWarning: X does not have valid feature names, but SimpleImputer was fitted with feature names\n",
            "  warnings.warn(\n",
            "/usr/local/lib/python3.11/dist-packages/sklearn/utils/validation.py:2739: UserWarning: X does not have valid feature names, but SimpleImputer was fitted with feature names\n",
            "  warnings.warn(\n"
          ]
        },
        {
          "name": "stdout",
          "output_type": "stream",
          "text": [
            "RF threshold: 0.665, XGB threshold: 0.456\n",
            "\n",
            "RandomForest @ thresh=0.665\n",
            "              precision    recall  f1-score   support\n",
            "\n",
            "         0.0      0.973     0.943     0.958       229\n",
            "         1.0      0.278     0.455     0.345        11\n",
            "\n",
            "    accuracy                          0.921       240\n",
            "   macro avg      0.625     0.699     0.651       240\n",
            "weighted avg      0.941     0.921     0.930       240\n",
            "\n",
            "\n",
            "XGBoost @ thresh=0.456\n",
            "              precision    recall  f1-score   support\n",
            "\n",
            "         0.0      0.977     0.939     0.958       229\n",
            "         1.0      0.300     0.545     0.387        11\n",
            "\n",
            "    accuracy                          0.921       240\n",
            "   macro avg      0.639     0.742     0.672       240\n",
            "weighted avg      0.946     0.921     0.932       240\n",
            "\n"
          ]
        },
        {
          "name": "stderr",
          "output_type": "stream",
          "text": [
            "/usr/local/lib/python3.11/dist-packages/sklearn/utils/validation.py:2739: UserWarning: X does not have valid feature names, but SimpleImputer was fitted with feature names\n",
            "  warnings.warn(\n"
          ]
        }
      ],
      "source": [
        "import pandas as pd\n",
        "import numpy as np\n",
        "\n",
        "from sklearn.model_selection import train_test_split, RandomizedSearchCV\n",
        "from sklearn.impute import SimpleImputer\n",
        "from sklearn.metrics import make_scorer, fbeta_score, precision_recall_curve, classification_report\n",
        "\n",
        "from imblearn.over_sampling import SMOTE, ADASYN\n",
        "from imblearn.pipeline import Pipeline\n",
        "\n",
        "from sklearn.ensemble import RandomForestClassifier\n",
        "import xgboost as xgb\n",
        "\n",
        "# -- 1. Load data --\n",
        "df = pd.read_csv('fd.csv')\n",
        "X = df.drop(columns='Bleaching')\n",
        "y = df['Bleaching']\n",
        "\n",
        "# -- 2. Train/test split --\n",
        "X_tr, X_te, y_tr, y_te = train_test_split(\n",
        "    X, y, test_size=0.2, stratify=y, random_state=42\n",
        ")\n",
        "\n",
        "# -- 3. Imputer & oversampler (try heavier SMOTE or ADASYN) --\n",
        "imputer = SimpleImputer(strategy='median')\n",
        "oversampler = SMOTE(sampling_strategy=0.8, random_state=42)\n",
        "# oversampler = ADASYN(sampling_strategy=0.8, random_state=42)\n",
        "\n",
        "# -- 4. F3 scorer (heavier on recall) --\n",
        "f3 = make_scorer(fbeta_score, beta=3, pos_label=1)\n",
        "\n",
        "# -- 5a. RF pipeline & param grid --\n",
        "rf_pipe = Pipeline([\n",
        "    ('impute', imputer),\n",
        "    ('over',   oversampler),\n",
        "    ('clf',    RandomForestClassifier(random_state=42, n_jobs=-1))\n",
        "])\n",
        "rf_param = {\n",
        "    'clf__n_estimators':   [200, 500, 800],\n",
        "    'clf__max_depth':      [10, 20, None],\n",
        "    'clf__min_samples_leaf':[1, 2, 4],\n",
        "    # push positive weight very high\n",
        "    'clf__class_weight':   [ {0:1,1:5}, {0:1,1:10}, {0:1,1:20} ]\n",
        "}\n",
        "\n",
        "rf_search = RandomizedSearchCV(\n",
        "    rf_pipe, rf_param,\n",
        "    n_iter=30, cv=5,\n",
        "    scoring=f3,\n",
        "    refit=True,\n",
        "    random_state=42, n_jobs=-1, verbose=1\n",
        ")\n",
        "rf_search.fit(X_tr, y_tr)\n",
        "best_rf = rf_search.best_estimator_\n",
        "print(\"Best RF params:\", rf_search.best_params_)\n",
        "\n",
        "# -- 5b. XGB pipeline & param grid --\n",
        "pos, neg = y_tr.sum(), (y_tr==0).sum()\n",
        "spf = neg/pos\n",
        "xgb_pipe = Pipeline([\n",
        "    ('impute', imputer),\n",
        "    ('over',   oversampler),\n",
        "    ('clf',    xgb.XGBClassifier(\n",
        "        use_label_encoder=False,\n",
        "        eval_metric='logloss',\n",
        "        random_state=42, n_jobs=-1\n",
        "    ))\n",
        "])\n",
        "xgb_param = {\n",
        "    'clf__n_estimators':     [200, 500, 800],\n",
        "    'clf__max_depth':        [4, 8, 12],\n",
        "    'clf__learning_rate':    [0.01,0.05,0.1],\n",
        "    'clf__subsample':        [0.7, 0.9, 1.0],\n",
        "    'clf__scale_pos_weight': [spf, spf*2, spf*5]\n",
        "}\n",
        "\n",
        "xgb_search = RandomizedSearchCV(\n",
        "    xgb_pipe, xgb_param,\n",
        "    n_iter=30, cv=5,\n",
        "    scoring=f3,\n",
        "    refit=True,\n",
        "    random_state=42, n_jobs=-1, verbose=1\n",
        ")\n",
        "xgb_search.fit(X_tr, y_tr)\n",
        "best_xgb = xgb_search.best_estimator_\n",
        "print(\"Best XGB params:\", xgb_search.best_params_)\n",
        "\n",
        "# -- 6. Threshold tuning helper: pick lowest threshold with recall ≥ 0.7 --\n",
        "def pick_thresh(model, X_val, y_val, min_recall=0.7, beta=3):\n",
        "    probs = model.predict_proba(X_val)[:,1]\n",
        "    p, r, t = precision_recall_curve(y_val, probs)\n",
        "    candidates = [(prec, rec, thr) for prec,rec,thr in zip(p,r,t) if rec>=min_recall]\n",
        "    if not candidates:\n",
        "        return 0.5\n",
        "    # maximize precision among those meeting min_recall\n",
        "    return max(candidates, key=lambda x: x[0])[2]\n",
        "\n",
        "# split out a small val set\n",
        "X_tr2, X_val, y_tr2, y_val = train_test_split(\n",
        "    X_tr, y_tr, stratify=y_tr, test_size=0.2, random_state=42\n",
        ")\n",
        "\n",
        "# refit on this smaller training slice\n",
        "best_rf.fit(X_tr2, y_tr2)\n",
        "best_xgb.fit(X_tr2, y_tr2)\n",
        "\n",
        "# find thresholds\n",
        "rf_thr  = pick_thresh(best_rf, best_rf.named_steps['impute'].transform(X_val), y_val)\n",
        "xgb_thr = pick_thresh(best_xgb, best_xgb.named_steps['impute'].transform(X_val), y_val)\n",
        "print(f\"RF threshold: {rf_thr:.3f}, XGB threshold: {xgb_thr:.3f}\")\n",
        "\n",
        "# -- 7. Evaluate on the held-out test set --\n",
        "X_te_imp = best_rf.named_steps['impute'].transform(X_te)\n",
        "for name,(model,thr) in [\n",
        "    ('RandomForest',(best_rf, rf_thr)),\n",
        "    ('XGBoost',     (best_xgb, xgb_thr))\n",
        "]:\n",
        "    prob = model.predict_proba(X_te_imp)[:,1]\n",
        "    pred = (prob>=thr).astype(int)\n",
        "    print(f\"\\n{name} @ thresh={thr:.3f}\")\n",
        "    print(classification_report(y_te, pred, digits=3))\n"
      ]
    },
    {
      "cell_type": "code",
      "execution_count": 9,
      "metadata": {
        "colab": {
          "base_uri": "https://localhost:8080/",
          "height": 1000,
          "referenced_widgets": [
            "06089b15c73b463f8b5acd2706649d18",
            "7934a467fcd9430eb88398b70a659031",
            "7a7955b4326c40c19ee543e4a3e91274",
            "62854413e011439fa12333bf8937a87c",
            "887a1acafaa64c63b4f47f604491ae12",
            "0c4bff38ae1f4bbabaf8199dc05c6c68",
            "f5e36ce65e8a4e10afd33f8acf78127c",
            "f953b19001484a768488d4b19faa3918",
            "5415aa8e1d0a43d4b4b67dd7950d58c9",
            "aa92c3183bf0419787532cf473d03285",
            "b740cef93191476c84c3afb132ac31b9",
            "bc7c83b1eb3648b99148ffcbb4c680cf",
            "2901d57f65c24585b2e9a2295b81865a",
            "7e345637e7b1492fa572afd036939420",
            "9d9c833db7a44df5992979e4637a73e2",
            "248cae03758d4a0fa147a82cdcacb471",
            "fd860a19dfa041239601a48d9b09c0c7",
            "9542196a73684c7fbb386fa327927b29",
            "6a22545b4b1448b19bfcde940be8c3fb",
            "f9c645bdc9b8426b9f9eefd65f54d42c",
            "a9682393741c4b3e8a49bc4ed461796a",
            "bed2c12301c14fb79af12b84879e2c22"
          ]
        },
        "id": "d0rjWFDHJxBr",
        "outputId": "e255f32e-488a-41a9-ccd1-f4b9e5b2bd28"
      },
      "outputs": [
        {
          "name": "stderr",
          "output_type": "stream",
          "text": [
            "[I 2025-05-13 19:37:45,654] A new study created in memory with name: no-name-679b6c73-11f1-47c0-9cec-1f130c7c371c\n"
          ]
        },
        {
          "data": {
            "application/vnd.jupyter.widget-view+json": {
              "model_id": "06089b15c73b463f8b5acd2706649d18",
              "version_major": 2,
              "version_minor": 0
            },
            "text/plain": [
              "  0%|          | 0/50 [00:00<?, ?it/s]"
            ]
          },
          "metadata": {},
          "output_type": "display_data"
        },
        {
          "name": "stdout",
          "output_type": "stream",
          "text": [
            "[I 2025-05-13 19:37:51,342] Trial 0 finished with value: 0.6315584446338922 and parameters: {'n_estimators': 626, 'max_depth': 6, 'min_samples_split': 5, 'min_samples_leaf': 10, 'max_features': 'log2'}. Best is trial 0 with value: 0.6315584446338922.\n",
            "[I 2025-05-13 19:37:52,560] Trial 1 finished with value: 0.6281912167935612 and parameters: {'n_estimators': 173, 'max_depth': 5, 'min_samples_split': 13, 'min_samples_leaf': 10, 'max_features': 'log2'}. Best is trial 0 with value: 0.6315584446338922.\n",
            "[I 2025-05-13 19:37:54,649] Trial 2 finished with value: 0.6266668170844522 and parameters: {'n_estimators': 291, 'max_depth': 39, 'min_samples_split': 11, 'min_samples_leaf': 3, 'max_features': 'sqrt'}. Best is trial 0 with value: 0.6315584446338922.\n",
            "[I 2025-05-13 19:38:00,915] Trial 3 finished with value: 0.5949489293834198 and parameters: {'n_estimators': 794, 'max_depth': 45, 'min_samples_split': 12, 'min_samples_leaf': 1, 'max_features': 'sqrt'}. Best is trial 0 with value: 0.6315584446338922.\n",
            "[I 2025-05-13 19:38:07,225] Trial 4 finished with value: 0.5929057466040499 and parameters: {'n_estimators': 914, 'max_depth': 36, 'min_samples_split': 10, 'min_samples_leaf': 5, 'max_features': 'sqrt'}. Best is trial 0 with value: 0.6315584446338922.\n",
            "[I 2025-05-13 19:38:11,514] Trial 5 finished with value: 0.6378250591016549 and parameters: {'n_estimators': 569, 'max_depth': 23, 'min_samples_split': 5, 'min_samples_leaf': 6, 'max_features': 'sqrt'}. Best is trial 5 with value: 0.6378250591016549.\n",
            "[I 2025-05-13 19:38:15,118] Trial 6 finished with value: 0.6218043872670296 and parameters: {'n_estimators': 544, 'max_depth': 17, 'min_samples_split': 14, 'min_samples_leaf': 4, 'max_features': 'log2'}. Best is trial 5 with value: 0.6378250591016549.\n",
            "[I 2025-05-13 19:38:16,058] Trial 7 finished with value: 0.6010196576806033 and parameters: {'n_estimators': 109, 'max_depth': 49, 'min_samples_split': 10, 'min_samples_leaf': 4, 'max_features': 'sqrt'}. Best is trial 5 with value: 0.6378250591016549.\n",
            "[I 2025-05-13 19:38:17,247] Trial 8 finished with value: 0.619134258899173 and parameters: {'n_estimators': 152, 'max_depth': 27, 'min_samples_split': 6, 'min_samples_leaf': 7, 'max_features': 'sqrt'}. Best is trial 5 with value: 0.6378250591016549.\n",
            "[I 2025-05-13 19:38:22,202] Trial 9 finished with value: 0.6387629818693892 and parameters: {'n_estimators': 586, 'max_depth': 5, 'min_samples_split': 16, 'min_samples_leaf': 10, 'max_features': 'sqrt'}. Best is trial 9 with value: 0.6387629818693892.\n",
            "[I 2025-05-13 19:38:24,801] Trial 10 finished with value: 0.6245616558382516 and parameters: {'n_estimators': 385, 'max_depth': 15, 'min_samples_split': 20, 'min_samples_leaf': 8, 'max_features': 'log2'}. Best is trial 9 with value: 0.6387629818693892.\n",
            "[I 2025-05-13 19:38:28,983] Trial 11 finished with value: 0.6194514888390444 and parameters: {'n_estimators': 618, 'max_depth': 23, 'min_samples_split': 19, 'min_samples_leaf': 7, 'max_features': 'sqrt'}. Best is trial 9 with value: 0.6387629818693892.\n",
            "[I 2025-05-13 19:38:32,836] Trial 12 finished with value: 0.6230788253734115 and parameters: {'n_estimators': 457, 'max_depth': 15, 'min_samples_split': 3, 'min_samples_leaf': 8, 'max_features': 'sqrt'}. Best is trial 9 with value: 0.6387629818693892.\n",
            "[I 2025-05-13 19:38:37,949] Trial 13 finished with value: 0.6002896120898874 and parameters: {'n_estimators': 758, 'max_depth': 33, 'min_samples_split': 16, 'min_samples_leaf': 1, 'max_features': 'sqrt'}. Best is trial 9 with value: 0.6387629818693892.\n",
            "[I 2025-05-13 19:38:43,019] Trial 14 finished with value: 0.649963768115942 and parameters: {'n_estimators': 728, 'max_depth': 22, 'min_samples_split': 7, 'min_samples_leaf': 9, 'max_features': 'sqrt'}. Best is trial 14 with value: 0.649963768115942.\n",
            "[I 2025-05-13 19:38:48,303] Trial 15 finished with value: 0.6296739130434783 and parameters: {'n_estimators': 750, 'max_depth': 10, 'min_samples_split': 8, 'min_samples_leaf': 9, 'max_features': 'sqrt'}. Best is trial 14 with value: 0.649963768115942.\n",
            "[I 2025-05-13 19:38:54,781] Trial 16 finished with value: 0.6330735961490437 and parameters: {'n_estimators': 939, 'max_depth': 20, 'min_samples_split': 16, 'min_samples_leaf': 9, 'max_features': 'sqrt'}. Best is trial 14 with value: 0.649963768115942.\n",
            "[I 2025-05-13 19:39:00,882] Trial 17 finished with value: 0.6375598410385888 and parameters: {'n_estimators': 840, 'max_depth': 29, 'min_samples_split': 2, 'min_samples_leaf': 10, 'max_features': 'sqrt'}. Best is trial 14 with value: 0.649963768115942.\n",
            "[I 2025-05-13 19:39:05,508] Trial 18 finished with value: 0.625373044268393 and parameters: {'n_estimators': 681, 'max_depth': 11, 'min_samples_split': 16, 'min_samples_leaf': 8, 'max_features': 'log2'}. Best is trial 14 with value: 0.649963768115942.\n",
            "[I 2025-05-13 19:39:12,666] Trial 19 finished with value: 0.6292015422769899 and parameters: {'n_estimators': 1000, 'max_depth': 28, 'min_samples_split': 8, 'min_samples_leaf': 9, 'max_features': 'sqrt'}. Best is trial 14 with value: 0.649963768115942.\n",
            "[I 2025-05-13 19:39:16,014] Trial 20 finished with value: 0.625373044268393 and parameters: {'n_estimators': 482, 'max_depth': 11, 'min_samples_split': 18, 'min_samples_leaf': 6, 'max_features': 'sqrt'}. Best is trial 14 with value: 0.649963768115942.\n",
            "[I 2025-05-13 19:39:21,246] Trial 21 finished with value: 0.6413604126370085 and parameters: {'n_estimators': 642, 'max_depth': 23, 'min_samples_split': 5, 'min_samples_leaf': 6, 'max_features': 'sqrt'}. Best is trial 14 with value: 0.649963768115942.\n",
            "[I 2025-05-13 19:39:25,849] Trial 22 finished with value: 0.6338604965324411 and parameters: {'n_estimators': 665, 'max_depth': 21, 'min_samples_split': 7, 'min_samples_leaf': 7, 'max_features': 'sqrt'}. Best is trial 14 with value: 0.649963768115942.\n",
            "[I 2025-05-13 19:39:31,485] Trial 23 finished with value: 0.649963768115942 and parameters: {'n_estimators': 720, 'max_depth': 32, 'min_samples_split': 4, 'min_samples_leaf': 9, 'max_features': 'sqrt'}. Best is trial 14 with value: 0.649963768115942.\n",
            "[I 2025-05-13 19:39:36,320] Trial 24 finished with value: 0.5929057466040499 and parameters: {'n_estimators': 708, 'max_depth': 33, 'min_samples_split': 4, 'min_samples_leaf': 5, 'max_features': 'sqrt'}. Best is trial 14 with value: 0.649963768115942.\n",
            "[I 2025-05-13 19:39:42,680] Trial 25 finished with value: 0.6476061585053958 and parameters: {'n_estimators': 820, 'max_depth': 26, 'min_samples_split': 2, 'min_samples_leaf': 8, 'max_features': 'sqrt'}. Best is trial 14 with value: 0.649963768115942.\n",
            "[I 2025-05-13 19:39:48,375] Trial 26 finished with value: 0.6137279659338483 and parameters: {'n_estimators': 855, 'max_depth': 42, 'min_samples_split': 2, 'min_samples_leaf': 9, 'max_features': 'log2'}. Best is trial 14 with value: 0.649963768115942.\n",
            "[I 2025-05-13 19:39:54,740] Trial 27 finished with value: 0.6447490156482529 and parameters: {'n_estimators': 841, 'max_depth': 30, 'min_samples_split': 3, 'min_samples_leaf': 8, 'max_features': 'sqrt'}. Best is trial 14 with value: 0.649963768115942.\n",
            "[I 2025-05-13 19:39:59,764] Trial 28 finished with value: 0.6296739130434783 and parameters: {'n_estimators': 747, 'max_depth': 33, 'min_samples_split': 7, 'min_samples_leaf': 9, 'max_features': 'sqrt'}. Best is trial 14 with value: 0.649963768115942.\n",
            "[I 2025-05-13 19:40:06,316] Trial 29 finished with value: 0.6282582556360826 and parameters: {'n_estimators': 901, 'max_depth': 26, 'min_samples_split': 4, 'min_samples_leaf': 7, 'max_features': 'log2'}. Best is trial 14 with value: 0.649963768115942.\n",
            "[I 2025-05-13 19:40:12,816] Trial 30 finished with value: 0.6207489550227755 and parameters: {'n_estimators': 967, 'max_depth': 37, 'min_samples_split': 9, 'min_samples_leaf': 10, 'max_features': 'sqrt'}. Best is trial 14 with value: 0.649963768115942.\n",
            "[I 2025-05-13 19:40:19,589] Trial 31 finished with value: 0.6445033216259631 and parameters: {'n_estimators': 832, 'max_depth': 30, 'min_samples_split': 3, 'min_samples_leaf': 8, 'max_features': 'sqrt'}. Best is trial 14 with value: 0.649963768115942.\n",
            "[I 2025-05-13 19:40:25,228] Trial 32 finished with value: 0.6445033216259631 and parameters: {'n_estimators': 799, 'max_depth': 32, 'min_samples_split': 4, 'min_samples_leaf': 8, 'max_features': 'sqrt'}. Best is trial 14 with value: 0.649963768115942.\n",
            "[I 2025-05-13 19:40:31,927] Trial 33 finished with value: 0.6402525011220662 and parameters: {'n_estimators': 881, 'max_depth': 25, 'min_samples_split': 2, 'min_samples_leaf': 10, 'max_features': 'sqrt'}. Best is trial 14 with value: 0.649963768115942.\n",
            "[I 2025-05-13 19:40:36,628] Trial 34 finished with value: 0.649963768115942 and parameters: {'n_estimators': 704, 'max_depth': 36, 'min_samples_split': 6, 'min_samples_leaf': 9, 'max_features': 'sqrt'}. Best is trial 14 with value: 0.649963768115942.\n",
            "[I 2025-05-13 19:40:42,223] Trial 35 finished with value: 0.6477707856598017 and parameters: {'n_estimators': 710, 'max_depth': 38, 'min_samples_split': 6, 'min_samples_leaf': 9, 'max_features': 'sqrt'}. Best is trial 14 with value: 0.649963768115942.\n",
            "[I 2025-05-13 19:40:46,988] Trial 36 finished with value: 0.6114034058742022 and parameters: {'n_estimators': 720, 'max_depth': 40, 'min_samples_split': 6, 'min_samples_leaf': 9, 'max_features': 'log2'}. Best is trial 14 with value: 0.649963768115942.\n",
            "[I 2025-05-13 19:40:50,533] Trial 37 finished with value: 0.6198638318203535 and parameters: {'n_estimators': 518, 'max_depth': 37, 'min_samples_split': 6, 'min_samples_leaf': 10, 'max_features': 'sqrt'}. Best is trial 14 with value: 0.649963768115942.\n",
            "[I 2025-05-13 19:40:55,447] Trial 38 finished with value: 0.6269288150042626 and parameters: {'n_estimators': 606, 'max_depth': 44, 'min_samples_split': 11, 'min_samples_leaf': 9, 'max_features': 'sqrt'}. Best is trial 14 with value: 0.649963768115942.\n",
            "[I 2025-05-13 19:41:00,453] Trial 39 finished with value: 0.637979773849339 and parameters: {'n_estimators': 685, 'max_depth': 49, 'min_samples_split': 9, 'min_samples_leaf': 10, 'max_features': 'sqrt'}. Best is trial 14 with value: 0.649963768115942.\n",
            "[I 2025-05-13 19:41:03,680] Trial 40 finished with value: 0.5787473396169048 and parameters: {'n_estimators': 391, 'max_depth': 35, 'min_samples_split': 5, 'min_samples_leaf': 3, 'max_features': 'log2'}. Best is trial 14 with value: 0.649963768115942.\n",
            "[I 2025-05-13 19:41:09,731] Trial 41 finished with value: 0.628443966519414 and parameters: {'n_estimators': 797, 'max_depth': 40, 'min_samples_split': 7, 'min_samples_leaf': 9, 'max_features': 'sqrt'}. Best is trial 14 with value: 0.649963768115942.\n",
            "[I 2025-05-13 19:41:15,246] Trial 42 finished with value: 0.6445033216259631 and parameters: {'n_estimators': 766, 'max_depth': 35, 'min_samples_split': 4, 'min_samples_leaf': 8, 'max_features': 'sqrt'}. Best is trial 14 with value: 0.649963768115942.\n",
            "[I 2025-05-13 19:41:19,855] Trial 43 finished with value: 0.6338604965324411 and parameters: {'n_estimators': 643, 'max_depth': 45, 'min_samples_split': 6, 'min_samples_leaf': 7, 'max_features': 'sqrt'}. Best is trial 14 with value: 0.649963768115942.\n",
            "[I 2025-05-13 19:41:24,698] Trial 44 finished with value: 0.637979773849339 and parameters: {'n_estimators': 714, 'max_depth': 19, 'min_samples_split': 5, 'min_samples_leaf': 10, 'max_features': 'sqrt'}. Best is trial 14 with value: 0.649963768115942.\n",
            "[I 2025-05-13 19:41:26,607] Trial 45 finished with value: 0.6262253518007993 and parameters: {'n_estimators': 235, 'max_depth': 25, 'min_samples_split': 8, 'min_samples_leaf': 9, 'max_features': 'sqrt'}. Best is trial 14 with value: 0.649963768115942.\n",
            "[I 2025-05-13 19:41:30,759] Trial 46 finished with value: 0.6476061585053958 and parameters: {'n_estimators': 554, 'max_depth': 38, 'min_samples_split': 13, 'min_samples_leaf': 8, 'max_features': 'sqrt'}. Best is trial 14 with value: 0.649963768115942.\n",
            "[I 2025-05-13 19:41:36,227] Trial 47 finished with value: 0.6555306868072825 and parameters: {'n_estimators': 790, 'max_depth': 17, 'min_samples_split': 3, 'min_samples_leaf': 7, 'max_features': 'sqrt'}. Best is trial 47 with value: 0.6555306868072825.\n",
            "[I 2025-05-13 19:41:42,391] Trial 48 finished with value: 0.6555306868072825 and parameters: {'n_estimators': 764, 'max_depth': 14, 'min_samples_split': 6, 'min_samples_leaf': 7, 'max_features': 'sqrt'}. Best is trial 47 with value: 0.6555306868072825.\n"
          ]
        },
        {
          "name": "stderr",
          "output_type": "stream",
          "text": [
            "[I 2025-05-13 19:41:48,103] A new study created in memory with name: no-name-894d6ded-7b8b-4b8f-8323-837600a807ac\n"
          ]
        },
        {
          "name": "stdout",
          "output_type": "stream",
          "text": [
            "[I 2025-05-13 19:41:48,100] Trial 49 finished with value: 0.5929057466040499 and parameters: {'n_estimators': 775, 'max_depth': 15, 'min_samples_split': 10, 'min_samples_leaf': 5, 'max_features': 'sqrt'}. Best is trial 47 with value: 0.6555306868072825.\n"
          ]
        },
        {
          "data": {
            "application/vnd.jupyter.widget-view+json": {
              "model_id": "bc7c83b1eb3648b99148ffcbb4c680cf",
              "version_major": 2,
              "version_minor": 0
            },
            "text/plain": [
              "  0%|          | 0/50 [00:00<?, ?it/s]"
            ]
          },
          "metadata": {},
          "output_type": "display_data"
        },
        {
          "name": "stderr",
          "output_type": "stream",
          "text": [
            "<ipython-input-9-09622cd4cd71>:53: FutureWarning: suggest_loguniform has been deprecated in v3.0.0. This feature will be removed in v6.0.0. See https://github.com/optuna/optuna/releases/tag/v3.0.0. Use suggest_float(..., log=True) instead.\n",
            "  'learning_rate': trial.suggest_loguniform('learning_rate', 1e-3, 1e-1),\n",
            "<ipython-input-9-09622cd4cd71>:54: FutureWarning: suggest_uniform has been deprecated in v3.0.0. This feature will be removed in v6.0.0. See https://github.com/optuna/optuna/releases/tag/v3.0.0. Use suggest_float instead.\n",
            "  'subsample': trial.suggest_uniform('subsample', 0.5, 1.0),\n",
            "<ipython-input-9-09622cd4cd71>:55: FutureWarning: suggest_uniform has been deprecated in v3.0.0. This feature will be removed in v6.0.0. See https://github.com/optuna/optuna/releases/tag/v3.0.0. Use suggest_float instead.\n",
            "  'colsample_bytree': trial.suggest_uniform('colsample_bytree', 0.5, 1.0),\n"
          ]
        },
        {
          "name": "stdout",
          "output_type": "stream",
          "text": [
            "[I 2025-05-13 19:41:50,140] Trial 0 finished with value: 0.5353419871946079 and parameters: {'n_estimators': 441, 'max_depth': 8, 'learning_rate': 0.0034032161098165293, 'subsample': 0.6998263574478054, 'colsample_bytree': 0.8796417987754568}. Best is trial 0 with value: 0.5353419871946079.\n"
          ]
        },
        {
          "name": "stderr",
          "output_type": "stream",
          "text": [
            "<ipython-input-9-09622cd4cd71>:53: FutureWarning: suggest_loguniform has been deprecated in v3.0.0. This feature will be removed in v6.0.0. See https://github.com/optuna/optuna/releases/tag/v3.0.0. Use suggest_float(..., log=True) instead.\n",
            "  'learning_rate': trial.suggest_loguniform('learning_rate', 1e-3, 1e-1),\n",
            "<ipython-input-9-09622cd4cd71>:54: FutureWarning: suggest_uniform has been deprecated in v3.0.0. This feature will be removed in v6.0.0. See https://github.com/optuna/optuna/releases/tag/v3.0.0. Use suggest_float instead.\n",
            "  'subsample': trial.suggest_uniform('subsample', 0.5, 1.0),\n",
            "<ipython-input-9-09622cd4cd71>:55: FutureWarning: suggest_uniform has been deprecated in v3.0.0. This feature will be removed in v6.0.0. See https://github.com/optuna/optuna/releases/tag/v3.0.0. Use suggest_float instead.\n",
            "  'colsample_bytree': trial.suggest_uniform('colsample_bytree', 0.5, 1.0),\n"
          ]
        },
        {
          "name": "stdout",
          "output_type": "stream",
          "text": [
            "[I 2025-05-13 19:41:51,668] Trial 1 finished with value: 0.5907817086191904 and parameters: {'n_estimators': 771, 'max_depth': 10, 'learning_rate': 0.08107417305356493, 'subsample': 0.7555061866140852, 'colsample_bytree': 0.8224132805348368}. Best is trial 1 with value: 0.5907817086191904.\n"
          ]
        },
        {
          "name": "stderr",
          "output_type": "stream",
          "text": [
            "<ipython-input-9-09622cd4cd71>:53: FutureWarning: suggest_loguniform has been deprecated in v3.0.0. This feature will be removed in v6.0.0. See https://github.com/optuna/optuna/releases/tag/v3.0.0. Use suggest_float(..., log=True) instead.\n",
            "  'learning_rate': trial.suggest_loguniform('learning_rate', 1e-3, 1e-1),\n",
            "<ipython-input-9-09622cd4cd71>:54: FutureWarning: suggest_uniform has been deprecated in v3.0.0. This feature will be removed in v6.0.0. See https://github.com/optuna/optuna/releases/tag/v3.0.0. Use suggest_float instead.\n",
            "  'subsample': trial.suggest_uniform('subsample', 0.5, 1.0),\n",
            "<ipython-input-9-09622cd4cd71>:55: FutureWarning: suggest_uniform has been deprecated in v3.0.0. This feature will be removed in v6.0.0. See https://github.com/optuna/optuna/releases/tag/v3.0.0. Use suggest_float instead.\n",
            "  'colsample_bytree': trial.suggest_uniform('colsample_bytree', 0.5, 1.0),\n"
          ]
        },
        {
          "name": "stdout",
          "output_type": "stream",
          "text": [
            "[I 2025-05-13 19:41:52,747] Trial 2 finished with value: 0.5959149162775608 and parameters: {'n_estimators': 908, 'max_depth': 10, 'learning_rate': 0.09339553955343712, 'subsample': 0.9080033525882704, 'colsample_bytree': 0.5782536929085103}. Best is trial 2 with value: 0.5959149162775608.\n"
          ]
        },
        {
          "name": "stderr",
          "output_type": "stream",
          "text": [
            "<ipython-input-9-09622cd4cd71>:53: FutureWarning: suggest_loguniform has been deprecated in v3.0.0. This feature will be removed in v6.0.0. See https://github.com/optuna/optuna/releases/tag/v3.0.0. Use suggest_float(..., log=True) instead.\n",
            "  'learning_rate': trial.suggest_loguniform('learning_rate', 1e-3, 1e-1),\n",
            "<ipython-input-9-09622cd4cd71>:54: FutureWarning: suggest_uniform has been deprecated in v3.0.0. This feature will be removed in v6.0.0. See https://github.com/optuna/optuna/releases/tag/v3.0.0. Use suggest_float instead.\n",
            "  'subsample': trial.suggest_uniform('subsample', 0.5, 1.0),\n",
            "<ipython-input-9-09622cd4cd71>:55: FutureWarning: suggest_uniform has been deprecated in v3.0.0. This feature will be removed in v6.0.0. See https://github.com/optuna/optuna/releases/tag/v3.0.0. Use suggest_float instead.\n",
            "  'colsample_bytree': trial.suggest_uniform('colsample_bytree', 0.5, 1.0),\n"
          ]
        },
        {
          "name": "stdout",
          "output_type": "stream",
          "text": [
            "[I 2025-05-13 19:41:54,131] Trial 3 finished with value: 0.5574633711991456 and parameters: {'n_estimators': 349, 'max_depth': 8, 'learning_rate': 0.0028968349554293928, 'subsample': 0.6184597183670839, 'colsample_bytree': 0.9734035907997508}. Best is trial 2 with value: 0.5959149162775608.\n"
          ]
        },
        {
          "name": "stderr",
          "output_type": "stream",
          "text": [
            "<ipython-input-9-09622cd4cd71>:53: FutureWarning: suggest_loguniform has been deprecated in v3.0.0. This feature will be removed in v6.0.0. See https://github.com/optuna/optuna/releases/tag/v3.0.0. Use suggest_float(..., log=True) instead.\n",
            "  'learning_rate': trial.suggest_loguniform('learning_rate', 1e-3, 1e-1),\n",
            "<ipython-input-9-09622cd4cd71>:54: FutureWarning: suggest_uniform has been deprecated in v3.0.0. This feature will be removed in v6.0.0. See https://github.com/optuna/optuna/releases/tag/v3.0.0. Use suggest_float instead.\n",
            "  'subsample': trial.suggest_uniform('subsample', 0.5, 1.0),\n",
            "<ipython-input-9-09622cd4cd71>:55: FutureWarning: suggest_uniform has been deprecated in v3.0.0. This feature will be removed in v6.0.0. See https://github.com/optuna/optuna/releases/tag/v3.0.0. Use suggest_float instead.\n",
            "  'colsample_bytree': trial.suggest_uniform('colsample_bytree', 0.5, 1.0),\n"
          ]
        },
        {
          "name": "stdout",
          "output_type": "stream",
          "text": [
            "[I 2025-05-13 19:41:55,300] Trial 4 finished with value: 0.5602072459177443 and parameters: {'n_estimators': 298, 'max_depth': 15, 'learning_rate': 0.039127318542374376, 'subsample': 0.5881354054002623, 'colsample_bytree': 0.6466500139044429}. Best is trial 2 with value: 0.5959149162775608.\n"
          ]
        },
        {
          "name": "stderr",
          "output_type": "stream",
          "text": [
            "<ipython-input-9-09622cd4cd71>:53: FutureWarning: suggest_loguniform has been deprecated in v3.0.0. This feature will be removed in v6.0.0. See https://github.com/optuna/optuna/releases/tag/v3.0.0. Use suggest_float(..., log=True) instead.\n",
            "  'learning_rate': trial.suggest_loguniform('learning_rate', 1e-3, 1e-1),\n",
            "<ipython-input-9-09622cd4cd71>:54: FutureWarning: suggest_uniform has been deprecated in v3.0.0. This feature will be removed in v6.0.0. See https://github.com/optuna/optuna/releases/tag/v3.0.0. Use suggest_float instead.\n",
            "  'subsample': trial.suggest_uniform('subsample', 0.5, 1.0),\n",
            "<ipython-input-9-09622cd4cd71>:55: FutureWarning: suggest_uniform has been deprecated in v3.0.0. This feature will be removed in v6.0.0. See https://github.com/optuna/optuna/releases/tag/v3.0.0. Use suggest_float instead.\n",
            "  'colsample_bytree': trial.suggest_uniform('colsample_bytree', 0.5, 1.0),\n"
          ]
        },
        {
          "name": "stdout",
          "output_type": "stream",
          "text": [
            "[I 2025-05-13 19:41:57,968] Trial 5 finished with value: 0.5596033868092691 and parameters: {'n_estimators': 599, 'max_depth': 6, 'learning_rate': 0.0025460373844445267, 'subsample': 0.9795534906127094, 'colsample_bytree': 0.9077997071613647}. Best is trial 2 with value: 0.5959149162775608.\n"
          ]
        },
        {
          "name": "stderr",
          "output_type": "stream",
          "text": [
            "<ipython-input-9-09622cd4cd71>:53: FutureWarning: suggest_loguniform has been deprecated in v3.0.0. This feature will be removed in v6.0.0. See https://github.com/optuna/optuna/releases/tag/v3.0.0. Use suggest_float(..., log=True) instead.\n",
            "  'learning_rate': trial.suggest_loguniform('learning_rate', 1e-3, 1e-1),\n",
            "<ipython-input-9-09622cd4cd71>:54: FutureWarning: suggest_uniform has been deprecated in v3.0.0. This feature will be removed in v6.0.0. See https://github.com/optuna/optuna/releases/tag/v3.0.0. Use suggest_float instead.\n",
            "  'subsample': trial.suggest_uniform('subsample', 0.5, 1.0),\n",
            "<ipython-input-9-09622cd4cd71>:55: FutureWarning: suggest_uniform has been deprecated in v3.0.0. This feature will be removed in v6.0.0. See https://github.com/optuna/optuna/releases/tag/v3.0.0. Use suggest_float instead.\n",
            "  'colsample_bytree': trial.suggest_uniform('colsample_bytree', 0.5, 1.0),\n"
          ]
        },
        {
          "name": "stdout",
          "output_type": "stream",
          "text": [
            "[I 2025-05-13 19:41:58,677] Trial 6 finished with value: 0.6064895470383276 and parameters: {'n_estimators': 319, 'max_depth': 6, 'learning_rate': 0.037002615113275836, 'subsample': 0.8536978494493892, 'colsample_bytree': 0.5013579928002969}. Best is trial 6 with value: 0.6064895470383276.\n"
          ]
        },
        {
          "name": "stderr",
          "output_type": "stream",
          "text": [
            "<ipython-input-9-09622cd4cd71>:53: FutureWarning: suggest_loguniform has been deprecated in v3.0.0. This feature will be removed in v6.0.0. See https://github.com/optuna/optuna/releases/tag/v3.0.0. Use suggest_float(..., log=True) instead.\n",
            "  'learning_rate': trial.suggest_loguniform('learning_rate', 1e-3, 1e-1),\n",
            "<ipython-input-9-09622cd4cd71>:54: FutureWarning: suggest_uniform has been deprecated in v3.0.0. This feature will be removed in v6.0.0. See https://github.com/optuna/optuna/releases/tag/v3.0.0. Use suggest_float instead.\n",
            "  'subsample': trial.suggest_uniform('subsample', 0.5, 1.0),\n",
            "<ipython-input-9-09622cd4cd71>:55: FutureWarning: suggest_uniform has been deprecated in v3.0.0. This feature will be removed in v6.0.0. See https://github.com/optuna/optuna/releases/tag/v3.0.0. Use suggest_float instead.\n",
            "  'colsample_bytree': trial.suggest_uniform('colsample_bytree', 0.5, 1.0),\n"
          ]
        },
        {
          "name": "stdout",
          "output_type": "stream",
          "text": [
            "[I 2025-05-13 19:41:58,977] Trial 7 finished with value: 0.6071180972388956 and parameters: {'n_estimators': 126, 'max_depth': 3, 'learning_rate': 0.022997304094057137, 'subsample': 0.982045717450009, 'colsample_bytree': 0.8282189005018384}. Best is trial 7 with value: 0.6071180972388956.\n"
          ]
        },
        {
          "name": "stderr",
          "output_type": "stream",
          "text": [
            "<ipython-input-9-09622cd4cd71>:53: FutureWarning: suggest_loguniform has been deprecated in v3.0.0. This feature will be removed in v6.0.0. See https://github.com/optuna/optuna/releases/tag/v3.0.0. Use suggest_float(..., log=True) instead.\n",
            "  'learning_rate': trial.suggest_loguniform('learning_rate', 1e-3, 1e-1),\n",
            "<ipython-input-9-09622cd4cd71>:54: FutureWarning: suggest_uniform has been deprecated in v3.0.0. This feature will be removed in v6.0.0. See https://github.com/optuna/optuna/releases/tag/v3.0.0. Use suggest_float instead.\n",
            "  'subsample': trial.suggest_uniform('subsample', 0.5, 1.0),\n",
            "<ipython-input-9-09622cd4cd71>:55: FutureWarning: suggest_uniform has been deprecated in v3.0.0. This feature will be removed in v6.0.0. See https://github.com/optuna/optuna/releases/tag/v3.0.0. Use suggest_float instead.\n",
            "  'colsample_bytree': trial.suggest_uniform('colsample_bytree', 0.5, 1.0),\n"
          ]
        },
        {
          "name": "stdout",
          "output_type": "stream",
          "text": [
            "[I 2025-05-13 19:41:59,293] Trial 8 finished with value: 0.5661312937112167 and parameters: {'n_estimators': 126, 'max_depth': 5, 'learning_rate': 0.09716298698236821, 'subsample': 0.8561130441115048, 'colsample_bytree': 0.5413940246664188}. Best is trial 7 with value: 0.6071180972388956.\n"
          ]
        },
        {
          "name": "stderr",
          "output_type": "stream",
          "text": [
            "<ipython-input-9-09622cd4cd71>:53: FutureWarning: suggest_loguniform has been deprecated in v3.0.0. This feature will be removed in v6.0.0. See https://github.com/optuna/optuna/releases/tag/v3.0.0. Use suggest_float(..., log=True) instead.\n",
            "  'learning_rate': trial.suggest_loguniform('learning_rate', 1e-3, 1e-1),\n",
            "<ipython-input-9-09622cd4cd71>:54: FutureWarning: suggest_uniform has been deprecated in v3.0.0. This feature will be removed in v6.0.0. See https://github.com/optuna/optuna/releases/tag/v3.0.0. Use suggest_float instead.\n",
            "  'subsample': trial.suggest_uniform('subsample', 0.5, 1.0),\n",
            "<ipython-input-9-09622cd4cd71>:55: FutureWarning: suggest_uniform has been deprecated in v3.0.0. This feature will be removed in v6.0.0. See https://github.com/optuna/optuna/releases/tag/v3.0.0. Use suggest_float instead.\n",
            "  'colsample_bytree': trial.suggest_uniform('colsample_bytree', 0.5, 1.0),\n"
          ]
        },
        {
          "name": "stdout",
          "output_type": "stream",
          "text": [
            "[I 2025-05-13 19:42:00,817] Trial 9 finished with value: 0.638400379926852 and parameters: {'n_estimators': 915, 'max_depth': 3, 'learning_rate': 0.007425214986863214, 'subsample': 0.8312222927250261, 'colsample_bytree': 0.8314499103619564}. Best is trial 9 with value: 0.638400379926852.\n"
          ]
        },
        {
          "name": "stderr",
          "output_type": "stream",
          "text": [
            "<ipython-input-9-09622cd4cd71>:53: FutureWarning: suggest_loguniform has been deprecated in v3.0.0. This feature will be removed in v6.0.0. See https://github.com/optuna/optuna/releases/tag/v3.0.0. Use suggest_float(..., log=True) instead.\n",
            "  'learning_rate': trial.suggest_loguniform('learning_rate', 1e-3, 1e-1),\n",
            "<ipython-input-9-09622cd4cd71>:54: FutureWarning: suggest_uniform has been deprecated in v3.0.0. This feature will be removed in v6.0.0. See https://github.com/optuna/optuna/releases/tag/v3.0.0. Use suggest_float instead.\n",
            "  'subsample': trial.suggest_uniform('subsample', 0.5, 1.0),\n",
            "<ipython-input-9-09622cd4cd71>:55: FutureWarning: suggest_uniform has been deprecated in v3.0.0. This feature will be removed in v6.0.0. See https://github.com/optuna/optuna/releases/tag/v3.0.0. Use suggest_float instead.\n",
            "  'colsample_bytree': trial.suggest_uniform('colsample_bytree', 0.5, 1.0),\n"
          ]
        },
        {
          "name": "stdout",
          "output_type": "stream",
          "text": [
            "[I 2025-05-13 19:42:04,346] Trial 10 finished with value: 0.5320464666456749 and parameters: {'n_estimators': 979, 'max_depth': 13, 'learning_rate': 0.008600391967940768, 'subsample': 0.7557218105357274, 'colsample_bytree': 0.739882775398693}. Best is trial 9 with value: 0.638400379926852.\n"
          ]
        },
        {
          "name": "stderr",
          "output_type": "stream",
          "text": [
            "<ipython-input-9-09622cd4cd71>:53: FutureWarning: suggest_loguniform has been deprecated in v3.0.0. This feature will be removed in v6.0.0. See https://github.com/optuna/optuna/releases/tag/v3.0.0. Use suggest_float(..., log=True) instead.\n",
            "  'learning_rate': trial.suggest_loguniform('learning_rate', 1e-3, 1e-1),\n",
            "<ipython-input-9-09622cd4cd71>:54: FutureWarning: suggest_uniform has been deprecated in v3.0.0. This feature will be removed in v6.0.0. See https://github.com/optuna/optuna/releases/tag/v3.0.0. Use suggest_float instead.\n",
            "  'subsample': trial.suggest_uniform('subsample', 0.5, 1.0),\n",
            "<ipython-input-9-09622cd4cd71>:55: FutureWarning: suggest_uniform has been deprecated in v3.0.0. This feature will be removed in v6.0.0. See https://github.com/optuna/optuna/releases/tag/v3.0.0. Use suggest_float instead.\n",
            "  'colsample_bytree': trial.suggest_uniform('colsample_bytree', 0.5, 1.0),\n"
          ]
        },
        {
          "name": "stdout",
          "output_type": "stream",
          "text": [
            "[I 2025-05-13 19:42:05,841] Trial 11 finished with value: 0.5809209255201339 and parameters: {'n_estimators': 674, 'max_depth': 4, 'learning_rate': 0.010992022926621367, 'subsample': 0.9908008459043147, 'colsample_bytree': 0.766970637421056}. Best is trial 9 with value: 0.638400379926852.\n"
          ]
        },
        {
          "name": "stderr",
          "output_type": "stream",
          "text": [
            "<ipython-input-9-09622cd4cd71>:53: FutureWarning: suggest_loguniform has been deprecated in v3.0.0. This feature will be removed in v6.0.0. See https://github.com/optuna/optuna/releases/tag/v3.0.0. Use suggest_float(..., log=True) instead.\n",
            "  'learning_rate': trial.suggest_loguniform('learning_rate', 1e-3, 1e-1),\n",
            "<ipython-input-9-09622cd4cd71>:54: FutureWarning: suggest_uniform has been deprecated in v3.0.0. This feature will be removed in v6.0.0. See https://github.com/optuna/optuna/releases/tag/v3.0.0. Use suggest_float instead.\n",
            "  'subsample': trial.suggest_uniform('subsample', 0.5, 1.0),\n",
            "<ipython-input-9-09622cd4cd71>:55: FutureWarning: suggest_uniform has been deprecated in v3.0.0. This feature will be removed in v6.0.0. See https://github.com/optuna/optuna/releases/tag/v3.0.0. Use suggest_float instead.\n",
            "  'colsample_bytree': trial.suggest_uniform('colsample_bytree', 0.5, 1.0),\n"
          ]
        },
        {
          "name": "stdout",
          "output_type": "stream",
          "text": [
            "[I 2025-05-13 19:42:06,096] Trial 12 finished with value: 0.6016117526954681 and parameters: {'n_estimators': 110, 'max_depth': 3, 'learning_rate': 0.010268106064676244, 'subsample': 0.9018812663851676, 'colsample_bytree': 0.7119063122132249}. Best is trial 9 with value: 0.638400379926852.\n"
          ]
        },
        {
          "name": "stderr",
          "output_type": "stream",
          "text": [
            "<ipython-input-9-09622cd4cd71>:53: FutureWarning: suggest_loguniform has been deprecated in v3.0.0. This feature will be removed in v6.0.0. See https://github.com/optuna/optuna/releases/tag/v3.0.0. Use suggest_float(..., log=True) instead.\n",
            "  'learning_rate': trial.suggest_loguniform('learning_rate', 1e-3, 1e-1),\n",
            "<ipython-input-9-09622cd4cd71>:54: FutureWarning: suggest_uniform has been deprecated in v3.0.0. This feature will be removed in v6.0.0. See https://github.com/optuna/optuna/releases/tag/v3.0.0. Use suggest_float instead.\n",
            "  'subsample': trial.suggest_uniform('subsample', 0.5, 1.0),\n",
            "<ipython-input-9-09622cd4cd71>:55: FutureWarning: suggest_uniform has been deprecated in v3.0.0. This feature will be removed in v6.0.0. See https://github.com/optuna/optuna/releases/tag/v3.0.0. Use suggest_float instead.\n",
            "  'colsample_bytree': trial.suggest_uniform('colsample_bytree', 0.5, 1.0),\n"
          ]
        },
        {
          "name": "stdout",
          "output_type": "stream",
          "text": [
            "[I 2025-05-13 19:42:07,298] Trial 13 finished with value: 0.6244984040127679 and parameters: {'n_estimators': 798, 'max_depth': 3, 'learning_rate': 0.023347743403758496, 'subsample': 0.5125117419348246, 'colsample_bytree': 0.8386182697260265}. Best is trial 9 with value: 0.638400379926852.\n"
          ]
        },
        {
          "name": "stderr",
          "output_type": "stream",
          "text": [
            "<ipython-input-9-09622cd4cd71>:53: FutureWarning: suggest_loguniform has been deprecated in v3.0.0. This feature will be removed in v6.0.0. See https://github.com/optuna/optuna/releases/tag/v3.0.0. Use suggest_float(..., log=True) instead.\n",
            "  'learning_rate': trial.suggest_loguniform('learning_rate', 1e-3, 1e-1),\n",
            "<ipython-input-9-09622cd4cd71>:54: FutureWarning: suggest_uniform has been deprecated in v3.0.0. This feature will be removed in v6.0.0. See https://github.com/optuna/optuna/releases/tag/v3.0.0. Use suggest_float instead.\n",
            "  'subsample': trial.suggest_uniform('subsample', 0.5, 1.0),\n",
            "<ipython-input-9-09622cd4cd71>:55: FutureWarning: suggest_uniform has been deprecated in v3.0.0. This feature will be removed in v6.0.0. See https://github.com/optuna/optuna/releases/tag/v3.0.0. Use suggest_float instead.\n",
            "  'colsample_bytree': trial.suggest_uniform('colsample_bytree', 0.5, 1.0),\n"
          ]
        },
        {
          "name": "stdout",
          "output_type": "stream",
          "text": [
            "[I 2025-05-13 19:42:09,719] Trial 14 finished with value: 0.5382584529039611 and parameters: {'n_estimators': 818, 'max_depth': 6, 'learning_rate': 0.005580051909604269, 'subsample': 0.6634617119414798, 'colsample_bytree': 0.9392987106350962}. Best is trial 9 with value: 0.638400379926852.\n"
          ]
        },
        {
          "name": "stderr",
          "output_type": "stream",
          "text": [
            "<ipython-input-9-09622cd4cd71>:53: FutureWarning: suggest_loguniform has been deprecated in v3.0.0. This feature will be removed in v6.0.0. See https://github.com/optuna/optuna/releases/tag/v3.0.0. Use suggest_float(..., log=True) instead.\n",
            "  'learning_rate': trial.suggest_loguniform('learning_rate', 1e-3, 1e-1),\n",
            "<ipython-input-9-09622cd4cd71>:54: FutureWarning: suggest_uniform has been deprecated in v3.0.0. This feature will be removed in v6.0.0. See https://github.com/optuna/optuna/releases/tag/v3.0.0. Use suggest_float instead.\n",
            "  'subsample': trial.suggest_uniform('subsample', 0.5, 1.0),\n",
            "<ipython-input-9-09622cd4cd71>:55: FutureWarning: suggest_uniform has been deprecated in v3.0.0. This feature will be removed in v6.0.0. See https://github.com/optuna/optuna/releases/tag/v3.0.0. Use suggest_float instead.\n",
            "  'colsample_bytree': trial.suggest_uniform('colsample_bytree', 0.5, 1.0),\n"
          ]
        },
        {
          "name": "stdout",
          "output_type": "stream",
          "text": [
            "[I 2025-05-13 19:42:12,235] Trial 15 finished with value: 0.6227983920841064 and parameters: {'n_estimators': 788, 'max_depth': 3, 'learning_rate': 0.0012934853778469582, 'subsample': 0.5286777875667887, 'colsample_bytree': 0.8264709086941744}. Best is trial 9 with value: 0.638400379926852.\n"
          ]
        },
        {
          "name": "stderr",
          "output_type": "stream",
          "text": [
            "<ipython-input-9-09622cd4cd71>:53: FutureWarning: suggest_loguniform has been deprecated in v3.0.0. This feature will be removed in v6.0.0. See https://github.com/optuna/optuna/releases/tag/v3.0.0. Use suggest_float(..., log=True) instead.\n",
            "  'learning_rate': trial.suggest_loguniform('learning_rate', 1e-3, 1e-1),\n",
            "<ipython-input-9-09622cd4cd71>:54: FutureWarning: suggest_uniform has been deprecated in v3.0.0. This feature will be removed in v6.0.0. See https://github.com/optuna/optuna/releases/tag/v3.0.0. Use suggest_float instead.\n",
            "  'subsample': trial.suggest_uniform('subsample', 0.5, 1.0),\n",
            "<ipython-input-9-09622cd4cd71>:55: FutureWarning: suggest_uniform has been deprecated in v3.0.0. This feature will be removed in v6.0.0. See https://github.com/optuna/optuna/releases/tag/v3.0.0. Use suggest_float instead.\n",
            "  'colsample_bytree': trial.suggest_uniform('colsample_bytree', 0.5, 1.0),\n"
          ]
        },
        {
          "name": "stdout",
          "output_type": "stream",
          "text": [
            "[I 2025-05-13 19:42:16,797] Trial 16 finished with value: 0.5779286770140428 and parameters: {'n_estimators': 998, 'max_depth': 12, 'learning_rate': 0.01872558832016078, 'subsample': 0.5002118238891882, 'colsample_bytree': 0.6679125534747129}. Best is trial 9 with value: 0.638400379926852.\n"
          ]
        },
        {
          "name": "stderr",
          "output_type": "stream",
          "text": [
            "<ipython-input-9-09622cd4cd71>:53: FutureWarning: suggest_loguniform has been deprecated in v3.0.0. This feature will be removed in v6.0.0. See https://github.com/optuna/optuna/releases/tag/v3.0.0. Use suggest_float(..., log=True) instead.\n",
            "  'learning_rate': trial.suggest_loguniform('learning_rate', 1e-3, 1e-1),\n",
            "<ipython-input-9-09622cd4cd71>:54: FutureWarning: suggest_uniform has been deprecated in v3.0.0. This feature will be removed in v6.0.0. See https://github.com/optuna/optuna/releases/tag/v3.0.0. Use suggest_float instead.\n",
            "  'subsample': trial.suggest_uniform('subsample', 0.5, 1.0),\n",
            "<ipython-input-9-09622cd4cd71>:55: FutureWarning: suggest_uniform has been deprecated in v3.0.0. This feature will be removed in v6.0.0. See https://github.com/optuna/optuna/releases/tag/v3.0.0. Use suggest_float instead.\n",
            "  'colsample_bytree': trial.suggest_uniform('colsample_bytree', 0.5, 1.0),\n"
          ]
        },
        {
          "name": "stdout",
          "output_type": "stream",
          "text": [
            "[I 2025-05-13 19:42:20,037] Trial 17 finished with value: 0.5813474316381293 and parameters: {'n_estimators': 671, 'max_depth': 5, 'learning_rate': 0.018808732261865215, 'subsample': 0.8006660777812737, 'colsample_bytree': 0.870099070348303}. Best is trial 9 with value: 0.638400379926852.\n"
          ]
        },
        {
          "name": "stderr",
          "output_type": "stream",
          "text": [
            "<ipython-input-9-09622cd4cd71>:53: FutureWarning: suggest_loguniform has been deprecated in v3.0.0. This feature will be removed in v6.0.0. See https://github.com/optuna/optuna/releases/tag/v3.0.0. Use suggest_float(..., log=True) instead.\n",
            "  'learning_rate': trial.suggest_loguniform('learning_rate', 1e-3, 1e-1),\n",
            "<ipython-input-9-09622cd4cd71>:54: FutureWarning: suggest_uniform has been deprecated in v3.0.0. This feature will be removed in v6.0.0. See https://github.com/optuna/optuna/releases/tag/v3.0.0. Use suggest_float instead.\n",
            "  'subsample': trial.suggest_uniform('subsample', 0.5, 1.0),\n",
            "<ipython-input-9-09622cd4cd71>:55: FutureWarning: suggest_uniform has been deprecated in v3.0.0. This feature will be removed in v6.0.0. See https://github.com/optuna/optuna/releases/tag/v3.0.0. Use suggest_float instead.\n",
            "  'colsample_bytree': trial.suggest_uniform('colsample_bytree', 0.5, 1.0),\n"
          ]
        },
        {
          "name": "stdout",
          "output_type": "stream",
          "text": [
            "[I 2025-05-13 19:42:23,470] Trial 18 finished with value: 0.5414635811090894 and parameters: {'n_estimators': 865, 'max_depth': 8, 'learning_rate': 0.00466147517785371, 'subsample': 0.6846309475831165, 'colsample_bytree': 0.9927255953341794}. Best is trial 9 with value: 0.638400379926852.\n"
          ]
        },
        {
          "name": "stderr",
          "output_type": "stream",
          "text": [
            "<ipython-input-9-09622cd4cd71>:53: FutureWarning: suggest_loguniform has been deprecated in v3.0.0. This feature will be removed in v6.0.0. See https://github.com/optuna/optuna/releases/tag/v3.0.0. Use suggest_float(..., log=True) instead.\n",
            "  'learning_rate': trial.suggest_loguniform('learning_rate', 1e-3, 1e-1),\n",
            "<ipython-input-9-09622cd4cd71>:54: FutureWarning: suggest_uniform has been deprecated in v3.0.0. This feature will be removed in v6.0.0. See https://github.com/optuna/optuna/releases/tag/v3.0.0. Use suggest_float instead.\n",
            "  'subsample': trial.suggest_uniform('subsample', 0.5, 1.0),\n",
            "<ipython-input-9-09622cd4cd71>:55: FutureWarning: suggest_uniform has been deprecated in v3.0.0. This feature will be removed in v6.0.0. See https://github.com/optuna/optuna/releases/tag/v3.0.0. Use suggest_float instead.\n",
            "  'colsample_bytree': trial.suggest_uniform('colsample_bytree', 0.5, 1.0),\n"
          ]
        },
        {
          "name": "stdout",
          "output_type": "stream",
          "text": [
            "[I 2025-05-13 19:42:24,660] Trial 19 finished with value: 0.6031672879021148 and parameters: {'n_estimators': 690, 'max_depth': 5, 'learning_rate': 0.04278332864095272, 'subsample': 0.8071722507612846, 'colsample_bytree': 0.7918952763176439}. Best is trial 9 with value: 0.638400379926852.\n"
          ]
        },
        {
          "name": "stderr",
          "output_type": "stream",
          "text": [
            "<ipython-input-9-09622cd4cd71>:53: FutureWarning: suggest_loguniform has been deprecated in v3.0.0. This feature will be removed in v6.0.0. See https://github.com/optuna/optuna/releases/tag/v3.0.0. Use suggest_float(..., log=True) instead.\n",
            "  'learning_rate': trial.suggest_loguniform('learning_rate', 1e-3, 1e-1),\n",
            "<ipython-input-9-09622cd4cd71>:54: FutureWarning: suggest_uniform has been deprecated in v3.0.0. This feature will be removed in v6.0.0. See https://github.com/optuna/optuna/releases/tag/v3.0.0. Use suggest_float instead.\n",
            "  'subsample': trial.suggest_uniform('subsample', 0.5, 1.0),\n",
            "<ipython-input-9-09622cd4cd71>:55: FutureWarning: suggest_uniform has been deprecated in v3.0.0. This feature will be removed in v6.0.0. See https://github.com/optuna/optuna/releases/tag/v3.0.0. Use suggest_float instead.\n",
            "  'colsample_bytree': trial.suggest_uniform('colsample_bytree', 0.5, 1.0),\n"
          ]
        },
        {
          "name": "stdout",
          "output_type": "stream",
          "text": [
            "[I 2025-05-13 19:42:27,915] Trial 20 finished with value: 0.573982683982684 and parameters: {'n_estimators': 915, 'max_depth': 7, 'learning_rate': 0.0011851483277097177, 'subsample': 0.5637794227975841, 'colsample_bytree': 0.7207671465231393}. Best is trial 9 with value: 0.638400379926852.\n"
          ]
        },
        {
          "name": "stderr",
          "output_type": "stream",
          "text": [
            "<ipython-input-9-09622cd4cd71>:53: FutureWarning: suggest_loguniform has been deprecated in v3.0.0. This feature will be removed in v6.0.0. See https://github.com/optuna/optuna/releases/tag/v3.0.0. Use suggest_float(..., log=True) instead.\n",
            "  'learning_rate': trial.suggest_loguniform('learning_rate', 1e-3, 1e-1),\n",
            "<ipython-input-9-09622cd4cd71>:54: FutureWarning: suggest_uniform has been deprecated in v3.0.0. This feature will be removed in v6.0.0. See https://github.com/optuna/optuna/releases/tag/v3.0.0. Use suggest_float instead.\n",
            "  'subsample': trial.suggest_uniform('subsample', 0.5, 1.0),\n",
            "<ipython-input-9-09622cd4cd71>:55: FutureWarning: suggest_uniform has been deprecated in v3.0.0. This feature will be removed in v6.0.0. See https://github.com/optuna/optuna/releases/tag/v3.0.0. Use suggest_float instead.\n",
            "  'colsample_bytree': trial.suggest_uniform('colsample_bytree', 0.5, 1.0),\n"
          ]
        },
        {
          "name": "stdout",
          "output_type": "stream",
          "text": [
            "[I 2025-05-13 19:42:29,346] Trial 21 finished with value: 0.6235453982461805 and parameters: {'n_estimators': 782, 'max_depth': 3, 'learning_rate': 0.0013991221977774878, 'subsample': 0.5256431193732635, 'colsample_bytree': 0.8458694349570346}. Best is trial 9 with value: 0.638400379926852.\n"
          ]
        },
        {
          "name": "stderr",
          "output_type": "stream",
          "text": [
            "<ipython-input-9-09622cd4cd71>:53: FutureWarning: suggest_loguniform has been deprecated in v3.0.0. This feature will be removed in v6.0.0. See https://github.com/optuna/optuna/releases/tag/v3.0.0. Use suggest_float(..., log=True) instead.\n",
            "  'learning_rate': trial.suggest_loguniform('learning_rate', 1e-3, 1e-1),\n",
            "<ipython-input-9-09622cd4cd71>:54: FutureWarning: suggest_uniform has been deprecated in v3.0.0. This feature will be removed in v6.0.0. See https://github.com/optuna/optuna/releases/tag/v3.0.0. Use suggest_float instead.\n",
            "  'subsample': trial.suggest_uniform('subsample', 0.5, 1.0),\n",
            "<ipython-input-9-09622cd4cd71>:55: FutureWarning: suggest_uniform has been deprecated in v3.0.0. This feature will be removed in v6.0.0. See https://github.com/optuna/optuna/releases/tag/v3.0.0. Use suggest_float instead.\n",
            "  'colsample_bytree': trial.suggest_uniform('colsample_bytree', 0.5, 1.0),\n"
          ]
        },
        {
          "name": "stdout",
          "output_type": "stream",
          "text": [
            "[I 2025-05-13 19:42:31,145] Trial 22 finished with value: 0.6211583447608292 and parameters: {'n_estimators': 745, 'max_depth': 4, 'learning_rate': 0.002090225065862341, 'subsample': 0.631109505790192, 'colsample_bytree': 0.8639496450930622}. Best is trial 9 with value: 0.638400379926852.\n"
          ]
        },
        {
          "name": "stderr",
          "output_type": "stream",
          "text": [
            "<ipython-input-9-09622cd4cd71>:53: FutureWarning: suggest_loguniform has been deprecated in v3.0.0. This feature will be removed in v6.0.0. See https://github.com/optuna/optuna/releases/tag/v3.0.0. Use suggest_float(..., log=True) instead.\n",
            "  'learning_rate': trial.suggest_loguniform('learning_rate', 1e-3, 1e-1),\n",
            "<ipython-input-9-09622cd4cd71>:54: FutureWarning: suggest_uniform has been deprecated in v3.0.0. This feature will be removed in v6.0.0. See https://github.com/optuna/optuna/releases/tag/v3.0.0. Use suggest_float instead.\n",
            "  'subsample': trial.suggest_uniform('subsample', 0.5, 1.0),\n",
            "<ipython-input-9-09622cd4cd71>:55: FutureWarning: suggest_uniform has been deprecated in v3.0.0. This feature will be removed in v6.0.0. See https://github.com/optuna/optuna/releases/tag/v3.0.0. Use suggest_float instead.\n",
            "  'colsample_bytree': trial.suggest_uniform('colsample_bytree', 0.5, 1.0),\n"
          ]
        },
        {
          "name": "stdout",
          "output_type": "stream",
          "text": [
            "[I 2025-05-13 19:42:32,433] Trial 23 finished with value: 0.6195228611103704 and parameters: {'n_estimators': 549, 'max_depth': 4, 'learning_rate': 0.006715501645022122, 'subsample': 0.5491223199719503, 'colsample_bytree': 0.9236036680419946}. Best is trial 9 with value: 0.638400379926852.\n"
          ]
        },
        {
          "name": "stderr",
          "output_type": "stream",
          "text": [
            "<ipython-input-9-09622cd4cd71>:53: FutureWarning: suggest_loguniform has been deprecated in v3.0.0. This feature will be removed in v6.0.0. See https://github.com/optuna/optuna/releases/tag/v3.0.0. Use suggest_float(..., log=True) instead.\n",
            "  'learning_rate': trial.suggest_loguniform('learning_rate', 1e-3, 1e-1),\n",
            "<ipython-input-9-09622cd4cd71>:54: FutureWarning: suggest_uniform has been deprecated in v3.0.0. This feature will be removed in v6.0.0. See https://github.com/optuna/optuna/releases/tag/v3.0.0. Use suggest_float instead.\n",
            "  'subsample': trial.suggest_uniform('subsample', 0.5, 1.0),\n",
            "<ipython-input-9-09622cd4cd71>:55: FutureWarning: suggest_uniform has been deprecated in v3.0.0. This feature will be removed in v6.0.0. See https://github.com/optuna/optuna/releases/tag/v3.0.0. Use suggest_float instead.\n",
            "  'colsample_bytree': trial.suggest_uniform('colsample_bytree', 0.5, 1.0),\n"
          ]
        },
        {
          "name": "stdout",
          "output_type": "stream",
          "text": [
            "[I 2025-05-13 19:42:33,853] Trial 24 finished with value: 0.5718304713189624 and parameters: {'n_estimators': 866, 'max_depth': 3, 'learning_rate': 0.014288912670197858, 'subsample': 0.5095416677426583, 'colsample_bytree': 0.7734054492645386}. Best is trial 9 with value: 0.638400379926852.\n"
          ]
        },
        {
          "name": "stderr",
          "output_type": "stream",
          "text": [
            "<ipython-input-9-09622cd4cd71>:53: FutureWarning: suggest_loguniform has been deprecated in v3.0.0. This feature will be removed in v6.0.0. See https://github.com/optuna/optuna/releases/tag/v3.0.0. Use suggest_float(..., log=True) instead.\n",
            "  'learning_rate': trial.suggest_loguniform('learning_rate', 1e-3, 1e-1),\n",
            "<ipython-input-9-09622cd4cd71>:54: FutureWarning: suggest_uniform has been deprecated in v3.0.0. This feature will be removed in v6.0.0. See https://github.com/optuna/optuna/releases/tag/v3.0.0. Use suggest_float instead.\n",
            "  'subsample': trial.suggest_uniform('subsample', 0.5, 1.0),\n",
            "<ipython-input-9-09622cd4cd71>:55: FutureWarning: suggest_uniform has been deprecated in v3.0.0. This feature will be removed in v6.0.0. See https://github.com/optuna/optuna/releases/tag/v3.0.0. Use suggest_float instead.\n",
            "  'colsample_bytree': trial.suggest_uniform('colsample_bytree', 0.5, 1.0),\n"
          ]
        },
        {
          "name": "stdout",
          "output_type": "stream",
          "text": [
            "[I 2025-05-13 19:42:35,288] Trial 25 finished with value: 0.6294573643410852 and parameters: {'n_estimators': 594, 'max_depth': 4, 'learning_rate': 0.0017128631386923257, 'subsample': 0.5794546595167461, 'colsample_bytree': 0.8106001363824596}. Best is trial 9 with value: 0.638400379926852.\n"
          ]
        },
        {
          "name": "stderr",
          "output_type": "stream",
          "text": [
            "<ipython-input-9-09622cd4cd71>:53: FutureWarning: suggest_loguniform has been deprecated in v3.0.0. This feature will be removed in v6.0.0. See https://github.com/optuna/optuna/releases/tag/v3.0.0. Use suggest_float(..., log=True) instead.\n",
            "  'learning_rate': trial.suggest_loguniform('learning_rate', 1e-3, 1e-1),\n",
            "<ipython-input-9-09622cd4cd71>:54: FutureWarning: suggest_uniform has been deprecated in v3.0.0. This feature will be removed in v6.0.0. See https://github.com/optuna/optuna/releases/tag/v3.0.0. Use suggest_float instead.\n",
            "  'subsample': trial.suggest_uniform('subsample', 0.5, 1.0),\n",
            "<ipython-input-9-09622cd4cd71>:55: FutureWarning: suggest_uniform has been deprecated in v3.0.0. This feature will be removed in v6.0.0. See https://github.com/optuna/optuna/releases/tag/v3.0.0. Use suggest_float instead.\n",
            "  'colsample_bytree': trial.suggest_uniform('colsample_bytree', 0.5, 1.0),\n"
          ]
        },
        {
          "name": "stdout",
          "output_type": "stream",
          "text": [
            "[I 2025-05-13 19:42:36,417] Trial 26 finished with value: 0.5916666666666667 and parameters: {'n_estimators': 562, 'max_depth': 4, 'learning_rate': 0.027878152580121354, 'subsample': 0.5887124559384997, 'colsample_bytree': 0.7972693108141501}. Best is trial 9 with value: 0.638400379926852.\n"
          ]
        },
        {
          "name": "stderr",
          "output_type": "stream",
          "text": [
            "<ipython-input-9-09622cd4cd71>:53: FutureWarning: suggest_loguniform has been deprecated in v3.0.0. This feature will be removed in v6.0.0. See https://github.com/optuna/optuna/releases/tag/v3.0.0. Use suggest_float(..., log=True) instead.\n",
            "  'learning_rate': trial.suggest_loguniform('learning_rate', 1e-3, 1e-1),\n",
            "<ipython-input-9-09622cd4cd71>:54: FutureWarning: suggest_uniform has been deprecated in v3.0.0. This feature will be removed in v6.0.0. See https://github.com/optuna/optuna/releases/tag/v3.0.0. Use suggest_float instead.\n",
            "  'subsample': trial.suggest_uniform('subsample', 0.5, 1.0),\n",
            "<ipython-input-9-09622cd4cd71>:55: FutureWarning: suggest_uniform has been deprecated in v3.0.0. This feature will be removed in v6.0.0. See https://github.com/optuna/optuna/releases/tag/v3.0.0. Use suggest_float instead.\n",
            "  'colsample_bytree': trial.suggest_uniform('colsample_bytree', 0.5, 1.0),\n"
          ]
        },
        {
          "name": "stdout",
          "output_type": "stream",
          "text": [
            "[I 2025-05-13 19:42:37,503] Trial 27 finished with value: 0.6035133565621371 and parameters: {'n_estimators': 500, 'max_depth': 5, 'learning_rate': 0.06044156632600681, 'subsample': 0.7257304691369344, 'colsample_bytree': 0.6828864670415091}. Best is trial 9 with value: 0.638400379926852.\n"
          ]
        },
        {
          "name": "stderr",
          "output_type": "stream",
          "text": [
            "<ipython-input-9-09622cd4cd71>:53: FutureWarning: suggest_loguniform has been deprecated in v3.0.0. This feature will be removed in v6.0.0. See https://github.com/optuna/optuna/releases/tag/v3.0.0. Use suggest_float(..., log=True) instead.\n",
            "  'learning_rate': trial.suggest_loguniform('learning_rate', 1e-3, 1e-1),\n",
            "<ipython-input-9-09622cd4cd71>:54: FutureWarning: suggest_uniform has been deprecated in v3.0.0. This feature will be removed in v6.0.0. See https://github.com/optuna/optuna/releases/tag/v3.0.0. Use suggest_float instead.\n",
            "  'subsample': trial.suggest_uniform('subsample', 0.5, 1.0),\n",
            "<ipython-input-9-09622cd4cd71>:55: FutureWarning: suggest_uniform has been deprecated in v3.0.0. This feature will be removed in v6.0.0. See https://github.com/optuna/optuna/releases/tag/v3.0.0. Use suggest_float instead.\n",
            "  'colsample_bytree': trial.suggest_uniform('colsample_bytree', 0.5, 1.0),\n"
          ]
        },
        {
          "name": "stdout",
          "output_type": "stream",
          "text": [
            "[I 2025-05-13 19:42:39,756] Trial 28 finished with value: 0.5751441241685145 and parameters: {'n_estimators': 631, 'max_depth': 7, 'learning_rate': 0.0017842696361814337, 'subsample': 0.6511230021086072, 'colsample_bytree': 0.6138744893844902}. Best is trial 9 with value: 0.638400379926852.\n"
          ]
        },
        {
          "name": "stderr",
          "output_type": "stream",
          "text": [
            "<ipython-input-9-09622cd4cd71>:53: FutureWarning: suggest_loguniform has been deprecated in v3.0.0. This feature will be removed in v6.0.0. See https://github.com/optuna/optuna/releases/tag/v3.0.0. Use suggest_float(..., log=True) instead.\n",
            "  'learning_rate': trial.suggest_loguniform('learning_rate', 1e-3, 1e-1),\n",
            "<ipython-input-9-09622cd4cd71>:54: FutureWarning: suggest_uniform has been deprecated in v3.0.0. This feature will be removed in v6.0.0. See https://github.com/optuna/optuna/releases/tag/v3.0.0. Use suggest_float instead.\n",
            "  'subsample': trial.suggest_uniform('subsample', 0.5, 1.0),\n",
            "<ipython-input-9-09622cd4cd71>:55: FutureWarning: suggest_uniform has been deprecated in v3.0.0. This feature will be removed in v6.0.0. See https://github.com/optuna/optuna/releases/tag/v3.0.0. Use suggest_float instead.\n",
            "  'colsample_bytree': trial.suggest_uniform('colsample_bytree', 0.5, 1.0),\n"
          ]
        },
        {
          "name": "stdout",
          "output_type": "stream",
          "text": [
            "[I 2025-05-13 19:42:41,526] Trial 29 finished with value: 0.5353419871946079 and parameters: {'n_estimators': 467, 'max_depth': 9, 'learning_rate': 0.0036866959013971278, 'subsample': 0.701192537505675, 'colsample_bytree': 0.8954265386893449}. Best is trial 9 with value: 0.638400379926852.\n"
          ]
        },
        {
          "name": "stderr",
          "output_type": "stream",
          "text": [
            "<ipython-input-9-09622cd4cd71>:53: FutureWarning: suggest_loguniform has been deprecated in v3.0.0. This feature will be removed in v6.0.0. See https://github.com/optuna/optuna/releases/tag/v3.0.0. Use suggest_float(..., log=True) instead.\n",
            "  'learning_rate': trial.suggest_loguniform('learning_rate', 1e-3, 1e-1),\n",
            "<ipython-input-9-09622cd4cd71>:54: FutureWarning: suggest_uniform has been deprecated in v3.0.0. This feature will be removed in v6.0.0. See https://github.com/optuna/optuna/releases/tag/v3.0.0. Use suggest_float instead.\n",
            "  'subsample': trial.suggest_uniform('subsample', 0.5, 1.0),\n",
            "<ipython-input-9-09622cd4cd71>:55: FutureWarning: suggest_uniform has been deprecated in v3.0.0. This feature will be removed in v6.0.0. See https://github.com/optuna/optuna/releases/tag/v3.0.0. Use suggest_float instead.\n",
            "  'colsample_bytree': trial.suggest_uniform('colsample_bytree', 0.5, 1.0),\n"
          ]
        },
        {
          "name": "stdout",
          "output_type": "stream",
          "text": [
            "[I 2025-05-13 19:42:44,205] Trial 30 finished with value: 0.5845198279980889 and parameters: {'n_estimators': 715, 'max_depth': 7, 'learning_rate': 0.004237690346754123, 'subsample': 0.7952032843949015, 'colsample_bytree': 0.9579882374926452}. Best is trial 9 with value: 0.638400379926852.\n"
          ]
        },
        {
          "name": "stderr",
          "output_type": "stream",
          "text": [
            "<ipython-input-9-09622cd4cd71>:53: FutureWarning: suggest_loguniform has been deprecated in v3.0.0. This feature will be removed in v6.0.0. See https://github.com/optuna/optuna/releases/tag/v3.0.0. Use suggest_float(..., log=True) instead.\n",
            "  'learning_rate': trial.suggest_loguniform('learning_rate', 1e-3, 1e-1),\n",
            "<ipython-input-9-09622cd4cd71>:54: FutureWarning: suggest_uniform has been deprecated in v3.0.0. This feature will be removed in v6.0.0. See https://github.com/optuna/optuna/releases/tag/v3.0.0. Use suggest_float instead.\n",
            "  'subsample': trial.suggest_uniform('subsample', 0.5, 1.0),\n",
            "<ipython-input-9-09622cd4cd71>:55: FutureWarning: suggest_uniform has been deprecated in v3.0.0. This feature will be removed in v6.0.0. See https://github.com/optuna/optuna/releases/tag/v3.0.0. Use suggest_float instead.\n",
            "  'colsample_bytree': trial.suggest_uniform('colsample_bytree', 0.5, 1.0),\n"
          ]
        },
        {
          "name": "stdout",
          "output_type": "stream",
          "text": [
            "[I 2025-05-13 19:42:45,691] Trial 31 finished with value: 0.6227983920841064 and parameters: {'n_estimators': 827, 'max_depth': 3, 'learning_rate': 0.0010109715977973457, 'subsample': 0.5487402394437001, 'colsample_bytree': 0.8446741439068215}. Best is trial 9 with value: 0.638400379926852.\n"
          ]
        },
        {
          "name": "stderr",
          "output_type": "stream",
          "text": [
            "<ipython-input-9-09622cd4cd71>:53: FutureWarning: suggest_loguniform has been deprecated in v3.0.0. This feature will be removed in v6.0.0. See https://github.com/optuna/optuna/releases/tag/v3.0.0. Use suggest_float(..., log=True) instead.\n",
            "  'learning_rate': trial.suggest_loguniform('learning_rate', 1e-3, 1e-1),\n",
            "<ipython-input-9-09622cd4cd71>:54: FutureWarning: suggest_uniform has been deprecated in v3.0.0. This feature will be removed in v6.0.0. See https://github.com/optuna/optuna/releases/tag/v3.0.0. Use suggest_float instead.\n",
            "  'subsample': trial.suggest_uniform('subsample', 0.5, 1.0),\n",
            "<ipython-input-9-09622cd4cd71>:55: FutureWarning: suggest_uniform has been deprecated in v3.0.0. This feature will be removed in v6.0.0. See https://github.com/optuna/optuna/releases/tag/v3.0.0. Use suggest_float instead.\n",
            "  'colsample_bytree': trial.suggest_uniform('colsample_bytree', 0.5, 1.0),\n"
          ]
        },
        {
          "name": "stdout",
          "output_type": "stream",
          "text": [
            "[I 2025-05-13 19:42:47,818] Trial 32 finished with value: 0.6203080046247748 and parameters: {'n_estimators': 934, 'max_depth': 4, 'learning_rate': 0.0015546323510666827, 'subsample': 0.5870341831213051, 'colsample_bytree': 0.8682501272829789}. Best is trial 9 with value: 0.638400379926852.\n"
          ]
        },
        {
          "name": "stderr",
          "output_type": "stream",
          "text": [
            "<ipython-input-9-09622cd4cd71>:53: FutureWarning: suggest_loguniform has been deprecated in v3.0.0. This feature will be removed in v6.0.0. See https://github.com/optuna/optuna/releases/tag/v3.0.0. Use suggest_float(..., log=True) instead.\n",
            "  'learning_rate': trial.suggest_loguniform('learning_rate', 1e-3, 1e-1),\n",
            "<ipython-input-9-09622cd4cd71>:54: FutureWarning: suggest_uniform has been deprecated in v3.0.0. This feature will be removed in v6.0.0. See https://github.com/optuna/optuna/releases/tag/v3.0.0. Use suggest_float instead.\n",
            "  'subsample': trial.suggest_uniform('subsample', 0.5, 1.0),\n",
            "<ipython-input-9-09622cd4cd71>:55: FutureWarning: suggest_uniform has been deprecated in v3.0.0. This feature will be removed in v6.0.0. See https://github.com/optuna/optuna/releases/tag/v3.0.0. Use suggest_float instead.\n",
            "  'colsample_bytree': trial.suggest_uniform('colsample_bytree', 0.5, 1.0),\n"
          ]
        },
        {
          "name": "stdout",
          "output_type": "stream",
          "text": [
            "[I 2025-05-13 19:42:49,350] Trial 33 finished with value: 0.6373182606375885 and parameters: {'n_estimators': 751, 'max_depth': 3, 'learning_rate': 0.0024215652851078745, 'subsample': 0.5259506450700266, 'colsample_bytree': 0.8074588239888943}. Best is trial 9 with value: 0.638400379926852.\n"
          ]
        },
        {
          "name": "stderr",
          "output_type": "stream",
          "text": [
            "<ipython-input-9-09622cd4cd71>:53: FutureWarning: suggest_loguniform has been deprecated in v3.0.0. This feature will be removed in v6.0.0. See https://github.com/optuna/optuna/releases/tag/v3.0.0. Use suggest_float(..., log=True) instead.\n",
            "  'learning_rate': trial.suggest_loguniform('learning_rate', 1e-3, 1e-1),\n",
            "<ipython-input-9-09622cd4cd71>:54: FutureWarning: suggest_uniform has been deprecated in v3.0.0. This feature will be removed in v6.0.0. See https://github.com/optuna/optuna/releases/tag/v3.0.0. Use suggest_float instead.\n",
            "  'subsample': trial.suggest_uniform('subsample', 0.5, 1.0),\n",
            "<ipython-input-9-09622cd4cd71>:55: FutureWarning: suggest_uniform has been deprecated in v3.0.0. This feature will be removed in v6.0.0. See https://github.com/optuna/optuna/releases/tag/v3.0.0. Use suggest_float instead.\n",
            "  'colsample_bytree': trial.suggest_uniform('colsample_bytree', 0.5, 1.0),\n"
          ]
        },
        {
          "name": "stdout",
          "output_type": "stream",
          "text": [
            "[I 2025-05-13 19:42:51,340] Trial 34 finished with value: 0.616798418972332 and parameters: {'n_estimators': 741, 'max_depth': 4, 'learning_rate': 0.0022956722596783495, 'subsample': 0.6220254975833922, 'colsample_bytree': 0.8022575816866429}. Best is trial 9 with value: 0.638400379926852.\n"
          ]
        },
        {
          "name": "stderr",
          "output_type": "stream",
          "text": [
            "<ipython-input-9-09622cd4cd71>:53: FutureWarning: suggest_loguniform has been deprecated in v3.0.0. This feature will be removed in v6.0.0. See https://github.com/optuna/optuna/releases/tag/v3.0.0. Use suggest_float(..., log=True) instead.\n",
            "  'learning_rate': trial.suggest_loguniform('learning_rate', 1e-3, 1e-1),\n",
            "<ipython-input-9-09622cd4cd71>:54: FutureWarning: suggest_uniform has been deprecated in v3.0.0. This feature will be removed in v6.0.0. See https://github.com/optuna/optuna/releases/tag/v3.0.0. Use suggest_float instead.\n",
            "  'subsample': trial.suggest_uniform('subsample', 0.5, 1.0),\n",
            "<ipython-input-9-09622cd4cd71>:55: FutureWarning: suggest_uniform has been deprecated in v3.0.0. This feature will be removed in v6.0.0. See https://github.com/optuna/optuna/releases/tag/v3.0.0. Use suggest_float instead.\n",
            "  'colsample_bytree': trial.suggest_uniform('colsample_bytree', 0.5, 1.0),\n"
          ]
        },
        {
          "name": "stdout",
          "output_type": "stream",
          "text": [
            "[I 2025-05-13 19:42:52,420] Trial 35 finished with value: 0.5929266666071992 and parameters: {'n_estimators': 415, 'max_depth': 5, 'learning_rate': 0.007273216455269484, 'subsample': 0.5750622385226617, 'colsample_bytree': 0.7658979053739727}. Best is trial 9 with value: 0.638400379926852.\n"
          ]
        },
        {
          "name": "stderr",
          "output_type": "stream",
          "text": [
            "<ipython-input-9-09622cd4cd71>:53: FutureWarning: suggest_loguniform has been deprecated in v3.0.0. This feature will be removed in v6.0.0. See https://github.com/optuna/optuna/releases/tag/v3.0.0. Use suggest_float(..., log=True) instead.\n",
            "  'learning_rate': trial.suggest_loguniform('learning_rate', 1e-3, 1e-1),\n",
            "<ipython-input-9-09622cd4cd71>:54: FutureWarning: suggest_uniform has been deprecated in v3.0.0. This feature will be removed in v6.0.0. See https://github.com/optuna/optuna/releases/tag/v3.0.0. Use suggest_float instead.\n",
            "  'subsample': trial.suggest_uniform('subsample', 0.5, 1.0),\n",
            "<ipython-input-9-09622cd4cd71>:55: FutureWarning: suggest_uniform has been deprecated in v3.0.0. This feature will be removed in v6.0.0. See https://github.com/optuna/optuna/releases/tag/v3.0.0. Use suggest_float instead.\n",
            "  'colsample_bytree': trial.suggest_uniform('colsample_bytree', 0.5, 1.0),\n"
          ]
        },
        {
          "name": "stdout",
          "output_type": "stream",
          "text": [
            "[I 2025-05-13 19:42:55,205] Trial 36 finished with value: 0.5444938841393924 and parameters: {'n_estimators': 877, 'max_depth': 10, 'learning_rate': 0.0034206170999747203, 'subsample': 0.5395822503784915, 'colsample_bytree': 0.8957846206621048}. Best is trial 9 with value: 0.638400379926852.\n"
          ]
        },
        {
          "name": "stderr",
          "output_type": "stream",
          "text": [
            "<ipython-input-9-09622cd4cd71>:53: FutureWarning: suggest_loguniform has been deprecated in v3.0.0. This feature will be removed in v6.0.0. See https://github.com/optuna/optuna/releases/tag/v3.0.0. Use suggest_float(..., log=True) instead.\n",
            "  'learning_rate': trial.suggest_loguniform('learning_rate', 1e-3, 1e-1),\n",
            "<ipython-input-9-09622cd4cd71>:54: FutureWarning: suggest_uniform has been deprecated in v3.0.0. This feature will be removed in v6.0.0. See https://github.com/optuna/optuna/releases/tag/v3.0.0. Use suggest_float instead.\n",
            "  'subsample': trial.suggest_uniform('subsample', 0.5, 1.0),\n",
            "<ipython-input-9-09622cd4cd71>:55: FutureWarning: suggest_uniform has been deprecated in v3.0.0. This feature will be removed in v6.0.0. See https://github.com/optuna/optuna/releases/tag/v3.0.0. Use suggest_float instead.\n",
            "  'colsample_bytree': trial.suggest_uniform('colsample_bytree', 0.5, 1.0),\n"
          ]
        },
        {
          "name": "stdout",
          "output_type": "stream",
          "text": [
            "[I 2025-05-13 19:42:57,413] Trial 37 finished with value: 0.55568865916692 and parameters: {'n_estimators': 633, 'max_depth': 6, 'learning_rate': 0.0029310516562951233, 'subsample': 0.9179080700663141, 'colsample_bytree': 0.7385484856564163}. Best is trial 9 with value: 0.638400379926852.\n"
          ]
        },
        {
          "name": "stderr",
          "output_type": "stream",
          "text": [
            "<ipython-input-9-09622cd4cd71>:53: FutureWarning: suggest_loguniform has been deprecated in v3.0.0. This feature will be removed in v6.0.0. See https://github.com/optuna/optuna/releases/tag/v3.0.0. Use suggest_float(..., log=True) instead.\n",
            "  'learning_rate': trial.suggest_loguniform('learning_rate', 1e-3, 1e-1),\n",
            "<ipython-input-9-09622cd4cd71>:54: FutureWarning: suggest_uniform has been deprecated in v3.0.0. This feature will be removed in v6.0.0. See https://github.com/optuna/optuna/releases/tag/v3.0.0. Use suggest_float instead.\n",
            "  'subsample': trial.suggest_uniform('subsample', 0.5, 1.0),\n",
            "<ipython-input-9-09622cd4cd71>:55: FutureWarning: suggest_uniform has been deprecated in v3.0.0. This feature will be removed in v6.0.0. See https://github.com/optuna/optuna/releases/tag/v3.0.0. Use suggest_float instead.\n",
            "  'colsample_bytree': trial.suggest_uniform('colsample_bytree', 0.5, 1.0),\n"
          ]
        },
        {
          "name": "stdout",
          "output_type": "stream",
          "text": [
            "[I 2025-05-13 19:42:58,921] Trial 38 finished with value: 0.6098320208813686 and parameters: {'n_estimators': 949, 'max_depth': 3, 'learning_rate': 0.013898941621308647, 'subsample': 0.8532330101073426, 'colsample_bytree': 0.8105460187182663}. Best is trial 9 with value: 0.638400379926852.\n"
          ]
        },
        {
          "name": "stderr",
          "output_type": "stream",
          "text": [
            "<ipython-input-9-09622cd4cd71>:53: FutureWarning: suggest_loguniform has been deprecated in v3.0.0. This feature will be removed in v6.0.0. See https://github.com/optuna/optuna/releases/tag/v3.0.0. Use suggest_float(..., log=True) instead.\n",
            "  'learning_rate': trial.suggest_loguniform('learning_rate', 1e-3, 1e-1),\n",
            "<ipython-input-9-09622cd4cd71>:54: FutureWarning: suggest_uniform has been deprecated in v3.0.0. This feature will be removed in v6.0.0. See https://github.com/optuna/optuna/releases/tag/v3.0.0. Use suggest_float instead.\n",
            "  'subsample': trial.suggest_uniform('subsample', 0.5, 1.0),\n",
            "<ipython-input-9-09622cd4cd71>:55: FutureWarning: suggest_uniform has been deprecated in v3.0.0. This feature will be removed in v6.0.0. See https://github.com/optuna/optuna/releases/tag/v3.0.0. Use suggest_float instead.\n",
            "  'colsample_bytree': trial.suggest_uniform('colsample_bytree', 0.5, 1.0),\n"
          ]
        },
        {
          "name": "stdout",
          "output_type": "stream",
          "text": [
            "[I 2025-05-13 19:42:59,722] Trial 39 finished with value: 0.5744427141485965 and parameters: {'n_estimators': 223, 'max_depth': 15, 'learning_rate': 0.0019181050609704115, 'subsample': 0.5997793167636956, 'colsample_bytree': 0.8460795346702337}. Best is trial 9 with value: 0.638400379926852.\n"
          ]
        },
        {
          "name": "stderr",
          "output_type": "stream",
          "text": [
            "<ipython-input-9-09622cd4cd71>:53: FutureWarning: suggest_loguniform has been deprecated in v3.0.0. This feature will be removed in v6.0.0. See https://github.com/optuna/optuna/releases/tag/v3.0.0. Use suggest_float(..., log=True) instead.\n",
            "  'learning_rate': trial.suggest_loguniform('learning_rate', 1e-3, 1e-1),\n",
            "<ipython-input-9-09622cd4cd71>:54: FutureWarning: suggest_uniform has been deprecated in v3.0.0. This feature will be removed in v6.0.0. See https://github.com/optuna/optuna/releases/tag/v3.0.0. Use suggest_float instead.\n",
            "  'subsample': trial.suggest_uniform('subsample', 0.5, 1.0),\n",
            "<ipython-input-9-09622cd4cd71>:55: FutureWarning: suggest_uniform has been deprecated in v3.0.0. This feature will be removed in v6.0.0. See https://github.com/optuna/optuna/releases/tag/v3.0.0. Use suggest_float instead.\n",
            "  'colsample_bytree': trial.suggest_uniform('colsample_bytree', 0.5, 1.0),\n"
          ]
        },
        {
          "name": "stdout",
          "output_type": "stream",
          "text": [
            "[I 2025-05-13 19:43:03,426] Trial 40 finished with value: 0.5411215595998204 and parameters: {'n_estimators': 822, 'max_depth': 12, 'learning_rate': 0.00284278630603125, 'subsample': 0.7690651734868645, 'colsample_bytree': 0.7819494366451301}. Best is trial 9 with value: 0.638400379926852.\n"
          ]
        },
        {
          "name": "stderr",
          "output_type": "stream",
          "text": [
            "<ipython-input-9-09622cd4cd71>:53: FutureWarning: suggest_loguniform has been deprecated in v3.0.0. This feature will be removed in v6.0.0. See https://github.com/optuna/optuna/releases/tag/v3.0.0. Use suggest_float(..., log=True) instead.\n",
            "  'learning_rate': trial.suggest_loguniform('learning_rate', 1e-3, 1e-1),\n",
            "<ipython-input-9-09622cd4cd71>:54: FutureWarning: suggest_uniform has been deprecated in v3.0.0. This feature will be removed in v6.0.0. See https://github.com/optuna/optuna/releases/tag/v3.0.0. Use suggest_float instead.\n",
            "  'subsample': trial.suggest_uniform('subsample', 0.5, 1.0),\n",
            "<ipython-input-9-09622cd4cd71>:55: FutureWarning: suggest_uniform has been deprecated in v3.0.0. This feature will be removed in v6.0.0. See https://github.com/optuna/optuna/releases/tag/v3.0.0. Use suggest_float instead.\n",
            "  'colsample_bytree': trial.suggest_uniform('colsample_bytree', 0.5, 1.0),\n"
          ]
        },
        {
          "name": "stdout",
          "output_type": "stream",
          "text": [
            "[I 2025-05-13 19:43:04,772] Trial 41 finished with value: 0.6254579665521914 and parameters: {'n_estimators': 780, 'max_depth': 3, 'learning_rate': 0.001323738481544642, 'subsample': 0.5200684630636445, 'colsample_bytree': 0.839381708792738}. Best is trial 9 with value: 0.638400379926852.\n"
          ]
        },
        {
          "name": "stderr",
          "output_type": "stream",
          "text": [
            "<ipython-input-9-09622cd4cd71>:53: FutureWarning: suggest_loguniform has been deprecated in v3.0.0. This feature will be removed in v6.0.0. See https://github.com/optuna/optuna/releases/tag/v3.0.0. Use suggest_float(..., log=True) instead.\n",
            "  'learning_rate': trial.suggest_loguniform('learning_rate', 1e-3, 1e-1),\n",
            "<ipython-input-9-09622cd4cd71>:54: FutureWarning: suggest_uniform has been deprecated in v3.0.0. This feature will be removed in v6.0.0. See https://github.com/optuna/optuna/releases/tag/v3.0.0. Use suggest_float instead.\n",
            "  'subsample': trial.suggest_uniform('subsample', 0.5, 1.0),\n",
            "<ipython-input-9-09622cd4cd71>:55: FutureWarning: suggest_uniform has been deprecated in v3.0.0. This feature will be removed in v6.0.0. See https://github.com/optuna/optuna/releases/tag/v3.0.0. Use suggest_float instead.\n",
            "  'colsample_bytree': trial.suggest_uniform('colsample_bytree', 0.5, 1.0),\n"
          ]
        },
        {
          "name": "stdout",
          "output_type": "stream",
          "text": [
            "[I 2025-05-13 19:43:06,384] Trial 42 finished with value: 0.644465058750773 and parameters: {'n_estimators': 749, 'max_depth': 4, 'learning_rate': 0.0015853989454949194, 'subsample': 0.5155500509619765, 'colsample_bytree': 0.8295222645160203}. Best is trial 42 with value: 0.644465058750773.\n"
          ]
        },
        {
          "name": "stderr",
          "output_type": "stream",
          "text": [
            "<ipython-input-9-09622cd4cd71>:53: FutureWarning: suggest_loguniform has been deprecated in v3.0.0. This feature will be removed in v6.0.0. See https://github.com/optuna/optuna/releases/tag/v3.0.0. Use suggest_float(..., log=True) instead.\n",
            "  'learning_rate': trial.suggest_loguniform('learning_rate', 1e-3, 1e-1),\n",
            "<ipython-input-9-09622cd4cd71>:54: FutureWarning: suggest_uniform has been deprecated in v3.0.0. This feature will be removed in v6.0.0. See https://github.com/optuna/optuna/releases/tag/v3.0.0. Use suggest_float instead.\n",
            "  'subsample': trial.suggest_uniform('subsample', 0.5, 1.0),\n",
            "<ipython-input-9-09622cd4cd71>:55: FutureWarning: suggest_uniform has been deprecated in v3.0.0. This feature will be removed in v6.0.0. See https://github.com/optuna/optuna/releases/tag/v3.0.0. Use suggest_float instead.\n",
            "  'colsample_bytree': trial.suggest_uniform('colsample_bytree', 0.5, 1.0),\n"
          ]
        },
        {
          "name": "stdout",
          "output_type": "stream",
          "text": [
            "[I 2025-05-13 19:43:08,022] Trial 43 finished with value: 0.6232065553494125 and parameters: {'n_estimators': 747, 'max_depth': 4, 'learning_rate': 0.0010786363602776716, 'subsample': 0.5645315871538787, 'colsample_bytree': 0.812004318147891}. Best is trial 42 with value: 0.644465058750773.\n"
          ]
        },
        {
          "name": "stderr",
          "output_type": "stream",
          "text": [
            "<ipython-input-9-09622cd4cd71>:53: FutureWarning: suggest_loguniform has been deprecated in v3.0.0. This feature will be removed in v6.0.0. See https://github.com/optuna/optuna/releases/tag/v3.0.0. Use suggest_float(..., log=True) instead.\n",
            "  'learning_rate': trial.suggest_loguniform('learning_rate', 1e-3, 1e-1),\n",
            "<ipython-input-9-09622cd4cd71>:54: FutureWarning: suggest_uniform has been deprecated in v3.0.0. This feature will be removed in v6.0.0. See https://github.com/optuna/optuna/releases/tag/v3.0.0. Use suggest_float instead.\n",
            "  'subsample': trial.suggest_uniform('subsample', 0.5, 1.0),\n",
            "<ipython-input-9-09622cd4cd71>:55: FutureWarning: suggest_uniform has been deprecated in v3.0.0. This feature will be removed in v6.0.0. See https://github.com/optuna/optuna/releases/tag/v3.0.0. Use suggest_float instead.\n",
            "  'colsample_bytree': trial.suggest_uniform('colsample_bytree', 0.5, 1.0),\n"
          ]
        },
        {
          "name": "stdout",
          "output_type": "stream",
          "text": [
            "[I 2025-05-13 19:43:09,826] Trial 44 finished with value: 0.5629940002608582 and parameters: {'n_estimators': 612, 'max_depth': 6, 'learning_rate': 0.0016211045761665864, 'subsample': 0.5303881897487474, 'colsample_bytree': 0.8849916007554828}. Best is trial 42 with value: 0.644465058750773.\n"
          ]
        },
        {
          "name": "stderr",
          "output_type": "stream",
          "text": [
            "<ipython-input-9-09622cd4cd71>:53: FutureWarning: suggest_loguniform has been deprecated in v3.0.0. This feature will be removed in v6.0.0. See https://github.com/optuna/optuna/releases/tag/v3.0.0. Use suggest_float(..., log=True) instead.\n",
            "  'learning_rate': trial.suggest_loguniform('learning_rate', 1e-3, 1e-1),\n",
            "<ipython-input-9-09622cd4cd71>:54: FutureWarning: suggest_uniform has been deprecated in v3.0.0. This feature will be removed in v6.0.0. See https://github.com/optuna/optuna/releases/tag/v3.0.0. Use suggest_float instead.\n",
            "  'subsample': trial.suggest_uniform('subsample', 0.5, 1.0),\n",
            "<ipython-input-9-09622cd4cd71>:55: FutureWarning: suggest_uniform has been deprecated in v3.0.0. This feature will be removed in v6.0.0. See https://github.com/optuna/optuna/releases/tag/v3.0.0. Use suggest_float instead.\n",
            "  'colsample_bytree': trial.suggest_uniform('colsample_bytree', 0.5, 1.0),\n"
          ]
        },
        {
          "name": "stdout",
          "output_type": "stream",
          "text": [
            "[I 2025-05-13 19:43:11,132] Trial 45 finished with value: 0.6415665080261352 and parameters: {'n_estimators': 568, 'max_depth': 4, 'learning_rate': 0.002597549618776271, 'subsample': 0.6113330516549177, 'colsample_bytree': 0.747478802859008}. Best is trial 42 with value: 0.644465058750773.\n"
          ]
        },
        {
          "name": "stderr",
          "output_type": "stream",
          "text": [
            "<ipython-input-9-09622cd4cd71>:53: FutureWarning: suggest_loguniform has been deprecated in v3.0.0. This feature will be removed in v6.0.0. See https://github.com/optuna/optuna/releases/tag/v3.0.0. Use suggest_float(..., log=True) instead.\n",
            "  'learning_rate': trial.suggest_loguniform('learning_rate', 1e-3, 1e-1),\n",
            "<ipython-input-9-09622cd4cd71>:54: FutureWarning: suggest_uniform has been deprecated in v3.0.0. This feature will be removed in v6.0.0. See https://github.com/optuna/optuna/releases/tag/v3.0.0. Use suggest_float instead.\n",
            "  'subsample': trial.suggest_uniform('subsample', 0.5, 1.0),\n",
            "<ipython-input-9-09622cd4cd71>:55: FutureWarning: suggest_uniform has been deprecated in v3.0.0. This feature will be removed in v6.0.0. See https://github.com/optuna/optuna/releases/tag/v3.0.0. Use suggest_float instead.\n",
            "  'colsample_bytree': trial.suggest_uniform('colsample_bytree', 0.5, 1.0),\n"
          ]
        },
        {
          "name": "stdout",
          "output_type": "stream",
          "text": [
            "[I 2025-05-13 19:43:13,057] Trial 46 finished with value: 0.5970957351226319 and parameters: {'n_estimators': 569, 'max_depth': 5, 'learning_rate': 0.0024801999498356465, 'subsample': 0.6175078816413107, 'colsample_bytree': 0.749548213486189}. Best is trial 42 with value: 0.644465058750773.\n"
          ]
        },
        {
          "name": "stderr",
          "output_type": "stream",
          "text": [
            "<ipython-input-9-09622cd4cd71>:53: FutureWarning: suggest_loguniform has been deprecated in v3.0.0. This feature will be removed in v6.0.0. See https://github.com/optuna/optuna/releases/tag/v3.0.0. Use suggest_float(..., log=True) instead.\n",
            "  'learning_rate': trial.suggest_loguniform('learning_rate', 1e-3, 1e-1),\n",
            "<ipython-input-9-09622cd4cd71>:54: FutureWarning: suggest_uniform has been deprecated in v3.0.0. This feature will be removed in v6.0.0. See https://github.com/optuna/optuna/releases/tag/v3.0.0. Use suggest_float instead.\n",
            "  'subsample': trial.suggest_uniform('subsample', 0.5, 1.0),\n",
            "<ipython-input-9-09622cd4cd71>:55: FutureWarning: suggest_uniform has been deprecated in v3.0.0. This feature will be removed in v6.0.0. See https://github.com/optuna/optuna/releases/tag/v3.0.0. Use suggest_float instead.\n",
            "  'colsample_bytree': trial.suggest_uniform('colsample_bytree', 0.5, 1.0),\n"
          ]
        },
        {
          "name": "stdout",
          "output_type": "stream",
          "text": [
            "[I 2025-05-13 19:43:14,857] Trial 47 finished with value: 0.6156714659582375 and parameters: {'n_estimators': 527, 'max_depth': 5, 'learning_rate': 0.005181271166417205, 'subsample': 0.8810385993965961, 'colsample_bytree': 0.6993961673770653}. Best is trial 42 with value: 0.644465058750773.\n"
          ]
        },
        {
          "name": "stderr",
          "output_type": "stream",
          "text": [
            "<ipython-input-9-09622cd4cd71>:53: FutureWarning: suggest_loguniform has been deprecated in v3.0.0. This feature will be removed in v6.0.0. See https://github.com/optuna/optuna/releases/tag/v3.0.0. Use suggest_float(..., log=True) instead.\n",
            "  'learning_rate': trial.suggest_loguniform('learning_rate', 1e-3, 1e-1),\n",
            "<ipython-input-9-09622cd4cd71>:54: FutureWarning: suggest_uniform has been deprecated in v3.0.0. This feature will be removed in v6.0.0. See https://github.com/optuna/optuna/releases/tag/v3.0.0. Use suggest_float instead.\n",
            "  'subsample': trial.suggest_uniform('subsample', 0.5, 1.0),\n",
            "<ipython-input-9-09622cd4cd71>:55: FutureWarning: suggest_uniform has been deprecated in v3.0.0. This feature will be removed in v6.0.0. See https://github.com/optuna/optuna/releases/tag/v3.0.0. Use suggest_float instead.\n",
            "  'colsample_bytree': trial.suggest_uniform('colsample_bytree', 0.5, 1.0),\n"
          ]
        },
        {
          "name": "stdout",
          "output_type": "stream",
          "text": [
            "[I 2025-05-13 19:43:15,865] Trial 48 finished with value: 0.577485139323521 and parameters: {'n_estimators': 398, 'max_depth': 4, 'learning_rate': 0.003939304289560107, 'subsample': 0.8272688434610699, 'colsample_bytree': 0.7347335028591059}. Best is trial 42 with value: 0.644465058750773.\n"
          ]
        },
        {
          "name": "stderr",
          "output_type": "stream",
          "text": [
            "<ipython-input-9-09622cd4cd71>:53: FutureWarning: suggest_loguniform has been deprecated in v3.0.0. This feature will be removed in v6.0.0. See https://github.com/optuna/optuna/releases/tag/v3.0.0. Use suggest_float(..., log=True) instead.\n",
            "  'learning_rate': trial.suggest_loguniform('learning_rate', 1e-3, 1e-1),\n",
            "<ipython-input-9-09622cd4cd71>:54: FutureWarning: suggest_uniform has been deprecated in v3.0.0. This feature will be removed in v6.0.0. See https://github.com/optuna/optuna/releases/tag/v3.0.0. Use suggest_float instead.\n",
            "  'subsample': trial.suggest_uniform('subsample', 0.5, 1.0),\n",
            "<ipython-input-9-09622cd4cd71>:55: FutureWarning: suggest_uniform has been deprecated in v3.0.0. This feature will be removed in v6.0.0. See https://github.com/optuna/optuna/releases/tag/v3.0.0. Use suggest_float instead.\n",
            "  'colsample_bytree': trial.suggest_uniform('colsample_bytree', 0.5, 1.0),\n"
          ]
        },
        {
          "name": "stdout",
          "output_type": "stream",
          "text": [
            "[I 2025-05-13 19:43:18,082] Trial 49 finished with value: 0.5438856226655523 and parameters: {'n_estimators': 657, 'max_depth': 14, 'learning_rate': 0.0027759630551294715, 'subsample': 0.6497897017444644, 'colsample_bytree': 0.7661022467497528}. Best is trial 42 with value: 0.644465058750773.\n"
          ]
        },
        {
          "name": "stderr",
          "output_type": "stream",
          "text": [
            "/usr/local/lib/python3.11/dist-packages/xgboost/core.py:158: UserWarning: [19:43:19] WARNING: /workspace/src/learner.cc:740: \n",
            "Parameters: { \"use_label_encoder\" } are not used.\n",
            "\n",
            "  warnings.warn(smsg, UserWarning)\n"
          ]
        },
        {
          "name": "stdout",
          "output_type": "stream",
          "text": [
            "Random Forest Test Report (F2-optimized):\n",
            "              precision    recall  f1-score   support\n",
            "\n",
            "         0.0      0.962     1.000     0.981       229\n",
            "         1.0      1.000     0.182     0.308        11\n",
            "\n",
            "    accuracy                          0.963       240\n",
            "   macro avg      0.981     0.591     0.644       240\n",
            "weighted avg      0.964     0.963     0.950       240\n",
            "\n",
            "\n",
            "XGBoost Test Report (F2-optimized):\n",
            "              precision    recall  f1-score   support\n",
            "\n",
            "         0.0      0.954     1.000     0.977       229\n",
            "         1.0      0.000     0.000     0.000        11\n",
            "\n",
            "    accuracy                          0.954       240\n",
            "   macro avg      0.477     0.500     0.488       240\n",
            "weighted avg      0.910     0.954     0.932       240\n",
            "\n",
            "Best RF params: {'n_estimators': 790, 'max_depth': 17, 'min_samples_split': 3, 'min_samples_leaf': 7, 'max_features': 'sqrt'}\n",
            "Best XGB params: {'n_estimators': 749, 'max_depth': 4, 'learning_rate': 0.0015853989454949194, 'subsample': 0.5155500509619765, 'colsample_bytree': 0.8295222645160203}\n"
          ]
        },
        {
          "name": "stderr",
          "output_type": "stream",
          "text": [
            "/usr/local/lib/python3.11/dist-packages/sklearn/metrics/_classification.py:1565: UndefinedMetricWarning: Precision is ill-defined and being set to 0.0 in labels with no predicted samples. Use `zero_division` parameter to control this behavior.\n",
            "  _warn_prf(average, modifier, f\"{metric.capitalize()} is\", len(result))\n",
            "/usr/local/lib/python3.11/dist-packages/sklearn/metrics/_classification.py:1565: UndefinedMetricWarning: Precision is ill-defined and being set to 0.0 in labels with no predicted samples. Use `zero_division` parameter to control this behavior.\n",
            "  _warn_prf(average, modifier, f\"{metric.capitalize()} is\", len(result))\n",
            "/usr/local/lib/python3.11/dist-packages/sklearn/metrics/_classification.py:1565: UndefinedMetricWarning: Precision is ill-defined and being set to 0.0 in labels with no predicted samples. Use `zero_division` parameter to control this behavior.\n",
            "  _warn_prf(average, modifier, f\"{metric.capitalize()} is\", len(result))\n"
          ]
        }
      ],
      "source": [
        "import optuna\n",
        "import pandas as pd\n",
        "import numpy as np\n",
        "\n",
        "from sklearn.model_selection import train_test_split, cross_val_score\n",
        "from sklearn.impute import SimpleImputer\n",
        "from sklearn.metrics import make_scorer, fbeta_score, classification_report\n",
        "from sklearn.ensemble import RandomForestClassifier\n",
        "import xgboost as xgb\n",
        "\n",
        "# 1. Load the dataset\n",
        "df = pd.read_csv('fd.csv')\n",
        "X = df.drop(columns=['Bleaching'])\n",
        "y = df['Bleaching']\n",
        "\n",
        "# 2. Train/test split\n",
        "X_train, X_test, y_train, y_test = train_test_split(\n",
        "    X, y, test_size=0.2, stratify=y, random_state=42\n",
        ")\n",
        "\n",
        "# 3. Imputation\n",
        "imputer = SimpleImputer(strategy='median')\n",
        "X_train_imp = imputer.fit_transform(X_train)\n",
        "X_test_imp  = imputer.transform(X_test)\n",
        "\n",
        "# 4. Define an F2 scorer\n",
        "f2_scorer = make_scorer(fbeta_score, beta=2, pos_label=1)\n",
        "\n",
        "# 5a. Random Forest Objective\n",
        "def rf_objective(trial):\n",
        "    params = {\n",
        "        'n_estimators': trial.suggest_int('n_estimators', 100, 1000),\n",
        "        'max_depth': trial.suggest_int('max_depth', 5, 50),\n",
        "        'min_samples_split': trial.suggest_int('min_samples_split', 2, 20),\n",
        "        'min_samples_leaf': trial.suggest_int('min_samples_leaf', 1, 10),\n",
        "        'max_features': trial.suggest_categorical('max_features', ['sqrt', 'log2']),\n",
        "        'class_weight': 'balanced'\n",
        "    }\n",
        "    model = RandomForestClassifier(**params, random_state=42, n_jobs=-1)\n",
        "    scores = cross_val_score(model, X_train_imp, y_train,\n",
        "                             cv=5, scoring=f2_scorer, n_jobs=-1)\n",
        "    return scores.mean()\n",
        "\n",
        "# 5b. XGBoost Objective\n",
        "neg = (y_train == 0).sum()\n",
        "pos = (y_train == 1).sum()\n",
        "scale_pos_weight = neg / pos\n",
        "\n",
        "def xgb_objective(trial):\n",
        "    params = {\n",
        "        'n_estimators': trial.suggest_int('n_estimators', 100, 1000),\n",
        "        'max_depth': trial.suggest_int('max_depth', 3, 15),\n",
        "        'learning_rate': trial.suggest_loguniform('learning_rate', 1e-3, 1e-1),\n",
        "        'subsample': trial.suggest_uniform('subsample', 0.5, 1.0),\n",
        "        'colsample_bytree': trial.suggest_uniform('colsample_bytree', 0.5, 1.0),\n",
        "        'scale_pos_weight': scale_pos_weight,\n",
        "        'use_label_encoder': False,\n",
        "        'eval_metric': 'logloss'\n",
        "    }\n",
        "    model = xgb.XGBClassifier(**params, random_state=42, n_jobs=-1)\n",
        "    scores = cross_val_score(model, X_train_imp, y_train,\n",
        "                             cv=5, scoring=f2_scorer, n_jobs=-1)\n",
        "    return scores.mean()\n",
        "\n",
        "# 6. Run Optuna studies maximizing F2\n",
        "rf_study = optuna.create_study(direction='maximize')\n",
        "rf_study.optimize(rf_objective, n_trials=50, show_progress_bar=True)\n",
        "\n",
        "xgb_study = optuna.create_study(direction='maximize')\n",
        "xgb_study.optimize(xgb_objective, n_trials=50, show_progress_bar=True)\n",
        "\n",
        "# 7. Train final models with best parameters\n",
        "best_rf = RandomForestClassifier(**rf_study.best_params, random_state=42, n_jobs=-1)\n",
        "best_rf.fit(X_train_imp, y_train)\n",
        "\n",
        "best_xgb = xgb.XGBClassifier(**xgb_study.best_params,\n",
        "                             random_state=42, n_jobs=-1,\n",
        "                             use_label_encoder=False, eval_metric='logloss')\n",
        "best_xgb.fit(X_train_imp, y_train)\n",
        "\n",
        "# 8. Evaluate on test set\n",
        "y_pred_rf  = best_rf.predict(X_test_imp)\n",
        "y_pred_xgb = best_xgb.predict(X_test_imp)\n",
        "\n",
        "print(\"Random Forest Test Report (F2-optimized):\")\n",
        "print(classification_report(y_test, y_pred_rf, digits=3))\n",
        "\n",
        "print(\"\\nXGBoost Test Report (F2-optimized):\")\n",
        "print(classification_report(y_test, y_pred_xgb, digits=3))\n",
        "\n",
        "# 9. Best hyperparameters\n",
        "print(\"Best RF params:\", rf_study.best_params)\n",
        "print(\"Best XGB params:\", xgb_study.best_params)\n"
      ]
    },
    {
      "cell_type": "code",
      "execution_count": 10,
      "metadata": {
        "colab": {
          "base_uri": "https://localhost:8080/",
          "height": 1000,
          "referenced_widgets": [
            "4dd605200cce496d9ccf423896736e3a",
            "ec3e1a7b69a648689fa15e1293208194",
            "c57a1a11e4bb4527b35330dba44d1ce8",
            "98d098ad401346d9823c402122684a2c",
            "5601692a890945c28396c0593f93203d",
            "679bd5d1f8af4a0db226db1f36d7c86e",
            "4ffb41ebbe3d4adf8b2b0aed49874683",
            "8ece380405a14d68abd3233ce958a677",
            "1801b3f04ffa4b66bb401049560b7167",
            "ff25080771d6468297d99e8e487f92a2",
            "3393acb4b86e49b68f4fd5a356f4eb70"
          ]
        },
        "id": "xlCOTT6fMItG",
        "outputId": "51d9f67e-20ad-4017-e521-195761f1ff99"
      },
      "outputs": [
        {
          "name": "stderr",
          "output_type": "stream",
          "text": [
            "[I 2025-05-13 19:48:00,262] A new study created in memory with name: no-name-aa3460c8-fdcf-4d45-9f84-b94741b17442\n"
          ]
        },
        {
          "data": {
            "application/vnd.jupyter.widget-view+json": {
              "model_id": "4dd605200cce496d9ccf423896736e3a",
              "version_major": 2,
              "version_minor": 0
            },
            "text/plain": [
              "  0%|          | 0/50 [00:00<?, ?it/s]"
            ]
          },
          "metadata": {},
          "output_type": "display_data"
        },
        {
          "name": "stdout",
          "output_type": "stream",
          "text": [
            "[I 2025-05-13 19:48:07,379] Trial 0 finished with values: [0.6976744186046512, 0.44776119402985076] and parameters: {'n_estimators': 648, 'max_depth': 14, 'min_samples_leaf': 9, 'pos_weight': 11.240298086809622}.\n",
            "[I 2025-05-13 19:48:15,600] Trial 1 finished with values: [0.627906976744186, 0.5294117647058824] and parameters: {'n_estimators': 743, 'max_depth': 32, 'min_samples_leaf': 9, 'pos_weight': 3.9225509636808766}.\n",
            "[I 2025-05-13 19:48:24,513] Trial 2 finished with values: [0.6744186046511628, 0.47540983606557374] and parameters: {'n_estimators': 763, 'max_depth': 22, 'min_samples_leaf': 8, 'pos_weight': 12.444888144185104}.\n",
            "[I 2025-05-13 19:48:35,514] Trial 3 finished with values: [0.6511627906976745, 0.4827586206896552] and parameters: {'n_estimators': 944, 'max_depth': 14, 'min_samples_leaf': 5, 'pos_weight': 6.581463029767196}.\n",
            "[I 2025-05-13 19:48:42,902] Trial 4 finished with values: [0.6976744186046512, 0.45454545454545453] and parameters: {'n_estimators': 644, 'max_depth': 10, 'min_samples_leaf': 1, 'pos_weight': 13.121360525981917}.\n",
            "[I 2025-05-13 19:48:51,615] Trial 5 finished with values: [0.6511627906976745, 0.5283018867924528] and parameters: {'n_estimators': 844, 'max_depth': 9, 'min_samples_leaf': 6, 'pos_weight': 2.4337425232565573}.\n",
            "[I 2025-05-13 19:48:57,727] Trial 6 finished with values: [0.6744186046511628, 0.47540983606557374] and parameters: {'n_estimators': 496, 'max_depth': 40, 'min_samples_leaf': 8, 'pos_weight': 14.054095796260288}.\n",
            "[I 2025-05-13 19:49:00,364] Trial 7 finished with values: [0.6511627906976745, 0.4745762711864407] and parameters: {'n_estimators': 232, 'max_depth': 11, 'min_samples_leaf': 1, 'pos_weight': 17.75284691831656}.\n",
            "[I 2025-05-13 19:49:02,058] Trial 8 finished with values: [0.6976744186046512, 0.4838709677419355] and parameters: {'n_estimators': 147, 'max_depth': 35, 'min_samples_leaf': 6, 'pos_weight': 14.459254454642066}.\n",
            "[I 2025-05-13 19:49:08,864] Trial 9 finished with values: [0.7209302325581395, 0.4626865671641791] and parameters: {'n_estimators': 551, 'max_depth': 19, 'min_samples_leaf': 8, 'pos_weight': 17.25581183509492}.\n",
            "[I 2025-05-13 19:49:19,484] Trial 10 finished with values: [0.627906976744186, 0.54] and parameters: {'n_estimators': 978, 'max_depth': 50, 'min_samples_leaf': 4, 'pos_weight': 1.1472182640383917}.\n",
            "[I 2025-05-13 19:49:23,869] Trial 11 finished with values: [0.6744186046511628, 0.47540983606557374] and parameters: {'n_estimators': 404, 'max_depth': 22, 'min_samples_leaf': 6, 'pos_weight': 7.112118396156895}.\n",
            "[I 2025-05-13 19:49:32,289] Trial 12 finished with values: [0.6046511627906976, 0.45614035087719296] and parameters: {'n_estimators': 846, 'max_depth': 5, 'min_samples_leaf': 3, 'pos_weight': 19.903554184033844}.\n",
            "[I 2025-05-13 19:49:36,700] Trial 13 finished with values: [0.6744186046511628, 0.47540983606557374] and parameters: {'n_estimators': 403, 'max_depth': 21, 'min_samples_leaf': 7, 'pos_weight': 8.322548106425106}.\n",
            "[I 2025-05-13 19:49:42,432] Trial 14 finished with values: [0.6046511627906976, 0.5652173913043478] and parameters: {'n_estimators': 543, 'max_depth': 5, 'min_samples_leaf': 10, 'pos_weight': 2.3225638948644605}.\n",
            "[I 2025-05-13 19:49:52,488] Trial 15 finished with values: [0.6976744186046512, 0.46153846153846156] and parameters: {'n_estimators': 847, 'max_depth': 18, 'min_samples_leaf': 3, 'pos_weight': 17.001432884545}.\n",
            "[I 2025-05-13 19:49:56,121] Trial 16 finished with values: [0.6511627906976745, 0.4827586206896552] and parameters: {'n_estimators': 322, 'max_depth': 29, 'min_samples_leaf': 7, 'pos_weight': 4.9298236572222915}.\n",
            "[I 2025-05-13 19:50:03,543] Trial 17 finished with values: [0.6976744186046512, 0.46875] and parameters: {'n_estimators': 630, 'max_depth': 18, 'min_samples_leaf': 5, 'pos_weight': 16.306493180220016}.\n",
            "[I 2025-05-13 19:50:12,735] Trial 18 finished with values: [0.6976744186046512, 0.4838709677419355] and parameters: {'n_estimators': 854, 'max_depth': 9, 'min_samples_leaf': 7, 'pos_weight': 9.890324209971876}.\n",
            "[I 2025-05-13 19:50:21,417] Trial 19 finished with values: [0.6744186046511628, 0.46774193548387094] and parameters: {'n_estimators': 732, 'max_depth': 27, 'min_samples_leaf': 10, 'pos_weight': 9.831290328073155}.\n",
            "[I 2025-05-13 19:50:27,304] Trial 20 finished with values: [0.5581395348837209, 0.5333333333333333] and parameters: {'n_estimators': 462, 'max_depth': 43, 'min_samples_leaf': 4, 'pos_weight': 4.646036946965413}.\n",
            "[I 2025-05-13 19:50:32,517] Trial 21 finished with values: [0.5813953488372093, 0.5952380952380952] and parameters: {'n_estimators': 575, 'max_depth': 5, 'min_samples_leaf': 10, 'pos_weight': 1.213046574803912}.\n",
            "[I 2025-05-13 19:50:38,687] Trial 22 finished with values: [0.6046511627906976, 0.5777777777777777] and parameters: {'n_estimators': 562, 'max_depth': 14, 'min_samples_leaf': 9, 'pos_weight': 2.366186997761585}.\n",
            "[I 2025-05-13 19:50:41,817] Trial 23 finished with values: [0.6046511627906976, 0.5306122448979592] and parameters: {'n_estimators': 291, 'max_depth': 15, 'min_samples_leaf': 8, 'pos_weight': 3.0493261776964475}.\n",
            "[I 2025-05-13 19:50:47,925] Trial 24 finished with values: [0.6744186046511628, 0.48333333333333334] and parameters: {'n_estimators': 571, 'max_depth': 25, 'min_samples_leaf': 9, 'pos_weight': 5.94051860638878}.\n",
            "[I 2025-05-13 19:50:56,071] Trial 25 finished with values: [0.6744186046511628, 0.47540983606557374] and parameters: {'n_estimators': 684, 'max_depth': 18, 'min_samples_leaf': 8, 'pos_weight': 8.348322634258295}.\n",
            "[I 2025-05-13 19:51:01,458] Trial 26 finished with values: [0.6511627906976745, 0.4745762711864407] and parameters: {'n_estimators': 442, 'max_depth': 10, 'min_samples_leaf': 7, 'pos_weight': 19.77962037324944}.\n",
            "[I 2025-05-13 19:51:12,936] Trial 27 finished with values: [0.627906976744186, 0.5094339622641509] and parameters: {'n_estimators': 927, 'max_depth': 14, 'min_samples_leaf': 6, 'pos_weight': 3.049630860189236}.\n",
            "[I 2025-05-13 19:51:16,613] Trial 28 finished with values: [0.6976744186046512, 0.4838709677419355] and parameters: {'n_estimators': 356, 'max_depth': 8, 'min_samples_leaf': 9, 'pos_weight': 8.031708299978762}.\n",
            "[I 2025-05-13 19:51:22,499] Trial 29 finished with values: [0.6744186046511628, 0.453125] and parameters: {'n_estimators': 522, 'max_depth': 16, 'min_samples_leaf': 9, 'pos_weight': 11.71412095527}.\n",
            "[I 2025-05-13 19:51:31,956] Trial 30 finished with values: [0.6744186046511628, 0.47540983606557374] and parameters: {'n_estimators': 799, 'max_depth': 12, 'min_samples_leaf': 8, 'pos_weight': 15.34876776587245}.\n",
            "[I 2025-05-13 19:51:38,085] Trial 31 finished with values: [0.5813953488372093, 0.5952380952380952] and parameters: {'n_estimators': 592, 'max_depth': 5, 'min_samples_leaf': 10, 'pos_weight': 1.2630398950498547}.\n",
            "[I 2025-05-13 19:51:44,859] Trial 32 finished with values: [0.6046511627906976, 0.5098039215686274] and parameters: {'n_estimators': 676, 'max_depth': 7, 'min_samples_leaf': 9, 'pos_weight': 18.2057891283672}.\n",
            "[I 2025-05-13 19:51:52,122] Trial 33 finished with values: [0.6511627906976745, 0.4827586206896552] and parameters: {'n_estimators': 593, 'max_depth': 20, 'min_samples_leaf': 5, 'pos_weight': 4.260719948267676}.\n",
            "[I 2025-05-13 19:52:00,930] Trial 34 finished with values: [0.6744186046511628, 0.48333333333333334] and parameters: {'n_estimators': 724, 'max_depth': 24, 'min_samples_leaf': 10, 'pos_weight': 10.967733563883415}.\n",
            "[I 2025-05-13 19:52:10,192] Trial 35 finished with values: [0.6511627906976745, 0.4827586206896552] and parameters: {'n_estimators': 779, 'max_depth': 12, 'min_samples_leaf': 7, 'pos_weight': 5.955086813861062}.\n",
            "[I 2025-05-13 19:52:16,279] Trial 36 finished with values: [0.6976744186046512, 0.46875] and parameters: {'n_estimators': 497, 'max_depth': 33, 'min_samples_leaf': 8, 'pos_weight': 12.682199915279963}.\n",
            "[I 2025-05-13 19:52:26,517] Trial 37 finished with values: [0.627906976744186, 0.5094339622641509] and parameters: {'n_estimators': 905, 'max_depth': 13, 'min_samples_leaf': 6, 'pos_weight': 2.4423314596357333}.\n",
            "[I 2025-05-13 19:52:33,347] Trial 38 finished with values: [0.627906976744186, 0.4909090909090909] and parameters: {'n_estimators': 637, 'max_depth': 8, 'min_samples_leaf': 4, 'pos_weight': 14.925087574208078}.\n",
            "[I 2025-05-13 19:52:36,401] Trial 39 finished with values: [0.7441860465116279, 0.4383561643835616] and parameters: {'n_estimators': 227, 'max_depth': 16, 'min_samples_leaf': 2, 'pos_weight': 13.777241628584953}.\n",
            "[I 2025-05-13 19:52:38,940] Trial 40 finished with values: [0.6976744186046512, 0.42857142857142855] and parameters: {'n_estimators': 213, 'max_depth': 16, 'min_samples_leaf': 2, 'pos_weight': 13.675313394051615}.\n",
            "[I 2025-05-13 19:52:50,173] Trial 41 finished with values: [0.5581395348837209, 0.6153846153846154] and parameters: {'n_estimators': 987, 'max_depth': 12, 'min_samples_leaf': 2, 'pos_weight': 1.7461828981283827}.\n",
            "[I 2025-05-13 19:53:02,089] Trial 42 finished with values: [0.6511627906976745, 0.49122807017543857] and parameters: {'n_estimators': 982, 'max_depth': 11, 'min_samples_leaf': 5, 'pos_weight': 3.4346946451512093}.\n",
            "[I 2025-05-13 19:53:12,161] Trial 43 finished with values: [0.5813953488372093, 0.5813953488372093] and parameters: {'n_estimators': 888, 'max_depth': 29, 'min_samples_leaf': 9, 'pos_weight': 1.7475151035148881}.\n",
            "[I 2025-05-13 19:53:20,779] Trial 44 finished with values: [0.6976744186046512, 0.45454545454545453] and parameters: {'n_estimators': 691, 'max_depth': 38, 'min_samples_leaf': 3, 'pos_weight': 18.913059253905168}.\n",
            "[I 2025-05-13 19:53:31,703] Trial 45 finished with values: [0.6744186046511628, 0.4603174603174603] and parameters: {'n_estimators': 954, 'max_depth': 19, 'min_samples_leaf': 6, 'pos_weight': 11.897288876399891}.\n",
            "[I 2025-05-13 19:53:36,859] Trial 46 finished with values: [0.7209302325581395, 0.44285714285714284] and parameters: {'n_estimators': 463, 'max_depth': 49, 'min_samples_leaf': 8, 'pos_weight': 16.32641044254071}.\n",
            "[I 2025-05-13 19:53:43,523] Trial 47 finished with values: [0.6511627906976745, 0.4827586206896552] and parameters: {'n_estimators': 547, 'max_depth': 23, 'min_samples_leaf': 7, 'pos_weight': 5.372442939936107}.\n",
            "[I 2025-05-13 19:53:47,770] Trial 48 finished with values: [0.6744186046511628, 0.5272727272727272] and parameters: {'n_estimators': 406, 'max_depth': 6, 'min_samples_leaf': 1, 'pos_weight': 2.1614817184878516}.\n",
            "[I 2025-05-13 19:53:51,771] Trial 49 finished with values: [0.6046511627906976, 0.5909090909090909] and parameters: {'n_estimators': 389, 'max_depth': 6, 'min_samples_leaf': 1, 'pos_weight': 1.0754589952171685}.\n",
            "Number of Pareto‐optimal trials: 12\n",
            "  Trial#5: Recall=0.651, Precision=0.528, Params={'n_estimators': 844, 'max_depth': 9, 'min_samples_leaf': 6, 'pos_weight': 2.4337425232565573}\n",
            "  Trial#8: Recall=0.698, Precision=0.484, Params={'n_estimators': 147, 'max_depth': 35, 'min_samples_leaf': 6, 'pos_weight': 14.459254454642066}\n",
            "  Trial#9: Recall=0.721, Precision=0.463, Params={'n_estimators': 551, 'max_depth': 19, 'min_samples_leaf': 8, 'pos_weight': 17.25581183509492}\n",
            "  Trial#10: Recall=0.628, Precision=0.540, Params={'n_estimators': 978, 'max_depth': 50, 'min_samples_leaf': 4, 'pos_weight': 1.1472182640383917}\n",
            "  Trial#18: Recall=0.698, Precision=0.484, Params={'n_estimators': 854, 'max_depth': 9, 'min_samples_leaf': 7, 'pos_weight': 9.890324209971876}\n",
            "  Trial#21: Recall=0.581, Precision=0.595, Params={'n_estimators': 575, 'max_depth': 5, 'min_samples_leaf': 10, 'pos_weight': 1.213046574803912}\n",
            "  Trial#28: Recall=0.698, Precision=0.484, Params={'n_estimators': 356, 'max_depth': 8, 'min_samples_leaf': 9, 'pos_weight': 8.031708299978762}\n",
            "  Trial#31: Recall=0.581, Precision=0.595, Params={'n_estimators': 592, 'max_depth': 5, 'min_samples_leaf': 10, 'pos_weight': 1.2630398950498547}\n",
            "  Trial#39: Recall=0.744, Precision=0.438, Params={'n_estimators': 227, 'max_depth': 16, 'min_samples_leaf': 2, 'pos_weight': 13.777241628584953}\n",
            "  Trial#41: Recall=0.558, Precision=0.615, Params={'n_estimators': 987, 'max_depth': 12, 'min_samples_leaf': 2, 'pos_weight': 1.7461828981283827}\n",
            "  Trial#48: Recall=0.674, Precision=0.527, Params={'n_estimators': 406, 'max_depth': 6, 'min_samples_leaf': 1, 'pos_weight': 2.1614817184878516}\n",
            "  Trial#49: Recall=0.605, Precision=0.591, Params={'n_estimators': 389, 'max_depth': 6, 'min_samples_leaf': 1, 'pos_weight': 1.0754589952171685}\n",
            "\n",
            "Chosen trial for final model: 9\n",
            "\n",
            "Final Test Report:\n",
            "              precision    recall  f1-score   support\n",
            "\n",
            "         0.0      0.990     0.891     0.938       229\n",
            "         1.0      0.265     0.818     0.400        11\n",
            "\n",
            "    accuracy                          0.887       240\n",
            "   macro avg      0.627     0.855     0.669       240\n",
            "weighted avg      0.957     0.887     0.913       240\n",
            "\n"
          ]
        }
      ],
      "source": [
        "import pandas as pd\n",
        "import numpy as np\n",
        "import optuna\n",
        "\n",
        "from sklearn.model_selection import train_test_split, cross_val_predict\n",
        "from sklearn.impute import SimpleImputer\n",
        "from sklearn.ensemble import RandomForestClassifier\n",
        "from sklearn.metrics import precision_recall_curve\n",
        "\n",
        "from imblearn.pipeline import Pipeline\n",
        "from imblearn.over_sampling import SMOTE\n",
        "\n",
        "# 1. Load and split\n",
        "df = pd.read_csv('fd.csv')\n",
        "X = df.drop(columns='Bleaching')\n",
        "y = df['Bleaching']\n",
        "X_tr, X_te, y_tr, y_te = train_test_split(\n",
        "    X, y, test_size=0.2, stratify=y, random_state=42\n",
        ")\n",
        "\n",
        "# 2. Shared pipeline parts\n",
        "imputer   = SimpleImputer(strategy='median')\n",
        "oversampler = SMOTE(sampling_strategy='minority', random_state=42)\n",
        "\n",
        "def build_pipeline(trial):\n",
        "    \"\"\"Constructs a RF pipeline from optuna trial params.\"\"\"\n",
        "    n_estimators    = trial.suggest_int('n_estimators', 100, 1000)\n",
        "    max_depth       = trial.suggest_int('max_depth', 5, 50)\n",
        "    min_samples_leaf= trial.suggest_int('min_samples_leaf', 1, 10)\n",
        "    weight_pos      = trial.suggest_float('pos_weight', 1.0, 20.0)\n",
        "    # class_weight for RF takes dict {0:w0,1:w1}\n",
        "    cw = {0:1, 1:weight_pos}\n",
        "\n",
        "    rf = RandomForestClassifier(\n",
        "        n_estimators=n_estimators,\n",
        "        max_depth=max_depth,\n",
        "        min_samples_leaf=min_samples_leaf,\n",
        "        class_weight=cw,\n",
        "        n_jobs=-1,\n",
        "        random_state=42\n",
        "    )\n",
        "    return Pipeline([\n",
        "        ('impute', imputer),\n",
        "        ('smote', oversampler),\n",
        "        ('clf', rf)\n",
        "    ])\n",
        "\n",
        "\n",
        "def multiobj_rf(trial):\n",
        "    \"\"\"Optuna objective: returns [recall, precision] averaged over CV folds.\"\"\"\n",
        "    pipe = build_pipeline(trial)\n",
        "    # get CV‐predicted probabilities for the positive class\n",
        "    # note: cross_val_predict with method='predict_proba' needs sklearn>=0.24\n",
        "    probs = cross_val_predict(\n",
        "        pipe, X_tr, y_tr,\n",
        "        cv=5,\n",
        "        method='predict_proba',\n",
        "        n_jobs=-1\n",
        "    )[:,1]\n",
        "    # compute PR curve on full CV preds\n",
        "    prec, rec, thr = precision_recall_curve(y_tr, probs)\n",
        "    # pick the threshold that maximizes recall + precision (or any other aggregator)\n",
        "    # here we compute the harmonic mean at each point:\n",
        "    f1_scores = 2 * (prec * rec) / (prec + rec + 1e-8)\n",
        "    best_idx = np.nanargmax(f1_scores)\n",
        "    return rec[best_idx], prec[best_idx]\n",
        "\n",
        "\n",
        "# 3. Create a multi‐objective study and optimize\n",
        "study = optuna.create_study(\n",
        "    directions=['maximize','maximize'],  # recall first, then precision\n",
        "    sampler=optuna.samplers.TPESampler()\n",
        ")\n",
        "study.optimize(multiobj_rf, n_trials=50, show_progress_bar=True)\n",
        "\n",
        "# 4. Extract the Pareto‐front trials\n",
        "pareto = study.best_trials\n",
        "print(\"Number of Pareto‐optimal trials:\", len(pareto))\n",
        "for t in pareto:\n",
        "    r, p = t.values\n",
        "    print(f\"  Trial#{t.number}: Recall={r:.3f}, Precision={p:.3f}, Params={t.params}\")\n",
        "\n",
        "# 5. Pick a trial that meets your minimum recall (e.g. ≥ 0.7) with highest precision\n",
        "candidates = [(t.values[0], t.values[1], t) for t in pareto if t.values[0] >= 0.7]\n",
        "best = max(candidates, key=lambda x: x[1])\n",
        "_, _, best_trial = best\n",
        "print(\"\\nChosen trial for final model:\", best_trial.number)\n",
        "\n",
        "# 6. Refit that model on the full training set\n",
        "final_pipe = build_pipeline(best_trial)\n",
        "final_pipe.fit(X_tr, y_tr)\n",
        "\n",
        "# 7. Evaluate on the hold‐out test set\n",
        "probs_te = final_pipe.predict_proba(X_te)[:,1]\n",
        "# choose threshold to maximize F1 on test or simply use 0.5\n",
        "preds_te = (probs_te >= 0.5).astype(int)\n",
        "\n",
        "from sklearn.metrics import classification_report\n",
        "print(\"\\nFinal Test Report:\")\n",
        "print(classification_report(y_te, preds_te, digits=3))\n"
      ]
    }
  ],
  "metadata": {
    "colab": {
      "provenance": []
    },
    "kernelspec": {
      "display_name": "Python 3",
      "name": "python3"
    },
    "language_info": {
      "name": "python",
      "version": "3.9.6"
    },
    "widgets": {
      "application/vnd.jupyter.widget-state+json": {
        "06089b15c73b463f8b5acd2706649d18": {
          "model_module": "@jupyter-widgets/controls",
          "model_module_version": "1.5.0",
          "model_name": "HBoxModel",
          "state": {
            "_dom_classes": [],
            "_model_module": "@jupyter-widgets/controls",
            "_model_module_version": "1.5.0",
            "_model_name": "HBoxModel",
            "_view_count": null,
            "_view_module": "@jupyter-widgets/controls",
            "_view_module_version": "1.5.0",
            "_view_name": "HBoxView",
            "box_style": "",
            "children": [
              "IPY_MODEL_7934a467fcd9430eb88398b70a659031",
              "IPY_MODEL_7a7955b4326c40c19ee543e4a3e91274",
              "IPY_MODEL_62854413e011439fa12333bf8937a87c"
            ],
            "layout": "IPY_MODEL_887a1acafaa64c63b4f47f604491ae12"
          }
        },
        "0b68303c6dbb4d5e85e0d3faea3f234e": {
          "model_module": "@jupyter-widgets/controls",
          "model_module_version": "1.5.0",
          "model_name": "FloatProgressModel",
          "state": {
            "_dom_classes": [],
            "_model_module": "@jupyter-widgets/controls",
            "_model_module_version": "1.5.0",
            "_model_name": "FloatProgressModel",
            "_view_count": null,
            "_view_module": "@jupyter-widgets/controls",
            "_view_module_version": "1.5.0",
            "_view_name": "ProgressView",
            "bar_style": "success",
            "description": "",
            "description_tooltip": null,
            "layout": "IPY_MODEL_137bb34522674eaa8525c561486fa723",
            "max": 50,
            "min": 0,
            "orientation": "horizontal",
            "style": "IPY_MODEL_ab1a25c65c1d48538145cbbd95aace8d",
            "value": 50
          }
        },
        "0c4bff38ae1f4bbabaf8199dc05c6c68": {
          "model_module": "@jupyter-widgets/base",
          "model_module_version": "1.2.0",
          "model_name": "LayoutModel",
          "state": {
            "_model_module": "@jupyter-widgets/base",
            "_model_module_version": "1.2.0",
            "_model_name": "LayoutModel",
            "_view_count": null,
            "_view_module": "@jupyter-widgets/base",
            "_view_module_version": "1.2.0",
            "_view_name": "LayoutView",
            "align_content": null,
            "align_items": null,
            "align_self": null,
            "border": null,
            "bottom": null,
            "display": null,
            "flex": null,
            "flex_flow": null,
            "grid_area": null,
            "grid_auto_columns": null,
            "grid_auto_flow": null,
            "grid_auto_rows": null,
            "grid_column": null,
            "grid_gap": null,
            "grid_row": null,
            "grid_template_areas": null,
            "grid_template_columns": null,
            "grid_template_rows": null,
            "height": null,
            "justify_content": null,
            "justify_items": null,
            "left": null,
            "margin": null,
            "max_height": null,
            "max_width": null,
            "min_height": null,
            "min_width": null,
            "object_fit": null,
            "object_position": null,
            "order": null,
            "overflow": null,
            "overflow_x": null,
            "overflow_y": null,
            "padding": null,
            "right": null,
            "top": null,
            "visibility": null,
            "width": null
          }
        },
        "137bb34522674eaa8525c561486fa723": {
          "model_module": "@jupyter-widgets/base",
          "model_module_version": "1.2.0",
          "model_name": "LayoutModel",
          "state": {
            "_model_module": "@jupyter-widgets/base",
            "_model_module_version": "1.2.0",
            "_model_name": "LayoutModel",
            "_view_count": null,
            "_view_module": "@jupyter-widgets/base",
            "_view_module_version": "1.2.0",
            "_view_name": "LayoutView",
            "align_content": null,
            "align_items": null,
            "align_self": null,
            "border": null,
            "bottom": null,
            "display": null,
            "flex": null,
            "flex_flow": null,
            "grid_area": null,
            "grid_auto_columns": null,
            "grid_auto_flow": null,
            "grid_auto_rows": null,
            "grid_column": null,
            "grid_gap": null,
            "grid_row": null,
            "grid_template_areas": null,
            "grid_template_columns": null,
            "grid_template_rows": null,
            "height": null,
            "justify_content": null,
            "justify_items": null,
            "left": null,
            "margin": null,
            "max_height": null,
            "max_width": null,
            "min_height": null,
            "min_width": null,
            "object_fit": null,
            "object_position": null,
            "order": null,
            "overflow": null,
            "overflow_x": null,
            "overflow_y": null,
            "padding": null,
            "right": null,
            "top": null,
            "visibility": null,
            "width": null
          }
        },
        "1801b3f04ffa4b66bb401049560b7167": {
          "model_module": "@jupyter-widgets/controls",
          "model_module_version": "1.5.0",
          "model_name": "ProgressStyleModel",
          "state": {
            "_model_module": "@jupyter-widgets/controls",
            "_model_module_version": "1.5.0",
            "_model_name": "ProgressStyleModel",
            "_view_count": null,
            "_view_module": "@jupyter-widgets/base",
            "_view_module_version": "1.2.0",
            "_view_name": "StyleView",
            "bar_color": null,
            "description_width": ""
          }
        },
        "248cae03758d4a0fa147a82cdcacb471": {
          "model_module": "@jupyter-widgets/base",
          "model_module_version": "1.2.0",
          "model_name": "LayoutModel",
          "state": {
            "_model_module": "@jupyter-widgets/base",
            "_model_module_version": "1.2.0",
            "_model_name": "LayoutModel",
            "_view_count": null,
            "_view_module": "@jupyter-widgets/base",
            "_view_module_version": "1.2.0",
            "_view_name": "LayoutView",
            "align_content": null,
            "align_items": null,
            "align_self": null,
            "border": null,
            "bottom": null,
            "display": null,
            "flex": null,
            "flex_flow": null,
            "grid_area": null,
            "grid_auto_columns": null,
            "grid_auto_flow": null,
            "grid_auto_rows": null,
            "grid_column": null,
            "grid_gap": null,
            "grid_row": null,
            "grid_template_areas": null,
            "grid_template_columns": null,
            "grid_template_rows": null,
            "height": null,
            "justify_content": null,
            "justify_items": null,
            "left": null,
            "margin": null,
            "max_height": null,
            "max_width": null,
            "min_height": null,
            "min_width": null,
            "object_fit": null,
            "object_position": null,
            "order": null,
            "overflow": null,
            "overflow_x": null,
            "overflow_y": null,
            "padding": null,
            "right": null,
            "top": null,
            "visibility": null,
            "width": null
          }
        },
        "2901d57f65c24585b2e9a2295b81865a": {
          "model_module": "@jupyter-widgets/controls",
          "model_module_version": "1.5.0",
          "model_name": "HTMLModel",
          "state": {
            "_dom_classes": [],
            "_model_module": "@jupyter-widgets/controls",
            "_model_module_version": "1.5.0",
            "_model_name": "HTMLModel",
            "_view_count": null,
            "_view_module": "@jupyter-widgets/controls",
            "_view_module_version": "1.5.0",
            "_view_name": "HTMLView",
            "description": "",
            "description_tooltip": null,
            "layout": "IPY_MODEL_fd860a19dfa041239601a48d9b09c0c7",
            "placeholder": "​",
            "style": "IPY_MODEL_9542196a73684c7fbb386fa327927b29",
            "value": "Best trial: 42. Best value: 0.644465: 100%"
          }
        },
        "3393acb4b86e49b68f4fd5a356f4eb70": {
          "model_module": "@jupyter-widgets/controls",
          "model_module_version": "1.5.0",
          "model_name": "DescriptionStyleModel",
          "state": {
            "_model_module": "@jupyter-widgets/controls",
            "_model_module_version": "1.5.0",
            "_model_name": "DescriptionStyleModel",
            "_view_count": null,
            "_view_module": "@jupyter-widgets/base",
            "_view_module_version": "1.2.0",
            "_view_name": "StyleView",
            "description_width": ""
          }
        },
        "3d45189cf62f45dfbd699bd3815d86b6": {
          "model_module": "@jupyter-widgets/controls",
          "model_module_version": "1.5.0",
          "model_name": "HBoxModel",
          "state": {
            "_dom_classes": [],
            "_model_module": "@jupyter-widgets/controls",
            "_model_module_version": "1.5.0",
            "_model_name": "HBoxModel",
            "_view_count": null,
            "_view_module": "@jupyter-widgets/controls",
            "_view_module_version": "1.5.0",
            "_view_name": "HBoxView",
            "box_style": "",
            "children": [
              "IPY_MODEL_48621263c88b419aa08e7e40baf0cd8e",
              "IPY_MODEL_0b68303c6dbb4d5e85e0d3faea3f234e",
              "IPY_MODEL_a463a1fbc84240d798197d3c449bca76"
            ],
            "layout": "IPY_MODEL_8a0e156a6ed741dfbfff17126b82d5c3"
          }
        },
        "48621263c88b419aa08e7e40baf0cd8e": {
          "model_module": "@jupyter-widgets/controls",
          "model_module_version": "1.5.0",
          "model_name": "HTMLModel",
          "state": {
            "_dom_classes": [],
            "_model_module": "@jupyter-widgets/controls",
            "_model_module_version": "1.5.0",
            "_model_name": "HTMLModel",
            "_view_count": null,
            "_view_module": "@jupyter-widgets/controls",
            "_view_module_version": "1.5.0",
            "_view_name": "HTMLView",
            "description": "",
            "description_tooltip": null,
            "layout": "IPY_MODEL_6c437d06d53c4df888f420d43011a73c",
            "placeholder": "​",
            "style": "IPY_MODEL_4f3aebd6a6bc4959914c90d0b72ea9fc",
            "value": "Best trial: 39. Best value: 0.610674: 100%"
          }
        },
        "4dd605200cce496d9ccf423896736e3a": {
          "model_module": "@jupyter-widgets/controls",
          "model_module_version": "1.5.0",
          "model_name": "HBoxModel",
          "state": {
            "_dom_classes": [],
            "_model_module": "@jupyter-widgets/controls",
            "_model_module_version": "1.5.0",
            "_model_name": "HBoxModel",
            "_view_count": null,
            "_view_module": "@jupyter-widgets/controls",
            "_view_module_version": "1.5.0",
            "_view_name": "HBoxView",
            "box_style": "",
            "children": [
              "IPY_MODEL_ec3e1a7b69a648689fa15e1293208194",
              "IPY_MODEL_c57a1a11e4bb4527b35330dba44d1ce8",
              "IPY_MODEL_98d098ad401346d9823c402122684a2c"
            ],
            "layout": "IPY_MODEL_5601692a890945c28396c0593f93203d"
          }
        },
        "4f3aebd6a6bc4959914c90d0b72ea9fc": {
          "model_module": "@jupyter-widgets/controls",
          "model_module_version": "1.5.0",
          "model_name": "DescriptionStyleModel",
          "state": {
            "_model_module": "@jupyter-widgets/controls",
            "_model_module_version": "1.5.0",
            "_model_name": "DescriptionStyleModel",
            "_view_count": null,
            "_view_module": "@jupyter-widgets/base",
            "_view_module_version": "1.2.0",
            "_view_name": "StyleView",
            "description_width": ""
          }
        },
        "4ffb41ebbe3d4adf8b2b0aed49874683": {
          "model_module": "@jupyter-widgets/controls",
          "model_module_version": "1.5.0",
          "model_name": "DescriptionStyleModel",
          "state": {
            "_model_module": "@jupyter-widgets/controls",
            "_model_module_version": "1.5.0",
            "_model_name": "DescriptionStyleModel",
            "_view_count": null,
            "_view_module": "@jupyter-widgets/base",
            "_view_module_version": "1.2.0",
            "_view_name": "StyleView",
            "description_width": ""
          }
        },
        "51966d4d795f47ec8e973860a9bc8a1f": {
          "model_module": "@jupyter-widgets/base",
          "model_module_version": "1.2.0",
          "model_name": "LayoutModel",
          "state": {
            "_model_module": "@jupyter-widgets/base",
            "_model_module_version": "1.2.0",
            "_model_name": "LayoutModel",
            "_view_count": null,
            "_view_module": "@jupyter-widgets/base",
            "_view_module_version": "1.2.0",
            "_view_name": "LayoutView",
            "align_content": null,
            "align_items": null,
            "align_self": null,
            "border": null,
            "bottom": null,
            "display": null,
            "flex": null,
            "flex_flow": null,
            "grid_area": null,
            "grid_auto_columns": null,
            "grid_auto_flow": null,
            "grid_auto_rows": null,
            "grid_column": null,
            "grid_gap": null,
            "grid_row": null,
            "grid_template_areas": null,
            "grid_template_columns": null,
            "grid_template_rows": null,
            "height": null,
            "justify_content": null,
            "justify_items": null,
            "left": null,
            "margin": null,
            "max_height": null,
            "max_width": null,
            "min_height": null,
            "min_width": null,
            "object_fit": null,
            "object_position": null,
            "order": null,
            "overflow": null,
            "overflow_x": null,
            "overflow_y": null,
            "padding": null,
            "right": null,
            "top": null,
            "visibility": null,
            "width": null
          }
        },
        "5415aa8e1d0a43d4b4b67dd7950d58c9": {
          "model_module": "@jupyter-widgets/controls",
          "model_module_version": "1.5.0",
          "model_name": "ProgressStyleModel",
          "state": {
            "_model_module": "@jupyter-widgets/controls",
            "_model_module_version": "1.5.0",
            "_model_name": "ProgressStyleModel",
            "_view_count": null,
            "_view_module": "@jupyter-widgets/base",
            "_view_module_version": "1.2.0",
            "_view_name": "StyleView",
            "bar_color": null,
            "description_width": ""
          }
        },
        "5601692a890945c28396c0593f93203d": {
          "model_module": "@jupyter-widgets/base",
          "model_module_version": "1.2.0",
          "model_name": "LayoutModel",
          "state": {
            "_model_module": "@jupyter-widgets/base",
            "_model_module_version": "1.2.0",
            "_model_name": "LayoutModel",
            "_view_count": null,
            "_view_module": "@jupyter-widgets/base",
            "_view_module_version": "1.2.0",
            "_view_name": "LayoutView",
            "align_content": null,
            "align_items": null,
            "align_self": null,
            "border": null,
            "bottom": null,
            "display": null,
            "flex": null,
            "flex_flow": null,
            "grid_area": null,
            "grid_auto_columns": null,
            "grid_auto_flow": null,
            "grid_auto_rows": null,
            "grid_column": null,
            "grid_gap": null,
            "grid_row": null,
            "grid_template_areas": null,
            "grid_template_columns": null,
            "grid_template_rows": null,
            "height": null,
            "justify_content": null,
            "justify_items": null,
            "left": null,
            "margin": null,
            "max_height": null,
            "max_width": null,
            "min_height": null,
            "min_width": null,
            "object_fit": null,
            "object_position": null,
            "order": null,
            "overflow": null,
            "overflow_x": null,
            "overflow_y": null,
            "padding": null,
            "right": null,
            "top": null,
            "visibility": null,
            "width": null
          }
        },
        "62854413e011439fa12333bf8937a87c": {
          "model_module": "@jupyter-widgets/controls",
          "model_module_version": "1.5.0",
          "model_name": "HTMLModel",
          "state": {
            "_dom_classes": [],
            "_model_module": "@jupyter-widgets/controls",
            "_model_module_version": "1.5.0",
            "_model_name": "HTMLModel",
            "_view_count": null,
            "_view_module": "@jupyter-widgets/controls",
            "_view_module_version": "1.5.0",
            "_view_name": "HTMLView",
            "description": "",
            "description_tooltip": null,
            "layout": "IPY_MODEL_aa92c3183bf0419787532cf473d03285",
            "placeholder": "​",
            "style": "IPY_MODEL_b740cef93191476c84c3afb132ac31b9",
            "value": " 50/50 [04:02&lt;00:00,  5.20s/it]"
          }
        },
        "6491749ae7d843798885c8ed20983f44": {
          "model_module": "@jupyter-widgets/base",
          "model_module_version": "1.2.0",
          "model_name": "LayoutModel",
          "state": {
            "_model_module": "@jupyter-widgets/base",
            "_model_module_version": "1.2.0",
            "_model_name": "LayoutModel",
            "_view_count": null,
            "_view_module": "@jupyter-widgets/base",
            "_view_module_version": "1.2.0",
            "_view_name": "LayoutView",
            "align_content": null,
            "align_items": null,
            "align_self": null,
            "border": null,
            "bottom": null,
            "display": null,
            "flex": null,
            "flex_flow": null,
            "grid_area": null,
            "grid_auto_columns": null,
            "grid_auto_flow": null,
            "grid_auto_rows": null,
            "grid_column": null,
            "grid_gap": null,
            "grid_row": null,
            "grid_template_areas": null,
            "grid_template_columns": null,
            "grid_template_rows": null,
            "height": null,
            "justify_content": null,
            "justify_items": null,
            "left": null,
            "margin": null,
            "max_height": null,
            "max_width": null,
            "min_height": null,
            "min_width": null,
            "object_fit": null,
            "object_position": null,
            "order": null,
            "overflow": null,
            "overflow_x": null,
            "overflow_y": null,
            "padding": null,
            "right": null,
            "top": null,
            "visibility": null,
            "width": null
          }
        },
        "6500bf17d8614cb49960e55a76022dea": {
          "model_module": "@jupyter-widgets/base",
          "model_module_version": "1.2.0",
          "model_name": "LayoutModel",
          "state": {
            "_model_module": "@jupyter-widgets/base",
            "_model_module_version": "1.2.0",
            "_model_name": "LayoutModel",
            "_view_count": null,
            "_view_module": "@jupyter-widgets/base",
            "_view_module_version": "1.2.0",
            "_view_name": "LayoutView",
            "align_content": null,
            "align_items": null,
            "align_self": null,
            "border": null,
            "bottom": null,
            "display": null,
            "flex": null,
            "flex_flow": null,
            "grid_area": null,
            "grid_auto_columns": null,
            "grid_auto_flow": null,
            "grid_auto_rows": null,
            "grid_column": null,
            "grid_gap": null,
            "grid_row": null,
            "grid_template_areas": null,
            "grid_template_columns": null,
            "grid_template_rows": null,
            "height": null,
            "justify_content": null,
            "justify_items": null,
            "left": null,
            "margin": null,
            "max_height": null,
            "max_width": null,
            "min_height": null,
            "min_width": null,
            "object_fit": null,
            "object_position": null,
            "order": null,
            "overflow": null,
            "overflow_x": null,
            "overflow_y": null,
            "padding": null,
            "right": null,
            "top": null,
            "visibility": null,
            "width": null
          }
        },
        "679bd5d1f8af4a0db226db1f36d7c86e": {
          "model_module": "@jupyter-widgets/base",
          "model_module_version": "1.2.0",
          "model_name": "LayoutModel",
          "state": {
            "_model_module": "@jupyter-widgets/base",
            "_model_module_version": "1.2.0",
            "_model_name": "LayoutModel",
            "_view_count": null,
            "_view_module": "@jupyter-widgets/base",
            "_view_module_version": "1.2.0",
            "_view_name": "LayoutView",
            "align_content": null,
            "align_items": null,
            "align_self": null,
            "border": null,
            "bottom": null,
            "display": null,
            "flex": null,
            "flex_flow": null,
            "grid_area": null,
            "grid_auto_columns": null,
            "grid_auto_flow": null,
            "grid_auto_rows": null,
            "grid_column": null,
            "grid_gap": null,
            "grid_row": null,
            "grid_template_areas": null,
            "grid_template_columns": null,
            "grid_template_rows": null,
            "height": null,
            "justify_content": null,
            "justify_items": null,
            "left": null,
            "margin": null,
            "max_height": null,
            "max_width": null,
            "min_height": null,
            "min_width": null,
            "object_fit": null,
            "object_position": null,
            "order": null,
            "overflow": null,
            "overflow_x": null,
            "overflow_y": null,
            "padding": null,
            "right": null,
            "top": null,
            "visibility": null,
            "width": null
          }
        },
        "6a22545b4b1448b19bfcde940be8c3fb": {
          "model_module": "@jupyter-widgets/base",
          "model_module_version": "1.2.0",
          "model_name": "LayoutModel",
          "state": {
            "_model_module": "@jupyter-widgets/base",
            "_model_module_version": "1.2.0",
            "_model_name": "LayoutModel",
            "_view_count": null,
            "_view_module": "@jupyter-widgets/base",
            "_view_module_version": "1.2.0",
            "_view_name": "LayoutView",
            "align_content": null,
            "align_items": null,
            "align_self": null,
            "border": null,
            "bottom": null,
            "display": null,
            "flex": null,
            "flex_flow": null,
            "grid_area": null,
            "grid_auto_columns": null,
            "grid_auto_flow": null,
            "grid_auto_rows": null,
            "grid_column": null,
            "grid_gap": null,
            "grid_row": null,
            "grid_template_areas": null,
            "grid_template_columns": null,
            "grid_template_rows": null,
            "height": null,
            "justify_content": null,
            "justify_items": null,
            "left": null,
            "margin": null,
            "max_height": null,
            "max_width": null,
            "min_height": null,
            "min_width": null,
            "object_fit": null,
            "object_position": null,
            "order": null,
            "overflow": null,
            "overflow_x": null,
            "overflow_y": null,
            "padding": null,
            "right": null,
            "top": null,
            "visibility": null,
            "width": null
          }
        },
        "6bd874a458854e7fa99bdee769c5d337": {
          "model_module": "@jupyter-widgets/controls",
          "model_module_version": "1.5.0",
          "model_name": "HBoxModel",
          "state": {
            "_dom_classes": [],
            "_model_module": "@jupyter-widgets/controls",
            "_model_module_version": "1.5.0",
            "_model_name": "HBoxModel",
            "_view_count": null,
            "_view_module": "@jupyter-widgets/controls",
            "_view_module_version": "1.5.0",
            "_view_name": "HBoxView",
            "box_style": "",
            "children": [
              "IPY_MODEL_d2523d4d1cb54e4da5aacf61c9b4151f",
              "IPY_MODEL_bc0ae4e0d3d84facb8327bd66885cef5",
              "IPY_MODEL_fe394afe16634ecf9b9053bf77c92cc3"
            ],
            "layout": "IPY_MODEL_51966d4d795f47ec8e973860a9bc8a1f"
          }
        },
        "6c437d06d53c4df888f420d43011a73c": {
          "model_module": "@jupyter-widgets/base",
          "model_module_version": "1.2.0",
          "model_name": "LayoutModel",
          "state": {
            "_model_module": "@jupyter-widgets/base",
            "_model_module_version": "1.2.0",
            "_model_name": "LayoutModel",
            "_view_count": null,
            "_view_module": "@jupyter-widgets/base",
            "_view_module_version": "1.2.0",
            "_view_name": "LayoutView",
            "align_content": null,
            "align_items": null,
            "align_self": null,
            "border": null,
            "bottom": null,
            "display": null,
            "flex": null,
            "flex_flow": null,
            "grid_area": null,
            "grid_auto_columns": null,
            "grid_auto_flow": null,
            "grid_auto_rows": null,
            "grid_column": null,
            "grid_gap": null,
            "grid_row": null,
            "grid_template_areas": null,
            "grid_template_columns": null,
            "grid_template_rows": null,
            "height": null,
            "justify_content": null,
            "justify_items": null,
            "left": null,
            "margin": null,
            "max_height": null,
            "max_width": null,
            "min_height": null,
            "min_width": null,
            "object_fit": null,
            "object_position": null,
            "order": null,
            "overflow": null,
            "overflow_x": null,
            "overflow_y": null,
            "padding": null,
            "right": null,
            "top": null,
            "visibility": null,
            "width": null
          }
        },
        "7934a467fcd9430eb88398b70a659031": {
          "model_module": "@jupyter-widgets/controls",
          "model_module_version": "1.5.0",
          "model_name": "HTMLModel",
          "state": {
            "_dom_classes": [],
            "_model_module": "@jupyter-widgets/controls",
            "_model_module_version": "1.5.0",
            "_model_name": "HTMLModel",
            "_view_count": null,
            "_view_module": "@jupyter-widgets/controls",
            "_view_module_version": "1.5.0",
            "_view_name": "HTMLView",
            "description": "",
            "description_tooltip": null,
            "layout": "IPY_MODEL_0c4bff38ae1f4bbabaf8199dc05c6c68",
            "placeholder": "​",
            "style": "IPY_MODEL_f5e36ce65e8a4e10afd33f8acf78127c",
            "value": "Best trial: 47. Best value: 0.655531: 100%"
          }
        },
        "7a7955b4326c40c19ee543e4a3e91274": {
          "model_module": "@jupyter-widgets/controls",
          "model_module_version": "1.5.0",
          "model_name": "FloatProgressModel",
          "state": {
            "_dom_classes": [],
            "_model_module": "@jupyter-widgets/controls",
            "_model_module_version": "1.5.0",
            "_model_name": "FloatProgressModel",
            "_view_count": null,
            "_view_module": "@jupyter-widgets/controls",
            "_view_module_version": "1.5.0",
            "_view_name": "ProgressView",
            "bar_style": "success",
            "description": "",
            "description_tooltip": null,
            "layout": "IPY_MODEL_f953b19001484a768488d4b19faa3918",
            "max": 50,
            "min": 0,
            "orientation": "horizontal",
            "style": "IPY_MODEL_5415aa8e1d0a43d4b4b67dd7950d58c9",
            "value": 50
          }
        },
        "7e345637e7b1492fa572afd036939420": {
          "model_module": "@jupyter-widgets/controls",
          "model_module_version": "1.5.0",
          "model_name": "FloatProgressModel",
          "state": {
            "_dom_classes": [],
            "_model_module": "@jupyter-widgets/controls",
            "_model_module_version": "1.5.0",
            "_model_name": "FloatProgressModel",
            "_view_count": null,
            "_view_module": "@jupyter-widgets/controls",
            "_view_module_version": "1.5.0",
            "_view_name": "ProgressView",
            "bar_style": "success",
            "description": "",
            "description_tooltip": null,
            "layout": "IPY_MODEL_6a22545b4b1448b19bfcde940be8c3fb",
            "max": 50,
            "min": 0,
            "orientation": "horizontal",
            "style": "IPY_MODEL_f9c645bdc9b8426b9f9eefd65f54d42c",
            "value": 50
          }
        },
        "7ef6d1b892b547aab7eab77008e334f1": {
          "model_module": "@jupyter-widgets/base",
          "model_module_version": "1.2.0",
          "model_name": "LayoutModel",
          "state": {
            "_model_module": "@jupyter-widgets/base",
            "_model_module_version": "1.2.0",
            "_model_name": "LayoutModel",
            "_view_count": null,
            "_view_module": "@jupyter-widgets/base",
            "_view_module_version": "1.2.0",
            "_view_name": "LayoutView",
            "align_content": null,
            "align_items": null,
            "align_self": null,
            "border": null,
            "bottom": null,
            "display": null,
            "flex": null,
            "flex_flow": null,
            "grid_area": null,
            "grid_auto_columns": null,
            "grid_auto_flow": null,
            "grid_auto_rows": null,
            "grid_column": null,
            "grid_gap": null,
            "grid_row": null,
            "grid_template_areas": null,
            "grid_template_columns": null,
            "grid_template_rows": null,
            "height": null,
            "justify_content": null,
            "justify_items": null,
            "left": null,
            "margin": null,
            "max_height": null,
            "max_width": null,
            "min_height": null,
            "min_width": null,
            "object_fit": null,
            "object_position": null,
            "order": null,
            "overflow": null,
            "overflow_x": null,
            "overflow_y": null,
            "padding": null,
            "right": null,
            "top": null,
            "visibility": null,
            "width": null
          }
        },
        "887a1acafaa64c63b4f47f604491ae12": {
          "model_module": "@jupyter-widgets/base",
          "model_module_version": "1.2.0",
          "model_name": "LayoutModel",
          "state": {
            "_model_module": "@jupyter-widgets/base",
            "_model_module_version": "1.2.0",
            "_model_name": "LayoutModel",
            "_view_count": null,
            "_view_module": "@jupyter-widgets/base",
            "_view_module_version": "1.2.0",
            "_view_name": "LayoutView",
            "align_content": null,
            "align_items": null,
            "align_self": null,
            "border": null,
            "bottom": null,
            "display": null,
            "flex": null,
            "flex_flow": null,
            "grid_area": null,
            "grid_auto_columns": null,
            "grid_auto_flow": null,
            "grid_auto_rows": null,
            "grid_column": null,
            "grid_gap": null,
            "grid_row": null,
            "grid_template_areas": null,
            "grid_template_columns": null,
            "grid_template_rows": null,
            "height": null,
            "justify_content": null,
            "justify_items": null,
            "left": null,
            "margin": null,
            "max_height": null,
            "max_width": null,
            "min_height": null,
            "min_width": null,
            "object_fit": null,
            "object_position": null,
            "order": null,
            "overflow": null,
            "overflow_x": null,
            "overflow_y": null,
            "padding": null,
            "right": null,
            "top": null,
            "visibility": null,
            "width": null
          }
        },
        "8a0e156a6ed741dfbfff17126b82d5c3": {
          "model_module": "@jupyter-widgets/base",
          "model_module_version": "1.2.0",
          "model_name": "LayoutModel",
          "state": {
            "_model_module": "@jupyter-widgets/base",
            "_model_module_version": "1.2.0",
            "_model_name": "LayoutModel",
            "_view_count": null,
            "_view_module": "@jupyter-widgets/base",
            "_view_module_version": "1.2.0",
            "_view_name": "LayoutView",
            "align_content": null,
            "align_items": null,
            "align_self": null,
            "border": null,
            "bottom": null,
            "display": null,
            "flex": null,
            "flex_flow": null,
            "grid_area": null,
            "grid_auto_columns": null,
            "grid_auto_flow": null,
            "grid_auto_rows": null,
            "grid_column": null,
            "grid_gap": null,
            "grid_row": null,
            "grid_template_areas": null,
            "grid_template_columns": null,
            "grid_template_rows": null,
            "height": null,
            "justify_content": null,
            "justify_items": null,
            "left": null,
            "margin": null,
            "max_height": null,
            "max_width": null,
            "min_height": null,
            "min_width": null,
            "object_fit": null,
            "object_position": null,
            "order": null,
            "overflow": null,
            "overflow_x": null,
            "overflow_y": null,
            "padding": null,
            "right": null,
            "top": null,
            "visibility": null,
            "width": null
          }
        },
        "8d1bc83e5d6e45deadd07bc1d8d2981d": {
          "model_module": "@jupyter-widgets/controls",
          "model_module_version": "1.5.0",
          "model_name": "DescriptionStyleModel",
          "state": {
            "_model_module": "@jupyter-widgets/controls",
            "_model_module_version": "1.5.0",
            "_model_name": "DescriptionStyleModel",
            "_view_count": null,
            "_view_module": "@jupyter-widgets/base",
            "_view_module_version": "1.2.0",
            "_view_name": "StyleView",
            "description_width": ""
          }
        },
        "8ece380405a14d68abd3233ce958a677": {
          "model_module": "@jupyter-widgets/base",
          "model_module_version": "1.2.0",
          "model_name": "LayoutModel",
          "state": {
            "_model_module": "@jupyter-widgets/base",
            "_model_module_version": "1.2.0",
            "_model_name": "LayoutModel",
            "_view_count": null,
            "_view_module": "@jupyter-widgets/base",
            "_view_module_version": "1.2.0",
            "_view_name": "LayoutView",
            "align_content": null,
            "align_items": null,
            "align_self": null,
            "border": null,
            "bottom": null,
            "display": null,
            "flex": null,
            "flex_flow": null,
            "grid_area": null,
            "grid_auto_columns": null,
            "grid_auto_flow": null,
            "grid_auto_rows": null,
            "grid_column": null,
            "grid_gap": null,
            "grid_row": null,
            "grid_template_areas": null,
            "grid_template_columns": null,
            "grid_template_rows": null,
            "height": null,
            "justify_content": null,
            "justify_items": null,
            "left": null,
            "margin": null,
            "max_height": null,
            "max_width": null,
            "min_height": null,
            "min_width": null,
            "object_fit": null,
            "object_position": null,
            "order": null,
            "overflow": null,
            "overflow_x": null,
            "overflow_y": null,
            "padding": null,
            "right": null,
            "top": null,
            "visibility": null,
            "width": null
          }
        },
        "9542196a73684c7fbb386fa327927b29": {
          "model_module": "@jupyter-widgets/controls",
          "model_module_version": "1.5.0",
          "model_name": "DescriptionStyleModel",
          "state": {
            "_model_module": "@jupyter-widgets/controls",
            "_model_module_version": "1.5.0",
            "_model_name": "DescriptionStyleModel",
            "_view_count": null,
            "_view_module": "@jupyter-widgets/base",
            "_view_module_version": "1.2.0",
            "_view_name": "StyleView",
            "description_width": ""
          }
        },
        "98d098ad401346d9823c402122684a2c": {
          "model_module": "@jupyter-widgets/controls",
          "model_module_version": "1.5.0",
          "model_name": "HTMLModel",
          "state": {
            "_dom_classes": [],
            "_model_module": "@jupyter-widgets/controls",
            "_model_module_version": "1.5.0",
            "_model_name": "HTMLModel",
            "_view_count": null,
            "_view_module": "@jupyter-widgets/controls",
            "_view_module_version": "1.5.0",
            "_view_name": "HTMLView",
            "description": "",
            "description_tooltip": null,
            "layout": "IPY_MODEL_ff25080771d6468297d99e8e487f92a2",
            "placeholder": "​",
            "style": "IPY_MODEL_3393acb4b86e49b68f4fd5a356f4eb70",
            "value": " 50/50 [05:51&lt;00:00,  5.88s/it]"
          }
        },
        "9d9c833db7a44df5992979e4637a73e2": {
          "model_module": "@jupyter-widgets/controls",
          "model_module_version": "1.5.0",
          "model_name": "HTMLModel",
          "state": {
            "_dom_classes": [],
            "_model_module": "@jupyter-widgets/controls",
            "_model_module_version": "1.5.0",
            "_model_name": "HTMLModel",
            "_view_count": null,
            "_view_module": "@jupyter-widgets/controls",
            "_view_module_version": "1.5.0",
            "_view_name": "HTMLView",
            "description": "",
            "description_tooltip": null,
            "layout": "IPY_MODEL_a9682393741c4b3e8a49bc4ed461796a",
            "placeholder": "​",
            "style": "IPY_MODEL_bed2c12301c14fb79af12b84879e2c22",
            "value": " 50/50 [01:29&lt;00:00,  1.73s/it]"
          }
        },
        "a463a1fbc84240d798197d3c449bca76": {
          "model_module": "@jupyter-widgets/controls",
          "model_module_version": "1.5.0",
          "model_name": "HTMLModel",
          "state": {
            "_dom_classes": [],
            "_model_module": "@jupyter-widgets/controls",
            "_model_module_version": "1.5.0",
            "_model_name": "HTMLModel",
            "_view_count": null,
            "_view_module": "@jupyter-widgets/controls",
            "_view_module_version": "1.5.0",
            "_view_name": "HTMLView",
            "description": "",
            "description_tooltip": null,
            "layout": "IPY_MODEL_6491749ae7d843798885c8ed20983f44",
            "placeholder": "​",
            "style": "IPY_MODEL_8d1bc83e5d6e45deadd07bc1d8d2981d",
            "value": " 50/50 [06:31&lt;00:00,  7.34s/it]"
          }
        },
        "a9682393741c4b3e8a49bc4ed461796a": {
          "model_module": "@jupyter-widgets/base",
          "model_module_version": "1.2.0",
          "model_name": "LayoutModel",
          "state": {
            "_model_module": "@jupyter-widgets/base",
            "_model_module_version": "1.2.0",
            "_model_name": "LayoutModel",
            "_view_count": null,
            "_view_module": "@jupyter-widgets/base",
            "_view_module_version": "1.2.0",
            "_view_name": "LayoutView",
            "align_content": null,
            "align_items": null,
            "align_self": null,
            "border": null,
            "bottom": null,
            "display": null,
            "flex": null,
            "flex_flow": null,
            "grid_area": null,
            "grid_auto_columns": null,
            "grid_auto_flow": null,
            "grid_auto_rows": null,
            "grid_column": null,
            "grid_gap": null,
            "grid_row": null,
            "grid_template_areas": null,
            "grid_template_columns": null,
            "grid_template_rows": null,
            "height": null,
            "justify_content": null,
            "justify_items": null,
            "left": null,
            "margin": null,
            "max_height": null,
            "max_width": null,
            "min_height": null,
            "min_width": null,
            "object_fit": null,
            "object_position": null,
            "order": null,
            "overflow": null,
            "overflow_x": null,
            "overflow_y": null,
            "padding": null,
            "right": null,
            "top": null,
            "visibility": null,
            "width": null
          }
        },
        "aa92c3183bf0419787532cf473d03285": {
          "model_module": "@jupyter-widgets/base",
          "model_module_version": "1.2.0",
          "model_name": "LayoutModel",
          "state": {
            "_model_module": "@jupyter-widgets/base",
            "_model_module_version": "1.2.0",
            "_model_name": "LayoutModel",
            "_view_count": null,
            "_view_module": "@jupyter-widgets/base",
            "_view_module_version": "1.2.0",
            "_view_name": "LayoutView",
            "align_content": null,
            "align_items": null,
            "align_self": null,
            "border": null,
            "bottom": null,
            "display": null,
            "flex": null,
            "flex_flow": null,
            "grid_area": null,
            "grid_auto_columns": null,
            "grid_auto_flow": null,
            "grid_auto_rows": null,
            "grid_column": null,
            "grid_gap": null,
            "grid_row": null,
            "grid_template_areas": null,
            "grid_template_columns": null,
            "grid_template_rows": null,
            "height": null,
            "justify_content": null,
            "justify_items": null,
            "left": null,
            "margin": null,
            "max_height": null,
            "max_width": null,
            "min_height": null,
            "min_width": null,
            "object_fit": null,
            "object_position": null,
            "order": null,
            "overflow": null,
            "overflow_x": null,
            "overflow_y": null,
            "padding": null,
            "right": null,
            "top": null,
            "visibility": null,
            "width": null
          }
        },
        "ab1a25c65c1d48538145cbbd95aace8d": {
          "model_module": "@jupyter-widgets/controls",
          "model_module_version": "1.5.0",
          "model_name": "ProgressStyleModel",
          "state": {
            "_model_module": "@jupyter-widgets/controls",
            "_model_module_version": "1.5.0",
            "_model_name": "ProgressStyleModel",
            "_view_count": null,
            "_view_module": "@jupyter-widgets/base",
            "_view_module_version": "1.2.0",
            "_view_name": "StyleView",
            "bar_color": null,
            "description_width": ""
          }
        },
        "b740cef93191476c84c3afb132ac31b9": {
          "model_module": "@jupyter-widgets/controls",
          "model_module_version": "1.5.0",
          "model_name": "DescriptionStyleModel",
          "state": {
            "_model_module": "@jupyter-widgets/controls",
            "_model_module_version": "1.5.0",
            "_model_name": "DescriptionStyleModel",
            "_view_count": null,
            "_view_module": "@jupyter-widgets/base",
            "_view_module_version": "1.2.0",
            "_view_name": "StyleView",
            "description_width": ""
          }
        },
        "bb6ac0d23d3845688d7699fef27e51d7": {
          "model_module": "@jupyter-widgets/base",
          "model_module_version": "1.2.0",
          "model_name": "LayoutModel",
          "state": {
            "_model_module": "@jupyter-widgets/base",
            "_model_module_version": "1.2.0",
            "_model_name": "LayoutModel",
            "_view_count": null,
            "_view_module": "@jupyter-widgets/base",
            "_view_module_version": "1.2.0",
            "_view_name": "LayoutView",
            "align_content": null,
            "align_items": null,
            "align_self": null,
            "border": null,
            "bottom": null,
            "display": null,
            "flex": null,
            "flex_flow": null,
            "grid_area": null,
            "grid_auto_columns": null,
            "grid_auto_flow": null,
            "grid_auto_rows": null,
            "grid_column": null,
            "grid_gap": null,
            "grid_row": null,
            "grid_template_areas": null,
            "grid_template_columns": null,
            "grid_template_rows": null,
            "height": null,
            "justify_content": null,
            "justify_items": null,
            "left": null,
            "margin": null,
            "max_height": null,
            "max_width": null,
            "min_height": null,
            "min_width": null,
            "object_fit": null,
            "object_position": null,
            "order": null,
            "overflow": null,
            "overflow_x": null,
            "overflow_y": null,
            "padding": null,
            "right": null,
            "top": null,
            "visibility": null,
            "width": null
          }
        },
        "bc0ae4e0d3d84facb8327bd66885cef5": {
          "model_module": "@jupyter-widgets/controls",
          "model_module_version": "1.5.0",
          "model_name": "FloatProgressModel",
          "state": {
            "_dom_classes": [],
            "_model_module": "@jupyter-widgets/controls",
            "_model_module_version": "1.5.0",
            "_model_name": "FloatProgressModel",
            "_view_count": null,
            "_view_module": "@jupyter-widgets/controls",
            "_view_module_version": "1.5.0",
            "_view_name": "ProgressView",
            "bar_style": "success",
            "description": "",
            "description_tooltip": null,
            "layout": "IPY_MODEL_7ef6d1b892b547aab7eab77008e334f1",
            "max": 50,
            "min": 0,
            "orientation": "horizontal",
            "style": "IPY_MODEL_e861837fd8f9433086f183ed6c511233",
            "value": 50
          }
        },
        "bc7c83b1eb3648b99148ffcbb4c680cf": {
          "model_module": "@jupyter-widgets/controls",
          "model_module_version": "1.5.0",
          "model_name": "HBoxModel",
          "state": {
            "_dom_classes": [],
            "_model_module": "@jupyter-widgets/controls",
            "_model_module_version": "1.5.0",
            "_model_name": "HBoxModel",
            "_view_count": null,
            "_view_module": "@jupyter-widgets/controls",
            "_view_module_version": "1.5.0",
            "_view_name": "HBoxView",
            "box_style": "",
            "children": [
              "IPY_MODEL_2901d57f65c24585b2e9a2295b81865a",
              "IPY_MODEL_7e345637e7b1492fa572afd036939420",
              "IPY_MODEL_9d9c833db7a44df5992979e4637a73e2"
            ],
            "layout": "IPY_MODEL_248cae03758d4a0fa147a82cdcacb471"
          }
        },
        "bed2c12301c14fb79af12b84879e2c22": {
          "model_module": "@jupyter-widgets/controls",
          "model_module_version": "1.5.0",
          "model_name": "DescriptionStyleModel",
          "state": {
            "_model_module": "@jupyter-widgets/controls",
            "_model_module_version": "1.5.0",
            "_model_name": "DescriptionStyleModel",
            "_view_count": null,
            "_view_module": "@jupyter-widgets/base",
            "_view_module_version": "1.2.0",
            "_view_name": "StyleView",
            "description_width": ""
          }
        },
        "c57a1a11e4bb4527b35330dba44d1ce8": {
          "model_module": "@jupyter-widgets/controls",
          "model_module_version": "1.5.0",
          "model_name": "FloatProgressModel",
          "state": {
            "_dom_classes": [],
            "_model_module": "@jupyter-widgets/controls",
            "_model_module_version": "1.5.0",
            "_model_name": "FloatProgressModel",
            "_view_count": null,
            "_view_module": "@jupyter-widgets/controls",
            "_view_module_version": "1.5.0",
            "_view_name": "ProgressView",
            "bar_style": "success",
            "description": "",
            "description_tooltip": null,
            "layout": "IPY_MODEL_8ece380405a14d68abd3233ce958a677",
            "max": 50,
            "min": 0,
            "orientation": "horizontal",
            "style": "IPY_MODEL_1801b3f04ffa4b66bb401049560b7167",
            "value": 50
          }
        },
        "ccbd9b50c8994c51b69e8b1d086b7d0b": {
          "model_module": "@jupyter-widgets/controls",
          "model_module_version": "1.5.0",
          "model_name": "DescriptionStyleModel",
          "state": {
            "_model_module": "@jupyter-widgets/controls",
            "_model_module_version": "1.5.0",
            "_model_name": "DescriptionStyleModel",
            "_view_count": null,
            "_view_module": "@jupyter-widgets/base",
            "_view_module_version": "1.2.0",
            "_view_name": "StyleView",
            "description_width": ""
          }
        },
        "d2523d4d1cb54e4da5aacf61c9b4151f": {
          "model_module": "@jupyter-widgets/controls",
          "model_module_version": "1.5.0",
          "model_name": "HTMLModel",
          "state": {
            "_dom_classes": [],
            "_model_module": "@jupyter-widgets/controls",
            "_model_module_version": "1.5.0",
            "_model_name": "HTMLModel",
            "_view_count": null,
            "_view_module": "@jupyter-widgets/controls",
            "_view_module_version": "1.5.0",
            "_view_name": "HTMLView",
            "description": "",
            "description_tooltip": null,
            "layout": "IPY_MODEL_bb6ac0d23d3845688d7699fef27e51d7",
            "placeholder": "​",
            "style": "IPY_MODEL_dd22312ca68c4cee8e46c35c55608ca7",
            "value": "Best trial: 12. Best value: 0.64641: 100%"
          }
        },
        "dd22312ca68c4cee8e46c35c55608ca7": {
          "model_module": "@jupyter-widgets/controls",
          "model_module_version": "1.5.0",
          "model_name": "DescriptionStyleModel",
          "state": {
            "_model_module": "@jupyter-widgets/controls",
            "_model_module_version": "1.5.0",
            "_model_name": "DescriptionStyleModel",
            "_view_count": null,
            "_view_module": "@jupyter-widgets/base",
            "_view_module_version": "1.2.0",
            "_view_name": "StyleView",
            "description_width": ""
          }
        },
        "e861837fd8f9433086f183ed6c511233": {
          "model_module": "@jupyter-widgets/controls",
          "model_module_version": "1.5.0",
          "model_name": "ProgressStyleModel",
          "state": {
            "_model_module": "@jupyter-widgets/controls",
            "_model_module_version": "1.5.0",
            "_model_name": "ProgressStyleModel",
            "_view_count": null,
            "_view_module": "@jupyter-widgets/base",
            "_view_module_version": "1.2.0",
            "_view_name": "StyleView",
            "bar_color": null,
            "description_width": ""
          }
        },
        "ec3e1a7b69a648689fa15e1293208194": {
          "model_module": "@jupyter-widgets/controls",
          "model_module_version": "1.5.0",
          "model_name": "HTMLModel",
          "state": {
            "_dom_classes": [],
            "_model_module": "@jupyter-widgets/controls",
            "_model_module_version": "1.5.0",
            "_model_name": "HTMLModel",
            "_view_count": null,
            "_view_module": "@jupyter-widgets/controls",
            "_view_module_version": "1.5.0",
            "_view_name": "HTMLView",
            "description": "",
            "description_tooltip": null,
            "layout": "IPY_MODEL_679bd5d1f8af4a0db226db1f36d7c86e",
            "placeholder": "​",
            "style": "IPY_MODEL_4ffb41ebbe3d4adf8b2b0aed49874683",
            "value": "100%"
          }
        },
        "f5e36ce65e8a4e10afd33f8acf78127c": {
          "model_module": "@jupyter-widgets/controls",
          "model_module_version": "1.5.0",
          "model_name": "DescriptionStyleModel",
          "state": {
            "_model_module": "@jupyter-widgets/controls",
            "_model_module_version": "1.5.0",
            "_model_name": "DescriptionStyleModel",
            "_view_count": null,
            "_view_module": "@jupyter-widgets/base",
            "_view_module_version": "1.2.0",
            "_view_name": "StyleView",
            "description_width": ""
          }
        },
        "f953b19001484a768488d4b19faa3918": {
          "model_module": "@jupyter-widgets/base",
          "model_module_version": "1.2.0",
          "model_name": "LayoutModel",
          "state": {
            "_model_module": "@jupyter-widgets/base",
            "_model_module_version": "1.2.0",
            "_model_name": "LayoutModel",
            "_view_count": null,
            "_view_module": "@jupyter-widgets/base",
            "_view_module_version": "1.2.0",
            "_view_name": "LayoutView",
            "align_content": null,
            "align_items": null,
            "align_self": null,
            "border": null,
            "bottom": null,
            "display": null,
            "flex": null,
            "flex_flow": null,
            "grid_area": null,
            "grid_auto_columns": null,
            "grid_auto_flow": null,
            "grid_auto_rows": null,
            "grid_column": null,
            "grid_gap": null,
            "grid_row": null,
            "grid_template_areas": null,
            "grid_template_columns": null,
            "grid_template_rows": null,
            "height": null,
            "justify_content": null,
            "justify_items": null,
            "left": null,
            "margin": null,
            "max_height": null,
            "max_width": null,
            "min_height": null,
            "min_width": null,
            "object_fit": null,
            "object_position": null,
            "order": null,
            "overflow": null,
            "overflow_x": null,
            "overflow_y": null,
            "padding": null,
            "right": null,
            "top": null,
            "visibility": null,
            "width": null
          }
        },
        "f9c645bdc9b8426b9f9eefd65f54d42c": {
          "model_module": "@jupyter-widgets/controls",
          "model_module_version": "1.5.0",
          "model_name": "ProgressStyleModel",
          "state": {
            "_model_module": "@jupyter-widgets/controls",
            "_model_module_version": "1.5.0",
            "_model_name": "ProgressStyleModel",
            "_view_count": null,
            "_view_module": "@jupyter-widgets/base",
            "_view_module_version": "1.2.0",
            "_view_name": "StyleView",
            "bar_color": null,
            "description_width": ""
          }
        },
        "fd860a19dfa041239601a48d9b09c0c7": {
          "model_module": "@jupyter-widgets/base",
          "model_module_version": "1.2.0",
          "model_name": "LayoutModel",
          "state": {
            "_model_module": "@jupyter-widgets/base",
            "_model_module_version": "1.2.0",
            "_model_name": "LayoutModel",
            "_view_count": null,
            "_view_module": "@jupyter-widgets/base",
            "_view_module_version": "1.2.0",
            "_view_name": "LayoutView",
            "align_content": null,
            "align_items": null,
            "align_self": null,
            "border": null,
            "bottom": null,
            "display": null,
            "flex": null,
            "flex_flow": null,
            "grid_area": null,
            "grid_auto_columns": null,
            "grid_auto_flow": null,
            "grid_auto_rows": null,
            "grid_column": null,
            "grid_gap": null,
            "grid_row": null,
            "grid_template_areas": null,
            "grid_template_columns": null,
            "grid_template_rows": null,
            "height": null,
            "justify_content": null,
            "justify_items": null,
            "left": null,
            "margin": null,
            "max_height": null,
            "max_width": null,
            "min_height": null,
            "min_width": null,
            "object_fit": null,
            "object_position": null,
            "order": null,
            "overflow": null,
            "overflow_x": null,
            "overflow_y": null,
            "padding": null,
            "right": null,
            "top": null,
            "visibility": null,
            "width": null
          }
        },
        "fe394afe16634ecf9b9053bf77c92cc3": {
          "model_module": "@jupyter-widgets/controls",
          "model_module_version": "1.5.0",
          "model_name": "HTMLModel",
          "state": {
            "_dom_classes": [],
            "_model_module": "@jupyter-widgets/controls",
            "_model_module_version": "1.5.0",
            "_model_name": "HTMLModel",
            "_view_count": null,
            "_view_module": "@jupyter-widgets/controls",
            "_view_module_version": "1.5.0",
            "_view_name": "HTMLView",
            "description": "",
            "description_tooltip": null,
            "layout": "IPY_MODEL_6500bf17d8614cb49960e55a76022dea",
            "placeholder": "​",
            "style": "IPY_MODEL_ccbd9b50c8994c51b69e8b1d086b7d0b",
            "value": " 50/50 [01:38&lt;00:00,  2.10s/it]"
          }
        },
        "ff25080771d6468297d99e8e487f92a2": {
          "model_module": "@jupyter-widgets/base",
          "model_module_version": "1.2.0",
          "model_name": "LayoutModel",
          "state": {
            "_model_module": "@jupyter-widgets/base",
            "_model_module_version": "1.2.0",
            "_model_name": "LayoutModel",
            "_view_count": null,
            "_view_module": "@jupyter-widgets/base",
            "_view_module_version": "1.2.0",
            "_view_name": "LayoutView",
            "align_content": null,
            "align_items": null,
            "align_self": null,
            "border": null,
            "bottom": null,
            "display": null,
            "flex": null,
            "flex_flow": null,
            "grid_area": null,
            "grid_auto_columns": null,
            "grid_auto_flow": null,
            "grid_auto_rows": null,
            "grid_column": null,
            "grid_gap": null,
            "grid_row": null,
            "grid_template_areas": null,
            "grid_template_columns": null,
            "grid_template_rows": null,
            "height": null,
            "justify_content": null,
            "justify_items": null,
            "left": null,
            "margin": null,
            "max_height": null,
            "max_width": null,
            "min_height": null,
            "min_width": null,
            "object_fit": null,
            "object_position": null,
            "order": null,
            "overflow": null,
            "overflow_x": null,
            "overflow_y": null,
            "padding": null,
            "right": null,
            "top": null,
            "visibility": null,
            "width": null
          }
        }
      }
    }
  },
  "nbformat": 4,
  "nbformat_minor": 0
}
